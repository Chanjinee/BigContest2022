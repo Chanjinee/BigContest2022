{
 "cells": [
  {
   "cell_type": "markdown",
   "id": "6d56c6f8",
   "metadata": {
    "id": "wzonD5TZ3sW1"
   },
   "source": [
    "### 데이터 살펴보기"
   ]
  },
  {
   "cell_type": "markdown",
   "id": "eba98853",
   "metadata": {
    "id": "FbER-Jtc3vI1"
   },
   "source": [
    "메서드 불러오기"
   ]
  },
  {
   "cell_type": "code",
   "execution_count": 1,
   "id": "c4fed476",
   "metadata": {
    "id": "sugFfOZs3lEn"
   },
   "outputs": [
    {
     "name": "stdout",
     "output_type": "stream",
     "text": [
      "Pandas : 1.4.3\n",
      "seaborn : 0.11.2\n",
      "matplotlib : 3.5.1\n",
      "Python 3.8.8\n"
     ]
    }
   ],
   "source": [
    "# 기본 패키지\n",
    "import pandas as pd\n",
    "import numpy as np\n",
    "\n",
    "# 시각화 패키지\n",
    "import matplotlib\n",
    "import matplotlib.pyplot as plt\n",
    "import seaborn as sns\n",
    "plt.rc('font', family='NanumBarunGothic') \n",
    "plt.style.use(['ggplot'])\n",
    "\n",
    "# 한글 시각화시 필요 모듈\n",
    "import platform # 사용자 운영체제 확인\n",
    "platform.system()\n",
    "## 운영체제별 한글 폰트 설정\n",
    "if platform.system() == 'Darwin': # Mac 환경 폰트 설정\n",
    "    plt.rc('font', family='AppleGothic')\n",
    "elif platform.system() == 'Windows': # Windows 환경 폰트 설정\n",
    "    plt.rc('font', family='Malgun Gothic')\n",
    "\n",
    "plt.rc('axes', unicode_minus=False) # 마이너스 폰트 설정\n",
    "## 글씨 선명하게 출력하는 설정\n",
    "%config InlineBackend.figure_format = 'retina'\n",
    "\n",
    "# 경고 메시지 무시\n",
    "import warnings\n",
    "warnings.filterwarnings(action='ignore') \n",
    "\n",
    "# 버전 확인\n",
    "print('Pandas : %s'%(pd.__version__))\n",
    "print('seaborn : %s'%(sns.__version__))\n",
    "print('matplotlib : %s'%(matplotlib.__version__))\n",
    "!python --version"
   ]
  },
  {
   "cell_type": "markdown",
   "id": "19dd49a7",
   "metadata": {},
   "source": [
    "- 데이터 불러오기"
   ]
  },
  {
   "cell_type": "code",
   "execution_count": 2,
   "id": "63c6bf08",
   "metadata": {
    "id": "DdRsfblV33fU"
   },
   "outputs": [],
   "source": [
    "# 데이터 불러오기\n",
    "data = pd.read_csv('../data/make_feature.csv')"
   ]
  },
  {
   "cell_type": "markdown",
   "id": "09eed928",
   "metadata": {},
   "source": [
    "## Preprocessing"
   ]
  },
  {
   "cell_type": "code",
   "execution_count": 3,
   "id": "bd0197e2",
   "metadata": {},
   "outputs": [],
   "source": [
    "# 모델링 패키지\n",
    "import sklearn\n",
    "from sklearn.model_selection import train_test_split\n",
    "\n",
    "# split\n",
    "from sklearn.model_selection import train_test_split\n",
    "\n",
    "# encoder\n",
    "from sklearn.preprocessing import LabelEncoder\n",
    "from sklearn.preprocessing import OneHotEncoder\n",
    "\n",
    "# eval\n",
    "from sklearn.model_selection import cross_val_score\n",
    "from sklearn.metrics import make_scorer\n",
    "from sklearn.metrics import f1_score, accuracy_score"
   ]
  },
  {
   "cell_type": "markdown",
   "id": "cab534e0",
   "metadata": {},
   "source": [
    "    - 데이터 분리"
   ]
  },
  {
   "cell_type": "code",
   "execution_count": 4,
   "id": "10358a79",
   "metadata": {},
   "outputs": [],
   "source": [
    "# 데이터에 있는 중복을 제거해줌\n",
    "data = data.drop_duplicates(subset=['application_id', 'product_id'])"
   ]
  },
  {
   "cell_type": "code",
   "execution_count": 5,
   "id": "7f74ba9f",
   "metadata": {},
   "outputs": [],
   "source": [
    "# 데이터 불러오기\n",
    "test_ = pd.read_csv('../data/데이터분석분야_퓨처스부문_평가데이터.csv')"
   ]
  },
  {
   "cell_type": "code",
   "execution_count": 6,
   "id": "5203660e",
   "metadata": {},
   "outputs": [],
   "source": [
    "# 제출 데이터와 동일하게 해주기 위한 작업\n",
    "test = data[data['month'] == 6].drop('is_applied', axis=1).reset_index(drop=True)\n",
    "x_test = pd.merge(test_, test, on=['application_id', 'product_id']).drop('is_applied', axis=1)"
   ]
  },
  {
   "cell_type": "code",
   "execution_count": 7,
   "id": "f2706ad9",
   "metadata": {},
   "outputs": [],
   "source": [
    "# x_test의 index를 가장 앞으로 가져오기 위한 작업\n",
    "x_test_index = x_test['index']\n",
    "x_test = x_test.drop(columns=['index'])\n",
    "x_test.insert(0,'index',x_test_index)"
   ]
  },
  {
   "cell_type": "code",
   "execution_count": 8,
   "id": "1cc2d105",
   "metadata": {},
   "outputs": [],
   "source": [
    "x = data[data['month'] != 6].drop('is_applied', axis=1).reset_index(drop=True)\n",
    "y = data[data['month'] != 6]['is_applied'].reset_index(drop=True)"
   ]
  },
  {
   "cell_type": "code",
   "execution_count": 9,
   "id": "a9c04438",
   "metadata": {},
   "outputs": [],
   "source": [
    "x_train, x_valid, y_train, y_valid = train_test_split(x, y, test_size=0.2, shuffle=True, stratify=y, random_state=3)"
   ]
  },
  {
   "cell_type": "markdown",
   "id": "afd9aba6",
   "metadata": {},
   "source": [
    "    - Preprocessing"
   ]
  },
  {
   "cell_type": "code",
   "execution_count": 10,
   "id": "9c3332a7",
   "metadata": {},
   "outputs": [],
   "source": [
    "# 범주형 변수와 수치형 변수를 분리\n",
    "## train\n",
    "cat_feature_tr = x_train.iloc[:,1:].select_dtypes(include=['object']).columns.to_list()\n",
    "num_feature_tr = x_train.iloc[:,1:].select_dtypes(exclude='object').columns.to_list() \n",
    "\n",
    "## valid\n",
    "cat_feature_val = x_valid.iloc[:,1:].select_dtypes(include=['object']).columns.to_list()\n",
    "num_feature_val = x_valid.iloc[:,1:].select_dtypes(exclude='object').columns.to_list()\n",
    "\n",
    "## test\n",
    "cat_feature_te = x_test.iloc[:,1:].select_dtypes(include=['object']).columns.to_list()\n",
    "num_feature_te = x_test.iloc[:,1:].select_dtypes(exclude='object').columns.to_list() "
   ]
  },
  {
   "cell_type": "markdown",
   "id": "a96503bb",
   "metadata": {},
   "source": [
    "    - Encoding"
   ]
  },
  {
   "cell_type": "code",
   "execution_count": 11,
   "id": "8625b121",
   "metadata": {},
   "outputs": [],
   "source": [
    "# Labelencoder\n",
    "encoder = LabelEncoder()\n",
    "encoded_cat_tr = []\n",
    "encoded_cat_val = []\n",
    "encoded_cat_te = []\n",
    "for f in cat_feature_tr:\n",
    "    encoder = encoder.fit(data[f])\n",
    "    encoded_cat_tr.append(pd.DataFrame(encoder.transform(x_train[f]),columns = [f])) # train\n",
    "    encoded_cat_val.append(pd.DataFrame(encoder.transform(x_valid[f]),columns = [f])) # test\n",
    "    encoded_cat_te.append(pd.DataFrame(encoder.transform(x_test[f]),columns = [f])) # test\n",
    "    \n",
    "# 합쳐줌\n",
    "cat_tr = pd.concat(encoded_cat_tr, axis = 1) # train\n",
    "cat_val = pd.concat(encoded_cat_val, axis = 1) # test\n",
    "cat_te = pd.concat(encoded_cat_te, axis = 1) # test"
   ]
  },
  {
   "cell_type": "markdown",
   "id": "9428d88a",
   "metadata": {},
   "source": [
    "    - scaling"
   ]
  },
  {
   "cell_type": "code",
   "execution_count": 12,
   "id": "2332debe",
   "metadata": {},
   "outputs": [],
   "source": [
    "# scaling\n",
    "from sklearn.preprocessing import StandardScaler\n",
    "from sklearn.preprocessing import MinMaxScaler\n",
    "from sklearn.preprocessing import RobustScaler\n",
    "from sklearn.preprocessing import MaxAbsScaler\n",
    "# Model\n",
    "from sklearn.ensemble import RandomForestClassifier\n",
    "from catboost import CatBoostClassifier\n",
    "from lightgbm import LGBMClassifier\n",
    "from sklearn.tree import DecisionTreeClassifier\n",
    "from sklearn.neighbors import KNeighborsClassifier\n",
    "from sklearn.linear_model import LogisticRegression\n",
    "from sklearn.linear_model import SGDClassifier\n",
    "from sklearn.svm import SVC\n",
    "from xgboost import XGBClassifier\n",
    "from sklearn.ensemble import GradientBoostingClassifier\n",
    "from sklearn.linear_model import RidgeClassifier\n",
    "from sklearn.discriminant_analysis import LinearDiscriminantAnalysis\n",
    "from sklearn.discriminant_analysis import QuadraticDiscriminantAnalysis"
   ]
  },
  {
   "cell_type": "code",
   "execution_count": 13,
   "id": "fdbd592c",
   "metadata": {},
   "outputs": [],
   "source": [
    "# scaling\n",
    "scaler = RobustScaler()\n",
    "scaler.fit(data[num_feature_tr])\n",
    "# transform\n",
    "num_tr = pd.DataFrame(scaler.transform(x_train[num_feature_tr]))\n",
    "num_val = pd.DataFrame(scaler.transform(x_valid[num_feature_val]))\n",
    "num_te = pd.DataFrame(scaler.transform(x_test[num_feature_te]))\n",
    "\n",
    "# 컬럼명 변경\n",
    "num_tr.columns = num_feature_tr\n",
    "num_val.columns = num_feature_val\n",
    "num_te.columns = num_feature_te"
   ]
  },
  {
   "cell_type": "markdown",
   "id": "a5c6b2f0",
   "metadata": {},
   "source": [
    "    - concat"
   ]
  },
  {
   "cell_type": "code",
   "execution_count": 14,
   "id": "2ab42e50",
   "metadata": {},
   "outputs": [],
   "source": [
    "# 인코딩 이후 수치형 변수와 범주형 변수를 합쳐줌\n",
    "x_train = pd.concat([x_train['index'].reset_index(drop=True), cat_tr, num_tr], axis=1)\n",
    "x_valid = pd.concat([x_valid['index'].reset_index(drop=True), cat_val, num_val], axis=1)\n",
    "x_test = pd.concat([x_test['index'].reset_index(drop=True), cat_te, num_te], axis=1)"
   ]
  },
  {
   "cell_type": "markdown",
   "id": "77bb8413",
   "metadata": {},
   "source": [
    "## Modeling"
   ]
  },
  {
   "cell_type": "markdown",
   "id": "5bbb5bb6",
   "metadata": {},
   "source": [
    "    - LGBM"
   ]
  },
  {
   "cell_type": "code",
   "execution_count": 15,
   "id": "32053ec3",
   "metadata": {},
   "outputs": [
    {
     "data": {
      "text/plain": [
       "0.45977762079180295"
      ]
     },
     "execution_count": 15,
     "metadata": {},
     "output_type": "execute_result"
    }
   ],
   "source": [
    "lgbm = LGBMClassifier(random_state=42)\n",
    "\n",
    "# valid 예측\n",
    "lgbm.fit(x_train.iloc[:,1:], y_train)\n",
    "pred_lgbm = lgbm.predict(x_valid.iloc[:,1:])\n",
    "proba_lgbm = lgbm.predict_proba(x_valid.iloc[:,1:])\n",
    "proba_test_lgbm = lgbm.predict_proba(x_test.iloc[:,1:])\n",
    "\n",
    "# lgbm F1\n",
    "f1_score(y_valid, pred_lgbm)"
   ]
  },
  {
   "cell_type": "markdown",
   "id": "fc38cdd2",
   "metadata": {},
   "source": [
    "    - catboost"
   ]
  },
  {
   "cell_type": "code",
   "execution_count": 18,
   "id": "b9bdda4d",
   "metadata": {},
   "outputs": [
    {
     "data": {
      "text/plain": [
       "0.4981404569163005"
      ]
     },
     "execution_count": 18,
     "metadata": {},
     "output_type": "execute_result"
    }
   ],
   "source": [
    "# cat = CatBoostClassifier(random_state=42, verbose=0)\n",
    "\n",
    "# # valid 예측\n",
    "# cat.fit(x_train.iloc[:,1:], y_train)\n",
    "# pred_cat = cat.predict(x_valid.iloc[:,1:])\n",
    "# proba_cat = cat.predict_proba(x_valid.iloc[:,1:])\n",
    "# proba_test_cat = cat.predict_proba(x_test.iloc[:,1:])\n",
    "\n",
    "# # catboost F1\n",
    "# f1_score(y_valid, pred_cat)"
   ]
  },
  {
   "cell_type": "markdown",
   "id": "2b42d849",
   "metadata": {},
   "source": [
    "    - randomforest -> 오래 걸림"
   ]
  },
  {
   "cell_type": "code",
   "execution_count": 14,
   "id": "118c99fa",
   "metadata": {},
   "outputs": [],
   "source": [
    "# rf = RandomForestClassifier(random_state=42)\n",
    "# # valid 예측\n",
    "# rf.fit(x_train.iloc[:,1:], y_train)\n",
    "# pred_rf = rf.predict(x_valid.iloc[:,1:])\n",
    "# proba_rf = rf.predict_proba(x_valid.iloc[:,1:])\n",
    "\n",
    "# # randomforest F1\n",
    "# f1_score(y_valid, pred_rf)"
   ]
  },
  {
   "cell_type": "markdown",
   "id": "c1a2e81f",
   "metadata": {},
   "source": [
    "    - Descision Tree"
   ]
  },
  {
   "cell_type": "code",
   "execution_count": 22,
   "id": "1f296842",
   "metadata": {},
   "outputs": [
    {
     "data": {
      "text/plain": [
       "0.4518845494835365"
      ]
     },
     "execution_count": 22,
     "metadata": {},
     "output_type": "execute_result"
    }
   ],
   "source": [
    "dt = DecisionTreeClassifier(random_state=42)\n",
    "# valid 예측\n",
    "dt.fit(x_train.iloc[:,1:], y_train)\n",
    "pred_dt = dt.predict(x_valid.iloc[:,1:])\n",
    "proba_dt = dt.predict_proba(x_valid.iloc[:,1:])\n",
    "proba_test_dt = dt.predict_proba(x_test.iloc[:,1:])\n",
    "\n",
    "# Descision Tree F1\n",
    "f1_score(y_valid, pred_dt)"
   ]
  },
  {
   "cell_type": "markdown",
   "id": "fa4ea353",
   "metadata": {},
   "source": [
    "    - XGBClassifier"
   ]
  },
  {
   "cell_type": "code",
   "execution_count": 23,
   "id": "73bebcd5",
   "metadata": {},
   "outputs": [
    {
     "data": {
      "text/plain": [
       "0.48016071159004614"
      ]
     },
     "execution_count": 23,
     "metadata": {},
     "output_type": "execute_result"
    }
   ],
   "source": [
    "xgb = XGBClassifier(random_state = 42)\n",
    "\n",
    "# valid 예측\n",
    "xgb.fit(x_train.iloc[:,1:], y_train)\n",
    "pred_xgb = xgb.predict(x_valid.iloc[:,1:])\n",
    "proba_xgb = xgb.predict_proba(x_valid.iloc[:,1:])\n",
    "proba_test_xgb = xgb.predict_proba(x_test.iloc[:,1:])\n",
    "\n",
    "# F1\n",
    "f1_score(y_valid, pred_xgb)"
   ]
  },
  {
   "cell_type": "markdown",
   "id": "7008ae9d",
   "metadata": {},
   "source": [
    "## Feature Importance"
   ]
  },
  {
   "cell_type": "code",
   "execution_count": null,
   "id": "a0145069",
   "metadata": {},
   "outputs": [],
   "source": [
    "# from lightgbm import plot_importance\n",
    "# import eli5\n",
    "# from eli5.sklearn import PermutationImportance"
   ]
  },
  {
   "cell_type": "markdown",
   "id": "46933b59",
   "metadata": {},
   "source": [
    "- CART Feature Importance"
   ]
  },
  {
   "cell_type": "code",
   "execution_count": null,
   "id": "bf43067d",
   "metadata": {},
   "outputs": [],
   "source": [
    "# # LGBM 모델을 통한 Feature Importance 파악\n",
    "# plot_importance(lgbm, figsize=(10, 8), max_num_features=10)"
   ]
  },
  {
   "cell_type": "markdown",
   "id": "7b7e0bf5",
   "metadata": {},
   "source": [
    "- permutation importance\n",
    "    - 위의 Feature importance 방식과 다르게 변수의 독립적인 중요도룰 판단하는 방식\n",
    "    - 다른 변수와의 상호작용으로 인하여 변수의 중요도를 높게 판단하는 경우를 방지해줌 ( 독립 변수 자체의 변수 중요도룰 판단할 수 있음 )"
   ]
  },
  {
   "cell_type": "code",
   "execution_count": 19,
   "id": "7dba5c38",
   "metadata": {},
   "outputs": [],
   "source": [
    "# # LGBM 모델의 permutation importance 파악\n",
    "# model = lgbm\n",
    "# perm = PermutationImportance(model, scoring = \"f1\", random_state = 42).fit(x_train.iloc[:,1:], y_train)\n",
    "# eli5.show_weights(perm,top=10, feature_names = x_train.iloc[:,1:].columns.tolist())"
   ]
  },
  {
   "cell_type": "markdown",
   "id": "d8222a65",
   "metadata": {},
   "source": [
    "## ensemble"
   ]
  },
  {
   "cell_type": "markdown",
   "id": "57325b01",
   "metadata": {},
   "source": [
    "    - weighted sum"
   ]
  },
  {
   "cell_type": "code",
   "execution_count": 22,
   "id": "9c17c580",
   "metadata": {},
   "outputs": [],
   "source": [
    "# # dnn 모델의 앙상블을 위해 결과를 불러옴\n",
    "# prob_dnn = pd.read_csv('../data/val_prob_dnn3.csv')['pred']"
   ]
  },
  {
   "cell_type": "code",
   "execution_count": 23,
   "id": "1d487718",
   "metadata": {},
   "outputs": [],
   "source": [
    "# proba_dt = pd.DataFrame(proba_dt)[1]\n",
    "# proba_lgbm = pd.DataFrame(proba_lgbm)[1]\n",
    "# proba_xgb = pd.DataFrame(proba_xgb)[1]"
   ]
  },
  {
   "cell_type": "code",
   "execution_count": 24,
   "id": "5e7b7802",
   "metadata": {},
   "outputs": [],
   "source": [
    "# proba = (proba_dt*0.4+ proba_lgbm*0.4+ proba_xgb*0.1 + prob_dnn*0.1)"
   ]
  },
  {
   "cell_type": "code",
   "execution_count": 25,
   "id": "af5bae86",
   "metadata": {},
   "outputs": [],
   "source": [
    "# # emsemble F1\n",
    "# f1_score(y_valid, [1.0 if i > 0.3 else 0.0 for i in proba])"
   ]
  },
  {
   "cell_type": "markdown",
   "id": "b3771cee",
   "metadata": {},
   "source": [
    "## 최종 결과값 도출"
   ]
  },
  {
   "cell_type": "code",
   "execution_count": 16,
   "id": "f1b75970",
   "metadata": {},
   "outputs": [],
   "source": [
    "# dnn 모델의 앙상블을 위해 결과를 불러옴\n",
    "test_dnn = pd.read_csv('../data/test_prob_dnn.csv')"
   ]
  },
  {
   "cell_type": "code",
   "execution_count": 17,
   "id": "6988a3f5",
   "metadata": {},
   "outputs": [],
   "source": [
    "# # lgbm의 결과를 가져옴\n",
    "# test_lgbm = pd.DataFrame(proba_test_lgbm)[1]"
   ]
  },
  {
   "cell_type": "code",
   "execution_count": 19,
   "id": "9eef83a0",
   "metadata": {},
   "outputs": [],
   "source": [
    "test_proba = test_lgbm"
   ]
  },
  {
   "cell_type": "code",
   "execution_count": 20,
   "id": "39d884f4",
   "metadata": {},
   "outputs": [],
   "source": [
    "test_['is_applied'] = [1.0 if i > 0.1 else 0.0 for i in test_proba]"
   ]
  },
  {
   "cell_type": "code",
   "execution_count": 21,
   "id": "68f86984",
   "metadata": {},
   "outputs": [],
   "source": [
    "test_.to_csv('../data/데이터분석분야_퓨처스부문_import_finda_평가데이터.csv')"
   ]
  },
  {
   "cell_type": "markdown",
   "id": "57be7953",
   "metadata": {},
   "source": [
    "## END"
   ]
  }
 ],
 "metadata": {
  "kernelspec": {
   "display_name": "Python 3 (ipykernel)",
   "language": "python",
   "name": "python3"
  },
  "language_info": {
   "codemirror_mode": {
    "name": "ipython",
    "version": 3
   },
   "file_extension": ".py",
   "mimetype": "text/x-python",
   "name": "python",
   "nbconvert_exporter": "python",
   "pygments_lexer": "ipython3",
   "version": "3.8.8"
  }
 },
 "nbformat": 4,
 "nbformat_minor": 5
}
