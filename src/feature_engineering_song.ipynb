{
 "cells": [
  {
   "cell_type": "code",
   "execution_count": 2,
   "id": "00164289",
   "metadata": {
    "scrolled": true
   },
   "outputs": [
    {
     "name": "stdout",
     "output_type": "stream",
     "text": [
      "Pandas : 1.2.1\n",
      "seaborn : 0.11.1\n",
      "matplotlib : 3.5.1\n",
      "Python 3.8.13\n"
     ]
    }
   ],
   "source": [
    "# 기본 패키지\n",
    "import pandas as pd\n",
    "import numpy as np\n",
    "\n",
    "# 시각화 패키지\n",
    "import matplotlib\n",
    "import matplotlib.pyplot as plt\n",
    "import seaborn as sns\n",
    "plt.rc('font', family='NanumBarunGothic') \n",
    "plt.style.use(['ggplot'])\n",
    "\n",
    "# 변수 생성 패키지\n",
    "import datetime\n",
    "\n",
    "# 한글 시각화시 필요 모듈\n",
    "import platform # 사용자 운영체제 확인\n",
    "platform.system()\n",
    "## 운영체제별 한글 폰트 설정\n",
    "if platform.system() == 'Darwin': # Mac 환경 폰트 설정\n",
    "    plt.rc('font', family='AppleGothic')\n",
    "elif platform.system() == 'Windows': # Windows 환경 폰트 설정\n",
    "    plt.rc('font', family='Malgun Gothic')\n",
    "\n",
    "plt.rc('axes', unicode_minus=False) # 마이너스 폰트 설정\n",
    "## 글씨 선명하게 출력하는 설정\n",
    "%config InlineBackend.figure_format = 'retina'\n",
    "\n",
    "\n",
    "# 경고 메시지 무시\n",
    "import warnings\n",
    "warnings.filterwarnings(action='ignore') \n",
    "\n",
    "\n",
    "# 버전 확인\n",
    "print('Pandas : %s'%(pd.__version__))\n",
    "print('seaborn : %s'%(sns.__version__))\n",
    "print('matplotlib : %s'%(matplotlib.__version__))\n",
    "!python --version"
   ]
  },
  {
   "cell_type": "markdown",
   "id": "abb28232",
   "metadata": {},
   "source": [
    "## Load Data"
   ]
  },
  {
   "cell_type": "code",
   "execution_count": 3,
   "id": "90d48bc3",
   "metadata": {},
   "outputs": [],
   "source": [
    "loan = pd.read_csv('../data/loan_fillna.csv')\n",
    "# loan = pd.read_csv('../data/loan_result.csv')\n",
    "\n",
    "# log = pd.read_csv('../data/log_data.csv')\n",
    "\n",
    "user = pd.read_csv('../data/user_fillna.csv')\n",
    "# user = pd.read_csv('../data/user_spec.csv')"
   ]
  },
  {
   "cell_type": "markdown",
   "id": "c651fa42",
   "metadata": {},
   "source": [
    "대출이력이 있는 고객 feature 생성"
   ]
  },
  {
   "cell_type": "code",
   "execution_count": 4,
   "id": "7d755479",
   "metadata": {},
   "outputs": [],
   "source": [
    "loan_true = loan[loan['is_applied'] == 1]\n",
    "loan_true_list = loan_true['application_id'].unique()\n",
    "\n",
    "tempt = []\n",
    "\n",
    "for i in range(len(user['application_id'])):\n",
    "    if user['application_id'][i] in loan_true_list:\n",
    "        tempt.append(1)\n",
    "    else:\n",
    "        tempt.append(0)\n",
    "        \n",
    "user['loan_history'] = tempt"
   ]
  },
  {
   "cell_type": "markdown",
   "id": "17bd9384",
   "metadata": {},
   "source": [
    "insert time 날짜 변경"
   ]
  },
  {
   "cell_type": "code",
   "execution_count": 33,
   "id": "19749319",
   "metadata": {},
   "outputs": [],
   "source": [
    "# insert time : 한도조회 당시 시간\n",
    "user['insert_time'] = pd.to_datetime(user['insert_time'])"
   ]
  },
  {
   "cell_type": "code",
   "execution_count": 95,
   "id": "c7c8896a",
   "metadata": {},
   "outputs": [
    {
     "data": {
      "text/plain": [
       "array(['1985.0', '1968.0', '1997.0', '1989.0', '2000.0', '1994.0',\n",
       "       '1976.0', '1992.0', '1991.0', '1980.0', '1981.0', '1987.0',\n",
       "       '1986.0', '1996.0', '1990.0', '1965.0', '1993.0', '1978.0',\n",
       "       '1974.0', '1984.0', '1983.0', '2001.0', '1975.0', '1995.0',\n",
       "       '1998.0', '1962.0', '1972.0', '1982.0', '1988.0', '1979.0',\n",
       "       '1963.0', '1959.0', '1967.0', '1957.0', '1999.0', '1971.0',\n",
       "       '1977.0', '1955.0', '1973.0', '2002.0', '1969.0', '1966.0',\n",
       "       '1964.0', '1970.0', '1947.0', '1960.0', '1958.0', '1961.0',\n",
       "       '1943.0', '1948.0', 9999, '1954.0', '1932.0', '1939.0', '1951.0',\n",
       "       '1956.0', '1953.0', '1945.0', '1952.0', '1950.0', '2003.0',\n",
       "       '1942.0', '1946.0', '1934.0', '1949.0', '1938.0', '1941.0',\n",
       "       '1940.0', '1944.0', '1936.0', '1933.0', '1937.0', '2004.0',\n",
       "       '1931.0', '1935.0', '2005.0', '2006.0', '1927.0', '2007.0',\n",
       "       '2008.0', '1930.0', '1929.0'], dtype=object)"
      ]
     },
     "execution_count": 95,
     "metadata": {},
     "output_type": "execute_result"
    }
   ],
   "source": [
    "# 해결안됨\n",
    "\n",
    "# user2.loc[user2['birth_year'] == \"없음\", 'birth_year'] = \"9999.0\"\n",
    "# user2['birth_year'].unique()\n",
    "# 현재나이\n",
    "dt_now = datetime.datetime.now()\n",
    "user2.loc[user2['birth_year'] == \"없음\", 'birth_year'] = \"9999.0\"\n",
    "user2['age'] = user2['birth_year'].str[:-2].astype(int) - dt_now.year\n",
    "pd.to_datetime(user2['birth_year'],format = '%Y')\n",
    "user2.head()"
   ]
  },
  {
   "cell_type": "markdown",
   "id": "d415e882",
   "metadata": {},
   "source": [
    "나이"
   ]
  },
  {
   "cell_type": "code",
   "execution_count": 6,
   "id": "15d8bda2",
   "metadata": {},
   "outputs": [],
   "source": [
    "dt_now = datetime.datetime.now()\n",
    "\n",
    "def create_age(x):\n",
    "    if x != '없음':\n",
    "        return dt_now.year - int(x[:-2])\n",
    "    else:\n",
    "        return x\n",
    "    \n",
    "user['age'] = user['birth_year'].apply(create_age)"
   ]
  },
  {
   "cell_type": "code",
   "execution_count": 30,
   "id": "de4e0cf6",
   "metadata": {},
   "outputs": [
    {
     "data": {
      "text/html": [
       "<div>\n",
       "<style scoped>\n",
       "    .dataframe tbody tr th:only-of-type {\n",
       "        vertical-align: middle;\n",
       "    }\n",
       "\n",
       "    .dataframe tbody tr th {\n",
       "        vertical-align: top;\n",
       "    }\n",
       "\n",
       "    .dataframe thead th {\n",
       "        text-align: right;\n",
       "    }\n",
       "</style>\n",
       "<table border=\"1\" class=\"dataframe\">\n",
       "  <thead>\n",
       "    <tr style=\"text-align: right;\">\n",
       "      <th></th>\n",
       "      <th>birth_year</th>\n",
       "      <th>age</th>\n",
       "    </tr>\n",
       "  </thead>\n",
       "  <tbody>\n",
       "    <tr>\n",
       "      <th>0</th>\n",
       "      <td>1985.0</td>\n",
       "      <td>37</td>\n",
       "    </tr>\n",
       "    <tr>\n",
       "      <th>1</th>\n",
       "      <td>1968.0</td>\n",
       "      <td>54</td>\n",
       "    </tr>\n",
       "    <tr>\n",
       "      <th>2</th>\n",
       "      <td>1997.0</td>\n",
       "      <td>25</td>\n",
       "    </tr>\n",
       "    <tr>\n",
       "      <th>3</th>\n",
       "      <td>1989.0</td>\n",
       "      <td>33</td>\n",
       "    </tr>\n",
       "    <tr>\n",
       "      <th>4</th>\n",
       "      <td>2000.0</td>\n",
       "      <td>22</td>\n",
       "    </tr>\n",
       "    <tr>\n",
       "      <th>...</th>\n",
       "      <td>...</td>\n",
       "      <td>...</td>\n",
       "    </tr>\n",
       "    <tr>\n",
       "      <th>1394211</th>\n",
       "      <td>2000.0</td>\n",
       "      <td>22</td>\n",
       "    </tr>\n",
       "    <tr>\n",
       "      <th>1394212</th>\n",
       "      <td>1955.0</td>\n",
       "      <td>67</td>\n",
       "    </tr>\n",
       "    <tr>\n",
       "      <th>1394213</th>\n",
       "      <td>1983.0</td>\n",
       "      <td>39</td>\n",
       "    </tr>\n",
       "    <tr>\n",
       "      <th>1394214</th>\n",
       "      <td>1975.0</td>\n",
       "      <td>47</td>\n",
       "    </tr>\n",
       "    <tr>\n",
       "      <th>1394215</th>\n",
       "      <td>1977.0</td>\n",
       "      <td>45</td>\n",
       "    </tr>\n",
       "  </tbody>\n",
       "</table>\n",
       "<p>1394216 rows × 2 columns</p>\n",
       "</div>"
      ],
      "text/plain": [
       "        birth_year age\n",
       "0           1985.0  37\n",
       "1           1968.0  54\n",
       "2           1997.0  25\n",
       "3           1989.0  33\n",
       "4           2000.0  22\n",
       "...            ...  ..\n",
       "1394211     2000.0  22\n",
       "1394212     1955.0  67\n",
       "1394213     1983.0  39\n",
       "1394214     1975.0  47\n",
       "1394215     1977.0  45\n",
       "\n",
       "[1394216 rows x 2 columns]"
      ]
     },
     "execution_count": 30,
     "metadata": {},
     "output_type": "execute_result"
    }
   ],
   "source": [
    "user[['birth_year','age']]"
   ]
  },
  {
   "cell_type": "markdown",
   "id": "aa8cdf3d",
   "metadata": {},
   "source": [
    "연령대"
   ]
  },
  {
   "cell_type": "code",
   "execution_count": 8,
   "id": "3eeb1cf1",
   "metadata": {},
   "outputs": [],
   "source": [
    "def age_group(x):\n",
    "    if x == \"없음\":\n",
    "        return x\n",
    "    if int(x) < 20 :\n",
    "        return '10대'\n",
    "    elif int(x) < 30 :\n",
    "        return '20대'\n",
    "    elif int(x) < 40 :\n",
    "        return '30대'\n",
    "    elif int(x) < 50 :\n",
    "        return '40대' \n",
    "    elif int(x) < 60 :\n",
    "        return '50대'\n",
    "    elif int(x) < 70 :\n",
    "        return '60대'\n",
    "    elif int(x) < 80:\n",
    "        return '70대'\n",
    "    else:\n",
    "        return '80대 이상'\n",
    "    \n",
    "user['age_group'] = user['age'].apply(age_group)"
   ]
  },
  {
   "cell_type": "code",
   "execution_count": 29,
   "id": "5342d9eb",
   "metadata": {},
   "outputs": [
    {
     "data": {
      "text/html": [
       "<div>\n",
       "<style scoped>\n",
       "    .dataframe tbody tr th:only-of-type {\n",
       "        vertical-align: middle;\n",
       "    }\n",
       "\n",
       "    .dataframe tbody tr th {\n",
       "        vertical-align: top;\n",
       "    }\n",
       "\n",
       "    .dataframe thead th {\n",
       "        text-align: right;\n",
       "    }\n",
       "</style>\n",
       "<table border=\"1\" class=\"dataframe\">\n",
       "  <thead>\n",
       "    <tr style=\"text-align: right;\">\n",
       "      <th></th>\n",
       "      <th>age</th>\n",
       "      <th>age_group</th>\n",
       "    </tr>\n",
       "  </thead>\n",
       "  <tbody>\n",
       "    <tr>\n",
       "      <th>0</th>\n",
       "      <td>37</td>\n",
       "      <td>30대</td>\n",
       "    </tr>\n",
       "    <tr>\n",
       "      <th>1</th>\n",
       "      <td>54</td>\n",
       "      <td>50대</td>\n",
       "    </tr>\n",
       "    <tr>\n",
       "      <th>2</th>\n",
       "      <td>25</td>\n",
       "      <td>20대</td>\n",
       "    </tr>\n",
       "    <tr>\n",
       "      <th>3</th>\n",
       "      <td>33</td>\n",
       "      <td>30대</td>\n",
       "    </tr>\n",
       "    <tr>\n",
       "      <th>4</th>\n",
       "      <td>22</td>\n",
       "      <td>20대</td>\n",
       "    </tr>\n",
       "    <tr>\n",
       "      <th>...</th>\n",
       "      <td>...</td>\n",
       "      <td>...</td>\n",
       "    </tr>\n",
       "    <tr>\n",
       "      <th>1394211</th>\n",
       "      <td>22</td>\n",
       "      <td>20대</td>\n",
       "    </tr>\n",
       "    <tr>\n",
       "      <th>1394212</th>\n",
       "      <td>67</td>\n",
       "      <td>60대</td>\n",
       "    </tr>\n",
       "    <tr>\n",
       "      <th>1394213</th>\n",
       "      <td>39</td>\n",
       "      <td>30대</td>\n",
       "    </tr>\n",
       "    <tr>\n",
       "      <th>1394214</th>\n",
       "      <td>47</td>\n",
       "      <td>40대</td>\n",
       "    </tr>\n",
       "    <tr>\n",
       "      <th>1394215</th>\n",
       "      <td>45</td>\n",
       "      <td>40대</td>\n",
       "    </tr>\n",
       "  </tbody>\n",
       "</table>\n",
       "<p>1394216 rows × 2 columns</p>\n",
       "</div>"
      ],
      "text/plain": [
       "        age age_group\n",
       "0        37       30대\n",
       "1        54       50대\n",
       "2        25       20대\n",
       "3        33       30대\n",
       "4        22       20대\n",
       "...      ..       ...\n",
       "1394211  22       20대\n",
       "1394212  67       60대\n",
       "1394213  39       30대\n",
       "1394214  47       40대\n",
       "1394215  45       40대\n",
       "\n",
       "[1394216 rows x 2 columns]"
      ]
     },
     "execution_count": 29,
     "metadata": {},
     "output_type": "execute_result"
    }
   ],
   "source": [
    "user[['age','age_group']]"
   ]
  },
  {
   "cell_type": "code",
   "execution_count": 10,
   "id": "b59b1aa2",
   "metadata": {},
   "outputs": [
    {
     "data": {
      "text/plain": [
       "<AxesSubplot:xlabel='age_group', ylabel='count'>"
      ]
     },
     "execution_count": 10,
     "metadata": {},
     "output_type": "execute_result"
    },
    {
     "data": {
      "image/png": "[encoded data removed]",
      "text/plain": [
       "<Figure size 432x288 with 1 Axes>"
      ]
     },
     "metadata": {
      "image/png": {
       "height": 265,
       "width": 405
      }
     },
     "output_type": "display_data"
    }
   ],
   "source": [
    "sns.countplot(user['age_group'], order = sorted(user['age_group'].unique()))"
   ]
  },
  {
   "cell_type": "markdown",
   "id": "2e14f995",
   "metadata": {},
   "source": [
    "신용등급"
   ]
  },
  {
   "cell_type": "code",
   "execution_count": 11,
   "id": "c7daf644",
   "metadata": {},
   "outputs": [],
   "source": [
    "'''\n",
    "finda 신용등급은 코리아크레딧뷰로(KCB)사용\n",
    "1 : 942 ~ 1000\n",
    "2 : 891 ~ 941\n",
    "3 : 832 ~ 890\n",
    "4 : 768 ~ 831\n",
    "5 : 698 ~ 767\n",
    "6 : 630 ~ 697\n",
    "7 : 530 ~ 629\n",
    "8 : 454 ~ 529\n",
    "9 : 335 ~ 453\n",
    "10 : 0 ~ 334\n",
    "'''\n",
    "\n",
    "def credit_rating(x):\n",
    "    if x >= 942:\n",
    "        return \"1\"\n",
    "    elif x >= 891:\n",
    "        return \"2\"\n",
    "    elif x >= 832:\n",
    "        return \"3\"\n",
    "    elif x >= 768:\n",
    "        return \"4\"\n",
    "    elif x >= 698:\n",
    "        return \"5\"\n",
    "    elif x >= 630:\n",
    "        return \"6\"\n",
    "    elif x >= 530:\n",
    "        return \"7\"\n",
    "    elif x >= 454:\n",
    "        return \"8\"\n",
    "    elif x >= 335:\n",
    "        return \"9\"\n",
    "    else:\n",
    "        return \"10\"\n",
    "    \n",
    "user['credit_rating'] = user['credit_score'].apply(credit_rating)"
   ]
  },
  {
   "cell_type": "code",
   "execution_count": 31,
   "id": "625dd9fb",
   "metadata": {},
   "outputs": [
    {
     "data": {
      "text/html": [
       "<div>\n",
       "<style scoped>\n",
       "    .dataframe tbody tr th:only-of-type {\n",
       "        vertical-align: middle;\n",
       "    }\n",
       "\n",
       "    .dataframe tbody tr th {\n",
       "        vertical-align: top;\n",
       "    }\n",
       "\n",
       "    .dataframe thead th {\n",
       "        text-align: right;\n",
       "    }\n",
       "</style>\n",
       "<table border=\"1\" class=\"dataframe\">\n",
       "  <thead>\n",
       "    <tr style=\"text-align: right;\">\n",
       "      <th></th>\n",
       "      <th>credit_score</th>\n",
       "      <th>credit_rating</th>\n",
       "    </tr>\n",
       "  </thead>\n",
       "  <tbody>\n",
       "    <tr>\n",
       "      <th>0</th>\n",
       "      <td>660.000000</td>\n",
       "      <td>6</td>\n",
       "    </tr>\n",
       "    <tr>\n",
       "      <th>1</th>\n",
       "      <td>870.000000</td>\n",
       "      <td>3</td>\n",
       "    </tr>\n",
       "    <tr>\n",
       "      <th>2</th>\n",
       "      <td>710.000000</td>\n",
       "      <td>5</td>\n",
       "    </tr>\n",
       "    <tr>\n",
       "      <th>3</th>\n",
       "      <td>820.000000</td>\n",
       "      <td>4</td>\n",
       "    </tr>\n",
       "    <tr>\n",
       "      <th>4</th>\n",
       "      <td>630.000000</td>\n",
       "      <td>6</td>\n",
       "    </tr>\n",
       "    <tr>\n",
       "      <th>...</th>\n",
       "      <td>...</td>\n",
       "      <td>...</td>\n",
       "    </tr>\n",
       "    <tr>\n",
       "      <th>1394211</th>\n",
       "      <td>590.000000</td>\n",
       "      <td>7</td>\n",
       "    </tr>\n",
       "    <tr>\n",
       "      <th>1394212</th>\n",
       "      <td>980.000000</td>\n",
       "      <td>1</td>\n",
       "    </tr>\n",
       "    <tr>\n",
       "      <th>1394213</th>\n",
       "      <td>750.000000</td>\n",
       "      <td>5</td>\n",
       "    </tr>\n",
       "    <tr>\n",
       "      <th>1394214</th>\n",
       "      <td>640.000000</td>\n",
       "      <td>6</td>\n",
       "    </tr>\n",
       "    <tr>\n",
       "      <th>1394215</th>\n",
       "      <td>638.592507</td>\n",
       "      <td>6</td>\n",
       "    </tr>\n",
       "  </tbody>\n",
       "</table>\n",
       "<p>1394216 rows × 2 columns</p>\n",
       "</div>"
      ],
      "text/plain": [
       "         credit_score credit_rating\n",
       "0          660.000000             6\n",
       "1          870.000000             3\n",
       "2          710.000000             5\n",
       "3          820.000000             4\n",
       "4          630.000000             6\n",
       "...               ...           ...\n",
       "1394211    590.000000             7\n",
       "1394212    980.000000             1\n",
       "1394213    750.000000             5\n",
       "1394214    640.000000             6\n",
       "1394215    638.592507             6\n",
       "\n",
       "[1394216 rows x 2 columns]"
      ]
     },
     "execution_count": 31,
     "metadata": {},
     "output_type": "execute_result"
    }
   ],
   "source": [
    "user[['credit_score','credit_rating']]"
   ]
  },
  {
   "cell_type": "code",
   "execution_count": 13,
   "id": "3f328b4f",
   "metadata": {},
   "outputs": [
    {
     "data": {
      "text/plain": [
       "<AxesSubplot:xlabel='credit_rating', ylabel='count'>"
      ]
     },
     "execution_count": 13,
     "metadata": {},
     "output_type": "execute_result"
    },
    {
     "data": {
      "image/png": "[encoded data removed]",
      "text/plain": [
       "<Figure size 432x288 with 1 Axes>"
      ]
     },
     "metadata": {
      "image/png": {
       "height": 265,
       "width": 405
      }
     },
     "output_type": "display_data"
    }
   ],
   "source": [
    "sns.countplot(user['credit_rating'], order = sorted(user['credit_rating'].unique()))"
   ]
  },
  {
   "cell_type": "markdown",
   "id": "4f1dd5a5",
   "metadata": {},
   "source": [
    "소득등급"
   ]
  },
  {
   "cell_type": "code",
   "execution_count": null,
   "id": "9b2d2939",
   "metadata": {},
   "outputs": [],
   "source": [
    "# 상세 소득수준(ex.연령대별 평균과 비교) or 세분화된 소득분위(ex.10등급으로 세분, 장학재단에서 사용하는 소득분위) 추가"
   ]
  },
  {
   "cell_type": "code",
   "execution_count": 32,
   "id": "f2d9ceea",
   "metadata": {},
   "outputs": [],
   "source": [
    "percent = user['yearly_income'].describe()\n",
    "\n",
    "def income_rating(x):\n",
    "    if x < percent[4]:\n",
    "        return 4\n",
    "    elif x < percent[5]:\n",
    "        return 3\n",
    "    elif x < percent[6]:\n",
    "        return 2\n",
    "    else:\n",
    "        return 1\n",
    "\n",
    "user['income_rating'] = user['yearly_income'].apply(income_rating)"
   ]
  },
  {
   "cell_type": "code",
   "execution_count": 27,
   "id": "0b549df0",
   "metadata": {
    "scrolled": true
   },
   "outputs": [
    {
     "name": "stdout",
     "output_type": "stream",
     "text": [
      "25000000.0\n",
      "34000000.0\n",
      "48000000.0\n"
     ]
    }
   ],
   "source": [
    "print(percent[4])\n",
    "print(percent[5])\n",
    "print(percent[6])"
   ]
  },
  {
   "cell_type": "code",
   "execution_count": 33,
   "id": "a0ddc115",
   "metadata": {},
   "outputs": [
    {
     "data": {
      "text/html": [
       "<div>\n",
       "<style scoped>\n",
       "    .dataframe tbody tr th:only-of-type {\n",
       "        vertical-align: middle;\n",
       "    }\n",
       "\n",
       "    .dataframe tbody tr th {\n",
       "        vertical-align: top;\n",
       "    }\n",
       "\n",
       "    .dataframe thead th {\n",
       "        text-align: right;\n",
       "    }\n",
       "</style>\n",
       "<table border=\"1\" class=\"dataframe\">\n",
       "  <thead>\n",
       "    <tr style=\"text-align: right;\">\n",
       "      <th></th>\n",
       "      <th>yearly_income</th>\n",
       "      <th>income_rating</th>\n",
       "    </tr>\n",
       "  </thead>\n",
       "  <tbody>\n",
       "    <tr>\n",
       "      <th>0</th>\n",
       "      <td>108000000.0</td>\n",
       "      <td>1</td>\n",
       "    </tr>\n",
       "    <tr>\n",
       "      <th>1</th>\n",
       "      <td>30000000.0</td>\n",
       "      <td>3</td>\n",
       "    </tr>\n",
       "    <tr>\n",
       "      <th>2</th>\n",
       "      <td>30000000.0</td>\n",
       "      <td>3</td>\n",
       "    </tr>\n",
       "    <tr>\n",
       "      <th>3</th>\n",
       "      <td>62000000.0</td>\n",
       "      <td>1</td>\n",
       "    </tr>\n",
       "    <tr>\n",
       "      <th>4</th>\n",
       "      <td>36000000.0</td>\n",
       "      <td>2</td>\n",
       "    </tr>\n",
       "    <tr>\n",
       "      <th>...</th>\n",
       "      <td>...</td>\n",
       "      <td>...</td>\n",
       "    </tr>\n",
       "    <tr>\n",
       "      <th>1394211</th>\n",
       "      <td>25000000.0</td>\n",
       "      <td>3</td>\n",
       "    </tr>\n",
       "    <tr>\n",
       "      <th>1394212</th>\n",
       "      <td>20000000.0</td>\n",
       "      <td>4</td>\n",
       "    </tr>\n",
       "    <tr>\n",
       "      <th>1394213</th>\n",
       "      <td>75000000.0</td>\n",
       "      <td>1</td>\n",
       "    </tr>\n",
       "    <tr>\n",
       "      <th>1394214</th>\n",
       "      <td>50000000.0</td>\n",
       "      <td>1</td>\n",
       "    </tr>\n",
       "    <tr>\n",
       "      <th>1394215</th>\n",
       "      <td>35000000.0</td>\n",
       "      <td>2</td>\n",
       "    </tr>\n",
       "  </tbody>\n",
       "</table>\n",
       "<p>1394216 rows × 2 columns</p>\n",
       "</div>"
      ],
      "text/plain": [
       "         yearly_income  income_rating\n",
       "0          108000000.0              1\n",
       "1           30000000.0              3\n",
       "2           30000000.0              3\n",
       "3           62000000.0              1\n",
       "4           36000000.0              2\n",
       "...                ...            ...\n",
       "1394211     25000000.0              3\n",
       "1394212     20000000.0              4\n",
       "1394213     75000000.0              1\n",
       "1394214     50000000.0              1\n",
       "1394215     35000000.0              2\n",
       "\n",
       "[1394216 rows x 2 columns]"
      ]
     },
     "execution_count": 33,
     "metadata": {},
     "output_type": "execute_result"
    }
   ],
   "source": [
    "user[['yearly_income','income_rating']]"
   ]
  },
  {
   "cell_type": "code",
   "execution_count": 34,
   "id": "bc2a7aa2",
   "metadata": {},
   "outputs": [
    {
     "data": {
      "text/plain": [
       "<AxesSubplot:xlabel='income_rating', ylabel='count'>"
      ]
     },
     "execution_count": 34,
     "metadata": {},
     "output_type": "execute_result"
    },
    {
     "data": {
      "image/png": "[encoded data removed]",
      "text/plain": [
       "<Figure size 432x288 with 1 Axes>"
      ]
     },
     "metadata": {
      "image/png": {
       "height": 265,
       "width": 405
      }
     },
     "output_type": "display_data"
    }
   ],
   "source": [
    "sns.countplot(user['income_rating'], order = sorted(user['income_rating'].unique()))"
   ]
  },
  {
   "cell_type": "markdown",
   "id": "401cbf33",
   "metadata": {},
   "source": [
    "근속년수"
   ]
  },
  {
   "cell_type": "code",
   "execution_count": 77,
   "id": "ff8d7bea",
   "metadata": {},
   "outputs": [],
   "source": [
    "dt_now = datetime.datetime.now()\n",
    "\n",
    "def service_year(x):\n",
    "    if x != \"입사년도 없음\":\n",
    "        return dt_now.year - int(x[:4]) + 1\n",
    "    else:\n",
    "        return x\n",
    "\n",
    "user['service_year'] = user['company_enter_month'].apply(service_year)"
   ]
  },
  {
   "cell_type": "code",
   "execution_count": 78,
   "id": "f2577d7a",
   "metadata": {},
   "outputs": [
    {
     "data": {
      "text/html": [
       "<div>\n",
       "<style scoped>\n",
       "    .dataframe tbody tr th:only-of-type {\n",
       "        vertical-align: middle;\n",
       "    }\n",
       "\n",
       "    .dataframe tbody tr th {\n",
       "        vertical-align: top;\n",
       "    }\n",
       "\n",
       "    .dataframe thead th {\n",
       "        text-align: right;\n",
       "    }\n",
       "</style>\n",
       "<table border=\"1\" class=\"dataframe\">\n",
       "  <thead>\n",
       "    <tr style=\"text-align: right;\">\n",
       "      <th></th>\n",
       "      <th>company_enter_month</th>\n",
       "      <th>service_year</th>\n",
       "    </tr>\n",
       "  </thead>\n",
       "  <tbody>\n",
       "    <tr>\n",
       "      <th>0</th>\n",
       "      <td>20151101.0</td>\n",
       "      <td>8</td>\n",
       "    </tr>\n",
       "    <tr>\n",
       "      <th>1</th>\n",
       "      <td>20070201.0</td>\n",
       "      <td>16</td>\n",
       "    </tr>\n",
       "    <tr>\n",
       "      <th>2</th>\n",
       "      <td>20210901.0</td>\n",
       "      <td>2</td>\n",
       "    </tr>\n",
       "    <tr>\n",
       "      <th>3</th>\n",
       "      <td>20170101.0</td>\n",
       "      <td>6</td>\n",
       "    </tr>\n",
       "    <tr>\n",
       "      <th>4</th>\n",
       "      <td>20210901.0</td>\n",
       "      <td>2</td>\n",
       "    </tr>\n",
       "    <tr>\n",
       "      <th>...</th>\n",
       "      <td>...</td>\n",
       "      <td>...</td>\n",
       "    </tr>\n",
       "    <tr>\n",
       "      <th>1394211</th>\n",
       "      <td>202106.0</td>\n",
       "      <td>2</td>\n",
       "    </tr>\n",
       "    <tr>\n",
       "      <th>1394212</th>\n",
       "      <td>입사년도 없음</td>\n",
       "      <td>입사년도 없음</td>\n",
       "    </tr>\n",
       "    <tr>\n",
       "      <th>1394213</th>\n",
       "      <td>200908.0</td>\n",
       "      <td>14</td>\n",
       "    </tr>\n",
       "    <tr>\n",
       "      <th>1394214</th>\n",
       "      <td>201705.0</td>\n",
       "      <td>6</td>\n",
       "    </tr>\n",
       "    <tr>\n",
       "      <th>1394215</th>\n",
       "      <td>201103.0</td>\n",
       "      <td>12</td>\n",
       "    </tr>\n",
       "  </tbody>\n",
       "</table>\n",
       "<p>1394216 rows × 2 columns</p>\n",
       "</div>"
      ],
      "text/plain": [
       "        company_enter_month service_year\n",
       "0                20151101.0            8\n",
       "1                20070201.0           16\n",
       "2                20210901.0            2\n",
       "3                20170101.0            6\n",
       "4                20210901.0            2\n",
       "...                     ...          ...\n",
       "1394211            202106.0            2\n",
       "1394212             입사년도 없음      입사년도 없음\n",
       "1394213            200908.0           14\n",
       "1394214            201705.0            6\n",
       "1394215            201103.0           12\n",
       "\n",
       "[1394216 rows x 2 columns]"
      ]
     },
     "execution_count": 78,
     "metadata": {},
     "output_type": "execute_result"
    }
   ],
   "source": [
    "user[['company_enter_month','service_year']]"
   ]
  },
  {
   "cell_type": "code",
   "execution_count": 79,
   "id": "f45bf797",
   "metadata": {
    "scrolled": false
   },
   "outputs": [
    {
     "data": {
      "image/png": "[encoded data removed]",
      "text/plain": [
       "<Figure size 1080x576 with 1 Axes>"
      ]
     },
     "metadata": {
      "image/png": {
       "height": 525,
       "width": 909
      }
     },
     "output_type": "display_data"
    }
   ],
   "source": [
    "plt.figure(figsize = (15,8))\n",
    "sns.countplot(user['service_year'], order = user['service_year'].value_counts().index)\n",
    "plt.xticks(rotation=45)\n",
    "plt.show()"
   ]
  },
  {
   "cell_type": "markdown",
   "id": "5ae3aded",
   "metadata": {},
   "source": [
    "기대출 평균 금액"
   ]
  },
  {
   "cell_type": "code",
   "execution_count": 4,
   "id": "47bd7b9a",
   "metadata": {},
   "outputs": [],
   "source": [
    "user['avg_existing_loan_amt'] = user['existing_loan_amt'] / user['existing_loan_cnt']"
   ]
  },
  {
   "cell_type": "code",
   "execution_count": 5,
   "id": "3770f08b",
   "metadata": {},
   "outputs": [
    {
     "data": {
      "text/html": [
       "<div>\n",
       "<style scoped>\n",
       "    .dataframe tbody tr th:only-of-type {\n",
       "        vertical-align: middle;\n",
       "    }\n",
       "\n",
       "    .dataframe tbody tr th {\n",
       "        vertical-align: top;\n",
       "    }\n",
       "\n",
       "    .dataframe thead th {\n",
       "        text-align: right;\n",
       "    }\n",
       "</style>\n",
       "<table border=\"1\" class=\"dataframe\">\n",
       "  <thead>\n",
       "    <tr style=\"text-align: right;\">\n",
       "      <th></th>\n",
       "      <th>existing_loan_amt</th>\n",
       "      <th>existing_loan_cnt</th>\n",
       "      <th>avg_existing_loan_amt</th>\n",
       "    </tr>\n",
       "  </thead>\n",
       "  <tbody>\n",
       "    <tr>\n",
       "      <th>0</th>\n",
       "      <td>162000000.0</td>\n",
       "      <td>4.0</td>\n",
       "      <td>4.050000e+07</td>\n",
       "    </tr>\n",
       "    <tr>\n",
       "      <th>1</th>\n",
       "      <td>27000000.0</td>\n",
       "      <td>1.0</td>\n",
       "      <td>2.700000e+07</td>\n",
       "    </tr>\n",
       "    <tr>\n",
       "      <th>2</th>\n",
       "      <td>15000000.0</td>\n",
       "      <td>5.0</td>\n",
       "      <td>3.000000e+06</td>\n",
       "    </tr>\n",
       "    <tr>\n",
       "      <th>3</th>\n",
       "      <td>344000000.0</td>\n",
       "      <td>7.0</td>\n",
       "      <td>4.914286e+07</td>\n",
       "    </tr>\n",
       "    <tr>\n",
       "      <th>4</th>\n",
       "      <td>16000000.0</td>\n",
       "      <td>1.0</td>\n",
       "      <td>1.600000e+07</td>\n",
       "    </tr>\n",
       "    <tr>\n",
       "      <th>...</th>\n",
       "      <td>...</td>\n",
       "      <td>...</td>\n",
       "      <td>...</td>\n",
       "    </tr>\n",
       "    <tr>\n",
       "      <th>1394211</th>\n",
       "      <td>0.0</td>\n",
       "      <td>0.0</td>\n",
       "      <td>NaN</td>\n",
       "    </tr>\n",
       "    <tr>\n",
       "      <th>1394212</th>\n",
       "      <td>0.0</td>\n",
       "      <td>1.0</td>\n",
       "      <td>0.000000e+00</td>\n",
       "    </tr>\n",
       "    <tr>\n",
       "      <th>1394213</th>\n",
       "      <td>200000000.0</td>\n",
       "      <td>8.0</td>\n",
       "      <td>2.500000e+07</td>\n",
       "    </tr>\n",
       "    <tr>\n",
       "      <th>1394214</th>\n",
       "      <td>117000000.0</td>\n",
       "      <td>10.0</td>\n",
       "      <td>1.170000e+07</td>\n",
       "    </tr>\n",
       "    <tr>\n",
       "      <th>1394215</th>\n",
       "      <td>0.0</td>\n",
       "      <td>0.0</td>\n",
       "      <td>NaN</td>\n",
       "    </tr>\n",
       "  </tbody>\n",
       "</table>\n",
       "<p>1394216 rows × 3 columns</p>\n",
       "</div>"
      ],
      "text/plain": [
       "         existing_loan_amt  existing_loan_cnt  avg_existing_loan_amt\n",
       "0              162000000.0                4.0           4.050000e+07\n",
       "1               27000000.0                1.0           2.700000e+07\n",
       "2               15000000.0                5.0           3.000000e+06\n",
       "3              344000000.0                7.0           4.914286e+07\n",
       "4               16000000.0                1.0           1.600000e+07\n",
       "...                    ...                ...                    ...\n",
       "1394211                0.0                0.0                    NaN\n",
       "1394212                0.0                1.0           0.000000e+00\n",
       "1394213        200000000.0                8.0           2.500000e+07\n",
       "1394214        117000000.0               10.0           1.170000e+07\n",
       "1394215                0.0                0.0                    NaN\n",
       "\n",
       "[1394216 rows x 3 columns]"
      ]
     },
     "execution_count": 5,
     "metadata": {},
     "output_type": "execute_result"
    }
   ],
   "source": [
    "user[['existing_loan_amt','existing_loan_cnt','avg_existing_loan_amt']]"
   ]
  },
  {
   "cell_type": "markdown",
   "id": "68868cbd",
   "metadata": {},
   "source": [
    "대출 조회 건수"
   ]
  },
  {
   "cell_type": "code",
   "execution_count": 23,
   "id": "7c83f053",
   "metadata": {},
   "outputs": [],
   "source": [
    "count = user.groupby('user_id')['application_id'].count()\n",
    "\n",
    "user['application_count'] = user['user_id'].apply(lambda x : count[x])"
   ]
  },
  {
   "cell_type": "code",
   "execution_count": 24,
   "id": "b534ce7c",
   "metadata": {},
   "outputs": [
    {
     "data": {
      "text/html": [
       "<div>\n",
       "<style scoped>\n",
       "    .dataframe tbody tr th:only-of-type {\n",
       "        vertical-align: middle;\n",
       "    }\n",
       "\n",
       "    .dataframe tbody tr th {\n",
       "        vertical-align: top;\n",
       "    }\n",
       "\n",
       "    .dataframe thead th {\n",
       "        text-align: right;\n",
       "    }\n",
       "</style>\n",
       "<table border=\"1\" class=\"dataframe\">\n",
       "  <thead>\n",
       "    <tr style=\"text-align: right;\">\n",
       "      <th></th>\n",
       "      <th>user_id</th>\n",
       "      <th>application_count</th>\n",
       "    </tr>\n",
       "  </thead>\n",
       "  <tbody>\n",
       "    <tr>\n",
       "      <th>0</th>\n",
       "      <td>118218</td>\n",
       "      <td>15</td>\n",
       "    </tr>\n",
       "    <tr>\n",
       "      <th>1</th>\n",
       "      <td>553686</td>\n",
       "      <td>4</td>\n",
       "    </tr>\n",
       "    <tr>\n",
       "      <th>2</th>\n",
       "      <td>59516</td>\n",
       "      <td>2</td>\n",
       "    </tr>\n",
       "    <tr>\n",
       "      <th>3</th>\n",
       "      <td>167320</td>\n",
       "      <td>7</td>\n",
       "    </tr>\n",
       "    <tr>\n",
       "      <th>4</th>\n",
       "      <td>33400</td>\n",
       "      <td>10</td>\n",
       "    </tr>\n",
       "    <tr>\n",
       "      <th>...</th>\n",
       "      <td>...</td>\n",
       "      <td>...</td>\n",
       "    </tr>\n",
       "    <tr>\n",
       "      <th>1394211</th>\n",
       "      <td>489900</td>\n",
       "      <td>1</td>\n",
       "    </tr>\n",
       "    <tr>\n",
       "      <th>1394212</th>\n",
       "      <td>151422</td>\n",
       "      <td>1</td>\n",
       "    </tr>\n",
       "    <tr>\n",
       "      <th>1394213</th>\n",
       "      <td>173524</td>\n",
       "      <td>1</td>\n",
       "    </tr>\n",
       "    <tr>\n",
       "      <th>1394214</th>\n",
       "      <td>766546</td>\n",
       "      <td>5</td>\n",
       "    </tr>\n",
       "    <tr>\n",
       "      <th>1394215</th>\n",
       "      <td>3864</td>\n",
       "      <td>1</td>\n",
       "    </tr>\n",
       "  </tbody>\n",
       "</table>\n",
       "<p>1394216 rows × 2 columns</p>\n",
       "</div>"
      ],
      "text/plain": [
       "         user_id  application_count\n",
       "0         118218                 15\n",
       "1         553686                  4\n",
       "2          59516                  2\n",
       "3         167320                  7\n",
       "4          33400                 10\n",
       "...          ...                ...\n",
       "1394211   489900                  1\n",
       "1394212   151422                  1\n",
       "1394213   173524                  1\n",
       "1394214   766546                  5\n",
       "1394215     3864                  1\n",
       "\n",
       "[1394216 rows x 2 columns]"
      ]
     },
     "execution_count": 24,
     "metadata": {},
     "output_type": "execute_result"
    }
   ],
   "source": [
    "user[['user_id','application_count']]"
   ]
  },
  {
   "cell_type": "code",
   "execution_count": 31,
   "id": "0021446d",
   "metadata": {},
   "outputs": [
    {
     "data": {
      "text/plain": [
       "<AxesSubplot:xlabel='application_count', ylabel='Density'>"
      ]
     },
     "execution_count": 31,
     "metadata": {},
     "output_type": "execute_result"
    },
    {
     "data": {
      "image/png": "[encoded data removed]",
      "text/plain": [
       "<Figure size 432x288 with 1 Axes>"
      ]
     },
     "metadata": {
      "image/png": {
       "height": 265,
       "width": 391
      }
     },
     "output_type": "display_data"
    }
   ],
   "source": [
    "sns.distplot(user['application_count'])"
   ]
  },
  {
   "cell_type": "markdown",
   "id": "a5abea62",
   "metadata": {},
   "source": [
    "신용평가 시간"
   ]
  },
  {
   "cell_type": "code",
   "execution_count": 71,
   "id": "5e79e491",
   "metadata": {},
   "outputs": [],
   "source": [
    "def insert_classification(x):\n",
    "    if 2 <= x <= 5:\n",
    "        return \"새벽\"\n",
    "    elif x <= 9:\n",
    "        return \"아침\"\n",
    "    elif x <= 13:\n",
    "        return \"점심\"\n",
    "    elif x <= 18:\n",
    "        return \"낮\"\n",
    "    elif x <= 22:\n",
    "        return \"저녁\"\n",
    "    else:\n",
    "        return \"밤\"\n",
    "    \n",
    "user['insert_classification'] = user['insert_time'].dt.hour.apply(insert_classification)"
   ]
  },
  {
   "cell_type": "code",
   "execution_count": 72,
   "id": "e1ca2e5a",
   "metadata": {},
   "outputs": [
    {
     "data": {
      "text/html": [
       "<div>\n",
       "<style scoped>\n",
       "    .dataframe tbody tr th:only-of-type {\n",
       "        vertical-align: middle;\n",
       "    }\n",
       "\n",
       "    .dataframe tbody tr th {\n",
       "        vertical-align: top;\n",
       "    }\n",
       "\n",
       "    .dataframe thead th {\n",
       "        text-align: right;\n",
       "    }\n",
       "</style>\n",
       "<table border=\"1\" class=\"dataframe\">\n",
       "  <thead>\n",
       "    <tr style=\"text-align: right;\">\n",
       "      <th></th>\n",
       "      <th>insert_time</th>\n",
       "      <th>insert_classification</th>\n",
       "    </tr>\n",
       "  </thead>\n",
       "  <tbody>\n",
       "    <tr>\n",
       "      <th>0</th>\n",
       "      <td>2022-06-07 06:28:18</td>\n",
       "      <td>아침</td>\n",
       "    </tr>\n",
       "    <tr>\n",
       "      <th>1</th>\n",
       "      <td>2022-06-07 14:29:03</td>\n",
       "      <td>낮</td>\n",
       "    </tr>\n",
       "    <tr>\n",
       "      <th>2</th>\n",
       "      <td>2022-06-07 21:40:22</td>\n",
       "      <td>저녁</td>\n",
       "    </tr>\n",
       "    <tr>\n",
       "      <th>3</th>\n",
       "      <td>2022-06-07 09:40:27</td>\n",
       "      <td>아침</td>\n",
       "    </tr>\n",
       "    <tr>\n",
       "      <th>4</th>\n",
       "      <td>2022-06-07 08:55:07</td>\n",
       "      <td>아침</td>\n",
       "    </tr>\n",
       "    <tr>\n",
       "      <th>...</th>\n",
       "      <td>...</td>\n",
       "      <td>...</td>\n",
       "    </tr>\n",
       "    <tr>\n",
       "      <th>1394211</th>\n",
       "      <td>2022-03-22 14:55:32</td>\n",
       "      <td>낮</td>\n",
       "    </tr>\n",
       "    <tr>\n",
       "      <th>1394212</th>\n",
       "      <td>2022-03-22 01:19:24</td>\n",
       "      <td>아침</td>\n",
       "    </tr>\n",
       "    <tr>\n",
       "      <th>1394213</th>\n",
       "      <td>2022-03-22 07:34:32</td>\n",
       "      <td>아침</td>\n",
       "    </tr>\n",
       "    <tr>\n",
       "      <th>1394214</th>\n",
       "      <td>2022-03-22 22:12:35</td>\n",
       "      <td>저녁</td>\n",
       "    </tr>\n",
       "    <tr>\n",
       "      <th>1394215</th>\n",
       "      <td>2022-03-22 08:55:14</td>\n",
       "      <td>아침</td>\n",
       "    </tr>\n",
       "  </tbody>\n",
       "</table>\n",
       "<p>1394216 rows × 2 columns</p>\n",
       "</div>"
      ],
      "text/plain": [
       "                insert_time insert_classification\n",
       "0       2022-06-07 06:28:18                    아침\n",
       "1       2022-06-07 14:29:03                     낮\n",
       "2       2022-06-07 21:40:22                    저녁\n",
       "3       2022-06-07 09:40:27                    아침\n",
       "4       2022-06-07 08:55:07                    아침\n",
       "...                     ...                   ...\n",
       "1394211 2022-03-22 14:55:32                     낮\n",
       "1394212 2022-03-22 01:19:24                    아침\n",
       "1394213 2022-03-22 07:34:32                    아침\n",
       "1394214 2022-03-22 22:12:35                    저녁\n",
       "1394215 2022-03-22 08:55:14                    아침\n",
       "\n",
       "[1394216 rows x 2 columns]"
      ]
     },
     "execution_count": 72,
     "metadata": {},
     "output_type": "execute_result"
    }
   ],
   "source": [
    "user[['insert_time','insert_classification']]"
   ]
  },
  {
   "cell_type": "code",
   "execution_count": 73,
   "id": "15c4ac9f",
   "metadata": {},
   "outputs": [
    {
     "data": {
      "text/plain": [
       "<AxesSubplot:xlabel='insert_classification', ylabel='count'>"
      ]
     },
     "execution_count": 73,
     "metadata": {},
     "output_type": "execute_result"
    },
    {
     "data": {
      "image/png": "[encoded data removed]",
      "text/plain": [
       "<Figure size 432x288 with 1 Axes>"
      ]
     },
     "metadata": {
      "image/png": {
       "height": 265,
       "width": 405
      }
     },
     "output_type": "display_data"
    }
   ],
   "source": [
    "sns.countplot(user['insert_classification'], order = ['새벽', '아침', '점심','낮','저녁','밤'])"
   ]
  },
  {
   "cell_type": "markdown",
   "id": "186ba087",
   "metadata": {},
   "source": [
    "income_type 별 소득 수준"
   ]
  },
  {
   "cell_type": "code",
   "execution_count": 141,
   "id": "88999a37",
   "metadata": {
    "scrolled": true
   },
   "outputs": [],
   "source": [
    "# income_type = user.groupby('income_type')['yearly_income'].agg('mean')\n",
    "income_type = user.groupby('income_type')['yearly_income'].agg('median')\n",
    "\n",
    "user['income_income_level'] = user.apply(lambda x: \"직장없음\" if x['income_type'] == \"직장없음\" else \n",
    "                                         (\"평균 미만\" if x['yearly_income'] < income_type[x['income_type']] else \"평균 이상\"), axis = 1)"
   ]
  },
  {
   "cell_type": "code",
   "execution_count": 140,
   "id": "f69e8bbd",
   "metadata": {},
   "outputs": [
    {
     "data": {
      "text/plain": [
       "income_type\n",
       "EARNEDINCOME       35000000.0\n",
       "EARNEDINCOME2      30000000.0\n",
       "FREELANCER         30000000.0\n",
       "OTHERINCOME        20000000.0\n",
       "PRACTITIONER       36000000.0\n",
       "PRIVATEBUSINESS    50000000.0\n",
       "직장없음                      0.0\n",
       "Name: yearly_income, dtype: float64"
      ]
     },
     "execution_count": 140,
     "metadata": {},
     "output_type": "execute_result"
    }
   ],
   "source": [
    "user.groupby('income_type')['yearly_income'].agg('median')"
   ]
  },
  {
   "cell_type": "code",
   "execution_count": 143,
   "id": "a1033e1b",
   "metadata": {},
   "outputs": [
    {
     "data": {
      "text/html": [
       "<div>\n",
       "<style scoped>\n",
       "    .dataframe tbody tr th:only-of-type {\n",
       "        vertical-align: middle;\n",
       "    }\n",
       "\n",
       "    .dataframe tbody tr th {\n",
       "        vertical-align: top;\n",
       "    }\n",
       "\n",
       "    .dataframe thead th {\n",
       "        text-align: right;\n",
       "    }\n",
       "</style>\n",
       "<table border=\"1\" class=\"dataframe\">\n",
       "  <thead>\n",
       "    <tr style=\"text-align: right;\">\n",
       "      <th></th>\n",
       "      <th>income_type</th>\n",
       "      <th>yearly_income</th>\n",
       "      <th>income_income_level</th>\n",
       "    </tr>\n",
       "  </thead>\n",
       "  <tbody>\n",
       "    <tr>\n",
       "      <th>0</th>\n",
       "      <td>PRIVATEBUSINESS</td>\n",
       "      <td>108000000.0</td>\n",
       "      <td>평균 이상</td>\n",
       "    </tr>\n",
       "    <tr>\n",
       "      <th>1</th>\n",
       "      <td>PRIVATEBUSINESS</td>\n",
       "      <td>30000000.0</td>\n",
       "      <td>평균 미만</td>\n",
       "    </tr>\n",
       "    <tr>\n",
       "      <th>2</th>\n",
       "      <td>FREELANCER</td>\n",
       "      <td>30000000.0</td>\n",
       "      <td>평균 이상</td>\n",
       "    </tr>\n",
       "    <tr>\n",
       "      <th>3</th>\n",
       "      <td>EARNEDINCOME</td>\n",
       "      <td>62000000.0</td>\n",
       "      <td>평균 이상</td>\n",
       "    </tr>\n",
       "    <tr>\n",
       "      <th>4</th>\n",
       "      <td>EARNEDINCOME</td>\n",
       "      <td>36000000.0</td>\n",
       "      <td>평균 이상</td>\n",
       "    </tr>\n",
       "    <tr>\n",
       "      <th>...</th>\n",
       "      <td>...</td>\n",
       "      <td>...</td>\n",
       "      <td>...</td>\n",
       "    </tr>\n",
       "    <tr>\n",
       "      <th>1394211</th>\n",
       "      <td>FREELANCER</td>\n",
       "      <td>25000000.0</td>\n",
       "      <td>평균 미만</td>\n",
       "    </tr>\n",
       "    <tr>\n",
       "      <th>1394212</th>\n",
       "      <td>OTHERINCOME</td>\n",
       "      <td>20000000.0</td>\n",
       "      <td>평균 이상</td>\n",
       "    </tr>\n",
       "    <tr>\n",
       "      <th>1394213</th>\n",
       "      <td>EARNEDINCOME</td>\n",
       "      <td>75000000.0</td>\n",
       "      <td>평균 이상</td>\n",
       "    </tr>\n",
       "    <tr>\n",
       "      <th>1394214</th>\n",
       "      <td>EARNEDINCOME</td>\n",
       "      <td>50000000.0</td>\n",
       "      <td>평균 이상</td>\n",
       "    </tr>\n",
       "    <tr>\n",
       "      <th>1394215</th>\n",
       "      <td>FREELANCER</td>\n",
       "      <td>35000000.0</td>\n",
       "      <td>평균 이상</td>\n",
       "    </tr>\n",
       "  </tbody>\n",
       "</table>\n",
       "<p>1394216 rows × 3 columns</p>\n",
       "</div>"
      ],
      "text/plain": [
       "             income_type  yearly_income income_income_level\n",
       "0        PRIVATEBUSINESS    108000000.0               평균 이상\n",
       "1        PRIVATEBUSINESS     30000000.0               평균 미만\n",
       "2             FREELANCER     30000000.0               평균 이상\n",
       "3           EARNEDINCOME     62000000.0               평균 이상\n",
       "4           EARNEDINCOME     36000000.0               평균 이상\n",
       "...                  ...            ...                 ...\n",
       "1394211       FREELANCER     25000000.0               평균 미만\n",
       "1394212      OTHERINCOME     20000000.0               평균 이상\n",
       "1394213     EARNEDINCOME     75000000.0               평균 이상\n",
       "1394214     EARNEDINCOME     50000000.0               평균 이상\n",
       "1394215       FREELANCER     35000000.0               평균 이상\n",
       "\n",
       "[1394216 rows x 3 columns]"
      ]
     },
     "execution_count": 143,
     "metadata": {},
     "output_type": "execute_result"
    }
   ],
   "source": [
    "user[['income_type','yearly_income','income_income_level']]"
   ]
  },
  {
   "cell_type": "code",
   "execution_count": 142,
   "id": "21613cfa",
   "metadata": {},
   "outputs": [
    {
     "data": {
      "text/plain": [
       "<AxesSubplot:xlabel='income_income_level', ylabel='count'>"
      ]
     },
     "execution_count": 142,
     "metadata": {},
     "output_type": "execute_result"
    },
    {
     "data": {
      "image/png": "[encoded data removed]",
      "text/plain": [
       "<Figure size 432x288 with 1 Axes>"
      ]
     },
     "metadata": {
      "image/png": {
       "height": 269,
       "width": 405
      }
     },
     "output_type": "display_data"
    }
   ],
   "source": [
    "sns.countplot(user['income_income_level'])"
   ]
  },
  {
   "cell_type": "code",
   "execution_count": 127,
   "id": "d2751d74",
   "metadata": {},
   "outputs": [
    {
     "data": {
      "text/plain": [
       "income_type\n",
       "EARNEDINCOME       4.368105e+07\n",
       "EARNEDINCOME2      3.697141e+07\n",
       "FREELANCER         3.793608e+07\n",
       "OTHERINCOME        2.799042e+07\n",
       "PRACTITIONER       5.222569e+07\n",
       "PRIVATEBUSINESS    7.019950e+07\n",
       "직장없음               0.000000e+00\n",
       "Name: yearly_income, dtype: float64"
      ]
     },
     "execution_count": 127,
     "metadata": {},
     "output_type": "execute_result"
    }
   ],
   "source": [
    "user.groupby('income_type')['yearly_income'].agg('mean')"
   ]
  },
  {
   "cell_type": "code",
   "execution_count": 118,
   "id": "1ee6f83b",
   "metadata": {},
   "outputs": [
    {
     "data": {
      "text/html": [
       "<div>\n",
       "<style scoped>\n",
       "    .dataframe tbody tr th:only-of-type {\n",
       "        vertical-align: middle;\n",
       "    }\n",
       "\n",
       "    .dataframe tbody tr th {\n",
       "        vertical-align: top;\n",
       "    }\n",
       "\n",
       "    .dataframe thead th {\n",
       "        text-align: right;\n",
       "    }\n",
       "</style>\n",
       "<table border=\"1\" class=\"dataframe\">\n",
       "  <thead>\n",
       "    <tr style=\"text-align: right;\">\n",
       "      <th></th>\n",
       "      <th>income_type</th>\n",
       "      <th>yearly_income</th>\n",
       "      <th>income_income_level</th>\n",
       "    </tr>\n",
       "  </thead>\n",
       "  <tbody>\n",
       "    <tr>\n",
       "      <th>0</th>\n",
       "      <td>PRIVATEBUSINESS</td>\n",
       "      <td>108000000.0</td>\n",
       "      <td>평균 이상</td>\n",
       "    </tr>\n",
       "    <tr>\n",
       "      <th>1</th>\n",
       "      <td>PRIVATEBUSINESS</td>\n",
       "      <td>30000000.0</td>\n",
       "      <td>평균 미만</td>\n",
       "    </tr>\n",
       "    <tr>\n",
       "      <th>2</th>\n",
       "      <td>FREELANCER</td>\n",
       "      <td>30000000.0</td>\n",
       "      <td>평균 미만</td>\n",
       "    </tr>\n",
       "    <tr>\n",
       "      <th>3</th>\n",
       "      <td>EARNEDINCOME</td>\n",
       "      <td>62000000.0</td>\n",
       "      <td>평균 이상</td>\n",
       "    </tr>\n",
       "    <tr>\n",
       "      <th>4</th>\n",
       "      <td>EARNEDINCOME</td>\n",
       "      <td>36000000.0</td>\n",
       "      <td>평균 미만</td>\n",
       "    </tr>\n",
       "    <tr>\n",
       "      <th>...</th>\n",
       "      <td>...</td>\n",
       "      <td>...</td>\n",
       "      <td>...</td>\n",
       "    </tr>\n",
       "    <tr>\n",
       "      <th>1394211</th>\n",
       "      <td>FREELANCER</td>\n",
       "      <td>25000000.0</td>\n",
       "      <td>평균 미만</td>\n",
       "    </tr>\n",
       "    <tr>\n",
       "      <th>1394212</th>\n",
       "      <td>OTHERINCOME</td>\n",
       "      <td>20000000.0</td>\n",
       "      <td>평균 미만</td>\n",
       "    </tr>\n",
       "    <tr>\n",
       "      <th>1394213</th>\n",
       "      <td>EARNEDINCOME</td>\n",
       "      <td>75000000.0</td>\n",
       "      <td>평균 이상</td>\n",
       "    </tr>\n",
       "    <tr>\n",
       "      <th>1394214</th>\n",
       "      <td>EARNEDINCOME</td>\n",
       "      <td>50000000.0</td>\n",
       "      <td>평균 이상</td>\n",
       "    </tr>\n",
       "    <tr>\n",
       "      <th>1394215</th>\n",
       "      <td>FREELANCER</td>\n",
       "      <td>35000000.0</td>\n",
       "      <td>평균 미만</td>\n",
       "    </tr>\n",
       "  </tbody>\n",
       "</table>\n",
       "<p>1394216 rows × 3 columns</p>\n",
       "</div>"
      ],
      "text/plain": [
       "             income_type  yearly_income income_income_level\n",
       "0        PRIVATEBUSINESS    108000000.0               평균 이상\n",
       "1        PRIVATEBUSINESS     30000000.0               평균 미만\n",
       "2             FREELANCER     30000000.0               평균 미만\n",
       "3           EARNEDINCOME     62000000.0               평균 이상\n",
       "4           EARNEDINCOME     36000000.0               평균 미만\n",
       "...                  ...            ...                 ...\n",
       "1394211       FREELANCER     25000000.0               평균 미만\n",
       "1394212      OTHERINCOME     20000000.0               평균 미만\n",
       "1394213     EARNEDINCOME     75000000.0               평균 이상\n",
       "1394214     EARNEDINCOME     50000000.0               평균 이상\n",
       "1394215       FREELANCER     35000000.0               평균 미만\n",
       "\n",
       "[1394216 rows x 3 columns]"
      ]
     },
     "execution_count": 118,
     "metadata": {},
     "output_type": "execute_result"
    }
   ],
   "source": [
    "user[['income_type','yearly_income','income_income_level']]"
   ]
  },
  {
   "cell_type": "code",
   "execution_count": 119,
   "id": "49eae6d9",
   "metadata": {},
   "outputs": [
    {
     "data": {
      "text/plain": [
       "<AxesSubplot:xlabel='income_income_level', ylabel='count'>"
      ]
     },
     "execution_count": 119,
     "metadata": {},
     "output_type": "execute_result"
    },
    {
     "data": {
      "image/png": "[encoded data removed]",
      "text/plain": [
       "<Figure size 432x288 with 1 Axes>"
      ]
     },
     "metadata": {
      "image/png": {
       "height": 276,
       "width": 385
      }
     },
     "output_type": "display_data"
    }
   ],
   "source": [
    "sns.countplot(user['income_income_level'])"
   ]
  },
  {
   "cell_type": "markdown",
   "id": "a578b400",
   "metadata": {},
   "source": [
    "income_type 별 소득 수준"
   ]
  },
  {
   "cell_type": "code",
   "execution_count": 144,
   "id": "e6933bce",
   "metadata": {},
   "outputs": [],
   "source": [
    "# employment_type = user.groupby('employment_type')['yearly_income'].agg('mean')\n",
    "employment_type = user.groupby('employment_type')['yearly_income'].agg('median')\n",
    "\n",
    "user['employment_income_level'] = user.apply(lambda x: \"평균 미만\" if x['yearly_income'] < employment_type[x['employment_type']] \n",
    "                                             else \"평균 이상\", axis = 1)"
   ]
  },
  {
   "cell_type": "code",
   "execution_count": 145,
   "id": "8537190f",
   "metadata": {},
   "outputs": [
    {
     "data": {
      "text/plain": [
       "employment_type\n",
       "계약직    30000000.0\n",
       "기타     28000000.0\n",
       "일용직    37000000.0\n",
       "정규직    36000000.0\n",
       "Name: yearly_income, dtype: float64"
      ]
     },
     "execution_count": 145,
     "metadata": {},
     "output_type": "execute_result"
    }
   ],
   "source": [
    "user.groupby('employment_type')['yearly_income'].agg('median')"
   ]
  },
  {
   "cell_type": "code",
   "execution_count": 146,
   "id": "25b52710",
   "metadata": {},
   "outputs": [
    {
     "data": {
      "text/html": [
       "<div>\n",
       "<style scoped>\n",
       "    .dataframe tbody tr th:only-of-type {\n",
       "        vertical-align: middle;\n",
       "    }\n",
       "\n",
       "    .dataframe tbody tr th {\n",
       "        vertical-align: top;\n",
       "    }\n",
       "\n",
       "    .dataframe thead th {\n",
       "        text-align: right;\n",
       "    }\n",
       "</style>\n",
       "<table border=\"1\" class=\"dataframe\">\n",
       "  <thead>\n",
       "    <tr style=\"text-align: right;\">\n",
       "      <th></th>\n",
       "      <th>employment_type</th>\n",
       "      <th>yearly_income</th>\n",
       "      <th>employment_income_level</th>\n",
       "    </tr>\n",
       "  </thead>\n",
       "  <tbody>\n",
       "    <tr>\n",
       "      <th>0</th>\n",
       "      <td>기타</td>\n",
       "      <td>108000000.0</td>\n",
       "      <td>평균 이상</td>\n",
       "    </tr>\n",
       "    <tr>\n",
       "      <th>1</th>\n",
       "      <td>정규직</td>\n",
       "      <td>30000000.0</td>\n",
       "      <td>평균 미만</td>\n",
       "    </tr>\n",
       "    <tr>\n",
       "      <th>2</th>\n",
       "      <td>기타</td>\n",
       "      <td>30000000.0</td>\n",
       "      <td>평균 이상</td>\n",
       "    </tr>\n",
       "    <tr>\n",
       "      <th>3</th>\n",
       "      <td>정규직</td>\n",
       "      <td>62000000.0</td>\n",
       "      <td>평균 이상</td>\n",
       "    </tr>\n",
       "    <tr>\n",
       "      <th>4</th>\n",
       "      <td>정규직</td>\n",
       "      <td>36000000.0</td>\n",
       "      <td>평균 이상</td>\n",
       "    </tr>\n",
       "    <tr>\n",
       "      <th>...</th>\n",
       "      <td>...</td>\n",
       "      <td>...</td>\n",
       "      <td>...</td>\n",
       "    </tr>\n",
       "    <tr>\n",
       "      <th>1394211</th>\n",
       "      <td>기타</td>\n",
       "      <td>25000000.0</td>\n",
       "      <td>평균 미만</td>\n",
       "    </tr>\n",
       "    <tr>\n",
       "      <th>1394212</th>\n",
       "      <td>기타</td>\n",
       "      <td>20000000.0</td>\n",
       "      <td>평균 미만</td>\n",
       "    </tr>\n",
       "    <tr>\n",
       "      <th>1394213</th>\n",
       "      <td>정규직</td>\n",
       "      <td>75000000.0</td>\n",
       "      <td>평균 이상</td>\n",
       "    </tr>\n",
       "    <tr>\n",
       "      <th>1394214</th>\n",
       "      <td>정규직</td>\n",
       "      <td>50000000.0</td>\n",
       "      <td>평균 이상</td>\n",
       "    </tr>\n",
       "    <tr>\n",
       "      <th>1394215</th>\n",
       "      <td>기타</td>\n",
       "      <td>35000000.0</td>\n",
       "      <td>평균 이상</td>\n",
       "    </tr>\n",
       "  </tbody>\n",
       "</table>\n",
       "<p>1394216 rows × 3 columns</p>\n",
       "</div>"
      ],
      "text/plain": [
       "        employment_type  yearly_income employment_income_level\n",
       "0                    기타    108000000.0                   평균 이상\n",
       "1                   정규직     30000000.0                   평균 미만\n",
       "2                    기타     30000000.0                   평균 이상\n",
       "3                   정규직     62000000.0                   평균 이상\n",
       "4                   정규직     36000000.0                   평균 이상\n",
       "...                 ...            ...                     ...\n",
       "1394211              기타     25000000.0                   평균 미만\n",
       "1394212              기타     20000000.0                   평균 미만\n",
       "1394213             정규직     75000000.0                   평균 이상\n",
       "1394214             정규직     50000000.0                   평균 이상\n",
       "1394215              기타     35000000.0                   평균 이상\n",
       "\n",
       "[1394216 rows x 3 columns]"
      ]
     },
     "execution_count": 146,
     "metadata": {},
     "output_type": "execute_result"
    }
   ],
   "source": [
    "user[['employment_type','yearly_income','employment_income_level']]"
   ]
  },
  {
   "cell_type": "code",
   "execution_count": 147,
   "id": "1eb53997",
   "metadata": {},
   "outputs": [
    {
     "data": {
      "text/plain": [
       "<AxesSubplot:xlabel='employment_income_level', ylabel='count'>"
      ]
     },
     "execution_count": 147,
     "metadata": {},
     "output_type": "execute_result"
    },
    {
     "data": {
      "image/png": "[encoded data removed]",
      "text/plain": [
       "<Figure size 432x288 with 1 Axes>"
      ]
     },
     "metadata": {
      "image/png": {
       "height": 265,
       "width": 405
      }
     },
     "output_type": "display_data"
    }
   ],
   "source": [
    "sns.countplot(user['employment_income_level'])"
   ]
  },
  {
   "cell_type": "code",
   "execution_count": 128,
   "id": "d9d0f95c",
   "metadata": {},
   "outputs": [
    {
     "data": {
      "text/plain": [
       "employment_type\n",
       "계약직    3.601986e+07\n",
       "기타     3.734001e+07\n",
       "일용직    4.315255e+07\n",
       "정규직    4.666084e+07\n",
       "Name: yearly_income, dtype: float64"
      ]
     },
     "execution_count": 128,
     "metadata": {},
     "output_type": "execute_result"
    }
   ],
   "source": [
    "user.groupby('employment_type')['yearly_income'].agg('mean')"
   ]
  },
  {
   "cell_type": "code",
   "execution_count": 125,
   "id": "4aede304",
   "metadata": {},
   "outputs": [
    {
     "data": {
      "text/html": [
       "<div>\n",
       "<style scoped>\n",
       "    .dataframe tbody tr th:only-of-type {\n",
       "        vertical-align: middle;\n",
       "    }\n",
       "\n",
       "    .dataframe tbody tr th {\n",
       "        vertical-align: top;\n",
       "    }\n",
       "\n",
       "    .dataframe thead th {\n",
       "        text-align: right;\n",
       "    }\n",
       "</style>\n",
       "<table border=\"1\" class=\"dataframe\">\n",
       "  <thead>\n",
       "    <tr style=\"text-align: right;\">\n",
       "      <th></th>\n",
       "      <th>employment_type</th>\n",
       "      <th>yearly_income</th>\n",
       "      <th>employment_income_level</th>\n",
       "    </tr>\n",
       "  </thead>\n",
       "  <tbody>\n",
       "    <tr>\n",
       "      <th>0</th>\n",
       "      <td>기타</td>\n",
       "      <td>108000000.0</td>\n",
       "      <td>평균 이상</td>\n",
       "    </tr>\n",
       "    <tr>\n",
       "      <th>1</th>\n",
       "      <td>정규직</td>\n",
       "      <td>30000000.0</td>\n",
       "      <td>평균 미만</td>\n",
       "    </tr>\n",
       "    <tr>\n",
       "      <th>2</th>\n",
       "      <td>기타</td>\n",
       "      <td>30000000.0</td>\n",
       "      <td>평균 미만</td>\n",
       "    </tr>\n",
       "    <tr>\n",
       "      <th>3</th>\n",
       "      <td>정규직</td>\n",
       "      <td>62000000.0</td>\n",
       "      <td>평균 이상</td>\n",
       "    </tr>\n",
       "    <tr>\n",
       "      <th>4</th>\n",
       "      <td>정규직</td>\n",
       "      <td>36000000.0</td>\n",
       "      <td>평균 미만</td>\n",
       "    </tr>\n",
       "    <tr>\n",
       "      <th>...</th>\n",
       "      <td>...</td>\n",
       "      <td>...</td>\n",
       "      <td>...</td>\n",
       "    </tr>\n",
       "    <tr>\n",
       "      <th>1394211</th>\n",
       "      <td>기타</td>\n",
       "      <td>25000000.0</td>\n",
       "      <td>평균 미만</td>\n",
       "    </tr>\n",
       "    <tr>\n",
       "      <th>1394212</th>\n",
       "      <td>기타</td>\n",
       "      <td>20000000.0</td>\n",
       "      <td>평균 미만</td>\n",
       "    </tr>\n",
       "    <tr>\n",
       "      <th>1394213</th>\n",
       "      <td>정규직</td>\n",
       "      <td>75000000.0</td>\n",
       "      <td>평균 이상</td>\n",
       "    </tr>\n",
       "    <tr>\n",
       "      <th>1394214</th>\n",
       "      <td>정규직</td>\n",
       "      <td>50000000.0</td>\n",
       "      <td>평균 이상</td>\n",
       "    </tr>\n",
       "    <tr>\n",
       "      <th>1394215</th>\n",
       "      <td>기타</td>\n",
       "      <td>35000000.0</td>\n",
       "      <td>평균 미만</td>\n",
       "    </tr>\n",
       "  </tbody>\n",
       "</table>\n",
       "<p>1394216 rows × 3 columns</p>\n",
       "</div>"
      ],
      "text/plain": [
       "        employment_type  yearly_income employment_income_level\n",
       "0                    기타    108000000.0                   평균 이상\n",
       "1                   정규직     30000000.0                   평균 미만\n",
       "2                    기타     30000000.0                   평균 미만\n",
       "3                   정규직     62000000.0                   평균 이상\n",
       "4                   정규직     36000000.0                   평균 미만\n",
       "...                 ...            ...                     ...\n",
       "1394211              기타     25000000.0                   평균 미만\n",
       "1394212              기타     20000000.0                   평균 미만\n",
       "1394213             정규직     75000000.0                   평균 이상\n",
       "1394214             정규직     50000000.0                   평균 이상\n",
       "1394215              기타     35000000.0                   평균 미만\n",
       "\n",
       "[1394216 rows x 3 columns]"
      ]
     },
     "execution_count": 125,
     "metadata": {},
     "output_type": "execute_result"
    }
   ],
   "source": [
    "user[['employment_type','yearly_income','employment_income_level']]"
   ]
  },
  {
   "cell_type": "code",
   "execution_count": 129,
   "id": "19f092bd",
   "metadata": {},
   "outputs": [
    {
     "data": {
      "text/plain": [
       "<AxesSubplot:xlabel='employment_income_level', ylabel='count'>"
      ]
     },
     "execution_count": 129,
     "metadata": {},
     "output_type": "execute_result"
    },
    {
     "data": {
      "image/png": "[encoded data removed]",
      "text/plain": [
       "<Figure size 432x288 with 1 Axes>"
      ]
     },
     "metadata": {
      "image/png": {
       "height": 276,
       "width": 385
      }
     },
     "output_type": "display_data"
    }
   ],
   "source": [
    "sns.countplot(user['employment_income_level'])"
   ]
  },
  {
   "cell_type": "code",
   "execution_count": 148,
   "id": "0a7f07ee",
   "metadata": {
    "scrolled": false
   },
   "outputs": [
    {
     "data": {
      "image/png": "[encoded data removed]",
      "text/plain": [
       "<Figure size 432x288 with 1 Axes>"
      ]
     },
     "metadata": {
      "image/png": {
       "height": 260,
       "width": 369
      }
     },
     "output_type": "display_data"
    }
   ],
   "source": [
    "# 평균으로 하면 평균 미만인 데이터가 너무 많아 중앙값으로 실행\n",
    "plt.boxplot(user['yearly_income'])\n",
    "plt.show()"
   ]
  },
  {
   "cell_type": "markdown",
   "id": "5150c8e1",
   "metadata": {},
   "source": [
    "연소득 대비 대출 희망금액 비율"
   ]
  },
  {
   "cell_type": "code",
   "execution_count": 149,
   "id": "76520f11",
   "metadata": {},
   "outputs": [],
   "source": [
    "user['income_desired_ratio'] = user['desired_amount'] / user['yearly_income']"
   ]
  },
  {
   "cell_type": "code",
   "execution_count": 150,
   "id": "72c345f9",
   "metadata": {},
   "outputs": [
    {
     "data": {
      "text/html": [
       "<div>\n",
       "<style scoped>\n",
       "    .dataframe tbody tr th:only-of-type {\n",
       "        vertical-align: middle;\n",
       "    }\n",
       "\n",
       "    .dataframe tbody tr th {\n",
       "        vertical-align: top;\n",
       "    }\n",
       "\n",
       "    .dataframe thead th {\n",
       "        text-align: right;\n",
       "    }\n",
       "</style>\n",
       "<table border=\"1\" class=\"dataframe\">\n",
       "  <thead>\n",
       "    <tr style=\"text-align: right;\">\n",
       "      <th></th>\n",
       "      <th>desired_amount</th>\n",
       "      <th>yearly_income</th>\n",
       "      <th>income_desired_ratio</th>\n",
       "    </tr>\n",
       "  </thead>\n",
       "  <tbody>\n",
       "    <tr>\n",
       "      <th>0</th>\n",
       "      <td>1000000.0</td>\n",
       "      <td>108000000.0</td>\n",
       "      <td>0.009259</td>\n",
       "    </tr>\n",
       "    <tr>\n",
       "      <th>1</th>\n",
       "      <td>30000000.0</td>\n",
       "      <td>30000000.0</td>\n",
       "      <td>1.000000</td>\n",
       "    </tr>\n",
       "    <tr>\n",
       "      <th>2</th>\n",
       "      <td>10000000.0</td>\n",
       "      <td>30000000.0</td>\n",
       "      <td>0.333333</td>\n",
       "    </tr>\n",
       "    <tr>\n",
       "      <th>3</th>\n",
       "      <td>2000000.0</td>\n",
       "      <td>62000000.0</td>\n",
       "      <td>0.032258</td>\n",
       "    </tr>\n",
       "    <tr>\n",
       "      <th>4</th>\n",
       "      <td>5000000.0</td>\n",
       "      <td>36000000.0</td>\n",
       "      <td>0.138889</td>\n",
       "    </tr>\n",
       "    <tr>\n",
       "      <th>...</th>\n",
       "      <td>...</td>\n",
       "      <td>...</td>\n",
       "      <td>...</td>\n",
       "    </tr>\n",
       "    <tr>\n",
       "      <th>1394211</th>\n",
       "      <td>5000000.0</td>\n",
       "      <td>25000000.0</td>\n",
       "      <td>0.200000</td>\n",
       "    </tr>\n",
       "    <tr>\n",
       "      <th>1394212</th>\n",
       "      <td>50000000.0</td>\n",
       "      <td>20000000.0</td>\n",
       "      <td>2.500000</td>\n",
       "    </tr>\n",
       "    <tr>\n",
       "      <th>1394213</th>\n",
       "      <td>100000000.0</td>\n",
       "      <td>75000000.0</td>\n",
       "      <td>1.333333</td>\n",
       "    </tr>\n",
       "    <tr>\n",
       "      <th>1394214</th>\n",
       "      <td>10000000.0</td>\n",
       "      <td>50000000.0</td>\n",
       "      <td>0.200000</td>\n",
       "    </tr>\n",
       "    <tr>\n",
       "      <th>1394215</th>\n",
       "      <td>20000000.0</td>\n",
       "      <td>35000000.0</td>\n",
       "      <td>0.571429</td>\n",
       "    </tr>\n",
       "  </tbody>\n",
       "</table>\n",
       "<p>1394216 rows × 3 columns</p>\n",
       "</div>"
      ],
      "text/plain": [
       "         desired_amount  yearly_income  income_desired_ratio\n",
       "0             1000000.0    108000000.0              0.009259\n",
       "1            30000000.0     30000000.0              1.000000\n",
       "2            10000000.0     30000000.0              0.333333\n",
       "3             2000000.0     62000000.0              0.032258\n",
       "4             5000000.0     36000000.0              0.138889\n",
       "...                 ...            ...                   ...\n",
       "1394211       5000000.0     25000000.0              0.200000\n",
       "1394212      50000000.0     20000000.0              2.500000\n",
       "1394213     100000000.0     75000000.0              1.333333\n",
       "1394214      10000000.0     50000000.0              0.200000\n",
       "1394215      20000000.0     35000000.0              0.571429\n",
       "\n",
       "[1394216 rows x 3 columns]"
      ]
     },
     "execution_count": 150,
     "metadata": {},
     "output_type": "execute_result"
    }
   ],
   "source": [
    "user[['desired_amount','yearly_income','income_desired_ratio']]"
   ]
  },
  {
   "cell_type": "markdown",
   "id": "eba8764b",
   "metadata": {},
   "source": [
    "연소득 대비 기대출 금액 비율"
   ]
  },
  {
   "cell_type": "code",
   "execution_count": 152,
   "id": "9261e20b",
   "metadata": {},
   "outputs": [],
   "source": [
    "user['income_existing_ratio'] = user['existing_loan_amt'] / user['yearly_income']"
   ]
  },
  {
   "cell_type": "code",
   "execution_count": 153,
   "id": "e6581568",
   "metadata": {},
   "outputs": [
    {
     "data": {
      "text/html": [
       "<div>\n",
       "<style scoped>\n",
       "    .dataframe tbody tr th:only-of-type {\n",
       "        vertical-align: middle;\n",
       "    }\n",
       "\n",
       "    .dataframe tbody tr th {\n",
       "        vertical-align: top;\n",
       "    }\n",
       "\n",
       "    .dataframe thead th {\n",
       "        text-align: right;\n",
       "    }\n",
       "</style>\n",
       "<table border=\"1\" class=\"dataframe\">\n",
       "  <thead>\n",
       "    <tr style=\"text-align: right;\">\n",
       "      <th></th>\n",
       "      <th>existing_loan_amt</th>\n",
       "      <th>yearly_income</th>\n",
       "      <th>income_existing_ratio</th>\n",
       "    </tr>\n",
       "  </thead>\n",
       "  <tbody>\n",
       "    <tr>\n",
       "      <th>0</th>\n",
       "      <td>162000000.0</td>\n",
       "      <td>108000000.0</td>\n",
       "      <td>1.500000</td>\n",
       "    </tr>\n",
       "    <tr>\n",
       "      <th>1</th>\n",
       "      <td>27000000.0</td>\n",
       "      <td>30000000.0</td>\n",
       "      <td>0.900000</td>\n",
       "    </tr>\n",
       "    <tr>\n",
       "      <th>2</th>\n",
       "      <td>15000000.0</td>\n",
       "      <td>30000000.0</td>\n",
       "      <td>0.500000</td>\n",
       "    </tr>\n",
       "    <tr>\n",
       "      <th>3</th>\n",
       "      <td>344000000.0</td>\n",
       "      <td>62000000.0</td>\n",
       "      <td>5.548387</td>\n",
       "    </tr>\n",
       "    <tr>\n",
       "      <th>4</th>\n",
       "      <td>16000000.0</td>\n",
       "      <td>36000000.0</td>\n",
       "      <td>0.444444</td>\n",
       "    </tr>\n",
       "    <tr>\n",
       "      <th>...</th>\n",
       "      <td>...</td>\n",
       "      <td>...</td>\n",
       "      <td>...</td>\n",
       "    </tr>\n",
       "    <tr>\n",
       "      <th>1394211</th>\n",
       "      <td>0.0</td>\n",
       "      <td>25000000.0</td>\n",
       "      <td>0.000000</td>\n",
       "    </tr>\n",
       "    <tr>\n",
       "      <th>1394212</th>\n",
       "      <td>0.0</td>\n",
       "      <td>20000000.0</td>\n",
       "      <td>0.000000</td>\n",
       "    </tr>\n",
       "    <tr>\n",
       "      <th>1394213</th>\n",
       "      <td>200000000.0</td>\n",
       "      <td>75000000.0</td>\n",
       "      <td>2.666667</td>\n",
       "    </tr>\n",
       "    <tr>\n",
       "      <th>1394214</th>\n",
       "      <td>117000000.0</td>\n",
       "      <td>50000000.0</td>\n",
       "      <td>2.340000</td>\n",
       "    </tr>\n",
       "    <tr>\n",
       "      <th>1394215</th>\n",
       "      <td>0.0</td>\n",
       "      <td>35000000.0</td>\n",
       "      <td>0.000000</td>\n",
       "    </tr>\n",
       "  </tbody>\n",
       "</table>\n",
       "<p>1394216 rows × 3 columns</p>\n",
       "</div>"
      ],
      "text/plain": [
       "         existing_loan_amt  yearly_income  income_existing_ratio\n",
       "0              162000000.0    108000000.0               1.500000\n",
       "1               27000000.0     30000000.0               0.900000\n",
       "2               15000000.0     30000000.0               0.500000\n",
       "3              344000000.0     62000000.0               5.548387\n",
       "4               16000000.0     36000000.0               0.444444\n",
       "...                    ...            ...                    ...\n",
       "1394211                0.0     25000000.0               0.000000\n",
       "1394212                0.0     20000000.0               0.000000\n",
       "1394213        200000000.0     75000000.0               2.666667\n",
       "1394214        117000000.0     50000000.0               2.340000\n",
       "1394215                0.0     35000000.0               0.000000\n",
       "\n",
       "[1394216 rows x 3 columns]"
      ]
     },
     "execution_count": 153,
     "metadata": {},
     "output_type": "execute_result"
    }
   ],
   "source": [
    "user[['existing_loan_amt','yearly_income','income_existing_ratio']]"
   ]
  },
  {
   "cell_type": "code",
   "execution_count": null,
   "id": "1e479c86",
   "metadata": {},
   "outputs": [],
   "source": []
  },
  {
   "cell_type": "code",
   "execution_count": null,
   "id": "a983bad7",
   "metadata": {},
   "outputs": [],
   "source": []
  },
  {
   "cell_type": "code",
   "execution_count": null,
   "id": "8c11a784",
   "metadata": {},
   "outputs": [],
   "source": []
  },
  {
   "cell_type": "code",
   "execution_count": 28,
   "id": "5e08b5e8",
   "metadata": {},
   "outputs": [
    {
     "data": {
      "text/html": [
       "<div>\n",
       "<style scoped>\n",
       "    .dataframe tbody tr th:only-of-type {\n",
       "        vertical-align: middle;\n",
       "    }\n",
       "\n",
       "    .dataframe tbody tr th {\n",
       "        vertical-align: top;\n",
       "    }\n",
       "\n",
       "    .dataframe thead th {\n",
       "        text-align: right;\n",
       "    }\n",
       "</style>\n",
       "<table border=\"1\" class=\"dataframe\">\n",
       "  <thead>\n",
       "    <tr style=\"text-align: right;\">\n",
       "      <th></th>\n",
       "      <th>application_id</th>\n",
       "      <th>user_id</th>\n",
       "      <th>birth_year</th>\n",
       "      <th>gender</th>\n",
       "      <th>insert_time</th>\n",
       "      <th>credit_score</th>\n",
       "      <th>yearly_income</th>\n",
       "      <th>income_type</th>\n",
       "      <th>company_enter_month</th>\n",
       "      <th>employment_type</th>\n",
       "      <th>houseown_type</th>\n",
       "      <th>desired_amount</th>\n",
       "      <th>purpose</th>\n",
       "      <th>personal_rehabilitation_yn</th>\n",
       "      <th>personal_rehabilitation_complete_yn</th>\n",
       "      <th>existing_loan_cnt</th>\n",
       "      <th>existing_loan_amt</th>\n",
       "      <th>avg_existing_loan_amt</th>\n",
       "      <th>application_count</th>\n",
       "    </tr>\n",
       "  </thead>\n",
       "  <tbody>\n",
       "    <tr>\n",
       "      <th>0</th>\n",
       "      <td>1249046</td>\n",
       "      <td>118218</td>\n",
       "      <td>1985.0</td>\n",
       "      <td>1.0</td>\n",
       "      <td>2022-06-07 06:28:18</td>\n",
       "      <td>660.0</td>\n",
       "      <td>108000000.0</td>\n",
       "      <td>PRIVATEBUSINESS</td>\n",
       "      <td>20151101.0</td>\n",
       "      <td>기타</td>\n",
       "      <td>자가</td>\n",
       "      <td>1000000.0</td>\n",
       "      <td>기타</td>\n",
       "      <td>0</td>\n",
       "      <td>2.0</td>\n",
       "      <td>4.0</td>\n",
       "      <td>162000000.0</td>\n",
       "      <td>4.050000e+07</td>\n",
       "      <td>15</td>\n",
       "    </tr>\n",
       "    <tr>\n",
       "      <th>1</th>\n",
       "      <td>954900</td>\n",
       "      <td>553686</td>\n",
       "      <td>1968.0</td>\n",
       "      <td>1.0</td>\n",
       "      <td>2022-06-07 14:29:03</td>\n",
       "      <td>870.0</td>\n",
       "      <td>30000000.0</td>\n",
       "      <td>PRIVATEBUSINESS</td>\n",
       "      <td>20070201.0</td>\n",
       "      <td>정규직</td>\n",
       "      <td>기타가족소유</td>\n",
       "      <td>30000000.0</td>\n",
       "      <td>대환대출</td>\n",
       "      <td>0</td>\n",
       "      <td>2.0</td>\n",
       "      <td>1.0</td>\n",
       "      <td>27000000.0</td>\n",
       "      <td>2.700000e+07</td>\n",
       "      <td>4</td>\n",
       "    </tr>\n",
       "    <tr>\n",
       "      <th>2</th>\n",
       "      <td>137274</td>\n",
       "      <td>59516</td>\n",
       "      <td>1997.0</td>\n",
       "      <td>1.0</td>\n",
       "      <td>2022-06-07 21:40:22</td>\n",
       "      <td>710.0</td>\n",
       "      <td>30000000.0</td>\n",
       "      <td>FREELANCER</td>\n",
       "      <td>20210901.0</td>\n",
       "      <td>기타</td>\n",
       "      <td>기타가족소유</td>\n",
       "      <td>10000000.0</td>\n",
       "      <td>생활비</td>\n",
       "      <td>0</td>\n",
       "      <td>2.0</td>\n",
       "      <td>5.0</td>\n",
       "      <td>15000000.0</td>\n",
       "      <td>3.000000e+06</td>\n",
       "      <td>2</td>\n",
       "    </tr>\n",
       "    <tr>\n",
       "      <th>3</th>\n",
       "      <td>1570936</td>\n",
       "      <td>167320</td>\n",
       "      <td>1989.0</td>\n",
       "      <td>1.0</td>\n",
       "      <td>2022-06-07 09:40:27</td>\n",
       "      <td>820.0</td>\n",
       "      <td>62000000.0</td>\n",
       "      <td>EARNEDINCOME</td>\n",
       "      <td>20170101.0</td>\n",
       "      <td>정규직</td>\n",
       "      <td>자가</td>\n",
       "      <td>2000000.0</td>\n",
       "      <td>생활비</td>\n",
       "      <td>0</td>\n",
       "      <td>2.0</td>\n",
       "      <td>7.0</td>\n",
       "      <td>344000000.0</td>\n",
       "      <td>4.914286e+07</td>\n",
       "      <td>7</td>\n",
       "    </tr>\n",
       "    <tr>\n",
       "      <th>4</th>\n",
       "      <td>967833</td>\n",
       "      <td>33400</td>\n",
       "      <td>2000.0</td>\n",
       "      <td>1.0</td>\n",
       "      <td>2022-06-07 08:55:07</td>\n",
       "      <td>630.0</td>\n",
       "      <td>36000000.0</td>\n",
       "      <td>EARNEDINCOME</td>\n",
       "      <td>20210901.0</td>\n",
       "      <td>정규직</td>\n",
       "      <td>기타가족소유</td>\n",
       "      <td>5000000.0</td>\n",
       "      <td>생활비</td>\n",
       "      <td>1</td>\n",
       "      <td>0.0</td>\n",
       "      <td>1.0</td>\n",
       "      <td>16000000.0</td>\n",
       "      <td>1.600000e+07</td>\n",
       "      <td>10</td>\n",
       "    </tr>\n",
       "  </tbody>\n",
       "</table>\n",
       "</div>"
      ],
      "text/plain": [
       "   application_id  user_id birth_year gender          insert_time  \\\n",
       "0         1249046   118218     1985.0    1.0  2022-06-07 06:28:18   \n",
       "1          954900   553686     1968.0    1.0  2022-06-07 14:29:03   \n",
       "2          137274    59516     1997.0    1.0  2022-06-07 21:40:22   \n",
       "3         1570936   167320     1989.0    1.0  2022-06-07 09:40:27   \n",
       "4          967833    33400     2000.0    1.0  2022-06-07 08:55:07   \n",
       "\n",
       "   credit_score  yearly_income      income_type company_enter_month  \\\n",
       "0         660.0    108000000.0  PRIVATEBUSINESS          20151101.0   \n",
       "1         870.0     30000000.0  PRIVATEBUSINESS          20070201.0   \n",
       "2         710.0     30000000.0       FREELANCER          20210901.0   \n",
       "3         820.0     62000000.0     EARNEDINCOME          20170101.0   \n",
       "4         630.0     36000000.0     EARNEDINCOME          20210901.0   \n",
       "\n",
       "  employment_type houseown_type  desired_amount purpose  \\\n",
       "0              기타            자가       1000000.0      기타   \n",
       "1             정규직        기타가족소유      30000000.0    대환대출   \n",
       "2              기타        기타가족소유      10000000.0     생활비   \n",
       "3             정규직            자가       2000000.0     생활비   \n",
       "4             정규직        기타가족소유       5000000.0     생활비   \n",
       "\n",
       "   personal_rehabilitation_yn  personal_rehabilitation_complete_yn  \\\n",
       "0                           0                                  2.0   \n",
       "1                           0                                  2.0   \n",
       "2                           0                                  2.0   \n",
       "3                           0                                  2.0   \n",
       "4                           1                                  0.0   \n",
       "\n",
       "   existing_loan_cnt  existing_loan_amt  avg_existing_loan_amt  \\\n",
       "0                4.0        162000000.0           4.050000e+07   \n",
       "1                1.0         27000000.0           2.700000e+07   \n",
       "2                5.0         15000000.0           3.000000e+06   \n",
       "3                7.0        344000000.0           4.914286e+07   \n",
       "4                1.0         16000000.0           1.600000e+07   \n",
       "\n",
       "   application_count  \n",
       "0                 15  \n",
       "1                  4  \n",
       "2                  2  \n",
       "3                  7  \n",
       "4                 10  "
      ]
     },
     "execution_count": 28,
     "metadata": {},
     "output_type": "execute_result"
    }
   ],
   "source": [
    "user.head()"
   ]
  },
  {
   "cell_type": "code",
   "execution_count": 17,
   "id": "0e93fe4a",
   "metadata": {},
   "outputs": [
    {
     "name": "stdout",
     "output_type": "stream",
     "text": [
      "<class 'pandas.core.frame.DataFrame'>\n",
      "RangeIndex: 1394216 entries, 0 to 1394215\n",
      "Data columns (total 17 columns):\n",
      " #   Column                               Non-Null Count    Dtype  \n",
      "---  ------                               --------------    -----  \n",
      " 0   application_id                       1394216 non-null  int64  \n",
      " 1   user_id                              1394216 non-null  int64  \n",
      " 2   birth_year                           1394216 non-null  object \n",
      " 3   gender                               1394216 non-null  object \n",
      " 4   insert_time                          1394216 non-null  object \n",
      " 5   credit_score                         1394216 non-null  float64\n",
      " 6   yearly_income                        1394216 non-null  float64\n",
      " 7   income_type                          1394216 non-null  object \n",
      " 8   company_enter_month                  1394216 non-null  object \n",
      " 9   employment_type                      1394216 non-null  object \n",
      " 10  houseown_type                        1394216 non-null  object \n",
      " 11  desired_amount                       1394216 non-null  float64\n",
      " 12  purpose                              1394216 non-null  object \n",
      " 13  personal_rehabilitation_yn           1394216 non-null  int64  \n",
      " 14  personal_rehabilitation_complete_yn  1394216 non-null  float64\n",
      " 15  existing_loan_cnt                    1394216 non-null  float64\n",
      " 16  existing_loan_amt                    1394216 non-null  float64\n",
      "dtypes: float64(6), int64(3), object(8)\n",
      "memory usage: 180.8+ MB\n"
     ]
    }
   ],
   "source": [
    "user.info()"
   ]
  },
  {
   "cell_type": "code",
   "execution_count": 17,
   "id": "513d0214",
   "metadata": {},
   "outputs": [],
   "source": [
    "user2 = user.copy()"
   ]
  },
  {
   "cell_type": "code",
   "execution_count": null,
   "id": "b2c02617",
   "metadata": {},
   "outputs": [],
   "source": []
  },
  {
   "cell_type": "code",
   "execution_count": null,
   "id": "085a395a",
   "metadata": {},
   "outputs": [],
   "source": []
  },
  {
   "cell_type": "code",
   "execution_count": null,
   "id": "400b3eb8",
   "metadata": {},
   "outputs": [],
   "source": []
  },
  {
   "cell_type": "code",
   "execution_count": null,
   "id": "6b57b842",
   "metadata": {},
   "outputs": [],
   "source": []
  },
  {
   "cell_type": "code",
   "execution_count": null,
   "id": "8a647d9a",
   "metadata": {},
   "outputs": [],
   "source": []
  },
  {
   "cell_type": "code",
   "execution_count": null,
   "id": "a9b21fcb",
   "metadata": {},
   "outputs": [],
   "source": []
  },
  {
   "cell_type": "code",
   "execution_count": null,
   "id": "384dc3b3",
   "metadata": {},
   "outputs": [],
   "source": []
  },
  {
   "cell_type": "code",
   "execution_count": null,
   "id": "d6a0893d",
   "metadata": {},
   "outputs": [],
   "source": []
  },
  {
   "cell_type": "code",
   "execution_count": null,
   "id": "59307919",
   "metadata": {},
   "outputs": [],
   "source": []
  },
  {
   "cell_type": "code",
   "execution_count": null,
   "id": "7a093a6e",
   "metadata": {},
   "outputs": [],
   "source": []
  },
  {
   "cell_type": "markdown",
   "id": "b30f0858",
   "metadata": {},
   "source": [
    "## loan 변수 생성"
   ]
  },
  {
   "cell_type": "code",
   "execution_count": 90,
   "id": "c5264ba4",
   "metadata": {
    "scrolled": false
   },
   "outputs": [
    {
     "data": {
      "text/html": [
       "<div>\n",
       "<style scoped>\n",
       "    .dataframe tbody tr th:only-of-type {\n",
       "        vertical-align: middle;\n",
       "    }\n",
       "\n",
       "    .dataframe tbody tr th {\n",
       "        vertical-align: top;\n",
       "    }\n",
       "\n",
       "    .dataframe thead th {\n",
       "        text-align: right;\n",
       "    }\n",
       "</style>\n",
       "<table border=\"1\" class=\"dataframe\">\n",
       "  <thead>\n",
       "    <tr style=\"text-align: right;\">\n",
       "      <th></th>\n",
       "      <th>application_id</th>\n",
       "      <th>loanapply_insert_time</th>\n",
       "      <th>bank_id</th>\n",
       "      <th>product_id</th>\n",
       "      <th>loan_limit</th>\n",
       "      <th>loan_rate</th>\n",
       "      <th>is_applied</th>\n",
       "      <th>month</th>\n",
       "    </tr>\n",
       "  </thead>\n",
       "  <tbody>\n",
       "    <tr>\n",
       "      <th>0</th>\n",
       "      <td>1748340</td>\n",
       "      <td>2022-06-07 13:05:41</td>\n",
       "      <td>7</td>\n",
       "      <td>191</td>\n",
       "      <td>42000000.0</td>\n",
       "      <td>13.6</td>\n",
       "      <td>NaN</td>\n",
       "      <td>6</td>\n",
       "    </tr>\n",
       "    <tr>\n",
       "      <th>1</th>\n",
       "      <td>1748340</td>\n",
       "      <td>2022-06-07 13:05:41</td>\n",
       "      <td>25</td>\n",
       "      <td>169</td>\n",
       "      <td>24000000.0</td>\n",
       "      <td>17.9</td>\n",
       "      <td>NaN</td>\n",
       "      <td>6</td>\n",
       "    </tr>\n",
       "    <tr>\n",
       "      <th>2</th>\n",
       "      <td>1748340</td>\n",
       "      <td>2022-06-07 13:05:41</td>\n",
       "      <td>2</td>\n",
       "      <td>7</td>\n",
       "      <td>24000000.0</td>\n",
       "      <td>18.5</td>\n",
       "      <td>NaN</td>\n",
       "      <td>6</td>\n",
       "    </tr>\n",
       "    <tr>\n",
       "      <th>3</th>\n",
       "      <td>1748340</td>\n",
       "      <td>2022-06-07 13:05:41</td>\n",
       "      <td>4</td>\n",
       "      <td>268</td>\n",
       "      <td>29000000.0</td>\n",
       "      <td>10.8</td>\n",
       "      <td>NaN</td>\n",
       "      <td>6</td>\n",
       "    </tr>\n",
       "    <tr>\n",
       "      <th>4</th>\n",
       "      <td>1748340</td>\n",
       "      <td>2022-06-07 13:05:41</td>\n",
       "      <td>11</td>\n",
       "      <td>118</td>\n",
       "      <td>5000000.0</td>\n",
       "      <td>16.4</td>\n",
       "      <td>NaN</td>\n",
       "      <td>6</td>\n",
       "    </tr>\n",
       "  </tbody>\n",
       "</table>\n",
       "</div>"
      ],
      "text/plain": [
       "   application_id loanapply_insert_time  bank_id  product_id  loan_limit  \\\n",
       "0         1748340   2022-06-07 13:05:41        7         191  42000000.0   \n",
       "1         1748340   2022-06-07 13:05:41       25         169  24000000.0   \n",
       "2         1748340   2022-06-07 13:05:41        2           7  24000000.0   \n",
       "3         1748340   2022-06-07 13:05:41        4         268  29000000.0   \n",
       "4         1748340   2022-06-07 13:05:41       11         118   5000000.0   \n",
       "\n",
       "   loan_rate  is_applied  month  \n",
       "0       13.6         NaN      6  \n",
       "1       17.9         NaN      6  \n",
       "2       18.5         NaN      6  \n",
       "3       10.8         NaN      6  \n",
       "4       16.4         NaN      6  "
      ]
     },
     "execution_count": 90,
     "metadata": {},
     "output_type": "execute_result"
    }
   ],
   "source": [
    "loan.head()"
   ]
  },
  {
   "cell_type": "code",
   "execution_count": 91,
   "id": "96eea8f6",
   "metadata": {},
   "outputs": [
    {
     "name": "stdout",
     "output_type": "stream",
     "text": [
      "<class 'pandas.core.frame.DataFrame'>\n",
      "RangeIndex: 13527337 entries, 0 to 13527336\n",
      "Data columns (total 8 columns):\n",
      " #   Column                 Dtype  \n",
      "---  ------                 -----  \n",
      " 0   application_id         int64  \n",
      " 1   loanapply_insert_time  object \n",
      " 2   bank_id                int64  \n",
      " 3   product_id             int64  \n",
      " 4   loan_limit             float64\n",
      " 5   loan_rate              float64\n",
      " 6   is_applied             float64\n",
      " 7   month                  int64  \n",
      "dtypes: float64(3), int64(4), object(1)\n",
      "memory usage: 825.6+ MB\n"
     ]
    }
   ],
   "source": [
    "loan.info()"
   ]
  },
  {
   "cell_type": "markdown",
   "id": "3e594eaf",
   "metadata": {},
   "source": [
    "loanapply_insert_time 날짜 변경"
   ]
  },
  {
   "cell_type": "code",
   "execution_count": 92,
   "id": "46200143",
   "metadata": {},
   "outputs": [],
   "source": [
    "loan['loanapply_insert_time'] = pd.to_datetime(loan['loanapply_insert_time'])"
   ]
  },
  {
   "cell_type": "code",
   "execution_count": 98,
   "id": "ea24d9c0",
   "metadata": {},
   "outputs": [
    {
     "data": {
      "text/plain": [
       "array(['2022-06-07T13:05:41.000000000'], dtype='datetime64[ns]')"
      ]
     },
     "execution_count": 98,
     "metadata": {},
     "output_type": "execute_result"
    }
   ],
   "source": [
    "loan['loanapply_insert_time'][:4].unique()"
   ]
  },
  {
   "cell_type": "code",
   "execution_count": 99,
   "id": "a8ec356a",
   "metadata": {},
   "outputs": [
    {
     "data": {
      "text/plain": [
       "0          2022-06-07 13:05:41\n",
       "1          2022-06-07 13:05:41\n",
       "2          2022-06-07 13:05:41\n",
       "3          2022-06-07 13:05:41\n",
       "4          2022-06-07 13:05:41\n",
       "                   ...        \n",
       "13527332   2022-06-03 12:01:58\n",
       "13527333   2022-06-03 12:01:49\n",
       "13527334   2022-06-03 12:01:48\n",
       "13527335   2022-06-03 12:01:48\n",
       "13527336   2022-06-03 12:01:48\n",
       "Name: loanapply_insert_time, Length: 13527337, dtype: datetime64[ns]"
      ]
     },
     "execution_count": 99,
     "metadata": {},
     "output_type": "execute_result"
    }
   ],
   "source": [
    "loan['loanapply_insert_time']"
   ]
  },
  {
   "cell_type": "code",
   "execution_count": null,
   "id": "e3ebfd8a",
   "metadata": {},
   "outputs": [],
   "source": []
  },
  {
   "cell_type": "code",
   "execution_count": null,
   "id": "4863f697",
   "metadata": {},
   "outputs": [],
   "source": []
  },
  {
   "cell_type": "code",
   "execution_count": null,
   "id": "d6fc3142",
   "metadata": {},
   "outputs": [],
   "source": []
  },
  {
   "cell_type": "code",
   "execution_count": null,
   "id": "036351f9",
   "metadata": {},
   "outputs": [],
   "source": []
  },
  {
   "cell_type": "code",
   "execution_count": null,
   "id": "63f15b5e",
   "metadata": {},
   "outputs": [],
   "source": []
  },
  {
   "cell_type": "code",
   "execution_count": null,
   "id": "278298c4",
   "metadata": {},
   "outputs": [],
   "source": []
  },
  {
   "cell_type": "code",
   "execution_count": null,
   "id": "e21c85f4",
   "metadata": {},
   "outputs": [],
   "source": [
    "'''\n",
    "# user\n",
    "연소득/신용점수\n",
    "기대출금액/연소득\n",
    "'''\n",
    "\n",
    "'''\n",
    "타깃 불균형이 심하다보니 이걸 해결할 수 있는 방법\n",
    "회귀 문제에는 우선 user_spec, loan_result 데이터를 사용해보고 \n",
    "군집화문제에 log_data를 추가적으로 사용하는 방법\n",
    "\n",
    "credit_score'가 극단적으로 낮은 경우가 몇 개 있음\n",
    "핀다 사용자 10명 중 6명은 중금리대출\n",
    "인터넷 은행이 채우지 못한 중금리대출의 니즈를 채워줌\n",
    "'''"
   ]
  },
  {
   "cell_type": "code",
   "execution_count": null,
   "id": "dcfd1f33",
   "metadata": {},
   "outputs": [],
   "source": []
  },
  {
   "cell_type": "code",
   "execution_count": null,
   "id": "966d01bc",
   "metadata": {},
   "outputs": [],
   "source": []
  },
  {
   "cell_type": "code",
   "execution_count": null,
   "id": "ba7c20e1",
   "metadata": {},
   "outputs": [],
   "source": []
  },
  {
   "cell_type": "code",
   "execution_count": null,
   "id": "7f27bc9a",
   "metadata": {},
   "outputs": [],
   "source": []
  },
  {
   "cell_type": "code",
   "execution_count": null,
   "id": "ed61df3e",
   "metadata": {},
   "outputs": [],
   "source": []
  },
  {
   "cell_type": "code",
   "execution_count": null,
   "id": "a0b66b5f",
   "metadata": {},
   "outputs": [],
   "source": [
    "user.to_csv('feature_user.csv')"
   ]
  },
  {
   "cell_type": "code",
   "execution_count": null,
   "id": "b228ff48",
   "metadata": {},
   "outputs": [],
   "source": [
    "loan.to_csv('feature_loan.csv')"
   ]
  },
  {
   "cell_type": "code",
   "execution_count": 218,
   "id": "19cf485f",
   "metadata": {},
   "outputs": [],
   "source": [
    "# 데이터 병합\n",
    "data = pd.merge(loan, user, on = \"application_id\").reset_index(drop = True)\n",
    "data.to_csv(\"../data/data.csv\")"
   ]
  }
 ],
 "metadata": {
  "kernelspec": {
   "display_name": "Python 3 (ipykernel)",
   "language": "python",
   "name": "python3"
  },
  "language_info": {
   "codemirror_mode": {
    "name": "ipython",
    "version": 3
   },
   "file_extension": ".py",
   "mimetype": "text/x-python",
   "name": "python",
   "nbconvert_exporter": "python",
   "pygments_lexer": "ipython3",
   "version": "3.8.13"
  }
 },
 "nbformat": 4,
 "nbformat_minor": 5
}
