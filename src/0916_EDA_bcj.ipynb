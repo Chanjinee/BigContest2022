{
 "cells": [
  {
   "cell_type": "markdown",
   "id": "154cebcd",
   "metadata": {},
   "source": [
    "## Module import"
   ]
  },
  {
   "cell_type": "code",
   "execution_count": 1,
   "id": "00164289",
   "metadata": {},
   "outputs": [
    {
     "name": "stdout",
     "output_type": "stream",
     "text": [
      "Pandas : 1.4.3\n",
      "seaborn : 0.11.2\n",
      "matplotlib : 3.5.1\n",
      "Python 3.8.8\n"
     ]
    }
   ],
   "source": [
    "# 기본 패키지\n",
    "import pandas as pd\n",
    "\n",
    "# 시각화 패키지\n",
    "import matplotlib\n",
    "import matplotlib.pyplot as plt\n",
    "import seaborn as sns\n",
    "plt.rc('font', family='NanumBarunGothic') \n",
    "plt.style.use(['ggplot'])\n",
    "\n",
    "# 한글 시각화시 필요 모듈\n",
    "import platform # 사용자 운영체제 확인\n",
    "platform.system()\n",
    "## 운영체제별 한글 폰트 설정\n",
    "if platform.system() == 'Darwin': # Mac 환경 폰트 설정\n",
    "    plt.rc('font', family='AppleGothic')\n",
    "elif platform.system() == 'Windows': # Windows 환경 폰트 설정\n",
    "    plt.rc('font', family='Malgun Gothic')\n",
    "\n",
    "plt.rc('axes', unicode_minus=False) # 마이너스 폰트 설정\n",
    "## 글씨 선명하게 출력하는 설정\n",
    "%config InlineBackend.figure_format = 'retina'\n",
    "\n",
    "\n",
    "# 경고 메시지 무시\n",
    "import warnings\n",
    "warnings.filterwarnings(action='ignore') \n",
    "\n",
    "\n",
    "# 버전 확인\n",
    "print('Pandas : %s'%(pd.__version__))\n",
    "print('seaborn : %s'%(sns.__version__))\n",
    "print('matplotlib : %s'%(matplotlib.__version__))\n",
    "!python --version"
   ]
  },
  {
   "cell_type": "markdown",
   "id": "abb28232",
   "metadata": {},
   "source": [
    "## Load Data"
   ]
  },
  {
   "cell_type": "code",
   "execution_count": 2,
   "id": "90d48bc3",
   "metadata": {},
   "outputs": [],
   "source": [
    "loan = pd.read_csv('../data/loan_result.csv')\n",
    "log = pd.read_csv('../data/log_data.csv')\n",
    "user = pd.read_csv('../data/user_spec.csv')"
   ]
  },
  {
   "cell_type": "markdown",
   "id": "6bc52c6a",
   "metadata": {},
   "source": [
    "## 데이터 병합"
   ]
  },
  {
   "cell_type": "code",
   "execution_count": 3,
   "id": "ccc66098",
   "metadata": {},
   "outputs": [],
   "source": [
    "# train에 신청서 id가 있으나 user에 없는 데이터 지우고 진행\n",
    "df = pd.merge(loan, user, on='application_id')"
   ]
  },
  {
   "cell_type": "code",
   "execution_count": 4,
   "id": "e213cd4e",
   "metadata": {},
   "outputs": [],
   "source": [
    "df.to_csv('../data/data.csv', index = False)"
   ]
  },
  {
   "cell_type": "code",
   "execution_count": 5,
   "id": "9e284f5f",
   "metadata": {},
   "outputs": [],
   "source": [
    "data = pd.read_csv('../data/data.csv')"
   ]
  },
  {
   "cell_type": "code",
   "execution_count": 6,
   "id": "113d5d2b",
   "metadata": {},
   "outputs": [
    {
     "data": {
      "text/html": [
       "<div>\n",
       "<style scoped>\n",
       "    .dataframe tbody tr th:only-of-type {\n",
       "        vertical-align: middle;\n",
       "    }\n",
       "\n",
       "    .dataframe tbody tr th {\n",
       "        vertical-align: top;\n",
       "    }\n",
       "\n",
       "    .dataframe thead th {\n",
       "        text-align: right;\n",
       "    }\n",
       "</style>\n",
       "<table border=\"1\" class=\"dataframe\">\n",
       "  <thead>\n",
       "    <tr style=\"text-align: right;\">\n",
       "      <th></th>\n",
       "      <th>application_id</th>\n",
       "      <th>loanapply_insert_time</th>\n",
       "      <th>bank_id</th>\n",
       "      <th>product_id</th>\n",
       "      <th>loan_limit</th>\n",
       "      <th>loan_rate</th>\n",
       "      <th>is_applied</th>\n",
       "      <th>user_id</th>\n",
       "      <th>birth_year</th>\n",
       "      <th>gender</th>\n",
       "      <th>...</th>\n",
       "      <th>income_type</th>\n",
       "      <th>company_enter_month</th>\n",
       "      <th>employment_type</th>\n",
       "      <th>houseown_type</th>\n",
       "      <th>desired_amount</th>\n",
       "      <th>purpose</th>\n",
       "      <th>personal_rehabilitation_yn</th>\n",
       "      <th>personal_rehabilitation_complete_yn</th>\n",
       "      <th>existing_loan_cnt</th>\n",
       "      <th>existing_loan_amt</th>\n",
       "    </tr>\n",
       "  </thead>\n",
       "  <tbody>\n",
       "    <tr>\n",
       "      <th>0</th>\n",
       "      <td>1748340</td>\n",
       "      <td>2022-06-07 13:05:41</td>\n",
       "      <td>7</td>\n",
       "      <td>191</td>\n",
       "      <td>42000000.0</td>\n",
       "      <td>13.6</td>\n",
       "      <td>NaN</td>\n",
       "      <td>430982</td>\n",
       "      <td>1996.0</td>\n",
       "      <td>1.0</td>\n",
       "      <td>...</td>\n",
       "      <td>EARNEDINCOME</td>\n",
       "      <td>20220201.0</td>\n",
       "      <td>정규직</td>\n",
       "      <td>자가</td>\n",
       "      <td>25000000.0</td>\n",
       "      <td>대환대출</td>\n",
       "      <td>0.0</td>\n",
       "      <td>0.0</td>\n",
       "      <td>2.0</td>\n",
       "      <td>15000000.0</td>\n",
       "    </tr>\n",
       "    <tr>\n",
       "      <th>1</th>\n",
       "      <td>1748340</td>\n",
       "      <td>2022-06-07 13:05:41</td>\n",
       "      <td>25</td>\n",
       "      <td>169</td>\n",
       "      <td>24000000.0</td>\n",
       "      <td>17.9</td>\n",
       "      <td>NaN</td>\n",
       "      <td>430982</td>\n",
       "      <td>1996.0</td>\n",
       "      <td>1.0</td>\n",
       "      <td>...</td>\n",
       "      <td>EARNEDINCOME</td>\n",
       "      <td>20220201.0</td>\n",
       "      <td>정규직</td>\n",
       "      <td>자가</td>\n",
       "      <td>25000000.0</td>\n",
       "      <td>대환대출</td>\n",
       "      <td>0.0</td>\n",
       "      <td>0.0</td>\n",
       "      <td>2.0</td>\n",
       "      <td>15000000.0</td>\n",
       "    </tr>\n",
       "    <tr>\n",
       "      <th>2</th>\n",
       "      <td>1748340</td>\n",
       "      <td>2022-06-07 13:05:41</td>\n",
       "      <td>2</td>\n",
       "      <td>7</td>\n",
       "      <td>24000000.0</td>\n",
       "      <td>18.5</td>\n",
       "      <td>NaN</td>\n",
       "      <td>430982</td>\n",
       "      <td>1996.0</td>\n",
       "      <td>1.0</td>\n",
       "      <td>...</td>\n",
       "      <td>EARNEDINCOME</td>\n",
       "      <td>20220201.0</td>\n",
       "      <td>정규직</td>\n",
       "      <td>자가</td>\n",
       "      <td>25000000.0</td>\n",
       "      <td>대환대출</td>\n",
       "      <td>0.0</td>\n",
       "      <td>0.0</td>\n",
       "      <td>2.0</td>\n",
       "      <td>15000000.0</td>\n",
       "    </tr>\n",
       "    <tr>\n",
       "      <th>3</th>\n",
       "      <td>1748340</td>\n",
       "      <td>2022-06-07 13:05:41</td>\n",
       "      <td>4</td>\n",
       "      <td>268</td>\n",
       "      <td>29000000.0</td>\n",
       "      <td>10.8</td>\n",
       "      <td>NaN</td>\n",
       "      <td>430982</td>\n",
       "      <td>1996.0</td>\n",
       "      <td>1.0</td>\n",
       "      <td>...</td>\n",
       "      <td>EARNEDINCOME</td>\n",
       "      <td>20220201.0</td>\n",
       "      <td>정규직</td>\n",
       "      <td>자가</td>\n",
       "      <td>25000000.0</td>\n",
       "      <td>대환대출</td>\n",
       "      <td>0.0</td>\n",
       "      <td>0.0</td>\n",
       "      <td>2.0</td>\n",
       "      <td>15000000.0</td>\n",
       "    </tr>\n",
       "    <tr>\n",
       "      <th>4</th>\n",
       "      <td>1748340</td>\n",
       "      <td>2022-06-07 13:05:41</td>\n",
       "      <td>11</td>\n",
       "      <td>118</td>\n",
       "      <td>5000000.0</td>\n",
       "      <td>16.4</td>\n",
       "      <td>NaN</td>\n",
       "      <td>430982</td>\n",
       "      <td>1996.0</td>\n",
       "      <td>1.0</td>\n",
       "      <td>...</td>\n",
       "      <td>EARNEDINCOME</td>\n",
       "      <td>20220201.0</td>\n",
       "      <td>정규직</td>\n",
       "      <td>자가</td>\n",
       "      <td>25000000.0</td>\n",
       "      <td>대환대출</td>\n",
       "      <td>0.0</td>\n",
       "      <td>0.0</td>\n",
       "      <td>2.0</td>\n",
       "      <td>15000000.0</td>\n",
       "    </tr>\n",
       "    <tr>\n",
       "      <th>...</th>\n",
       "      <td>...</td>\n",
       "      <td>...</td>\n",
       "      <td>...</td>\n",
       "      <td>...</td>\n",
       "      <td>...</td>\n",
       "      <td>...</td>\n",
       "      <td>...</td>\n",
       "      <td>...</td>\n",
       "      <td>...</td>\n",
       "      <td>...</td>\n",
       "      <td>...</td>\n",
       "      <td>...</td>\n",
       "      <td>...</td>\n",
       "      <td>...</td>\n",
       "      <td>...</td>\n",
       "      <td>...</td>\n",
       "      <td>...</td>\n",
       "      <td>...</td>\n",
       "      <td>...</td>\n",
       "      <td>...</td>\n",
       "      <td>...</td>\n",
       "    </tr>\n",
       "    <tr>\n",
       "      <th>13527245</th>\n",
       "      <td>1428218</td>\n",
       "      <td>2022-06-03 12:01:58</td>\n",
       "      <td>62</td>\n",
       "      <td>200</td>\n",
       "      <td>3000000.0</td>\n",
       "      <td>14.8</td>\n",
       "      <td>NaN</td>\n",
       "      <td>478802</td>\n",
       "      <td>1965.0</td>\n",
       "      <td>1.0</td>\n",
       "      <td>...</td>\n",
       "      <td>EARNEDINCOME</td>\n",
       "      <td>20190301.0</td>\n",
       "      <td>정규직</td>\n",
       "      <td>기타가족소유</td>\n",
       "      <td>50000000.0</td>\n",
       "      <td>대환대출</td>\n",
       "      <td>0.0</td>\n",
       "      <td>NaN</td>\n",
       "      <td>2.0</td>\n",
       "      <td>56000000.0</td>\n",
       "    </tr>\n",
       "    <tr>\n",
       "      <th>13527246</th>\n",
       "      <td>1428218</td>\n",
       "      <td>2022-06-03 12:01:49</td>\n",
       "      <td>2</td>\n",
       "      <td>7</td>\n",
       "      <td>40000000.0</td>\n",
       "      <td>11.8</td>\n",
       "      <td>NaN</td>\n",
       "      <td>478802</td>\n",
       "      <td>1965.0</td>\n",
       "      <td>1.0</td>\n",
       "      <td>...</td>\n",
       "      <td>EARNEDINCOME</td>\n",
       "      <td>20190301.0</td>\n",
       "      <td>정규직</td>\n",
       "      <td>기타가족소유</td>\n",
       "      <td>50000000.0</td>\n",
       "      <td>대환대출</td>\n",
       "      <td>0.0</td>\n",
       "      <td>NaN</td>\n",
       "      <td>2.0</td>\n",
       "      <td>56000000.0</td>\n",
       "    </tr>\n",
       "    <tr>\n",
       "      <th>13527247</th>\n",
       "      <td>1428218</td>\n",
       "      <td>2022-06-03 12:01:48</td>\n",
       "      <td>32</td>\n",
       "      <td>257</td>\n",
       "      <td>15000000.0</td>\n",
       "      <td>7.2</td>\n",
       "      <td>NaN</td>\n",
       "      <td>478802</td>\n",
       "      <td>1965.0</td>\n",
       "      <td>1.0</td>\n",
       "      <td>...</td>\n",
       "      <td>EARNEDINCOME</td>\n",
       "      <td>20190301.0</td>\n",
       "      <td>정규직</td>\n",
       "      <td>기타가족소유</td>\n",
       "      <td>50000000.0</td>\n",
       "      <td>대환대출</td>\n",
       "      <td>0.0</td>\n",
       "      <td>NaN</td>\n",
       "      <td>2.0</td>\n",
       "      <td>56000000.0</td>\n",
       "    </tr>\n",
       "    <tr>\n",
       "      <th>13527248</th>\n",
       "      <td>1428218</td>\n",
       "      <td>2022-06-03 12:01:48</td>\n",
       "      <td>33</td>\n",
       "      <td>110</td>\n",
       "      <td>44000000.0</td>\n",
       "      <td>13.5</td>\n",
       "      <td>NaN</td>\n",
       "      <td>478802</td>\n",
       "      <td>1965.0</td>\n",
       "      <td>1.0</td>\n",
       "      <td>...</td>\n",
       "      <td>EARNEDINCOME</td>\n",
       "      <td>20190301.0</td>\n",
       "      <td>정규직</td>\n",
       "      <td>기타가족소유</td>\n",
       "      <td>50000000.0</td>\n",
       "      <td>대환대출</td>\n",
       "      <td>0.0</td>\n",
       "      <td>NaN</td>\n",
       "      <td>2.0</td>\n",
       "      <td>56000000.0</td>\n",
       "    </tr>\n",
       "    <tr>\n",
       "      <th>13527249</th>\n",
       "      <td>1428218</td>\n",
       "      <td>2022-06-03 12:01:48</td>\n",
       "      <td>5</td>\n",
       "      <td>194</td>\n",
       "      <td>44000000.0</td>\n",
       "      <td>9.7</td>\n",
       "      <td>NaN</td>\n",
       "      <td>478802</td>\n",
       "      <td>1965.0</td>\n",
       "      <td>1.0</td>\n",
       "      <td>...</td>\n",
       "      <td>EARNEDINCOME</td>\n",
       "      <td>20190301.0</td>\n",
       "      <td>정규직</td>\n",
       "      <td>기타가족소유</td>\n",
       "      <td>50000000.0</td>\n",
       "      <td>대환대출</td>\n",
       "      <td>0.0</td>\n",
       "      <td>NaN</td>\n",
       "      <td>2.0</td>\n",
       "      <td>56000000.0</td>\n",
       "    </tr>\n",
       "  </tbody>\n",
       "</table>\n",
       "<p>13527250 rows × 23 columns</p>\n",
       "</div>"
      ],
      "text/plain": [
       "          application_id loanapply_insert_time  bank_id  product_id  \\\n",
       "0                1748340   2022-06-07 13:05:41        7         191   \n",
       "1                1748340   2022-06-07 13:05:41       25         169   \n",
       "2                1748340   2022-06-07 13:05:41        2           7   \n",
       "3                1748340   2022-06-07 13:05:41        4         268   \n",
       "4                1748340   2022-06-07 13:05:41       11         118   \n",
       "...                  ...                   ...      ...         ...   \n",
       "13527245         1428218   2022-06-03 12:01:58       62         200   \n",
       "13527246         1428218   2022-06-03 12:01:49        2           7   \n",
       "13527247         1428218   2022-06-03 12:01:48       32         257   \n",
       "13527248         1428218   2022-06-03 12:01:48       33         110   \n",
       "13527249         1428218   2022-06-03 12:01:48        5         194   \n",
       "\n",
       "          loan_limit  loan_rate  is_applied  user_id  birth_year  gender  ...  \\\n",
       "0         42000000.0       13.6         NaN   430982      1996.0     1.0  ...   \n",
       "1         24000000.0       17.9         NaN   430982      1996.0     1.0  ...   \n",
       "2         24000000.0       18.5         NaN   430982      1996.0     1.0  ...   \n",
       "3         29000000.0       10.8         NaN   430982      1996.0     1.0  ...   \n",
       "4          5000000.0       16.4         NaN   430982      1996.0     1.0  ...   \n",
       "...              ...        ...         ...      ...         ...     ...  ...   \n",
       "13527245   3000000.0       14.8         NaN   478802      1965.0     1.0  ...   \n",
       "13527246  40000000.0       11.8         NaN   478802      1965.0     1.0  ...   \n",
       "13527247  15000000.0        7.2         NaN   478802      1965.0     1.0  ...   \n",
       "13527248  44000000.0       13.5         NaN   478802      1965.0     1.0  ...   \n",
       "13527249  44000000.0        9.7         NaN   478802      1965.0     1.0  ...   \n",
       "\n",
       "           income_type  company_enter_month  employment_type houseown_type  \\\n",
       "0         EARNEDINCOME           20220201.0              정규직            자가   \n",
       "1         EARNEDINCOME           20220201.0              정규직            자가   \n",
       "2         EARNEDINCOME           20220201.0              정규직            자가   \n",
       "3         EARNEDINCOME           20220201.0              정규직            자가   \n",
       "4         EARNEDINCOME           20220201.0              정규직            자가   \n",
       "...                ...                  ...              ...           ...   \n",
       "13527245  EARNEDINCOME           20190301.0              정규직        기타가족소유   \n",
       "13527246  EARNEDINCOME           20190301.0              정규직        기타가족소유   \n",
       "13527247  EARNEDINCOME           20190301.0              정규직        기타가족소유   \n",
       "13527248  EARNEDINCOME           20190301.0              정규직        기타가족소유   \n",
       "13527249  EARNEDINCOME           20190301.0              정규직        기타가족소유   \n",
       "\n",
       "          desired_amount purpose personal_rehabilitation_yn  \\\n",
       "0             25000000.0    대환대출                        0.0   \n",
       "1             25000000.0    대환대출                        0.0   \n",
       "2             25000000.0    대환대출                        0.0   \n",
       "3             25000000.0    대환대출                        0.0   \n",
       "4             25000000.0    대환대출                        0.0   \n",
       "...                  ...     ...                        ...   \n",
       "13527245      50000000.0    대환대출                        0.0   \n",
       "13527246      50000000.0    대환대출                        0.0   \n",
       "13527247      50000000.0    대환대출                        0.0   \n",
       "13527248      50000000.0    대환대출                        0.0   \n",
       "13527249      50000000.0    대환대출                        0.0   \n",
       "\n",
       "          personal_rehabilitation_complete_yn existing_loan_cnt  \\\n",
       "0                                         0.0               2.0   \n",
       "1                                         0.0               2.0   \n",
       "2                                         0.0               2.0   \n",
       "3                                         0.0               2.0   \n",
       "4                                         0.0               2.0   \n",
       "...                                       ...               ...   \n",
       "13527245                                  NaN               2.0   \n",
       "13527246                                  NaN               2.0   \n",
       "13527247                                  NaN               2.0   \n",
       "13527248                                  NaN               2.0   \n",
       "13527249                                  NaN               2.0   \n",
       "\n",
       "          existing_loan_amt  \n",
       "0                15000000.0  \n",
       "1                15000000.0  \n",
       "2                15000000.0  \n",
       "3                15000000.0  \n",
       "4                15000000.0  \n",
       "...                     ...  \n",
       "13527245         56000000.0  \n",
       "13527246         56000000.0  \n",
       "13527247         56000000.0  \n",
       "13527248         56000000.0  \n",
       "13527249         56000000.0  \n",
       "\n",
       "[13527250 rows x 23 columns]"
      ]
     },
     "execution_count": 6,
     "metadata": {},
     "output_type": "execute_result"
    }
   ],
   "source": [
    "data"
   ]
  },
  {
   "cell_type": "markdown",
   "id": "98c01181",
   "metadata": {},
   "source": [
    "## 데이터 확인"
   ]
  },
  {
   "cell_type": "markdown",
   "id": "294d96b3",
   "metadata": {},
   "source": [
    "- loan_result"
   ]
  },
  {
   "cell_type": "code",
   "execution_count": 8,
   "id": "afed2cd6",
   "metadata": {},
   "outputs": [
    {
     "data": {
      "text/plain": [
       "0.0    9709675\n",
       "1.0     560449\n",
       "Name: is_applied, dtype: int64"
      ]
     },
     "execution_count": 8,
     "metadata": {},
     "output_type": "execute_result"
    }
   ],
   "source": [
    "# 0, 1 값의 분포를 확인\n",
    "loan['is_applied'].value_counts()"
   ]
  },
  {
   "cell_type": "code",
   "execution_count": 9,
   "id": "3e31fb99",
   "metadata": {},
   "outputs": [
    {
     "data": {
      "text/plain": [
       "0.9454291885862333"
      ]
     },
     "execution_count": 9,
     "metadata": {},
     "output_type": "execute_result"
    }
   ],
   "source": [
    "# 대출 신청 여부가 '0'인 기록이 94%임\n",
    "loan['is_applied'].value_counts()[0] / (loan['is_applied'].value_counts()[1] + loan['is_applied'].value_counts()[0])"
   ]
  },
  {
   "cell_type": "code",
   "execution_count": 10,
   "id": "a2cbc70a",
   "metadata": {},
   "outputs": [
    {
     "data": {
      "text/plain": [
       "0.24078891059550928"
      ]
     },
     "execution_count": 10,
     "metadata": {},
     "output_type": "execute_result"
    }
   ],
   "source": [
    "# 예측해야하는 라벨인 대출 여부의 na값을 확인해본 결과 24%의 데이터가 na값을 가짐\n",
    "## -> na값의 한도조회일시의 월이 6월인 것을 보아 예측해야하는 것으로 추정 ( 맞는듯 )\n",
    "loan['is_applied'].isna().sum() / len(loan['is_applied'])"
   ]
  },
  {
   "cell_type": "markdown",
   "id": "7806e80d",
   "metadata": {},
   "source": [
    "    - train과 test로 나누어 EDA진행"
   ]
  },
  {
   "cell_type": "code",
   "execution_count": 11,
   "id": "ced98451",
   "metadata": {},
   "outputs": [],
   "source": [
    "train_loan = loan[loan['is_applied'].isna() == False].reset_index(drop=True)\n",
    "test_loan = loan[loan['is_applied'].isna()].reset_index(drop=True)"
   ]
  },
  {
   "cell_type": "code",
   "execution_count": 12,
   "id": "92b8c65c",
   "metadata": {},
   "outputs": [
    {
     "data": {
      "text/html": [
       "<div>\n",
       "<style scoped>\n",
       "    .dataframe tbody tr th:only-of-type {\n",
       "        vertical-align: middle;\n",
       "    }\n",
       "\n",
       "    .dataframe tbody tr th {\n",
       "        vertical-align: top;\n",
       "    }\n",
       "\n",
       "    .dataframe thead th {\n",
       "        text-align: right;\n",
       "    }\n",
       "</style>\n",
       "<table border=\"1\" class=\"dataframe\">\n",
       "  <thead>\n",
       "    <tr style=\"text-align: right;\">\n",
       "      <th></th>\n",
       "      <th>application_id</th>\n",
       "      <th>loanapply_insert_time</th>\n",
       "      <th>bank_id</th>\n",
       "      <th>product_id</th>\n",
       "      <th>loan_limit</th>\n",
       "      <th>loan_rate</th>\n",
       "      <th>is_applied</th>\n",
       "    </tr>\n",
       "  </thead>\n",
       "  <tbody>\n",
       "    <tr>\n",
       "      <th>10270100</th>\n",
       "      <td>540364</td>\n",
       "      <td>2022-05-16 11:09:01</td>\n",
       "      <td>33</td>\n",
       "      <td>110</td>\n",
       "      <td>6000000.0</td>\n",
       "      <td>17.9</td>\n",
       "      <td>0.0</td>\n",
       "    </tr>\n",
       "    <tr>\n",
       "      <th>10270098</th>\n",
       "      <td>540364</td>\n",
       "      <td>2022-05-16 11:09:02</td>\n",
       "      <td>37</td>\n",
       "      <td>206</td>\n",
       "      <td>7000000.0</td>\n",
       "      <td>19.9</td>\n",
       "      <td>0.0</td>\n",
       "    </tr>\n",
       "    <tr>\n",
       "      <th>10270099</th>\n",
       "      <td>540364</td>\n",
       "      <td>2022-05-16 11:09:02</td>\n",
       "      <td>54</td>\n",
       "      <td>235</td>\n",
       "      <td>12000000.0</td>\n",
       "      <td>18.5</td>\n",
       "      <td>0.0</td>\n",
       "    </tr>\n",
       "    <tr>\n",
       "      <th>10270101</th>\n",
       "      <td>540364</td>\n",
       "      <td>2022-05-16 11:09:02</td>\n",
       "      <td>22</td>\n",
       "      <td>221</td>\n",
       "      <td>10000000.0</td>\n",
       "      <td>18.4</td>\n",
       "      <td>0.0</td>\n",
       "    </tr>\n",
       "  </tbody>\n",
       "</table>\n",
       "</div>"
      ],
      "text/plain": [
       "          application_id loanapply_insert_time  bank_id  product_id  \\\n",
       "10270100          540364   2022-05-16 11:09:01       33         110   \n",
       "10270098          540364   2022-05-16 11:09:02       37         206   \n",
       "10270099          540364   2022-05-16 11:09:02       54         235   \n",
       "10270101          540364   2022-05-16 11:09:02       22         221   \n",
       "\n",
       "          loan_limit  loan_rate  is_applied  \n",
       "10270100   6000000.0       17.9         0.0  \n",
       "10270098   7000000.0       19.9         0.0  \n",
       "10270099  12000000.0       18.5         0.0  \n",
       "10270101  10000000.0       18.4         0.0  "
      ]
     },
     "execution_count": 12,
     "metadata": {},
     "output_type": "execute_result"
    }
   ],
   "source": [
    "# 핀다 앱에서 상세설정을 걸고 조회하면 여러 은행의 대출 상품과 가능 여부가 나오는 구조인듯한 모습\n",
    "## -> 즉, 고객 하나당 하나의 예측값만이 존재하는 것은 아닌듯 : index를 key로 잡고 예측해야될듯함\n",
    "## 아래에서 예시 확인 가능\n",
    "train_loan[train_loan['application_id'] == 540364].sort_values(by='loanapply_insert_time')"
   ]
  },
  {
   "cell_type": "code",
   "execution_count": 13,
   "id": "05cb2290",
   "metadata": {},
   "outputs": [
    {
     "data": {
      "text/plain": [
       "80"
      ]
     },
     "execution_count": 13,
     "metadata": {},
     "output_type": "execute_result"
    }
   ],
   "source": [
    "# 최종적으로 대출신청 결과를 예측할 \n",
    "# test에 있는 user중 train에도 있는 user의 수는 80명 -> 80명은 보다 정확한 예측이 가능할 것으로 보임\n",
    "# 총 test의 고객 239949명 중 80명임\n",
    "train_loan[train_loan['application_id'].isin(test_loan['application_id'].unique())]['application_id'].nunique()"
   ]
  },
  {
   "cell_type": "code",
   "execution_count": 14,
   "id": "09198e6f",
   "metadata": {},
   "outputs": [
    {
     "name": "stdout",
     "output_type": "stream",
     "text": [
      "train: 728997\n",
      "user: 728884\n"
     ]
    }
   ],
   "source": [
    "# train_loan에 기록이 있는 신청서와 user 비교\n",
    "# 기록이 있는 신청서는 728997인데 해당 회원중 user data에 정보가 있는 신청서는 72884명 뿐\n",
    "## 즉, 113명은 user에 기록이 없음 -> 모델을 학습시킬 때, 정보가 없는 행을 어떻게 처리할지에 대한 고민 필요\n",
    "## -> 기록이 없는 고객은 데이터 병합시 na값이기 때문에 지울지 '없음'으로 채울지 고민 필요\n",
    "print(f\"train: {train_loan['application_id'].nunique()}\\nuser: {len(user[user['application_id'].isin(train_loan['application_id'].unique())])}\")"
   ]
  },
  {
   "cell_type": "code",
   "execution_count": 15,
   "id": "ffca4cba",
   "metadata": {},
   "outputs": [
    {
     "name": "stdout",
     "output_type": "stream",
     "text": [
      "test: 239949\n",
      "user: 239949\n"
     ]
    }
   ],
   "source": [
    "# test는 모든 신청서의 정보가 user data에 있음\n",
    "print(f\"test: {test_loan['application_id'].nunique()}\\nuser: {len(user[user['application_id'].isin(test_loan['application_id'].unique())])}\")"
   ]
  },
  {
   "cell_type": "code",
   "execution_count": 65,
   "id": "94c0422b",
   "metadata": {},
   "outputs": [
    {
     "data": {
      "text/html": [
       "<div>\n",
       "<style scoped>\n",
       "    .dataframe tbody tr th:only-of-type {\n",
       "        vertical-align: middle;\n",
       "    }\n",
       "\n",
       "    .dataframe tbody tr th {\n",
       "        vertical-align: top;\n",
       "    }\n",
       "\n",
       "    .dataframe thead th {\n",
       "        text-align: right;\n",
       "    }\n",
       "</style>\n",
       "<table border=\"1\" class=\"dataframe\">\n",
       "  <thead>\n",
       "    <tr style=\"text-align: right;\">\n",
       "      <th></th>\n",
       "      <th>application_id</th>\n",
       "      <th>loanapply_insert_time</th>\n",
       "      <th>bank_id</th>\n",
       "      <th>product_id</th>\n",
       "      <th>loan_limit</th>\n",
       "      <th>loan_rate</th>\n",
       "      <th>is_applied</th>\n",
       "    </tr>\n",
       "  </thead>\n",
       "  <tbody>\n",
       "    <tr>\n",
       "      <th>68010</th>\n",
       "      <td>2015764</td>\n",
       "      <td>2022-04-29 15:16:36</td>\n",
       "      <td>27</td>\n",
       "      <td>193</td>\n",
       "      <td>NaN</td>\n",
       "      <td>NaN</td>\n",
       "      <td>1.0</td>\n",
       "    </tr>\n",
       "    <tr>\n",
       "      <th>615673</th>\n",
       "      <td>1669381</td>\n",
       "      <td>2022-03-01 18:03:44</td>\n",
       "      <td>14</td>\n",
       "      <td>197</td>\n",
       "      <td>NaN</td>\n",
       "      <td>NaN</td>\n",
       "      <td>1.0</td>\n",
       "    </tr>\n",
       "    <tr>\n",
       "      <th>1694465</th>\n",
       "      <td>351899</td>\n",
       "      <td>2022-04-18 14:00:08</td>\n",
       "      <td>1</td>\n",
       "      <td>61</td>\n",
       "      <td>NaN</td>\n",
       "      <td>NaN</td>\n",
       "      <td>1.0</td>\n",
       "    </tr>\n",
       "    <tr>\n",
       "      <th>2978297</th>\n",
       "      <td>1382876</td>\n",
       "      <td>2022-03-01 18:02:54</td>\n",
       "      <td>14</td>\n",
       "      <td>197</td>\n",
       "      <td>NaN</td>\n",
       "      <td>NaN</td>\n",
       "      <td>1.0</td>\n",
       "    </tr>\n",
       "    <tr>\n",
       "      <th>3125384</th>\n",
       "      <td>2061284</td>\n",
       "      <td>2022-05-04 10:03:07</td>\n",
       "      <td>1</td>\n",
       "      <td>61</td>\n",
       "      <td>NaN</td>\n",
       "      <td>NaN</td>\n",
       "      <td>1.0</td>\n",
       "    </tr>\n",
       "    <tr>\n",
       "      <th>...</th>\n",
       "      <td>...</td>\n",
       "      <td>...</td>\n",
       "      <td>...</td>\n",
       "      <td>...</td>\n",
       "      <td>...</td>\n",
       "      <td>...</td>\n",
       "      <td>...</td>\n",
       "    </tr>\n",
       "    <tr>\n",
       "      <th>13373186</th>\n",
       "      <td>197821</td>\n",
       "      <td>2022-03-02 10:29:03</td>\n",
       "      <td>13</td>\n",
       "      <td>262</td>\n",
       "      <td>NaN</td>\n",
       "      <td>NaN</td>\n",
       "      <td>1.0</td>\n",
       "    </tr>\n",
       "    <tr>\n",
       "      <th>13386339</th>\n",
       "      <td>398321</td>\n",
       "      <td>2022-03-02 15:17:30</td>\n",
       "      <td>10</td>\n",
       "      <td>149</td>\n",
       "      <td>NaN</td>\n",
       "      <td>NaN</td>\n",
       "      <td>1.0</td>\n",
       "    </tr>\n",
       "    <tr>\n",
       "      <th>13387297</th>\n",
       "      <td>1872250</td>\n",
       "      <td>2022-03-02 11:01:23</td>\n",
       "      <td>34</td>\n",
       "      <td>57</td>\n",
       "      <td>NaN</td>\n",
       "      <td>NaN</td>\n",
       "      <td>1.0</td>\n",
       "    </tr>\n",
       "    <tr>\n",
       "      <th>13403453</th>\n",
       "      <td>2052437</td>\n",
       "      <td>2022-03-02 17:24:59</td>\n",
       "      <td>30</td>\n",
       "      <td>121</td>\n",
       "      <td>NaN</td>\n",
       "      <td>NaN</td>\n",
       "      <td>1.0</td>\n",
       "    </tr>\n",
       "    <tr>\n",
       "      <th>13417527</th>\n",
       "      <td>1610455</td>\n",
       "      <td>2022-03-02 16:29:09</td>\n",
       "      <td>13</td>\n",
       "      <td>262</td>\n",
       "      <td>NaN</td>\n",
       "      <td>NaN</td>\n",
       "      <td>1.0</td>\n",
       "    </tr>\n",
       "  </tbody>\n",
       "</table>\n",
       "<p>113 rows × 7 columns</p>\n",
       "</div>"
      ],
      "text/plain": [
       "          application_id loanapply_insert_time  bank_id  product_id  \\\n",
       "68010            2015764   2022-04-29 15:16:36       27         193   \n",
       "615673           1669381   2022-03-01 18:03:44       14         197   \n",
       "1694465           351899   2022-04-18 14:00:08        1          61   \n",
       "2978297          1382876   2022-03-01 18:02:54       14         197   \n",
       "3125384          2061284   2022-05-04 10:03:07        1          61   \n",
       "...                  ...                   ...      ...         ...   \n",
       "13373186          197821   2022-03-02 10:29:03       13         262   \n",
       "13386339          398321   2022-03-02 15:17:30       10         149   \n",
       "13387297         1872250   2022-03-02 11:01:23       34          57   \n",
       "13403453         2052437   2022-03-02 17:24:59       30         121   \n",
       "13417527         1610455   2022-03-02 16:29:09       13         262   \n",
       "\n",
       "          loan_limit  loan_rate  is_applied  \n",
       "68010            NaN        NaN         1.0  \n",
       "615673           NaN        NaN         1.0  \n",
       "1694465          NaN        NaN         1.0  \n",
       "2978297          NaN        NaN         1.0  \n",
       "3125384          NaN        NaN         1.0  \n",
       "...              ...        ...         ...  \n",
       "13373186         NaN        NaN         1.0  \n",
       "13386339         NaN        NaN         1.0  \n",
       "13387297         NaN        NaN         1.0  \n",
       "13403453         NaN        NaN         1.0  \n",
       "13417527         NaN        NaN         1.0  \n",
       "\n",
       "[113 rows x 7 columns]"
      ]
     },
     "execution_count": 65,
     "metadata": {},
     "output_type": "execute_result"
    }
   ],
   "source": [
    "# loan에는 있으나 user에는 없는 113명의 정보에 대한 확인 필요\n",
    "loan[loan['application_id'].isin(user['application_id'].unique()) == False]"
   ]
  },
  {
   "cell_type": "code",
   "execution_count": 9,
   "id": "ea0b074c",
   "metadata": {},
   "outputs": [
    {
     "name": "stdout",
     "output_type": "stream",
     "text": [
      "train\n",
      "bank: 62\n",
      "product: 178\n",
      "test\n",
      "bank: 61\n",
      "product: 169\n"
     ]
    }
   ],
   "source": [
    "# train은 총 62개 은행의 대출상품 178개에 대한 정보임\n",
    "print('train')\n",
    "print(f\"bank: {train_loan['bank_id'].nunique()}\\nproduct: {train_loan['product_id'].nunique()}\")\n",
    "# test은 총 61개 은행의 대출상품 169개에 대한 정보임\n",
    "print('test')\n",
    "print(f\"bank: {test_loan['bank_id'].nunique()}\\nproduct: {test_loan['product_id'].nunique()}\")\n",
    "## -> 은행과 상품이 상이할 수 있음 : 아래에서 확인"
   ]
  },
  {
   "cell_type": "code",
   "execution_count": 10,
   "id": "c363f332",
   "metadata": {},
   "outputs": [
    {
     "data": {
      "text/plain": [
       "array([48], dtype=int64)"
      ]
     },
     "execution_count": 10,
     "metadata": {},
     "output_type": "execute_result"
    }
   ],
   "source": [
    "# 예측해야하는 test의 은행중 train에 없는, test에만 있는 은행은 id 48 은행 하나\n",
    "test_loan[test_loan['bank_id'].isin(train_loan['bank_id']) == False]['bank_id'].unique()"
   ]
  },
  {
   "cell_type": "code",
   "execution_count": 11,
   "id": "af114c48",
   "metadata": {},
   "outputs": [
    {
     "data": {
      "text/plain": [
       "array([178, 202, 102, 101,   4, 130, 201, 241,  33,  64], dtype=int64)"
      ]
     },
     "execution_count": 11,
     "metadata": {},
     "output_type": "execute_result"
    }
   ],
   "source": [
    "# 예측해야하는 test의 상품 train에 없는, test에만 있는 상품은 10개가 존재\n",
    "test_loan[test_loan['product_id'].isin(train_loan['product_id']) == False]['product_id'].unique()"
   ]
  },
  {
   "cell_type": "markdown",
   "id": "0e2a467d",
   "metadata": {},
   "source": [
    "- user_spec\n",
    "    - 가볍게 분포만 확인 후, 데이터 병합하고 train, test 나눠서 더 구체적으로 확인"
   ]
  },
  {
   "cell_type": "code",
   "execution_count": 12,
   "id": "59c78657",
   "metadata": {},
   "outputs": [
    {
     "data": {
      "text/plain": [
       "application_id                               0\n",
       "user_id                                      0\n",
       "birth_year                               12961\n",
       "gender                                   12961\n",
       "insert_time                                  0\n",
       "credit_score                            105115\n",
       "yearly_income                               90\n",
       "income_type                                 85\n",
       "company_enter_month                     171760\n",
       "employment_type                             85\n",
       "houseown_type                               85\n",
       "desired_amount                              85\n",
       "purpose                                     85\n",
       "personal_rehabilitation_yn              587461\n",
       "personal_rehabilitation_complete_yn    1203354\n",
       "existing_loan_cnt                       198556\n",
       "existing_loan_amt                       313774\n",
       "dtype: int64"
      ]
     },
     "execution_count": 12,
     "metadata": {},
     "output_type": "execute_result"
    }
   ],
   "source": [
    "# na값 존재 확인\n",
    "user.isna().sum()"
   ]
  },
  {
   "cell_type": "code",
   "execution_count": 13,
   "id": "e116c2ae",
   "metadata": {},
   "outputs": [
    {
     "data": {
      "text/plain": [
       "405213"
      ]
     },
     "execution_count": 13,
     "metadata": {},
     "output_type": "execute_result"
    }
   ],
   "source": [
    "# 신청서 정보가 PK임 -> 신청서 정보는 겹치는 데이터가 없음\n",
    "# user 405213명의 대출 신청 기록 데이터임 ( user별로 여려개의 대출신청여부 파악이 가능 )\n",
    "## -> 즉, 예측모델 생성시 key를 index로 잡아야함\n",
    "## -> 단, 405213명 중 inert_time열이 6월인 데이터는 test데이터이기 때문에 제외 필요 ( 어차피 병합후 진행하면 알아서 잘릴듯함 )\n",
    "user.groupby('user_id').count().shape[0]"
   ]
  },
  {
   "cell_type": "code",
   "execution_count": 14,
   "id": "d50d455d",
   "metadata": {},
   "outputs": [
    {
     "data": {
      "text/html": [
       "<div>\n",
       "<style scoped>\n",
       "    .dataframe tbody tr th:only-of-type {\n",
       "        vertical-align: middle;\n",
       "    }\n",
       "\n",
       "    .dataframe tbody tr th {\n",
       "        vertical-align: top;\n",
       "    }\n",
       "\n",
       "    .dataframe thead th {\n",
       "        text-align: right;\n",
       "    }\n",
       "</style>\n",
       "<table border=\"1\" class=\"dataframe\">\n",
       "  <thead>\n",
       "    <tr style=\"text-align: right;\">\n",
       "      <th></th>\n",
       "      <th>application_id</th>\n",
       "      <th>user_id</th>\n",
       "      <th>birth_year</th>\n",
       "      <th>gender</th>\n",
       "      <th>insert_time</th>\n",
       "      <th>credit_score</th>\n",
       "      <th>yearly_income</th>\n",
       "      <th>income_type</th>\n",
       "      <th>company_enter_month</th>\n",
       "      <th>employment_type</th>\n",
       "      <th>houseown_type</th>\n",
       "      <th>desired_amount</th>\n",
       "      <th>purpose</th>\n",
       "      <th>personal_rehabilitation_yn</th>\n",
       "      <th>personal_rehabilitation_complete_yn</th>\n",
       "      <th>existing_loan_cnt</th>\n",
       "      <th>existing_loan_amt</th>\n",
       "    </tr>\n",
       "  </thead>\n",
       "  <tbody>\n",
       "    <tr>\n",
       "      <th>1290534</th>\n",
       "      <td>1031304</td>\n",
       "      <td>1</td>\n",
       "      <td>2000.0</td>\n",
       "      <td>1.0</td>\n",
       "      <td>2022-05-03 14:51:00</td>\n",
       "      <td>750.0</td>\n",
       "      <td>20000000.0</td>\n",
       "      <td>OTHERINCOME</td>\n",
       "      <td>NaN</td>\n",
       "      <td>기타</td>\n",
       "      <td>전월세</td>\n",
       "      <td>0.0</td>\n",
       "      <td>생활비</td>\n",
       "      <td>0.0</td>\n",
       "      <td>NaN</td>\n",
       "      <td>1.0</td>\n",
       "      <td>NaN</td>\n",
       "    </tr>\n",
       "    <tr>\n",
       "      <th>1290535</th>\n",
       "      <td>1767402</td>\n",
       "      <td>1</td>\n",
       "      <td>2000.0</td>\n",
       "      <td>1.0</td>\n",
       "      <td>2022-05-03 14:53:33</td>\n",
       "      <td>750.0</td>\n",
       "      <td>20000000.0</td>\n",
       "      <td>OTHERINCOME</td>\n",
       "      <td>NaN</td>\n",
       "      <td>기타</td>\n",
       "      <td>전월세</td>\n",
       "      <td>1000000.0</td>\n",
       "      <td>생활비</td>\n",
       "      <td>0.0</td>\n",
       "      <td>NaN</td>\n",
       "      <td>1.0</td>\n",
       "      <td>NaN</td>\n",
       "    </tr>\n",
       "  </tbody>\n",
       "</table>\n",
       "</div>"
      ],
      "text/plain": [
       "         application_id  user_id  birth_year  gender          insert_time  \\\n",
       "1290534         1031304        1      2000.0     1.0  2022-05-03 14:51:00   \n",
       "1290535         1767402        1      2000.0     1.0  2022-05-03 14:53:33   \n",
       "\n",
       "         credit_score  yearly_income  income_type  company_enter_month  \\\n",
       "1290534         750.0     20000000.0  OTHERINCOME                  NaN   \n",
       "1290535         750.0     20000000.0  OTHERINCOME                  NaN   \n",
       "\n",
       "        employment_type houseown_type  desired_amount purpose  \\\n",
       "1290534              기타           전월세             0.0     생활비   \n",
       "1290535              기타           전월세       1000000.0     생활비   \n",
       "\n",
       "         personal_rehabilitation_yn  personal_rehabilitation_complete_yn  \\\n",
       "1290534                         0.0                                  NaN   \n",
       "1290535                         0.0                                  NaN   \n",
       "\n",
       "         existing_loan_cnt  existing_loan_amt  \n",
       "1290534                1.0                NaN  \n",
       "1290535                1.0                NaN  "
      ]
     },
     "execution_count": 14,
     "metadata": {},
     "output_type": "execute_result"
    }
   ],
   "source": [
    "# user가 다른 대출상품 조회를 한 경우 순수한 user의 정보는 중복해서 나타남을 알 수 있음\n",
    "## ex) birth_year, gender, credit_score 등\n",
    "## 아래에서 예시 확인 가능\n",
    "user[user['user_id'] == 1]"
   ]
  },
  {
   "cell_type": "code",
   "execution_count": 25,
   "id": "fc6de8df",
   "metadata": {},
   "outputs": [
    {
     "data": {
      "text/plain": [
       "count    405213.000000\n",
       "mean          3.440699\n",
       "std           5.825759\n",
       "min           1.000000\n",
       "25%           1.000000\n",
       "50%           2.000000\n",
       "75%           4.000000\n",
       "max         840.000000\n",
       "Name: application_id, dtype: float64"
      ]
     },
     "execution_count": 25,
     "metadata": {},
     "output_type": "execute_result"
    }
   ],
   "source": [
    "# 고객별 대출 신청 횟수를 사분위수를 이용하여 확인\n",
    "## 대부분의 고객들이 5회 미만의 거래횟수를 나타냄\n",
    "user.groupby('user_id')['application_id'].count().describe()"
   ]
  },
  {
   "cell_type": "markdown",
   "id": "64560ac8",
   "metadata": {},
   "source": [
    "    - user들의 순수 분포 확인을 위하여 데이터 가공"
   ]
  },
  {
   "cell_type": "code",
   "execution_count": 16,
   "id": "9a805d76",
   "metadata": {},
   "outputs": [
    {
     "data": {
      "text/html": [
       "<div>\n",
       "<style scoped>\n",
       "    .dataframe tbody tr th:only-of-type {\n",
       "        vertical-align: middle;\n",
       "    }\n",
       "\n",
       "    .dataframe tbody tr th {\n",
       "        vertical-align: top;\n",
       "    }\n",
       "\n",
       "    .dataframe thead th {\n",
       "        text-align: right;\n",
       "    }\n",
       "</style>\n",
       "<table border=\"1\" class=\"dataframe\">\n",
       "  <thead>\n",
       "    <tr style=\"text-align: right;\">\n",
       "      <th></th>\n",
       "      <th>user_id</th>\n",
       "      <th>birth_year</th>\n",
       "      <th>gender</th>\n",
       "    </tr>\n",
       "  </thead>\n",
       "  <tbody>\n",
       "    <tr>\n",
       "      <th>0</th>\n",
       "      <td>118218</td>\n",
       "      <td>1985.0</td>\n",
       "      <td>1.0</td>\n",
       "    </tr>\n",
       "    <tr>\n",
       "      <th>1</th>\n",
       "      <td>553686</td>\n",
       "      <td>1968.0</td>\n",
       "      <td>1.0</td>\n",
       "    </tr>\n",
       "    <tr>\n",
       "      <th>2</th>\n",
       "      <td>59516</td>\n",
       "      <td>1997.0</td>\n",
       "      <td>1.0</td>\n",
       "    </tr>\n",
       "  </tbody>\n",
       "</table>\n",
       "</div>"
      ],
      "text/plain": [
       "   user_id  birth_year  gender\n",
       "0   118218      1985.0     1.0\n",
       "1   553686      1968.0     1.0\n",
       "2    59516      1997.0     1.0"
      ]
     },
     "execution_count": 16,
     "metadata": {},
     "output_type": "execute_result"
    }
   ],
   "source": [
    "# 시간이 지나도 변하지 않는 정보들만 가져옴\n",
    "## 결측치가 있는 행은 지운 후 정보를 추출\n",
    "## -> 똑같은 userid인데도 어떤 행은 정보가 있고, 어떤 행은 na인 경우가 존재 -> 후처리 필요\n",
    "user_info = user.dropna(subset=['birth_year', 'gender'])[['user_id', 'birth_year', 'gender']].drop_duplicates(subset='user_id', ignore_index=True)\n",
    "user_info.head(3)"
   ]
  },
  {
   "cell_type": "code",
   "execution_count": 17,
   "id": "1a50cf15",
   "metadata": {},
   "outputs": [
    {
     "name": "stdout",
     "output_type": "stream",
     "text": [
      "전체 user의 수: 405213 \n",
      "정보가 모두 있는 사람: 398357\n"
     ]
    }
   ],
   "source": [
    "# 전체 고객대비 가공한 데이터의 user수가 적음\n",
    "## -> 즉, userid는 가지고 있으나 출생년도와 성별에 대한 정보가 없는 고객이 6856명 존재함\n",
    "## -> 후처리 이후에도 정보가 없는 고객에 대한 처리를 어떻게 해야할지에 대한 고민 필요\n",
    "print(f\"전체 user의 수: {user['user_id'].nunique()} \\n정보가 모두 있는 사람: {user_info['user_id'].nunique()}\") "
   ]
  },
  {
   "cell_type": "code",
   "execution_count": 48,
   "id": "b43f143c",
   "metadata": {},
   "outputs": [
    {
     "data": {
      "image/png": "[encoded data removed]",
      "text/plain": [
       "<Figure size 432x288 with 1 Axes>"
      ]
     },
     "metadata": {
      "image/png": {
       "height": 282,
       "width": 391
      }
     },
     "output_type": "display_data"
    }
   ],
   "source": [
    "# 출생년도 분포를 시각화하여 확인\n",
    "## 1980-2000년 사이의 고객들이 많은 형태를 보임\n",
    "sns.distplot(user_info['birth_year'],kde = True, rug=True, color='#4F63D2')\n",
    "plt.title('전체 이용자 출생년도 분포')\n",
    "plt.show()"
   ]
  },
  {
   "cell_type": "code",
   "execution_count": 45,
   "id": "d1fda989",
   "metadata": {},
   "outputs": [
    {
     "data": {
      "image/png": "[encoded data removed]",
      "text/plain": [
       "<Figure size 432x432 with 1 Axes>"
      ]
     },
     "metadata": {
      "image/png": {
       "height": 408,
       "width": 429
      }
     },
     "output_type": "display_data"
    }
   ],
   "source": [
    "# 고객의 성별을 그래프를 통해 확인\n",
    "## -> 1인 성별이 66%로 많은 모습을 보임\n",
    "plt.figure(figsize=(6,6))\n",
    "patches, texts, autotexts = plt.pie(\n",
    "    user_info.groupby('gender').count()['user_id'],\n",
    "    labels = ['0', '1'],\n",
    "    startangle=10,## 어디에서 시작할지, 정해줌  \n",
    "    shadow=True, ##그림자 \n",
    "    autopct='%1.1f%%', ## pi 위에 표시될 글자 형태, 또한 알아서 %로 변환해서 알려줌 \n",
    "    colors=['#595959', '#4F63D2'] # 핀다( finda ) 색상\n",
    ")\n",
    "plt.title('고객 성별 분포', size = 20)\n",
    "plt.legend(loc = (1, 0.8), fontsize=10)\n",
    "\n",
    "for t in autotexts:\n",
    "    t.set_color(\"white\")\n",
    "    t.set_fontsize(25)\n",
    "\n",
    "for t in texts:\n",
    "    t.set_fontsize(20)\n",
    "plt.tight_layout()\n",
    "plt.show()"
   ]
  },
  {
   "cell_type": "markdown",
   "id": "37056847",
   "metadata": {},
   "source": [
    "- log_data"
   ]
  },
  {
   "cell_type": "markdown",
   "id": "225c0467",
   "metadata": {},
   "source": [
    "    전체적으로 흘러가는 Process:\n",
    "    1. log 데이터에서 고객이 ViewLoanApplyIntro - CompleteIDCertification 단계를 거침\n",
    "    2. user 데이터에 새로운 application_id로 application이 생성됨\n",
    "    3. loan 데이터에서 결과 확인 가능\n",
    "    \n",
    "    -> 아래에서 예시를 확인"
   ]
  },
  {
   "cell_type": "code",
   "execution_count": 106,
   "id": "dd67a082",
   "metadata": {},
   "outputs": [
    {
     "data": {
      "text/html": [
       "<div>\n",
       "<style scoped>\n",
       "    .dataframe tbody tr th:only-of-type {\n",
       "        vertical-align: middle;\n",
       "    }\n",
       "\n",
       "    .dataframe tbody tr th {\n",
       "        vertical-align: top;\n",
       "    }\n",
       "\n",
       "    .dataframe thead th {\n",
       "        text-align: right;\n",
       "    }\n",
       "</style>\n",
       "<table border=\"1\" class=\"dataframe\">\n",
       "  <thead>\n",
       "    <tr style=\"text-align: right;\">\n",
       "      <th></th>\n",
       "      <th>user_id</th>\n",
       "      <th>event</th>\n",
       "      <th>timestamp</th>\n",
       "      <th>mp_os</th>\n",
       "      <th>mp_app_version</th>\n",
       "      <th>date_cd</th>\n",
       "    </tr>\n",
       "  </thead>\n",
       "  <tbody>\n",
       "    <tr>\n",
       "      <th>2595488</th>\n",
       "      <td>777860</td>\n",
       "      <td>OpenApp</td>\n",
       "      <td>2022-05-06 11:03:58</td>\n",
       "      <td>iOS</td>\n",
       "      <td>3.10.1</td>\n",
       "      <td>2022-05-06</td>\n",
       "    </tr>\n",
       "    <tr>\n",
       "      <th>2595489</th>\n",
       "      <td>777860</td>\n",
       "      <td>StartLoanApply</td>\n",
       "      <td>2022-05-06 11:04:08</td>\n",
       "      <td>iOS</td>\n",
       "      <td>3.10.1</td>\n",
       "      <td>2022-05-06</td>\n",
       "    </tr>\n",
       "    <tr>\n",
       "      <th>2595490</th>\n",
       "      <td>777860</td>\n",
       "      <td>ViewLoanApplyIntro</td>\n",
       "      <td>2022-05-06 11:04:08</td>\n",
       "      <td>iOS</td>\n",
       "      <td>3.10.1</td>\n",
       "      <td>2022-05-06</td>\n",
       "    </tr>\n",
       "    <tr>\n",
       "      <th>2595491</th>\n",
       "      <td>777860</td>\n",
       "      <td>CompleteIDCertification</td>\n",
       "      <td>2022-05-06 11:05:28</td>\n",
       "      <td>iOS</td>\n",
       "      <td>3.10.1</td>\n",
       "      <td>2022-05-06</td>\n",
       "    </tr>\n",
       "    <tr>\n",
       "      <th>2595492</th>\n",
       "      <td>777860</td>\n",
       "      <td>EndLoanApply</td>\n",
       "      <td>2022-05-06 11:07:18</td>\n",
       "      <td>iOS</td>\n",
       "      <td>3.10.1</td>\n",
       "      <td>2022-05-06</td>\n",
       "    </tr>\n",
       "    <tr>\n",
       "      <th>2595496</th>\n",
       "      <td>777860</td>\n",
       "      <td>StartLoanApply</td>\n",
       "      <td>2022-05-06 11:09:00</td>\n",
       "      <td>iOS</td>\n",
       "      <td>3.10.1</td>\n",
       "      <td>2022-05-06</td>\n",
       "    </tr>\n",
       "    <tr>\n",
       "      <th>2595497</th>\n",
       "      <td>777860</td>\n",
       "      <td>EndLoanApply</td>\n",
       "      <td>2022-05-06 11:09:01</td>\n",
       "      <td>iOS</td>\n",
       "      <td>3.10.1</td>\n",
       "      <td>2022-05-06</td>\n",
       "    </tr>\n",
       "  </tbody>\n",
       "</table>\n",
       "</div>"
      ],
      "text/plain": [
       "         user_id                    event            timestamp mp_os  \\\n",
       "2595488   777860                  OpenApp  2022-05-06 11:03:58   iOS   \n",
       "2595489   777860           StartLoanApply  2022-05-06 11:04:08   iOS   \n",
       "2595490   777860       ViewLoanApplyIntro  2022-05-06 11:04:08   iOS   \n",
       "2595491   777860  CompleteIDCertification  2022-05-06 11:05:28   iOS   \n",
       "2595492   777860             EndLoanApply  2022-05-06 11:07:18   iOS   \n",
       "2595496   777860           StartLoanApply  2022-05-06 11:09:00   iOS   \n",
       "2595497   777860             EndLoanApply  2022-05-06 11:09:01   iOS   \n",
       "\n",
       "        mp_app_version     date_cd  \n",
       "2595488         3.10.1  2022-05-06  \n",
       "2595489         3.10.1  2022-05-06  \n",
       "2595490         3.10.1  2022-05-06  \n",
       "2595491         3.10.1  2022-05-06  \n",
       "2595492         3.10.1  2022-05-06  \n",
       "2595496         3.10.1  2022-05-06  \n",
       "2595497         3.10.1  2022-05-06  "
      ]
     },
     "execution_count": 106,
     "metadata": {},
     "output_type": "execute_result"
    }
   ],
   "source": [
    "# '한도조회 인트로 페이지 조회 - 본인인증 완료'의 단계를 거쳐 대출 승인여부를 판단 가능\n",
    "log[(log['user_id'] == 777860) & (log['date_cd'] == '2022-05-06')].sort_values(by='timestamp')"
   ]
  },
  {
   "cell_type": "code",
   "execution_count": 104,
   "id": "0dbc490d",
   "metadata": {},
   "outputs": [
    {
     "data": {
      "text/html": [
       "<div>\n",
       "<style scoped>\n",
       "    .dataframe tbody tr th:only-of-type {\n",
       "        vertical-align: middle;\n",
       "    }\n",
       "\n",
       "    .dataframe tbody tr th {\n",
       "        vertical-align: top;\n",
       "    }\n",
       "\n",
       "    .dataframe thead th {\n",
       "        text-align: right;\n",
       "    }\n",
       "</style>\n",
       "<table border=\"1\" class=\"dataframe\">\n",
       "  <thead>\n",
       "    <tr style=\"text-align: right;\">\n",
       "      <th></th>\n",
       "      <th>application_id</th>\n",
       "      <th>user_id</th>\n",
       "      <th>birth_year</th>\n",
       "      <th>gender</th>\n",
       "      <th>insert_time</th>\n",
       "      <th>credit_score</th>\n",
       "      <th>yearly_income</th>\n",
       "      <th>income_type</th>\n",
       "      <th>company_enter_month</th>\n",
       "      <th>employment_type</th>\n",
       "      <th>houseown_type</th>\n",
       "      <th>desired_amount</th>\n",
       "      <th>purpose</th>\n",
       "      <th>personal_rehabilitation_yn</th>\n",
       "      <th>personal_rehabilitation_complete_yn</th>\n",
       "      <th>existing_loan_cnt</th>\n",
       "      <th>existing_loan_amt</th>\n",
       "    </tr>\n",
       "  </thead>\n",
       "  <tbody>\n",
       "    <tr>\n",
       "      <th>535078</th>\n",
       "      <td>1</td>\n",
       "      <td>777860</td>\n",
       "      <td>1990.0</td>\n",
       "      <td>1.0</td>\n",
       "      <td>2022-05-06 11:05:42</td>\n",
       "      <td>580.0</td>\n",
       "      <td>40000000.0</td>\n",
       "      <td>EARNEDINCOME</td>\n",
       "      <td>201702.0</td>\n",
       "      <td>정규직</td>\n",
       "      <td>전월세</td>\n",
       "      <td>30000000.0</td>\n",
       "      <td>대환대출</td>\n",
       "      <td>0.0</td>\n",
       "      <td>0.0</td>\n",
       "      <td>NaN</td>\n",
       "      <td>NaN</td>\n",
       "    </tr>\n",
       "  </tbody>\n",
       "</table>\n",
       "</div>"
      ],
      "text/plain": [
       "        application_id  user_id  birth_year  gender          insert_time  \\\n",
       "535078               1   777860      1990.0     1.0  2022-05-06 11:05:42   \n",
       "\n",
       "        credit_score  yearly_income   income_type  company_enter_month  \\\n",
       "535078         580.0     40000000.0  EARNEDINCOME             201702.0   \n",
       "\n",
       "       employment_type houseown_type  desired_amount purpose  \\\n",
       "535078             정규직           전월세      30000000.0    대환대출   \n",
       "\n",
       "        personal_rehabilitation_yn  personal_rehabilitation_complete_yn  \\\n",
       "535078                         0.0                                  0.0   \n",
       "\n",
       "        existing_loan_cnt  existing_loan_amt  \n",
       "535078                NaN                NaN  "
      ]
     },
     "execution_count": 104,
     "metadata": {},
     "output_type": "execute_result"
    }
   ],
   "source": [
    "# 위의 단계가 진행되면 새로운 신청서가 생성됨\n",
    "user[user['application_id'] == 1]"
   ]
  },
  {
   "cell_type": "code",
   "execution_count": 105,
   "id": "56e3eba2",
   "metadata": {},
   "outputs": [
    {
     "data": {
      "text/html": [
       "<div>\n",
       "<style scoped>\n",
       "    .dataframe tbody tr th:only-of-type {\n",
       "        vertical-align: middle;\n",
       "    }\n",
       "\n",
       "    .dataframe tbody tr th {\n",
       "        vertical-align: top;\n",
       "    }\n",
       "\n",
       "    .dataframe thead th {\n",
       "        text-align: right;\n",
       "    }\n",
       "</style>\n",
       "<table border=\"1\" class=\"dataframe\">\n",
       "  <thead>\n",
       "    <tr style=\"text-align: right;\">\n",
       "      <th></th>\n",
       "      <th>application_id</th>\n",
       "      <th>loanapply_insert_time</th>\n",
       "      <th>bank_id</th>\n",
       "      <th>product_id</th>\n",
       "      <th>loan_limit</th>\n",
       "      <th>loan_rate</th>\n",
       "      <th>is_applied</th>\n",
       "    </tr>\n",
       "  </thead>\n",
       "  <tbody>\n",
       "    <tr>\n",
       "      <th>10972627</th>\n",
       "      <td>1</td>\n",
       "      <td>2022-05-06 11:05:57</td>\n",
       "      <td>62</td>\n",
       "      <td>200</td>\n",
       "      <td>8000000.0</td>\n",
       "      <td>14.8</td>\n",
       "      <td>0.0</td>\n",
       "    </tr>\n",
       "    <tr>\n",
       "      <th>10972628</th>\n",
       "      <td>1</td>\n",
       "      <td>2022-05-06 11:05:56</td>\n",
       "      <td>38</td>\n",
       "      <td>16</td>\n",
       "      <td>19000000.0</td>\n",
       "      <td>17.1</td>\n",
       "      <td>0.0</td>\n",
       "    </tr>\n",
       "    <tr>\n",
       "      <th>10972629</th>\n",
       "      <td>1</td>\n",
       "      <td>2022-05-06 11:05:43</td>\n",
       "      <td>38</td>\n",
       "      <td>223</td>\n",
       "      <td>19000000.0</td>\n",
       "      <td>17.1</td>\n",
       "      <td>0.0</td>\n",
       "    </tr>\n",
       "    <tr>\n",
       "      <th>10972630</th>\n",
       "      <td>1</td>\n",
       "      <td>2022-05-06 11:05:44</td>\n",
       "      <td>37</td>\n",
       "      <td>206</td>\n",
       "      <td>32000000.0</td>\n",
       "      <td>18.9</td>\n",
       "      <td>0.0</td>\n",
       "    </tr>\n",
       "    <tr>\n",
       "      <th>10972631</th>\n",
       "      <td>1</td>\n",
       "      <td>2022-05-06 11:05:43</td>\n",
       "      <td>50</td>\n",
       "      <td>142</td>\n",
       "      <td>18000000.0</td>\n",
       "      <td>19.9</td>\n",
       "      <td>0.0</td>\n",
       "    </tr>\n",
       "    <tr>\n",
       "      <th>10972632</th>\n",
       "      <td>1</td>\n",
       "      <td>2022-05-06 11:05:42</td>\n",
       "      <td>59</td>\n",
       "      <td>150</td>\n",
       "      <td>19000000.0</td>\n",
       "      <td>17.7</td>\n",
       "      <td>0.0</td>\n",
       "    </tr>\n",
       "  </tbody>\n",
       "</table>\n",
       "</div>"
      ],
      "text/plain": [
       "          application_id loanapply_insert_time  bank_id  product_id  \\\n",
       "10972627               1   2022-05-06 11:05:57       62         200   \n",
       "10972628               1   2022-05-06 11:05:56       38          16   \n",
       "10972629               1   2022-05-06 11:05:43       38         223   \n",
       "10972630               1   2022-05-06 11:05:44       37         206   \n",
       "10972631               1   2022-05-06 11:05:43       50         142   \n",
       "10972632               1   2022-05-06 11:05:42       59         150   \n",
       "\n",
       "          loan_limit  loan_rate  is_applied  \n",
       "10972627   8000000.0       14.8         0.0  \n",
       "10972628  19000000.0       17.1         0.0  \n",
       "10972629  19000000.0       17.1         0.0  \n",
       "10972630  32000000.0       18.9         0.0  \n",
       "10972631  18000000.0       19.9         0.0  \n",
       "10972632  19000000.0       17.7         0.0  "
      ]
     },
     "execution_count": 105,
     "metadata": {},
     "output_type": "execute_result"
    }
   ],
   "source": [
    "# 최종적으로 승인 여부를 확인하는 것이 가능함\n",
    "## 하나의 신청서에서 하나의 대출 상품을 보는 경우도 있지만\n",
    "## 아래와 같이 여러개의 상품에 대한 대출 승인 여부를 확인하는 것이 가능함\n",
    "## 데이터를 병합할 때, 주의해야할듯함\n",
    "loan[loan['application_id'] == 1]"
   ]
  },
  {
   "cell_type": "code",
   "execution_count": 127,
   "id": "5d653bac",
   "metadata": {},
   "outputs": [
    {
     "data": {
      "text/plain": [
       "array(['Android', 'iOS', 'iPadOS', 'android', nan], dtype=object)"
      ]
     },
     "execution_count": 127,
     "metadata": {},
     "output_type": "execute_result"
    }
   ],
   "source": [
    "# log는 5가지 종류로 이루어져있음\n",
    "## -> 대소문자에 따른 차이가 있는지 확인 후 어떻게 할지 생각해야할듯\n",
    "## -> 단순 os이기 때문에 안드로이드와 ios두가지로 해도 될듯함\n",
    "## 추가로, na값 어떻게 채울지 고민\n",
    "log['mp_os'].unique()"
   ]
  },
  {
   "cell_type": "markdown",
   "id": "47b26a3e",
   "metadata": {},
   "source": [
    "# -ing"
   ]
  }
 ],
 "metadata": {
  "kernelspec": {
   "display_name": "Python 3 (ipykernel)",
   "language": "python",
   "name": "python3"
  },
  "language_info": {
   "codemirror_mode": {
    "name": "ipython",
    "version": 3
   },
   "file_extension": ".py",
   "mimetype": "text/x-python",
   "name": "python",
   "nbconvert_exporter": "python",
   "pygments_lexer": "ipython3",
   "version": "3.8.8"
  }
 },
 "nbformat": 4,
 "nbformat_minor": 5
}
