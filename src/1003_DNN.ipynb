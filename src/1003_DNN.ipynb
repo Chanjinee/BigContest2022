{
  "nbformat": 4,
  "nbformat_minor": 0,
  "metadata": {
    "colab": {
      "provenance": [],
      "collapsed_sections": [],
      "machine_shape": "hm"
    },
    "kernelspec": {
      "name": "python3",
      "display_name": "Python 3"
    },
    "language_info": {
      "name": "python"
    },
    "gpuClass": "premium",
    "accelerator": "GPU"
  },
  "cells": [
    {
      "cell_type": "code",
      "execution_count": null,
      "metadata": {
        "colab": {
          "base_uri": "https://localhost:8080/"
        },
        "id": "lDh1c_uERi6n",
        "outputId": "efb6c0ec-9e9a-4bdd-878a-56318776343f"
      },
      "outputs": [
        {
          "output_type": "stream",
          "name": "stdout",
          "text": [
            "Pandas : 1.3.5\n",
            "seaborn : 0.11.2\n",
            "Python 3.7.14\n"
          ]
        }
      ],
      "source": [
        "import pandas as pd\n",
        "import numpy as np\n",
        "\n",
        "# 시각화\n",
        "import seaborn as sns\n",
        "\n",
        "# 경고 메시지 무시\n",
        "import warnings\n",
        "warnings.filterwarnings(action='ignore') \n",
        "\n",
        "# 버전 확인\n",
        "print('Pandas : %s'%(pd.__version__))\n",
        "print('seaborn : %s'%(sns.__version__))\n",
        "!python --version"
      ]
    },
    {
      "cell_type": "code",
      "source": [
        "from google.colab import drive\n",
        "drive.mount('/content/drive')"
      ],
      "metadata": {
        "colab": {
          "base_uri": "https://localhost:8080/"
        },
        "id": "bAsizb9cSl7Z",
        "outputId": "287f3765-519f-4469-891c-753b312b3857"
      },
      "execution_count": null,
      "outputs": [
        {
          "output_type": "stream",
          "name": "stdout",
          "text": [
            "Mounted at /content/drive\n"
          ]
        }
      ]
    },
    {
      "cell_type": "code",
      "source": [
        "loan = pd.read_csv('/content/drive/MyDrive/2022Bigcontest/data/loan_result.csv')\n",
        "log = pd.read_csv('/content/drive/MyDrive/2022Bigcontest/data/log_data.csv')\n",
        "user = pd.read_csv('/content/drive/MyDrive/2022Bigcontest/data/user_spec.csv')"
      ],
      "metadata": {
        "id": "ZoLD9zngSfE2"
      },
      "execution_count": null,
      "outputs": []
    },
    {
      "cell_type": "code",
      "source": [
        "user.isna().sum()"
      ],
      "metadata": {
        "colab": {
          "base_uri": "https://localhost:8080/"
        },
        "id": "b1_DC39OSfCq",
        "outputId": "7555eb89-9baf-4d92-91c1-5a09d0516878"
      },
      "execution_count": null,
      "outputs": [
        {
          "output_type": "execute_result",
          "data": {
            "text/plain": [
              "application_id                               0\n",
              "user_id                                      0\n",
              "birth_year                               12961\n",
              "gender                                   12961\n",
              "insert_time                                  0\n",
              "credit_score                            105115\n",
              "yearly_income                               90\n",
              "income_type                                 85\n",
              "company_enter_month                     171760\n",
              "employment_type                             85\n",
              "houseown_type                               85\n",
              "desired_amount                              85\n",
              "purpose                                     85\n",
              "personal_rehabilitation_yn              587461\n",
              "personal_rehabilitation_complete_yn    1203354\n",
              "existing_loan_cnt                       198556\n",
              "existing_loan_amt                       313774\n",
              "dtype: int64"
            ]
          },
          "metadata": {},
          "execution_count": 4
        }
      ]
    },
    {
      "cell_type": "code",
      "source": [
        "###### birth_year #####\n",
        "birth_year_mean = user['birth_year'].mean()\n",
        "user['birth_year'] = user['birth_year'].fillna('없음')\n",
        "\n",
        "# 전처리할 데이터 재생성\n",
        "bir = user.groupby('user_id')['birth_year'].apply(set).reset_index()\n",
        "bir['len'] = bir['birth_year'].apply(lambda x:len(x))\n",
        "\n",
        "# 0을 지워주는 함수 생성\n",
        "def remove0(x):\n",
        "    if len(x) == 2: \n",
        "        x_ = x.remove('없음')\n",
        "        return x_\n",
        "    else: return x\n",
        "\n",
        "# 적용\n",
        "bir['birth_year'].apply(remove0)\n",
        "bir['year'] = bir['birth_year'].apply(lambda x:list(x)[0])\n",
        "\n",
        "# 없음을 평균으로 채워줌\n",
        "bir['year'] = bir['year'].apply(lambda x:birth_year_mean if x == '없음' else x)"
      ],
      "metadata": {
        "id": "_6gil6etSe_Q"
      },
      "execution_count": null,
      "outputs": []
    },
    {
      "cell_type": "code",
      "source": [
        "# 딕셔너리로 변환하여 저장\n",
        "birth_year = {x:y for x,y in zip(bir['user_id'], bir['year'])}\n",
        "\n",
        "# 적용하여 변환\n",
        "user['birth_year'] = user['user_id'].apply(lambda x:birth_year[x])"
      ],
      "metadata": {
        "id": "Q55qLik5Se6d"
      },
      "execution_count": null,
      "outputs": []
    },
    {
      "cell_type": "code",
      "source": [
        "###### gender #####\n",
        "user['gender'] = user['gender'].fillna('없음')\n",
        "\n",
        "# 전처리할 데이터 재생성\n",
        "g = user.groupby('user_id')['gender'].apply(set).reset_index()\n",
        "g['len'] = g['gender'].apply(lambda x:len(x))\n",
        "\n",
        "# 0을 지워주는 함수 생성\n",
        "def remove2(x):\n",
        "    if len(x) == 2: \n",
        "        x_ = x.remove('없음')\n",
        "        return x_\n",
        "    else: return x\n",
        "\n",
        "# 적용\n",
        "g['gender'].apply(remove2)\n",
        "g['g'] = g['gender'].apply(lambda x:list(x)[0])\n",
        "g['g'] = g['g'].apply(lambda x:1 if x == '없음' else x)\n",
        "\n",
        "# 딕셔너리로 변환하여 저장\n",
        "gender = {x:y for x,y in zip(g['user_id'], g['g'])}\n",
        "\n",
        "# 적용하여 변환\n",
        "user['gender'] = user['user_id'].apply(lambda x:gender[x])"
      ],
      "metadata": {
        "id": "rUcMODzcSe37"
      },
      "execution_count": null,
      "outputs": []
    },
    {
      "cell_type": "code",
      "source": [
        "# na값을 확인 하였을 때, personal_rehabilitation_complete_yn의 값이 높은데, 이는 개인 회생자가 아닌 사람도 포함 돼있기 때문으로 보임\n",
        "## na중 personal_rehabilitation_yn의 값이 0인 값은 개인회생자 아님 등으로 채워야할 듯함\n",
        "user[user['personal_rehabilitation_complete_yn'].isna()]['personal_rehabilitation_yn'].unique()"
      ],
      "metadata": {
        "colab": {
          "base_uri": "https://localhost:8080/"
        },
        "id": "Orptf3QnSe1y",
        "outputId": "6511b2dc-1cd6-4ea8-9c5e-0f005097882c"
      },
      "execution_count": null,
      "outputs": [
        {
          "output_type": "execute_result",
          "data": {
            "text/plain": [
              "array([ 0., nan])"
            ]
          },
          "metadata": {},
          "execution_count": 8
        }
      ]
    },
    {
      "cell_type": "code",
      "source": [
        "user.query('personal_rehabilitation_yn == 0')['personal_rehabilitation_complete_yn'].value_counts()"
      ],
      "metadata": {
        "colab": {
          "base_uri": "https://localhost:8080/"
        },
        "id": "XTlBbQG3Sezg",
        "outputId": "1d57b945-7ad0-4366-ce3a-de8bdc727138"
      },
      "execution_count": null,
      "outputs": [
        {
          "output_type": "execute_result",
          "data": {
            "text/plain": [
              "0.0    178149\n",
              "1.0         4\n",
              "Name: personal_rehabilitation_complete_yn, dtype: int64"
            ]
          },
          "metadata": {},
          "execution_count": 9
        }
      ]
    },
    {
      "cell_type": "code",
      "source": [
        "user.query('personal_rehabilitation_yn == 1')['personal_rehabilitation_complete_yn'].value_counts()"
      ],
      "metadata": {
        "colab": {
          "base_uri": "https://localhost:8080/"
        },
        "id": "4adF8JOZSew6",
        "outputId": "66d956f6-46e7-4104-af99-939a7c861fb1"
      },
      "execution_count": null,
      "outputs": [
        {
          "output_type": "execute_result",
          "data": {
            "text/plain": [
              "0.0    11361\n",
              "1.0     1348\n",
              "Name: personal_rehabilitation_complete_yn, dtype: int64"
            ]
          },
          "metadata": {},
          "execution_count": 10
        }
      ]
    },
    {
      "cell_type": "code",
      "source": [
        "# 기록이 있으면 개인회생자, 없으면 아닌 사람으로 기록\n",
        "user['personal_rehabilitation_yn'] = user['personal_rehabilitation_complete_yn'].apply(lambda x:1 if x in [0,1] else 0)\n",
        "# 나머지 기록이 na인 값은 전부 개인회생자가 아닌 것으로 확인함 -> 2( 개인회생자아님 )로 채워줌\n",
        "user['personal_rehabilitation_complete_yn'] = user['personal_rehabilitation_complete_yn'].fillna(2)"
      ],
      "metadata": {
        "id": "Vgo15a7ASeub"
      },
      "execution_count": null,
      "outputs": []
    },
    {
      "cell_type": "code",
      "source": [
        "# company_enter_month에 대한 na값은 입사 년월을 입력하지 못하는 사람들이 대부분임\n",
        "## 입사년월이 없는 사람 (ex)개인 사업, 소득이 회사가 아닌 경우 등 )\n",
        "## 다른 옵션으로 채워야할듯함\n",
        "user[user['company_enter_month'].isna()]['income_type'].value_counts()"
      ],
      "metadata": {
        "colab": {
          "base_uri": "https://localhost:8080/"
        },
        "id": "lodjDrIdSesI",
        "outputId": "8e4fa2eb-9d1b-4bce-9ec7-235735155d4b"
      },
      "execution_count": null,
      "outputs": [
        {
          "output_type": "execute_result",
          "data": {
            "text/plain": [
              "OTHERINCOME        171665\n",
              "EARNEDINCOME            7\n",
              "PRIVATEBUSINESS         3\n",
              "Name: income_type, dtype: int64"
            ]
          },
          "metadata": {},
          "execution_count": 12
        }
      ]
    },
    {
      "cell_type": "code",
      "source": [
        "# OTHERINCOME을 제외하면 na값이 적기 때문에 입사년도 없음으로 채워줌\n",
        "user['company_enter_month'] = user['company_enter_month'].fillna('입사년도 없음')"
      ],
      "metadata": {
        "id": "00O5S7DQSepm"
      },
      "execution_count": null,
      "outputs": []
    },
    {
      "cell_type": "code",
      "source": [
        "# 68018명의 사람들의 신용정보 확인 불가능\n",
        "user[['user_id', 'credit_score']].drop_duplicates(subset='user_id').isna().sum()"
      ],
      "metadata": {
        "colab": {
          "base_uri": "https://localhost:8080/"
        },
        "id": "eX_rtjM7Sel0",
        "outputId": "c6e65c5a-e5d1-4abe-f3cf-1049290cfb07"
      },
      "execution_count": null,
      "outputs": [
        {
          "output_type": "execute_result",
          "data": {
            "text/plain": [
              "user_id             0\n",
              "credit_score    68018\n",
              "dtype: int64"
            ]
          },
          "metadata": {},
          "execution_count": 14
        }
      ]
    },
    {
      "cell_type": "code",
      "source": [
        "# 신용 점수가 있는 고객들은 해당 고객이 가진 신용 점수의 평균으로 채워줌\n",
        "user['credit_score'] = user['credit_score'].fillna(user.groupby('user_id')['credit_score'].transform('mean'))"
      ],
      "metadata": {
        "id": "FBvu1Xs1Sejk"
      },
      "execution_count": null,
      "outputs": []
    },
    {
      "cell_type": "code",
      "source": [
        "# 채운 후에도 na값인 경우는 신용 점수를 확인한 적이 한번도 없는 고객임\n",
        "user[user['credit_score'].isna()].groupby('user_id')['credit_score'].count().unique()"
      ],
      "metadata": {
        "colab": {
          "base_uri": "https://localhost:8080/"
        },
        "id": "xT3ZCJKUSehU",
        "outputId": "8708ecb1-d965-4b1f-cd87-c2a0c9b33b4c"
      },
      "execution_count": null,
      "outputs": [
        {
          "output_type": "execute_result",
          "data": {
            "text/plain": [
              "array([0])"
            ]
          },
          "metadata": {},
          "execution_count": 16
        }
      ]
    },
    {
      "cell_type": "code",
      "source": [
        "# 컬럼들과 credit score간의 상관관계를 시각화해 보았으나 의미 X 그냥 평균으로 채움\n",
        "\n",
        "sns.clustermap(user.corr(), \n",
        "               annot = True,      # 실제 값 화면에 나타내기\n",
        "               cmap = 'RdYlBu_r',  # Red, Yellow, Blue 색상으로 표시\n",
        "               vmin = -1, vmax = 1, #컬러차트 -1 ~ 1 범위로 표시\n",
        "              )"
      ],
      "metadata": {
        "colab": {
          "base_uri": "https://localhost:8080/",
          "height": 748
        },
        "id": "RllahcX2SefI",
        "outputId": "84779888-9784-4349-b790-c4ecaf3499a4"
      },
      "execution_count": null,
      "outputs": [
        {
          "output_type": "execute_result",
          "data": {
            "text/plain": [
              "<seaborn.matrix.ClusterGrid at 0x7ff25a0f9690>"
            ]
          },
          "metadata": {},
          "execution_count": 17
        },
        {
          "output_type": "display_data",
          "data": {
            "text/plain": [
              "<Figure size 720x720 with 4 Axes>"
            ],
            "image/png": "[encoded data removed]"
          },
          "metadata": {
            "needs_background": "light"
          }
        }
      ]
    },
    {
      "cell_type": "code",
      "source": [
        "# 평균으로 채워줌\n",
        "user['credit_score'] = user['credit_score'].fillna(user['credit_score'].mean())"
      ],
      "metadata": {
        "id": "YO-JV48vSebr"
      },
      "execution_count": null,
      "outputs": []
    },
    {
      "cell_type": "code",
      "source": [
        "# existing_loan_cnt의 값이 0인 행이 없는 것으로 보아 na인 경우는 기대출수가 0이지 않을까 하는 추축\n",
        "user[user['existing_loan_cnt'] == 0]"
      ],
      "metadata": {
        "colab": {
          "base_uri": "https://localhost:8080/",
          "height": 113
        },
        "id": "gSdZzCeESeZT",
        "outputId": "d3758ccd-bda8-46c3-ddd0-7dfc16076558"
      },
      "execution_count": null,
      "outputs": [
        {
          "output_type": "execute_result",
          "data": {
            "text/plain": [
              "Empty DataFrame\n",
              "Columns: [application_id, user_id, birth_year, gender, insert_time, credit_score, yearly_income, income_type, company_enter_month, employment_type, houseown_type, desired_amount, purpose, personal_rehabilitation_yn, personal_rehabilitation_complete_yn, existing_loan_cnt, existing_loan_amt]\n",
              "Index: []"
            ],
            "text/html": [
              "\n",
              "  <div id=\"df-e0e9ad05-8257-4e27-99fa-93eeb8f0e44b\">\n",
              "    <div class=\"colab-df-container\">\n",
              "      <div>\n",
              "<style scoped>\n",
              "    .dataframe tbody tr th:only-of-type {\n",
              "        vertical-align: middle;\n",
              "    }\n",
              "\n",
              "    .dataframe tbody tr th {\n",
              "        vertical-align: top;\n",
              "    }\n",
              "\n",
              "    .dataframe thead th {\n",
              "        text-align: right;\n",
              "    }\n",
              "</style>\n",
              "<table border=\"1\" class=\"dataframe\">\n",
              "  <thead>\n",
              "    <tr style=\"text-align: right;\">\n",
              "      <th></th>\n",
              "      <th>application_id</th>\n",
              "      <th>user_id</th>\n",
              "      <th>birth_year</th>\n",
              "      <th>gender</th>\n",
              "      <th>insert_time</th>\n",
              "      <th>credit_score</th>\n",
              "      <th>yearly_income</th>\n",
              "      <th>income_type</th>\n",
              "      <th>company_enter_month</th>\n",
              "      <th>employment_type</th>\n",
              "      <th>houseown_type</th>\n",
              "      <th>desired_amount</th>\n",
              "      <th>purpose</th>\n",
              "      <th>personal_rehabilitation_yn</th>\n",
              "      <th>personal_rehabilitation_complete_yn</th>\n",
              "      <th>existing_loan_cnt</th>\n",
              "      <th>existing_loan_amt</th>\n",
              "    </tr>\n",
              "  </thead>\n",
              "  <tbody>\n",
              "  </tbody>\n",
              "</table>\n",
              "</div>\n",
              "      <button class=\"colab-df-convert\" onclick=\"convertToInteractive('df-e0e9ad05-8257-4e27-99fa-93eeb8f0e44b')\"\n",
              "              title=\"Convert this dataframe to an interactive table.\"\n",
              "              style=\"display:none;\">\n",
              "        \n",
              "  <svg xmlns=\"http://www.w3.org/2000/svg\" height=\"24px\"viewBox=\"0 0 24 24\"\n",
              "       width=\"24px\">\n",
              "    <path d=\"M0 0h24v24H0V0z\" fill=\"none\"/>\n",
              "    <path d=\"M18.56 5.44l.94 2.06.94-2.06 2.06-.94-2.06-.94-.94-2.06-.94 2.06-2.06.94zm-11 1L8.5 8.5l.94-2.06 2.06-.94-2.06-.94L8.5 2.5l-.94 2.06-2.06.94zm10 10l.94 2.06.94-2.06 2.06-.94-2.06-.94-.94-2.06-.94 2.06-2.06.94z\"/><path d=\"M17.41 7.96l-1.37-1.37c-.4-.4-.92-.59-1.43-.59-.52 0-1.04.2-1.43.59L10.3 9.45l-7.72 7.72c-.78.78-.78 2.05 0 2.83L4 21.41c.39.39.9.59 1.41.59.51 0 1.02-.2 1.41-.59l7.78-7.78 2.81-2.81c.8-.78.8-2.07 0-2.86zM5.41 20L4 18.59l7.72-7.72 1.47 1.35L5.41 20z\"/>\n",
              "  </svg>\n",
              "      </button>\n",
              "      \n",
              "  <style>\n",
              "    .colab-df-container {\n",
              "      display:flex;\n",
              "      flex-wrap:wrap;\n",
              "      gap: 12px;\n",
              "    }\n",
              "\n",
              "    .colab-df-convert {\n",
              "      background-color: #E8F0FE;\n",
              "      border: none;\n",
              "      border-radius: 50%;\n",
              "      cursor: pointer;\n",
              "      display: none;\n",
              "      fill: #1967D2;\n",
              "      height: 32px;\n",
              "      padding: 0 0 0 0;\n",
              "      width: 32px;\n",
              "    }\n",
              "\n",
              "    .colab-df-convert:hover {\n",
              "      background-color: #E2EBFA;\n",
              "      box-shadow: 0px 1px 2px rgba(60, 64, 67, 0.3), 0px 1px 3px 1px rgba(60, 64, 67, 0.15);\n",
              "      fill: #174EA6;\n",
              "    }\n",
              "\n",
              "    [theme=dark] .colab-df-convert {\n",
              "      background-color: #3B4455;\n",
              "      fill: #D2E3FC;\n",
              "    }\n",
              "\n",
              "    [theme=dark] .colab-df-convert:hover {\n",
              "      background-color: #434B5C;\n",
              "      box-shadow: 0px 1px 3px 1px rgba(0, 0, 0, 0.15);\n",
              "      filter: drop-shadow(0px 1px 2px rgba(0, 0, 0, 0.3));\n",
              "      fill: #FFFFFF;\n",
              "    }\n",
              "  </style>\n",
              "\n",
              "      <script>\n",
              "        const buttonEl =\n",
              "          document.querySelector('#df-e0e9ad05-8257-4e27-99fa-93eeb8f0e44b button.colab-df-convert');\n",
              "        buttonEl.style.display =\n",
              "          google.colab.kernel.accessAllowed ? 'block' : 'none';\n",
              "\n",
              "        async function convertToInteractive(key) {\n",
              "          const element = document.querySelector('#df-e0e9ad05-8257-4e27-99fa-93eeb8f0e44b');\n",
              "          const dataTable =\n",
              "            await google.colab.kernel.invokeFunction('convertToInteractive',\n",
              "                                                     [key], {});\n",
              "          if (!dataTable) return;\n",
              "\n",
              "          const docLinkHtml = 'Like what you see? Visit the ' +\n",
              "            '<a target=\"_blank\" href=https://colab.research.google.com/notebooks/data_table.ipynb>data table notebook</a>'\n",
              "            + ' to learn more about interactive tables.';\n",
              "          element.innerHTML = '';\n",
              "          dataTable['output_type'] = 'display_data';\n",
              "          await google.colab.output.renderOutput(dataTable, element);\n",
              "          const docLink = document.createElement('div');\n",
              "          docLink.innerHTML = docLinkHtml;\n",
              "          element.appendChild(docLink);\n",
              "        }\n",
              "      </script>\n",
              "    </div>\n",
              "  </div>\n",
              "  "
            ]
          },
          "metadata": {},
          "execution_count": 19
        }
      ]
    },
    {
      "cell_type": "code",
      "source": [
        "# existing_loan_cnt가 na인 값의 amt는 모두 na인 모습을 보임\n",
        "user[user['existing_loan_cnt'].isna()][['existing_loan_cnt','existing_loan_amt']].isna().sum()"
      ],
      "metadata": {
        "colab": {
          "base_uri": "https://localhost:8080/"
        },
        "id": "lxO24iYdTsGX",
        "outputId": "320640c6-7481-4f38-fd61-b912c6d1e82f"
      },
      "execution_count": null,
      "outputs": [
        {
          "output_type": "execute_result",
          "data": {
            "text/plain": [
              "existing_loan_cnt    198556\n",
              "existing_loan_amt    198556\n",
              "dtype: int64"
            ]
          },
          "metadata": {},
          "execution_count": 20
        }
      ]
    },
    {
      "cell_type": "code",
      "source": [
        "# existing_loan_cnt와 existing_loan_amt의 수가 na인 값은 0으로 채워줌\n",
        "user['existing_loan_cnt'] = user['existing_loan_cnt'].fillna(0)\n",
        "user['existing_loan_amt'] = user['existing_loan_amt'].fillna(0)"
      ],
      "metadata": {
        "id": "IiavrmINTsES"
      },
      "execution_count": null,
      "outputs": []
    },
    {
      "cell_type": "code",
      "source": [
        "# 연소득이 na인 값의 소득 경로를 확인해 본 결과 na인 값이 85개, 다른 수익 4, 프리랜서가 1인 모습을 보임\n",
        "## -> 즉, na인 것은 연소득이 없다는 뜻임\n",
        "user[user['yearly_income'].isna()]['income_type'].value_counts()"
      ],
      "metadata": {
        "colab": {
          "base_uri": "https://localhost:8080/"
        },
        "id": "ARUTyllSTsCH",
        "outputId": "425325e5-c39a-491a-a88b-5529d978c5dd"
      },
      "execution_count": null,
      "outputs": [
        {
          "output_type": "execute_result",
          "data": {
            "text/plain": [
              "OTHERINCOME    4\n",
              "FREELANCER     1\n",
              "Name: income_type, dtype: int64"
            ]
          },
          "metadata": {},
          "execution_count": 22
        }
      ]
    },
    {
      "cell_type": "code",
      "source": [
        "# 0으로 채워줌\n",
        "user['yearly_income'] = user['yearly_income'].fillna(0)\n",
        "user['income_type'] = user['income_type'].fillna('직장없음')"
      ],
      "metadata": {
        "id": "BuXSoeZmTsAM"
      },
      "execution_count": null,
      "outputs": []
    },
    {
      "cell_type": "code",
      "source": [
        "# employment_type의 경우 company_enter_month의 값이 입사년도없음임\n",
        "user[user['employment_type'].isna()]['company_enter_month'].unique()"
      ],
      "metadata": {
        "colab": {
          "base_uri": "https://localhost:8080/"
        },
        "id": "OgQgHG1qTr-y",
        "outputId": "624ab1e4-5368-4b3d-ec39-312b3a441418"
      },
      "execution_count": null,
      "outputs": [
        {
          "output_type": "execute_result",
          "data": {
            "text/plain": [
              "array(['입사년도 없음'], dtype=object)"
            ]
          },
          "metadata": {},
          "execution_count": 24
        }
      ]
    },
    {
      "cell_type": "code",
      "source": [
        "# 입사년도가 없다는 것은 기타이기 때문에 기타로 채워줌\n",
        "user['employment_type'] = user['employment_type'].fillna('기타')"
      ],
      "metadata": {
        "id": "cnyFjknATr84"
      },
      "execution_count": null,
      "outputs": []
    },
    {
      "cell_type": "code",
      "source": [
        "# houseown_type이 na인 값은 그냥 귀찮아서 안찍은듯함\n",
        "user['houseown_type'].unique()"
      ],
      "metadata": {
        "colab": {
          "base_uri": "https://localhost:8080/"
        },
        "id": "pSR0P2VJT3hI",
        "outputId": "f42746f6-a23b-40f4-ae23-219dace9a845"
      },
      "execution_count": null,
      "outputs": [
        {
          "output_type": "execute_result",
          "data": {
            "text/plain": [
              "array(['자가', '기타가족소유', '전월세', '배우자', nan], dtype=object)"
            ]
          },
          "metadata": {},
          "execution_count": 26
        }
      ]
    },
    {
      "cell_type": "code",
      "source": [
        "## -> 정보없음으로 채워줌\n",
        "user['houseown_type'] = user['houseown_type'].fillna('정보없음')"
      ],
      "metadata": {
        "id": "tYbuy6loT3fV"
      },
      "execution_count": null,
      "outputs": []
    },
    {
      "cell_type": "code",
      "source": [
        "# 이 경우도 선택을 그냥 하지 않은 경우이기 때문에 최빈값으로 채워줌\n",
        "## 단순한 궁금증으로 인하여 선택을 한 경우라고 판단 -> 가장 많이 원하는 금액으로 채움\n",
        "user['desired_amount'] = user['desired_amount'].fillna(user['desired_amount'].mode()[0])"
      ],
      "metadata": {
        "id": "9kpgny5kT3a7"
      },
      "execution_count": null,
      "outputs": []
    },
    {
      "cell_type": "code",
      "source": [
        "# 목적 또한 위와 같음\n",
        "## 최빈값으로 채움\n",
        "user['purpose'] = user['purpose'].fillna(user['purpose'].mode()[0])"
      ],
      "metadata": {
        "id": "Qn4Y1FDaT3Yw"
      },
      "execution_count": null,
      "outputs": []
    },
    {
      "cell_type": "code",
      "source": [
        "user.isna().sum()"
      ],
      "metadata": {
        "colab": {
          "base_uri": "https://localhost:8080/"
        },
        "id": "hMoz_R0AT3Wp",
        "outputId": "1566d708-6cba-4d27-b94e-c66db54a4b3f"
      },
      "execution_count": null,
      "outputs": [
        {
          "output_type": "execute_result",
          "data": {
            "text/plain": [
              "application_id                         0\n",
              "user_id                                0\n",
              "birth_year                             0\n",
              "gender                                 0\n",
              "insert_time                            0\n",
              "credit_score                           0\n",
              "yearly_income                          0\n",
              "income_type                            0\n",
              "company_enter_month                    0\n",
              "employment_type                        0\n",
              "houseown_type                          0\n",
              "desired_amount                         0\n",
              "purpose                                0\n",
              "personal_rehabilitation_yn             0\n",
              "personal_rehabilitation_complete_yn    0\n",
              "existing_loan_cnt                      0\n",
              "existing_loan_amt                      0\n",
              "dtype: int64"
            ]
          },
          "metadata": {},
          "execution_count": 30
        }
      ]
    },
    {
      "cell_type": "code",
      "source": [],
      "metadata": {
        "id": "2eJuftTIT3Uy"
      },
      "execution_count": null,
      "outputs": []
    },
    {
      "cell_type": "code",
      "execution_count": null,
      "metadata": {
        "id": "cbc0e205",
        "outputId": "36136793-7187-47c2-f41b-e9cde7d42006",
        "colab": {
          "base_uri": "https://localhost:8080/"
        }
      },
      "outputs": [
        {
          "output_type": "execute_result",
          "data": {
            "text/plain": [
              "26"
            ]
          },
          "metadata": {},
          "execution_count": 31
        }
      ],
      "source": [
        "# 데이터가 중복인 경우가 25개 존재하여 삭제해줌\n",
        "len(loan[loan.duplicated()])"
      ]
    },
    {
      "cell_type": "code",
      "execution_count": null,
      "metadata": {
        "id": "4009a079"
      },
      "outputs": [],
      "source": [
        "# 중복 제거하여 데이터 선언\n",
        "loan = loan.drop_duplicates()"
      ]
    },
    {
      "cell_type": "markdown",
      "metadata": {
        "id": "106b7f17"
      },
      "source": [
        "- 결측값 처리"
      ]
    },
    {
      "cell_type": "code",
      "execution_count": null,
      "metadata": {
        "id": "71cf6176",
        "outputId": "e103359d-5b21-4080-89c0-9142628a7fc7",
        "colab": {
          "base_uri": "https://localhost:8080/"
        }
      },
      "outputs": [
        {
          "output_type": "execute_result",
          "data": {
            "text/plain": [
              "application_id                 0\n",
              "loanapply_insert_time          0\n",
              "bank_id                        0\n",
              "product_id                     0\n",
              "loan_limit                  7495\n",
              "loan_rate                   7495\n",
              "is_applied               3257223\n",
              "dtype: int64"
            ]
          },
          "metadata": {},
          "execution_count": 33
        }
      ],
      "source": [
        "loan.isna().sum()"
      ]
    },
    {
      "cell_type": "code",
      "execution_count": null,
      "metadata": {
        "id": "71ae4708",
        "outputId": "d9620f4d-0a66-4d67-dcd0-944a2f6195fb",
        "colab": {
          "base_uri": "https://localhost:8080/"
        }
      },
      "outputs": [
        {
          "output_type": "execute_result",
          "data": {
            "text/plain": [
              "array([nan])"
            ]
          },
          "metadata": {},
          "execution_count": 34
        }
      ],
      "source": [
        "# loan_limit과 loan_rate는 동일한 행에서 na값을 가짐을 확인\n",
        "loan[loan['loan_limit'].isna()]['loan_rate'].unique()"
      ]
    },
    {
      "cell_type": "code",
      "execution_count": null,
      "metadata": {
        "id": "71493608",
        "outputId": "8ea01345-bf68-4df8-9101-6f4e19f55354",
        "colab": {
          "base_uri": "https://localhost:8080/"
        }
      },
      "outputs": [
        {
          "output_type": "execute_result",
          "data": {
            "text/plain": [
              "1.0    5738\n",
              "Name: is_applied, dtype: int64"
            ]
          },
          "metadata": {},
          "execution_count": 35
        }
      ],
      "source": [
        "# 타겟값에 대한 확인을 위해 월별로 확인\n",
        "loan['month'] = loan['loanapply_insert_time'].apply(lambda x:int(x[5:7]))\n",
        "\n",
        "# train data의 경우 loan_limit과 loan_rate가 na인 경우 타겟값이 모두 1임을 알 수 있음\n",
        "loan[(loan['loan_limit'].isna()) & (loan['month'] != 6)]['is_applied'].value_counts()"
      ]
    },
    {
      "cell_type": "code",
      "execution_count": null,
      "metadata": {
        "id": "0d12d538",
        "outputId": "414afd06-9aad-46cb-8d41-b0c8fda9192c",
        "colab": {
          "base_uri": "https://localhost:8080/"
        }
      },
      "outputs": [
        {
          "output_type": "execute_result",
          "data": {
            "text/plain": [
              "0.0    9709673\n",
              "1.0     560441\n",
              "Name: is_applied, dtype: int64"
            ]
          },
          "metadata": {},
          "execution_count": 36
        }
      ],
      "source": [
        "# 전체 타겟값 대비 1% 정도가 위와 같은 모습을 보임\n",
        "## -> 비슷한 형태를 띄는 행으로 결측값 대체\n",
        "loan['is_applied'].value_counts()"
      ]
    },
    {
      "cell_type": "markdown",
      "metadata": {
        "id": "e8d19c40"
      },
      "source": [
        "    - loan_rate"
      ]
    },
    {
      "cell_type": "code",
      "execution_count": null,
      "metadata": {
        "id": "b410e588"
      },
      "outputs": [],
      "source": [
        "# 일부 행만 null인 경우 결측치를 product별 평균\n",
        "product_list = loan[loan['loan_limit'].isna()]['product_id'].unique()\n",
        "\n",
        "for i in product_list:\n",
        "    len_rate = loan[loan['product_id'] == i]['loan_rate'].unique()\n",
        "    \n",
        "    if len(len_rate) > 1:\n",
        "        loan.loc[(loan['product_id'] == i) & (loan['loan_rate'].isna()), 'loan_rate'] = round(np.nanmean(len_rate), 1)\n",
        "\n",
        "        \n",
        "# 모두 null인 경우 결측치를 application별 평균\n",
        "loan['loan_rate'] = loan['loan_rate'].fillna(loan.groupby('application_id')['loan_rate'].transform('mean'))\n",
        "\n",
        "# application이 하나인 데이터 최빈값 대체\n",
        "loan['loan_rate'] = loan['loan_rate'].fillna(loan['loan_rate'].mode()[0])"
      ]
    },
    {
      "cell_type": "markdown",
      "metadata": {
        "id": "d751571d"
      },
      "source": [
        "    - loan_limit"
      ]
    },
    {
      "cell_type": "code",
      "execution_count": null,
      "metadata": {
        "id": "5f23b950"
      },
      "outputs": [],
      "source": [
        "# loan_limit 결측치를 application별로 평균\n",
        "loan['loan_limit'] = loan['loan_limit'].fillna(loan.groupby('application_id')['loan_limit'].transform('mean'))\n",
        "\n",
        "# application이 하나인 결측치 최빈값으로\n",
        "loan['loan_limit'] = loan['loan_limit'].fillna(loan['loan_limit'].mode()[0])"
      ]
    },
    {
      "cell_type": "code",
      "execution_count": null,
      "metadata": {
        "id": "f710437a",
        "outputId": "e0e643f1-4bdb-489f-fce1-bed079d27413",
        "colab": {
          "base_uri": "https://localhost:8080/"
        }
      },
      "outputs": [
        {
          "output_type": "execute_result",
          "data": {
            "text/plain": [
              "application_id                 0\n",
              "loanapply_insert_time          0\n",
              "bank_id                        0\n",
              "product_id                     0\n",
              "loan_limit                     0\n",
              "loan_rate                      0\n",
              "is_applied               3257223\n",
              "month                          0\n",
              "dtype: int64"
            ]
          },
          "metadata": {},
          "execution_count": 39
        }
      ],
      "source": [
        "loan.isna().sum()"
      ]
    },
    {
      "cell_type": "markdown",
      "metadata": {
        "id": "696ebdea"
      },
      "source": [
        "## 변수 생성"
      ]
    },
    {
      "cell_type": "markdown",
      "metadata": {
        "id": "fcd628f9"
      },
      "source": [
        "- user"
      ]
    },
    {
      "cell_type": "code",
      "execution_count": null,
      "metadata": {
        "id": "7f53f7a6"
      },
      "outputs": [],
      "source": [
        "### 대출 이력 ###\n",
        "# 대출 이력이 있는 고객은1 없는 고객은 0으로 채워줌\n",
        "true_list = loan[loan['is_applied'] == 1]['application_id'].unique()\n",
        "user['loan_history'] = user['application_id'].apply(lambda x:1 if x in true_list else 0)"
      ]
    },
    {
      "cell_type": "code",
      "execution_count": null,
      "metadata": {
        "id": "f806c0ee"
      },
      "outputs": [],
      "source": [
        "### insert time 날짜 변경 ### \n",
        "# insert time : 한도조회 당시 시간\n",
        "user['insert_time'] = pd.to_datetime(user['insert_time'])"
      ]
    },
    {
      "cell_type": "code",
      "execution_count": null,
      "metadata": {
        "id": "6dec5dc7"
      },
      "outputs": [],
      "source": [
        "### 나이 ###\n",
        "# 현시점의 나이를 계산해서 변수로 생성\n",
        "user['age'] = user['birth_year'].apply(lambda x:2022 - x if x!= '없음' else x)"
      ]
    },
    {
      "cell_type": "code",
      "execution_count": null,
      "metadata": {
        "id": "32ad6460"
      },
      "outputs": [],
      "source": [
        "\n",
        "### 연령대 ###\n",
        "user['age_group'] = user['age'].apply(lambda x:f'{str(x)[0]}0대' if x != '없음' else x)"
      ]
    },
    {
      "cell_type": "code",
      "execution_count": null,
      "metadata": {
        "id": "3c3b53fe"
      },
      "outputs": [],
      "source": [
        "### 신용등급 ###\n",
        "# finda 신용등급은 코리아크레딧뷰로(KCB)사용\n",
        "def credit_rating(x):\n",
        "    if x >= 942:return 1\n",
        "    elif x >= 891:return 2\n",
        "    elif x >= 832:return 3\n",
        "    elif x >= 768:return 4\n",
        "    elif x >= 698:return 5\n",
        "    elif x >= 630:return 6\n",
        "    elif x >= 530:return 7\n",
        "    elif x >= 454:return 8\n",
        "    elif x >= 335:return 9\n",
        "    else:return 10\n",
        "    \n",
        "user['credit_rating'] = user['credit_score'].apply(credit_rating)"
      ]
    },
    {
      "cell_type": "code",
      "execution_count": null,
      "metadata": {
        "id": "59a907be"
      },
      "outputs": [],
      "source": [
        "### 소득등급 ###\n",
        "# 상세 소득수준(ex.연령대별 평균과 비교) or 세분화된 소득분위(ex.10등급으로 세분, 장학재단에서 사용하는 소득분위) 추가\n",
        "percent = user['yearly_income'].describe()\n",
        "\n",
        "def income_rating(x):\n",
        "    if x < percent[4]:return 4\n",
        "    elif x < percent[5]:return 3\n",
        "    elif x < percent[6]:return 2\n",
        "    else:return 1\n",
        "\n",
        "user['income_rating'] = user['yearly_income'].apply(income_rating)"
      ]
    },
    {
      "cell_type": "code",
      "execution_count": null,
      "metadata": {
        "id": "bf15f6b7"
      },
      "outputs": [],
      "source": [
        "### 근속년수 ###\n",
        "user['service_year'] = user['company_enter_month'].apply(lambda x:2022- int(str(x)[:4]) + 1 if x != '입사년도 없음' else x)"
      ]
    },
    {
      "cell_type": "code",
      "execution_count": null,
      "metadata": {
        "id": "49ba27bd"
      },
      "outputs": [],
      "source": [
        "### 기대출 평균 금액 ###\n",
        "user['avg_existing_loan_amt'] = user['existing_loan_amt'] / user['existing_loan_cnt']\n",
        "user['avg_existing_loan_amt'] = user['avg_existing_loan_amt'].fillna(user['avg_existing_loan_amt'].mean())"
      ]
    },
    {
      "cell_type": "code",
      "execution_count": null,
      "metadata": {
        "id": "5070c413"
      },
      "outputs": [],
      "source": [
        "### 대출 조회 건수 ###\n",
        "count = user.groupby('user_id')['application_id'].count()\n",
        "user['application_count'] = user['user_id'].apply(lambda x : count[x])"
      ]
    },
    {
      "cell_type": "code",
      "execution_count": null,
      "metadata": {
        "id": "db1a6fa3"
      },
      "outputs": [],
      "source": [
        "### 신용평가 시간 ###\n",
        "def insert_classification(x):\n",
        "    if 2 <= x <= 5:return \"새벽\"\n",
        "    elif x <= 9:return \"아침\"\n",
        "    elif x <= 13:return \"점심\"\n",
        "    elif x <= 18:return \"낮\"\n",
        "    elif x <= 22:return \"저녁\"\n",
        "    else:return \"밤\"\n",
        "\n",
        "user['insert_classification'] = user['insert_time'].dt.hour.apply(insert_classification)"
      ]
    },
    {
      "cell_type": "code",
      "execution_count": null,
      "metadata": {
        "id": "0a9108d2"
      },
      "outputs": [],
      "source": [
        "### income_type 별 소득 수준 ###\n",
        "income_type = user.groupby('income_type')['yearly_income'].agg('median')\n",
        "\n",
        "user['income_income_level'] = user.apply(lambda x: \"직장없음\" if x['income_type'] == \"직장없음\" else \n",
        "                                         (\"평균 미만\" if x['yearly_income'] < income_type[x['income_type']] else \"평균 이상\"), axis = 1)"
      ]
    },
    {
      "cell_type": "code",
      "execution_count": null,
      "metadata": {
        "id": "b328e128"
      },
      "outputs": [],
      "source": [
        "### 연소득 대비 대출 희망금액 비율 ###\n",
        "user['income_desired_ratio'] = user['desired_amount'] / user['yearly_income']\n",
        "# 나누는 값이 0인 경우 처리\n",
        "user['income_desired_ratio'] = user['income_desired_ratio'].fillna(user['income_desired_ratio'].mean())"
      ]
    },
    {
      "cell_type": "code",
      "execution_count": null,
      "metadata": {
        "id": "cf8c5052"
      },
      "outputs": [],
      "source": [
        "### 연소득 대비 기대출 금액 비율 ###\n",
        "user['income_existing_ratio'] = user['existing_loan_amt'] / user['yearly_income']\n",
        "# 나누는 값이 0인 경우 처리\n",
        "user['income_existing_ratio'] = user['income_existing_ratio'].fillna(user['income_existing_ratio'].mean())"
      ]
    },
    {
      "cell_type": "markdown",
      "metadata": {
        "id": "cf0bdeb2"
      },
      "source": [
        "- loan"
      ]
    },
    {
      "cell_type": "code",
      "execution_count": null,
      "metadata": {
        "id": "1858a264"
      },
      "outputs": [],
      "source": [
        "### loanapply_insert_time 날짜 변경 ###\n",
        "loan['loanapply_insert_time'] = pd.to_datetime(loan['loanapply_insert_time'])"
      ]
    },
    {
      "cell_type": "code",
      "source": [
        "import gc\n",
        "gc.collect()"
      ],
      "metadata": {
        "colab": {
          "base_uri": "https://localhost:8080/"
        },
        "id": "uxIo2w5Yf5lp",
        "outputId": "714a466e-8e64-4e98-daed-e27cedf4ea40"
      },
      "execution_count": null,
      "outputs": [
        {
          "output_type": "execute_result",
          "data": {
            "text/plain": [
              "88"
            ]
          },
          "metadata": {},
          "execution_count": 54
        }
      ]
    },
    {
      "cell_type": "markdown",
      "metadata": {
        "id": "cb0f6391"
      },
      "source": [
        "## 데이터 병합 및 저장"
      ]
    },
    {
      "cell_type": "code",
      "execution_count": null,
      "metadata": {
        "id": "156930f7"
      },
      "outputs": [],
      "source": [
        "# 데이터 병합\n",
        "data = pd.merge(loan, user, on = \"application_id\").reset_index(drop = True)\n",
        "# 예측을 위한 pk는 인덱스이기 때문에 불러올때 인덱스를 컬럼으로 가져옴\n",
        "data = data.reset_index()"
      ]
    },
    {
      "cell_type": "code",
      "execution_count": null,
      "metadata": {
        "id": "bf9e672b"
      },
      "outputs": [],
      "source": [
        "# 다양한 type의 데이터가 존재하는 변수를 모두 str로 통일해줌\n",
        "data['company_enter_month'] = data['company_enter_month'].astype(str)\n",
        "data['service_year'] = data['service_year'].astype(str)\n",
        "\n",
        "# datetime 인코딩 문제로 object로 변경\n",
        "data['loanapply_insert_time'] = data['loanapply_insert_time'].astype(str)\n",
        "data['insert_time'] = data['insert_time'].astype(str)"
      ]
    },
    {
      "cell_type": "code",
      "source": [
        "data.to_csv('/content/drive/MyDrive/2022Bigcontest/data/data.csv', index=False)"
      ],
      "metadata": {
        "id": "7Qo-grQ-dT3V"
      },
      "execution_count": null,
      "outputs": []
    },
    {
      "cell_type": "code",
      "source": [
        "data.info()"
      ],
      "metadata": {
        "colab": {
          "base_uri": "https://localhost:8080/"
        },
        "id": "dO_pi1-8T3S0",
        "outputId": "c17d0250-3cea-41e8-fa21-ebc87e3e19af"
      },
      "execution_count": null,
      "outputs": [
        {
          "output_type": "stream",
          "name": "stdout",
          "text": [
            "<class 'pandas.core.frame.DataFrame'>\n",
            "RangeIndex: 13527224 entries, 0 to 13527223\n",
            "Data columns (total 37 columns):\n",
            " #   Column                               Dtype  \n",
            "---  ------                               -----  \n",
            " 0   index                                int64  \n",
            " 1   application_id                       int64  \n",
            " 2   loanapply_insert_time                object \n",
            " 3   bank_id                              int64  \n",
            " 4   product_id                           int64  \n",
            " 5   loan_limit                           float64\n",
            " 6   loan_rate                            float64\n",
            " 7   is_applied                           float64\n",
            " 8   month                                int64  \n",
            " 9   user_id                              int64  \n",
            " 10  birth_year                           float64\n",
            " 11  gender                               float64\n",
            " 12  insert_time                          object \n",
            " 13  credit_score                         float64\n",
            " 14  yearly_income                        float64\n",
            " 15  income_type                          object \n",
            " 16  company_enter_month                  object \n",
            " 17  employment_type                      object \n",
            " 18  houseown_type                        object \n",
            " 19  desired_amount                       float64\n",
            " 20  purpose                              object \n",
            " 21  personal_rehabilitation_yn           int64  \n",
            " 22  personal_rehabilitation_complete_yn  float64\n",
            " 23  existing_loan_cnt                    float64\n",
            " 24  existing_loan_amt                    float64\n",
            " 25  loan_history                         int64  \n",
            " 26  age                                  float64\n",
            " 27  age_group                            object \n",
            " 28  credit_rating                        int64  \n",
            " 29  income_rating                        int64  \n",
            " 30  service_year                         object \n",
            " 31  avg_existing_loan_amt                float64\n",
            " 32  application_count                    int64  \n",
            " 33  insert_classification                object \n",
            " 34  income_income_level                  object \n",
            " 35  income_desired_ratio                 float64\n",
            " 36  income_existing_ratio                float64\n",
            "dtypes: float64(15), int64(11), object(11)\n",
            "memory usage: 3.7+ GB\n"
          ]
        }
      ]
    },
    {
      "cell_type": "code",
      "source": [
        "import os\n",
        "import pandas as pd\n",
        "import numpy as np\n",
        "import gc\n",
        "\n",
        "import matplotlib.pyplot as plt\n",
        "from scipy import stats# Imports\n",
        "import torch\n",
        "\n",
        "import torchvision\n",
        "import torch.nn as nn\n",
        "\n",
        "import torch.nn.functional as F\n",
        "\n",
        "from torch.utils.data import DataLoader, TensorDataset, random_split\n",
        "from sklearn.preprocessing import LabelEncoder"
      ],
      "metadata": {
        "id": "DMSY0h-DYmJS"
      },
      "execution_count": 1,
      "outputs": []
    },
    {
      "cell_type": "code",
      "source": [
        "gc.collect()"
      ],
      "metadata": {
        "colab": {
          "base_uri": "https://localhost:8080/"
        },
        "id": "ViOfkh8maJLM",
        "outputId": "371b739e-2c19-4591-84d0-644e5b4fc7fa"
      },
      "execution_count": 2,
      "outputs": [
        {
          "output_type": "execute_result",
          "data": {
            "text/plain": [
              "22"
            ]
          },
          "metadata": {},
          "execution_count": 2
        }
      ]
    },
    {
      "cell_type": "code",
      "source": [
        "from google.colab import drive\n",
        "drive.mount('/content/drive')"
      ],
      "metadata": {
        "id": "0IrSk5ywekmT",
        "colab": {
          "base_uri": "https://localhost:8080/"
        },
        "outputId": "536ca19a-911e-4c2f-aae4-5cbbb5b8696a"
      },
      "execution_count": 3,
      "outputs": [
        {
          "output_type": "stream",
          "name": "stdout",
          "text": [
            "Mounted at /content/drive\n"
          ]
        }
      ]
    },
    {
      "cell_type": "code",
      "source": [
        "data = pd.read_csv('/content/drive/MyDrive/2022Bigcontest/data/data.csv')"
      ],
      "metadata": {
        "id": "GuqwR_X_elGx"
      },
      "execution_count": 3,
      "outputs": []
    },
    {
      "cell_type": "code",
      "source": [
        "train = data[data['is_applied'].isna() == False].reset_index(drop=True)\n",
        "test = data[data['is_applied'].isna()].reset_index(drop=True)"
      ],
      "metadata": {
        "id": "6U4yMFUvT3QZ"
      },
      "execution_count": 4,
      "outputs": []
    },
    {
      "cell_type": "code",
      "source": [
        "# 범주형 변수와 수치형 변수를 분리\n",
        "## train\n",
        "cat_feature_tr = train.iloc[:,1:].select_dtypes(include=['object']).columns.to_list()\n",
        "num_feature_tr = train.iloc[:,1:].select_dtypes(exclude='object').columns.to_list() \n",
        "## test\n",
        "#cat_feature_val = x_valid.iloc[:,1:].select_dtypes(include=['object']).columns.to_list()\n",
        "#num_feature_val = x_valid.iloc[:,1:].select_dtypes(exclude='object').columns.to_list()"
      ],
      "metadata": {
        "id": "doMIaud_T3OQ"
      },
      "execution_count": 5,
      "outputs": []
    },
    {
      "cell_type": "code",
      "source": [
        "# Labelencoder\n",
        "encoder = LabelEncoder()\n",
        "encoded_cat_tr = []\n",
        "encoded_cat_val = []\n",
        "for f in cat_feature_tr:\n",
        "    encoder = encoder.fit(train.reset_index(drop=True)[f])\n",
        "    encoded_cat_tr.append(pd.DataFrame(encoder.transform(train[f]),columns = [f])) # train\n",
        "    #encoded_cat_val.append(pd.DataFrame(encoder.transform(x_valid[f]),columns = [f])) # test\n",
        "\n",
        "# 합쳐줌\n",
        "cat_tr = pd.concat(encoded_cat_tr, axis = 1) # train\n",
        "#cat_val = pd.concat(encoded_cat_val, axis = 1) # test"
      ],
      "metadata": {
        "id": "glFrujMUTr6W"
      },
      "execution_count": 6,
      "outputs": []
    },
    {
      "cell_type": "code",
      "source": [
        "# 인코딩 이후 수치형 변수와 범주형 변수를 합쳐줌\n",
        "x_train_imp = pd.concat([train['index'].reset_index(drop=True), cat_tr], axis=1)\n",
        "#x_val_imp = pd.concat([x_valid['index'].reset_index(drop=True), cat_val], axis=1)"
      ],
      "metadata": {
        "id": "L5Ma2A68Tr4M"
      },
      "execution_count": 7,
      "outputs": []
    },
    {
      "cell_type": "code",
      "source": [
        "df_train = pd.concat([x_train_imp, train[num_feature_tr].reset_index(drop=True)], axis=1)\n",
        "#x_valid = pd.concat([x_val_imp, x_valid[num_feature_val].reset_index(drop=True)], axis=1)"
      ],
      "metadata": {
        "id": "icFBFgk-YcT2"
      },
      "execution_count": 8,
      "outputs": []
    },
    {
      "cell_type": "code",
      "source": [
        "del x_train_imp, cat_tr, encoded_cat_tr"
      ],
      "metadata": {
        "id": "O4YnPAcNYcRi"
      },
      "execution_count": 9,
      "outputs": []
    },
    {
      "cell_type": "code",
      "source": [],
      "metadata": {
        "id": "Wt4YkEeDYcPW"
      },
      "execution_count": 10,
      "outputs": []
    },
    {
      "cell_type": "code",
      "source": [
        "inputs = df_train.drop(['is_applied'], axis=1).values\n",
        "targets = df_train[['is_applied']].values\n",
        "\n",
        "inputs.shape, targets.shape"
      ],
      "metadata": {
        "id": "75wyrWh9Tr16",
        "colab": {
          "base_uri": "https://localhost:8080/"
        },
        "outputId": "77289488-49e2-4d07-e7cf-a58a324b154c"
      },
      "execution_count": 10,
      "outputs": [
        {
          "output_type": "execute_result",
          "data": {
            "text/plain": [
              "((10270001, 36), (10270001, 1))"
            ]
          },
          "metadata": {},
          "execution_count": 10
        }
      ]
    },
    {
      "cell_type": "code",
      "source": [
        "val_1 = int(0.8*inputs.shape[0])\n",
        "val_2 = inputs.shape[0] - val_1\n",
        "val_1, val_2"
      ],
      "metadata": {
        "id": "Jl9WOEDYZsTK",
        "colab": {
          "base_uri": "https://localhost:8080/"
        },
        "outputId": "0855aad1-07a2-41a2-daa2-062cd62b115b"
      },
      "execution_count": 11,
      "outputs": [
        {
          "output_type": "execute_result",
          "data": {
            "text/plain": [
              "(8216000, 2054001)"
            ]
          },
          "metadata": {},
          "execution_count": 11
        }
      ]
    },
    {
      "cell_type": "code",
      "source": [
        "batch_size = 2048\n",
        "TARGET_COLUMN = 'is_applied'\n",
        "input_size=inputs.shape[1]\n",
        "output_size=1"
      ],
      "metadata": {
        "id": "zn2lmYX4Z3LJ"
      },
      "execution_count": 12,
      "outputs": []
    },
    {
      "cell_type": "code",
      "source": [
        "del train, df_train\n",
        "gc.collect()"
      ],
      "metadata": {
        "id": "fkXv-D7VZ3JJ",
        "colab": {
          "base_uri": "https://localhost:8080/"
        },
        "outputId": "bca434ad-c236-4c39-bec0-e9eb08159604"
      },
      "execution_count": 13,
      "outputs": [
        {
          "output_type": "execute_result",
          "data": {
            "text/plain": [
              "154"
            ]
          },
          "metadata": {},
          "execution_count": 13
        }
      ]
    },
    {
      "cell_type": "code",
      "source": [
        "dataset = TensorDataset(torch.tensor(inputs, dtype=torch.float32), torch.tensor(targets, dtype=torch.float32))\n",
        "train_ds, val_ds = random_split(dataset, [val_1, val_2])\n",
        "\n",
        "train_loader = DataLoader(train_ds, batch_size, shuffle=False) # future predict karna hai na\n",
        "val_loader = DataLoader(val_ds, batch_size*2)"
      ],
      "metadata": {
        "id": "zQWjKPY6Z3G7"
      },
      "execution_count": 15,
      "outputs": []
    },
    {
      "cell_type": "code",
      "source": [
        "del train_ds, val_ds, dataset, inputs, targets\n",
        "gc.collect()"
      ],
      "metadata": {
        "id": "3v6xi8CiZ3Em",
        "colab": {
          "base_uri": "https://localhost:8080/"
        },
        "outputId": "87befaa4-a7c3-4204-d82a-cfd6f59afc03"
      },
      "execution_count": 16,
      "outputs": [
        {
          "output_type": "execute_result",
          "data": {
            "text/plain": [
              "44"
            ]
          },
          "metadata": {},
          "execution_count": 16
        }
      ]
    },
    {
      "cell_type": "code",
      "source": [
        "def get_default_device():\n",
        "    \"\"\"Pick GPU if available, else CPU\"\"\"\n",
        "    if torch.cuda.is_available():\n",
        "        return torch.device('cuda')\n",
        "    else:\n",
        "        return torch.device('cpu')\n",
        "    \n",
        "def to_device(data, device):\n",
        "    \"\"\"Move tensor(s) to chosen device\"\"\"\n",
        "    if isinstance(data, (list,tuple)):\n",
        "        return [to_device(x, device) for x in data]\n",
        "    return data.to(device, non_blocking=True)\n",
        "\n",
        "class DeviceDataLoader():\n",
        "    \"\"\"Wrap a dataloader to move data to a device\"\"\"\n",
        "    def __init__(self, dl, device):\n",
        "        self.dl = dl\n",
        "        self.device = device\n",
        "        \n",
        "    def __iter__(self):\n",
        "        \"\"\"Yield a batch of data after moving it to device\"\"\"\n",
        "        for b in self.dl: \n",
        "            yield to_device(b, self.device)\n",
        "\n",
        "    def __len__(self):\n",
        "        \"\"\"Number of batches\"\"\"\n",
        "        return len(self.dl)"
      ],
      "metadata": {
        "id": "L9Q2-m2mZ3CZ"
      },
      "execution_count": 17,
      "outputs": []
    },
    {
      "cell_type": "code",
      "source": [
        "torch.cuda.is_available()"
      ],
      "metadata": {
        "id": "hGMcUigmabEB",
        "colab": {
          "base_uri": "https://localhost:8080/"
        },
        "outputId": "b8cbd5a6-2f34-4325-9893-6f760d188d00"
      },
      "execution_count": 18,
      "outputs": [
        {
          "output_type": "execute_result",
          "data": {
            "text/plain": [
              "True"
            ]
          },
          "metadata": {},
          "execution_count": 18
        }
      ]
    },
    {
      "cell_type": "code",
      "source": [
        "device = get_default_device()\n",
        "device"
      ],
      "metadata": {
        "id": "Cl7KlNTSabAR",
        "colab": {
          "base_uri": "https://localhost:8080/"
        },
        "outputId": "cdf4b9b8-a5fc-4f58-a685-ff64a98afad8"
      },
      "execution_count": 19,
      "outputs": [
        {
          "output_type": "execute_result",
          "data": {
            "text/plain": [
              "device(type='cuda')"
            ]
          },
          "metadata": {},
          "execution_count": 19
        }
      ]
    },
    {
      "cell_type": "code",
      "source": [
        "train_loader = DeviceDataLoader(train_loader, device)\n",
        "val_loader = DeviceDataLoader(train_loader, device)"
      ],
      "metadata": {
        "id": "mSA4mz9Faa-E"
      },
      "execution_count": 20,
      "outputs": []
    },
    {
      "cell_type": "code",
      "source": [
        "class My_Kaggle_Model(nn.Module):\n",
        "    def __init__(self):\n",
        "        super().__init__()\n",
        "        \n",
        "        # Activation functions have been chosen either as SiLU (called as Swish in Keras), and LeakyReLU\n",
        "        # I have used them in alternate, please comment if this is a good practice or not!\n",
        "        self.layers = nn.Sequential(nn.Linear(input_size, 64), \n",
        "                                    nn.BatchNorm1d(64), \n",
        "                                    nn.SiLU(), \n",
        "                                    \n",
        "                                    nn.Linear(64, 128), \n",
        "                                    nn.BatchNorm1d(128), \n",
        "                                    # nn.LeakyReLU(0.1), \n",
        "                                    nn.SiLU(),\n",
        "                                    nn.Dropout(0.4),\n",
        "                                    \n",
        "                                    # nn.Linear(128, 256), \n",
        "                                    # nn.BatchNorm1d(256), \n",
        "                                    # nn.SiLU(), \n",
        "                                    # nn.Dropout(0.4),\n",
        "                                    \n",
        "                                    # nn.Linear(256, 512), \n",
        "                                    # nn.BatchNorm1d(512), \n",
        "                                    # # nn.LeakyReLU(0.1),\n",
        "                                    # nn.SiLU(),\n",
        "                                    # nn.Dropout(0.4), \n",
        "                                    \n",
        "                                    # nn.Linear(512, 256), \n",
        "                                    # nn.BatchNorm1d(256), \n",
        "                                    # nn.SiLU(),\n",
        "                                    # nn.Dropout(0.4),\n",
        "                                    \n",
        "                                    # nn.Linear(256, 128), \n",
        "                                    # nn.BatchNorm1d(128), \n",
        "                                    # # nn.LeakyReLU(0.1),\n",
        "                                    # nn.SiLU(),\n",
        "                                    # nn.Dropout(0.4),\n",
        "                                    \n",
        "                                    nn.Linear(128, 8), \n",
        "                                    nn.BatchNorm1d(8), \n",
        "                                    nn.SiLU(), \n",
        "                                    nn.Dropout(0.4),\n",
        "                                    \n",
        "                                    nn.Linear(8, 1),\n",
        "                                    nn.Sigmoid()  \n",
        "                                  )\n",
        "    \n",
        "        \n",
        "    def forward(self, x):\n",
        "        return self.layers(x)\n",
        "    \n",
        "    def training_step(self, batch):\n",
        "        torch.cuda.empty_cache()\n",
        "        gc.collect()\n",
        "        inputs, targets = batch \n",
        "        inputs.to(device)\n",
        "        targets.to(device)\n",
        "        \n",
        "        out = self(inputs)                 # Generate predictions\n",
        "        criterion = nn.BCELoss()\n",
        "        loss = criterion(out, targets)    # Calculate loss\n",
        "        #loss = nn.BCEWithLogitsLoss()\n",
        "        \n",
        "        return loss\n",
        "        #return loss(out, targets)\n",
        "\n",
        "    def validation_step(self, batch):\n",
        "        torch.cuda.empty_cache()\n",
        "        gc.collect()\n",
        "        inputs, targets = batch \n",
        "        inputs.to(device)\n",
        "        targets.to(device)\n",
        "        \n",
        "        out = self(inputs)                 # Generate predictions\n",
        "        criterion = nn.BCELoss()\n",
        "        loss = criterion(out, targets)    # Calculate loss\n",
        "        #loss = nn.BCEWithLogitsLoss()\n",
        "        \n",
        "        return {'val_loss': loss.detach()}\n",
        "        \n",
        "    def validation_epoch_end(self, outputs):\n",
        "        batch_losses = [x['val_loss'] for x in outputs]\n",
        "        epoch_loss = torch.stack(batch_losses).mean()   # Combine losses\n",
        "        return {'val_loss': epoch_loss.item()}\n",
        "    \n",
        "    def epoch_end(self, epoch, result):\n",
        "        print(\"Epoch [{}], train_loss: {:.4f}, val_loss: {:.4f}\".format(epoch, result['train_loss'], result['val_loss']))\n",
        "    \n",
        "model = My_Kaggle_Model()"
      ],
      "metadata": {
        "id": "t2k5G0iMaa7x"
      },
      "execution_count": 21,
      "outputs": []
    },
    {
      "cell_type": "code",
      "source": [
        "# shift model to GPU\n",
        "model = to_device(model, device)"
      ],
      "metadata": {
        "id": "NyHt9A_0aazN"
      },
      "execution_count": 22,
      "outputs": []
    },
    {
      "cell_type": "code",
      "source": [
        "def evaluate(model, val_loader):\n",
        "    model.eval()  # Setting to eval mode makes sure that dropouts are 'frozen'\n",
        "    outputs = [model.validation_step(batch) for batch in val_loader]\n",
        "    return model.validation_epoch_end(outputs)\n",
        "\n",
        "def fit(epochs, lr, model, train_loader, val_loader, opt_func=torch.optim.SGD):\n",
        "    #torch.autograd.set_detect_anomaly(True)\n",
        "    history = []\n",
        "    optimizer = opt_func(model.parameters(), lr)\n",
        "    for epoch in range(epochs):\n",
        "        # Training Phase \n",
        "        model.train() # Setting to train mode\n",
        "        train_losses = []\n",
        "        \n",
        "        for (i,batch) in enumerate(train_loader):\n",
        "            torch.cuda.empty_cache()\n",
        "            loss = model.training_step(batch)\n",
        "            train_losses.append(loss)\n",
        "            loss.backward()\n",
        "            optimizer.step()\n",
        "            optimizer.zero_grad()\n",
        "            if (i%200 == 0): print('batch number -- ', i)\n",
        "            \n",
        "        # Validation phase\n",
        "        result = evaluate(model, val_loader)\n",
        "        result['train_loss'] = torch.stack(train_losses).mean().item()\n",
        "        model.epoch_end(epoch, result)\n",
        "        history.append(result)\n",
        "        \n",
        "#         # Early Stopping\n",
        "#         if (result['valid_loss'][epoch] > result['valid_loss'][epoch - 1]) & (epoch >0):\n",
        "#             trigger_times += 1\n",
        "#             print('trigger times ', trigger_times)\n",
        "            \n",
        "#             if trigger_times >= patience:\n",
        "#                 print('Early stopping!\\nStart to test process.')\n",
        "#                 return model\n",
        "#         else:\n",
        "#             print('trigger times: 0')\n",
        "#             trigger_times = 0\n",
        "            \n",
        "    return history"
      ],
      "metadata": {
        "id": "D4uYme9lZ2-m"
      },
      "execution_count": 23,
      "outputs": []
    },
    {
      "cell_type": "code",
      "source": [
        "train_loader.device, val_loader.device"
      ],
      "metadata": {
        "id": "9yVDGZhXa2Ia",
        "colab": {
          "base_uri": "https://localhost:8080/"
        },
        "outputId": "cc79757a-6ed7-4de2-e2bd-48f98c653129"
      },
      "execution_count": 24,
      "outputs": [
        {
          "output_type": "execute_result",
          "data": {
            "text/plain": [
              "(device(type='cuda'), device(type='cuda'))"
            ]
          },
          "metadata": {},
          "execution_count": 24
        }
      ]
    },
    {
      "cell_type": "code",
      "source": [
        "os.environ['CUDA_LAUNCH_BLOCKING'] = \"1\""
      ],
      "metadata": {
        "id": "Fz6h4KYBaLlN"
      },
      "execution_count": 25,
      "outputs": []
    },
    {
      "cell_type": "code",
      "source": [
        "history = fit(1, 1e-1, model, train_loader, val_loader, opt_func=torch.optim.Adam)"
      ],
      "metadata": {
        "id": "ZIof4CMPa2CH",
        "colab": {
          "base_uri": "https://localhost:8080/",
          "height": 323
        },
        "outputId": "292bfe7e-c9e9-4c7b-9b59-bf8b531bb4db"
      },
      "execution_count": 27,
      "outputs": [
        {
          "output_type": "error",
          "ename": "RuntimeError",
          "evalue": "ignored",
          "traceback": [
            "\u001b[0;31m---------------------------------------------------------------------------\u001b[0m",
            "\u001b[0;31mRuntimeError\u001b[0m                              Traceback (most recent call last)",
            "\u001b[0;32m<ipython-input-27-6a9cdf509817>\u001b[0m in \u001b[0;36m<module>\u001b[0;34m\u001b[0m\n\u001b[0;32m----> 1\u001b[0;31m \u001b[0mhistory\u001b[0m \u001b[0;34m=\u001b[0m \u001b[0mfit\u001b[0m\u001b[0;34m(\u001b[0m\u001b[0;36m1\u001b[0m\u001b[0;34m,\u001b[0m \u001b[0;36m1e-1\u001b[0m\u001b[0;34m,\u001b[0m \u001b[0mmodel\u001b[0m\u001b[0;34m,\u001b[0m \u001b[0mtrain_loader\u001b[0m\u001b[0;34m,\u001b[0m \u001b[0mval_loader\u001b[0m\u001b[0;34m,\u001b[0m \u001b[0mopt_func\u001b[0m\u001b[0;34m=\u001b[0m\u001b[0mtorch\u001b[0m\u001b[0;34m.\u001b[0m\u001b[0moptim\u001b[0m\u001b[0;34m.\u001b[0m\u001b[0mAdam\u001b[0m\u001b[0;34m)\u001b[0m\u001b[0;34m\u001b[0m\u001b[0;34m\u001b[0m\u001b[0m\n\u001b[0m",
            "\u001b[0;32m<ipython-input-23-da8733e481be>\u001b[0m in \u001b[0;36mfit\u001b[0;34m(epochs, lr, model, train_loader, val_loader, opt_func)\u001b[0m\n\u001b[1;32m     13\u001b[0m         \u001b[0mtrain_losses\u001b[0m \u001b[0;34m=\u001b[0m \u001b[0;34m[\u001b[0m\u001b[0;34m]\u001b[0m\u001b[0;34m\u001b[0m\u001b[0;34m\u001b[0m\u001b[0m\n\u001b[1;32m     14\u001b[0m \u001b[0;34m\u001b[0m\u001b[0m\n\u001b[0;32m---> 15\u001b[0;31m         \u001b[0;32mfor\u001b[0m \u001b[0;34m(\u001b[0m\u001b[0mi\u001b[0m\u001b[0;34m,\u001b[0m\u001b[0mbatch\u001b[0m\u001b[0;34m)\u001b[0m \u001b[0;32min\u001b[0m \u001b[0menumerate\u001b[0m\u001b[0;34m(\u001b[0m\u001b[0mtrain_loader\u001b[0m\u001b[0;34m)\u001b[0m\u001b[0;34m:\u001b[0m\u001b[0;34m\u001b[0m\u001b[0;34m\u001b[0m\u001b[0m\n\u001b[0m\u001b[1;32m     16\u001b[0m             \u001b[0mtorch\u001b[0m\u001b[0;34m.\u001b[0m\u001b[0mcuda\u001b[0m\u001b[0;34m.\u001b[0m\u001b[0mempty_cache\u001b[0m\u001b[0;34m(\u001b[0m\u001b[0;34m)\u001b[0m\u001b[0;34m\u001b[0m\u001b[0;34m\u001b[0m\u001b[0m\n\u001b[1;32m     17\u001b[0m             \u001b[0mloss\u001b[0m \u001b[0;34m=\u001b[0m \u001b[0mmodel\u001b[0m\u001b[0;34m.\u001b[0m\u001b[0mtraining_step\u001b[0m\u001b[0;34m(\u001b[0m\u001b[0mbatch\u001b[0m\u001b[0;34m)\u001b[0m\u001b[0;34m\u001b[0m\u001b[0;34m\u001b[0m\u001b[0m\n",
            "\u001b[0;32m<ipython-input-17-24f54f5041f7>\u001b[0m in \u001b[0;36m__iter__\u001b[0;34m(self)\u001b[0m\n\u001b[1;32m     21\u001b[0m         \u001b[0;34m\"\"\"Yield a batch of data after moving it to device\"\"\"\u001b[0m\u001b[0;34m\u001b[0m\u001b[0;34m\u001b[0m\u001b[0m\n\u001b[1;32m     22\u001b[0m         \u001b[0;32mfor\u001b[0m \u001b[0mb\u001b[0m \u001b[0;32min\u001b[0m \u001b[0mself\u001b[0m\u001b[0;34m.\u001b[0m\u001b[0mdl\u001b[0m\u001b[0;34m:\u001b[0m\u001b[0;34m\u001b[0m\u001b[0;34m\u001b[0m\u001b[0m\n\u001b[0;32m---> 23\u001b[0;31m             \u001b[0;32myield\u001b[0m \u001b[0mto_device\u001b[0m\u001b[0;34m(\u001b[0m\u001b[0mb\u001b[0m\u001b[0;34m,\u001b[0m \u001b[0mself\u001b[0m\u001b[0;34m.\u001b[0m\u001b[0mdevice\u001b[0m\u001b[0;34m)\u001b[0m\u001b[0;34m\u001b[0m\u001b[0;34m\u001b[0m\u001b[0m\n\u001b[0m\u001b[1;32m     24\u001b[0m \u001b[0;34m\u001b[0m\u001b[0m\n\u001b[1;32m     25\u001b[0m     \u001b[0;32mdef\u001b[0m \u001b[0m__len__\u001b[0m\u001b[0;34m(\u001b[0m\u001b[0mself\u001b[0m\u001b[0;34m)\u001b[0m\u001b[0;34m:\u001b[0m\u001b[0;34m\u001b[0m\u001b[0;34m\u001b[0m\u001b[0m\n",
            "\u001b[0;32m<ipython-input-17-24f54f5041f7>\u001b[0m in \u001b[0;36mto_device\u001b[0;34m(data, device)\u001b[0m\n\u001b[1;32m      9\u001b[0m     \u001b[0;34m\"\"\"Move tensor(s) to chosen device\"\"\"\u001b[0m\u001b[0;34m\u001b[0m\u001b[0;34m\u001b[0m\u001b[0m\n\u001b[1;32m     10\u001b[0m     \u001b[0;32mif\u001b[0m \u001b[0misinstance\u001b[0m\u001b[0;34m(\u001b[0m\u001b[0mdata\u001b[0m\u001b[0;34m,\u001b[0m \u001b[0;34m(\u001b[0m\u001b[0mlist\u001b[0m\u001b[0;34m,\u001b[0m\u001b[0mtuple\u001b[0m\u001b[0;34m)\u001b[0m\u001b[0;34m)\u001b[0m\u001b[0;34m:\u001b[0m\u001b[0;34m\u001b[0m\u001b[0;34m\u001b[0m\u001b[0m\n\u001b[0;32m---> 11\u001b[0;31m         \u001b[0;32mreturn\u001b[0m \u001b[0;34m[\u001b[0m\u001b[0mto_device\u001b[0m\u001b[0;34m(\u001b[0m\u001b[0mx\u001b[0m\u001b[0;34m,\u001b[0m \u001b[0mdevice\u001b[0m\u001b[0;34m)\u001b[0m \u001b[0;32mfor\u001b[0m \u001b[0mx\u001b[0m \u001b[0;32min\u001b[0m \u001b[0mdata\u001b[0m\u001b[0;34m]\u001b[0m\u001b[0;34m\u001b[0m\u001b[0;34m\u001b[0m\u001b[0m\n\u001b[0m\u001b[1;32m     12\u001b[0m     \u001b[0;32mreturn\u001b[0m \u001b[0mdata\u001b[0m\u001b[0;34m.\u001b[0m\u001b[0mto\u001b[0m\u001b[0;34m(\u001b[0m\u001b[0mdevice\u001b[0m\u001b[0;34m,\u001b[0m \u001b[0mnon_blocking\u001b[0m\u001b[0;34m=\u001b[0m\u001b[0;32mTrue\u001b[0m\u001b[0;34m)\u001b[0m\u001b[0;34m\u001b[0m\u001b[0;34m\u001b[0m\u001b[0m\n\u001b[1;32m     13\u001b[0m \u001b[0;34m\u001b[0m\u001b[0m\n",
            "\u001b[0;32m<ipython-input-17-24f54f5041f7>\u001b[0m in \u001b[0;36m<listcomp>\u001b[0;34m(.0)\u001b[0m\n\u001b[1;32m      9\u001b[0m     \u001b[0;34m\"\"\"Move tensor(s) to chosen device\"\"\"\u001b[0m\u001b[0;34m\u001b[0m\u001b[0;34m\u001b[0m\u001b[0m\n\u001b[1;32m     10\u001b[0m     \u001b[0;32mif\u001b[0m \u001b[0misinstance\u001b[0m\u001b[0;34m(\u001b[0m\u001b[0mdata\u001b[0m\u001b[0;34m,\u001b[0m \u001b[0;34m(\u001b[0m\u001b[0mlist\u001b[0m\u001b[0;34m,\u001b[0m\u001b[0mtuple\u001b[0m\u001b[0;34m)\u001b[0m\u001b[0;34m)\u001b[0m\u001b[0;34m:\u001b[0m\u001b[0;34m\u001b[0m\u001b[0;34m\u001b[0m\u001b[0m\n\u001b[0;32m---> 11\u001b[0;31m         \u001b[0;32mreturn\u001b[0m \u001b[0;34m[\u001b[0m\u001b[0mto_device\u001b[0m\u001b[0;34m(\u001b[0m\u001b[0mx\u001b[0m\u001b[0;34m,\u001b[0m \u001b[0mdevice\u001b[0m\u001b[0;34m)\u001b[0m \u001b[0;32mfor\u001b[0m \u001b[0mx\u001b[0m \u001b[0;32min\u001b[0m \u001b[0mdata\u001b[0m\u001b[0;34m]\u001b[0m\u001b[0;34m\u001b[0m\u001b[0;34m\u001b[0m\u001b[0m\n\u001b[0m\u001b[1;32m     12\u001b[0m     \u001b[0;32mreturn\u001b[0m \u001b[0mdata\u001b[0m\u001b[0;34m.\u001b[0m\u001b[0mto\u001b[0m\u001b[0;34m(\u001b[0m\u001b[0mdevice\u001b[0m\u001b[0;34m,\u001b[0m \u001b[0mnon_blocking\u001b[0m\u001b[0;34m=\u001b[0m\u001b[0;32mTrue\u001b[0m\u001b[0;34m)\u001b[0m\u001b[0;34m\u001b[0m\u001b[0;34m\u001b[0m\u001b[0m\n\u001b[1;32m     13\u001b[0m \u001b[0;34m\u001b[0m\u001b[0m\n",
            "\u001b[0;32m<ipython-input-17-24f54f5041f7>\u001b[0m in \u001b[0;36mto_device\u001b[0;34m(data, device)\u001b[0m\n\u001b[1;32m     10\u001b[0m     \u001b[0;32mif\u001b[0m \u001b[0misinstance\u001b[0m\u001b[0;34m(\u001b[0m\u001b[0mdata\u001b[0m\u001b[0;34m,\u001b[0m \u001b[0;34m(\u001b[0m\u001b[0mlist\u001b[0m\u001b[0;34m,\u001b[0m\u001b[0mtuple\u001b[0m\u001b[0;34m)\u001b[0m\u001b[0;34m)\u001b[0m\u001b[0;34m:\u001b[0m\u001b[0;34m\u001b[0m\u001b[0;34m\u001b[0m\u001b[0m\n\u001b[1;32m     11\u001b[0m         \u001b[0;32mreturn\u001b[0m \u001b[0;34m[\u001b[0m\u001b[0mto_device\u001b[0m\u001b[0;34m(\u001b[0m\u001b[0mx\u001b[0m\u001b[0;34m,\u001b[0m \u001b[0mdevice\u001b[0m\u001b[0;34m)\u001b[0m \u001b[0;32mfor\u001b[0m \u001b[0mx\u001b[0m \u001b[0;32min\u001b[0m \u001b[0mdata\u001b[0m\u001b[0;34m]\u001b[0m\u001b[0;34m\u001b[0m\u001b[0;34m\u001b[0m\u001b[0m\n\u001b[0;32m---> 12\u001b[0;31m     \u001b[0;32mreturn\u001b[0m \u001b[0mdata\u001b[0m\u001b[0;34m.\u001b[0m\u001b[0mto\u001b[0m\u001b[0;34m(\u001b[0m\u001b[0mdevice\u001b[0m\u001b[0;34m,\u001b[0m \u001b[0mnon_blocking\u001b[0m\u001b[0;34m=\u001b[0m\u001b[0;32mTrue\u001b[0m\u001b[0;34m)\u001b[0m\u001b[0;34m\u001b[0m\u001b[0;34m\u001b[0m\u001b[0m\n\u001b[0m\u001b[1;32m     13\u001b[0m \u001b[0;34m\u001b[0m\u001b[0m\n\u001b[1;32m     14\u001b[0m \u001b[0;32mclass\u001b[0m \u001b[0mDeviceDataLoader\u001b[0m\u001b[0;34m(\u001b[0m\u001b[0;34m)\u001b[0m\u001b[0;34m:\u001b[0m\u001b[0;34m\u001b[0m\u001b[0;34m\u001b[0m\u001b[0m\n",
            "\u001b[0;31mRuntimeError\u001b[0m: CUDA error: device-side assert triggered"
          ]
        }
      ]
    },
    {
      "cell_type": "code",
      "source": [
        "def plot_losses(history):\n",
        "    train_losses = [x.get('train_loss') for x in history]\n",
        "    val_losses = [x['val_loss'] for x in history]\n",
        "    plt.plot(train_losses, '-bx')\n",
        "    plt.plot(val_losses, '-rx')\n",
        "    plt.xlabel('epoch')\n",
        "    plt.ylabel('loss')\n",
        "    plt.legend(['Training', 'Validation'])\n",
        "    plt.title('Loss vs. No. of epochs');\n",
        "history"
      ],
      "metadata": {
        "id": "LfZSGflqa2AP"
      },
      "execution_count": null,
      "outputs": []
    },
    {
      "cell_type": "code",
      "source": [
        "torch.cuda.empty_cache() # just to clear some GPU cache memory"
      ],
      "metadata": {
        "id": "7EAd4R4Pa1yk"
      },
      "execution_count": null,
      "outputs": []
    },
    {
      "cell_type": "code",
      "source": [
        "model_pred=[]\n",
        "targets=[]\n",
        "for batch in val_loader:\n",
        "    model.eval()\n",
        "    data, target = batch\n",
        "    print('data.shape', data.shape)\n",
        "    print('data.device', data.device)\n",
        "    preds = model(data)\n",
        "    model_pred += preds.tolist()\n",
        "    targets.append(batch[1])\n",
        "    print('preds.shape', preds.shape)"
      ],
      "metadata": {
        "id": "sUk2DT_Qa19x"
      },
      "execution_count": null,
      "outputs": []
    },
    {
      "cell_type": "code",
      "source": [
        "pred = []\n",
        "for i in model_pred:\n",
        "  pred.append(i[0])"
      ],
      "metadata": {
        "id": "mCpIh43da1vf"
      },
      "execution_count": null,
      "outputs": []
    },
    {
      "cell_type": "code",
      "source": [
        "t = []\n",
        "for i in targets:\n",
        "  for j in i:\n",
        "    t.append(j.cpu().numpy()[0])"
      ],
      "metadata": {
        "id": "qSaH9nPJa1s5"
      },
      "execution_count": null,
      "outputs": []
    },
    {
      "cell_type": "code",
      "source": [
        "p = pd.DataFrame({'pred' : pred,\n",
        "                  'target' : t})"
      ],
      "metadata": {
        "id": "OOXqXF64a1rF"
      },
      "execution_count": null,
      "outputs": []
    },
    {
      "cell_type": "code",
      "source": [
        "\n",
        "p.head()"
      ],
      "metadata": {
        "id": "jx4V52oRa1og"
      },
      "execution_count": null,
      "outputs": []
    },
    {
      "cell_type": "code",
      "source": [
        "p.describe()"
      ],
      "metadata": {
        "id": "iDxK9iTca1l9"
      },
      "execution_count": null,
      "outputs": []
    },
    {
      "cell_type": "code",
      "source": [],
      "metadata": {
        "id": "3qf9QmGqbzRg"
      },
      "execution_count": null,
      "outputs": []
    },
    {
      "cell_type": "code",
      "source": [],
      "metadata": {
        "id": "REXZqmGcbzPd"
      },
      "execution_count": null,
      "outputs": []
    },
    {
      "cell_type": "code",
      "source": [],
      "metadata": {
        "id": "cETANpKxbzNS"
      },
      "execution_count": null,
      "outputs": []
    },
    {
      "cell_type": "code",
      "source": [],
      "metadata": {
        "id": "vAjVeKiMbzHj"
      },
      "execution_count": null,
      "outputs": []
    }
  ]
}