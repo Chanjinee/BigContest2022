{
 "cells": [
  {
   "cell_type": "markdown",
   "id": "6d56c6f8",
   "metadata": {
    "id": "wzonD5TZ3sW1"
   },
   "source": [
    "### 데이터 살펴보기"
   ]
  },
  {
   "cell_type": "markdown",
   "id": "eba98853",
   "metadata": {
    "id": "FbER-Jtc3vI1"
   },
   "source": [
    "메서드 불러오기"
   ]
  },
  {
   "cell_type": "code",
   "execution_count": 1,
   "id": "c4fed476",
   "metadata": {
    "id": "sugFfOZs3lEn"
   },
   "outputs": [
    {
     "name": "stdout",
     "output_type": "stream",
     "text": [
      "Pandas : 1.4.3\n",
      "seaborn : 0.11.2\n",
      "Python 3.8.8\n"
     ]
    }
   ],
   "source": [
    "import pandas as pd\n",
    "import numpy as np\n",
    "\n",
    "# 시각화\n",
    "import seaborn as sns\n",
    "\n",
    "# 경고 메시지 무시\n",
    "import warnings\n",
    "warnings.filterwarnings(action='ignore') \n",
    "\n",
    "# 버전 확인\n",
    "print('Pandas : %s'%(pd.__version__))\n",
    "print('seaborn : %s'%(sns.__version__))\n",
    "!python --version"
   ]
  },
  {
   "cell_type": "code",
   "execution_count": 2,
   "id": "63c6bf08",
   "metadata": {
    "id": "DdRsfblV33fU"
   },
   "outputs": [],
   "source": [
    "# 데이터 불러오기\n",
    "user = pd.read_csv('../data/user_spec.csv')\n",
    "loan = pd.read_csv('../data/loan_result.csv')\n",
    "log = pd.read_csv('../data/log_data.csv')"
   ]
  },
  {
   "cell_type": "markdown",
   "id": "7dbf5387",
   "metadata": {
    "id": "lBMPfE7dzVT-"
   },
   "source": [
    "### 1. 유저 스펙 테이블"
   ]
  },
  {
   "cell_type": "markdown",
   "id": "8cd7f9e9",
   "metadata": {},
   "source": [
    "- na값에 대한 확인"
   ]
  },
  {
   "cell_type": "code",
   "execution_count": 3,
   "id": "6c699729",
   "metadata": {},
   "outputs": [
    {
     "data": {
      "text/plain": [
       "application_id                               0\n",
       "user_id                                      0\n",
       "birth_year                               12961\n",
       "gender                                   12961\n",
       "insert_time                                  0\n",
       "credit_score                            105115\n",
       "yearly_income                               90\n",
       "income_type                                 85\n",
       "company_enter_month                     171760\n",
       "employment_type                             85\n",
       "houseown_type                               85\n",
       "desired_amount                              85\n",
       "purpose                                     85\n",
       "personal_rehabilitation_yn              587461\n",
       "personal_rehabilitation_complete_yn    1203354\n",
       "existing_loan_cnt                       198556\n",
       "existing_loan_amt                       313774\n",
       "dtype: int64"
      ]
     },
     "execution_count": 3,
     "metadata": {},
     "output_type": "execute_result"
    }
   ],
   "source": [
    "user.isna().sum()"
   ]
  },
  {
   "cell_type": "markdown",
   "id": "f5a5d4ba",
   "metadata": {},
   "source": [
    "    - birth_year와 gender 결측값 채워줌"
   ]
  },
  {
   "cell_type": "code",
   "execution_count": 4,
   "id": "0800f3c0",
   "metadata": {},
   "outputs": [],
   "source": [
    "###### birth_year #####\n",
    "birth_year_mean = user['birth_year'].mean()\n",
    "user['birth_year'] = user['birth_year'].fillna('없음')\n",
    "\n",
    "# 전처리할 데이터 재생성\n",
    "bir = user.groupby('user_id')['birth_year'].apply(set).reset_index()\n",
    "bir['len'] = bir['birth_year'].apply(lambda x:len(x))\n",
    "\n",
    "# 0을 지워주는 함수 생성\n",
    "def remove0(x):\n",
    "    if len(x) == 2: \n",
    "        x_ = x.remove('없음')\n",
    "        return x_\n",
    "    else: return x\n",
    "\n",
    "# 적용\n",
    "bir['birth_year'].apply(remove0)\n",
    "bir['year'] = bir['birth_year'].apply(lambda x:list(x)[0])\n",
    "\n",
    "# 없음을 평균으로 채워줌\n",
    "bir['year'] = bir['year'].apply(lambda x:birth_year_mean if x == '없음' else x)"
   ]
  },
  {
   "cell_type": "code",
   "execution_count": 5,
   "id": "73272464",
   "metadata": {},
   "outputs": [],
   "source": [
    "# 딕셔너리로 변환하여 저장\n",
    "birth_year = {x:y for x,y in zip(bir['user_id'], bir['year'])}\n",
    "\n",
    "# 적용하여 변환\n",
    "user['birth_year'] = user['user_id'].apply(lambda x:birth_year[x])"
   ]
  },
  {
   "cell_type": "code",
   "execution_count": 6,
   "id": "14a5d433",
   "metadata": {},
   "outputs": [],
   "source": [
    "###### gender #####\n",
    "user['gender'] = user['gender'].fillna('없음')\n",
    "\n",
    "# 전처리할 데이터 재생성\n",
    "g = user.groupby('user_id')['gender'].apply(set).reset_index()\n",
    "g['len'] = g['gender'].apply(lambda x:len(x))\n",
    "\n",
    "# 0을 지워주는 함수 생성\n",
    "def remove2(x):\n",
    "    if len(x) == 2: \n",
    "        x_ = x.remove('없음')\n",
    "        return x_\n",
    "    else: return x\n",
    "\n",
    "# 적용\n",
    "g['gender'].apply(remove2)\n",
    "g['g'] = g['gender'].apply(lambda x:list(x)[0])\n",
    "g['g'] = g['g'].apply(lambda x:1 if x == '없음' else x)\n",
    "\n",
    "# 딕셔너리로 변환하여 저장\n",
    "gender = {x:y for x,y in zip(g['user_id'], g['g'])}\n",
    "\n",
    "# 적용하여 변환\n",
    "user['gender'] = user['user_id'].apply(lambda x:gender[x])"
   ]
  },
  {
   "cell_type": "markdown",
   "id": "b7600b46",
   "metadata": {},
   "source": [
    "    - personal_rehabilitation_complete_yn\n",
    "        -> 문의 필요"
   ]
  },
  {
   "cell_type": "code",
   "execution_count": 7,
   "id": "eeda46a3",
   "metadata": {},
   "outputs": [
    {
     "data": {
      "text/plain": [
       "array([ 0., nan])"
      ]
     },
     "execution_count": 7,
     "metadata": {},
     "output_type": "execute_result"
    }
   ],
   "source": [
    "# na값을 확인 하였을 때, personal_rehabilitation_complete_yn의 값이 높은데, 이는 개인 회생자가 아닌 사람도 포함 돼있기 때문으로 보임\n",
    "## na중 personal_rehabilitation_yn의 값이 0인 값은 개인회생자 아님 등으로 채워야할 듯함\n",
    "user[user['personal_rehabilitation_complete_yn'].isna()]['personal_rehabilitation_yn'].unique()"
   ]
  },
  {
   "cell_type": "code",
   "execution_count": 8,
   "id": "faa4cff4",
   "metadata": {},
   "outputs": [
    {
     "data": {
      "text/plain": [
       "0.0    178149\n",
       "1.0         4\n",
       "Name: personal_rehabilitation_complete_yn, dtype: int64"
      ]
     },
     "execution_count": 8,
     "metadata": {},
     "output_type": "execute_result"
    }
   ],
   "source": [
    "user.query('personal_rehabilitation_yn == 0')['personal_rehabilitation_complete_yn'].value_counts()"
   ]
  },
  {
   "cell_type": "code",
   "execution_count": 9,
   "id": "473618ae",
   "metadata": {},
   "outputs": [
    {
     "data": {
      "text/plain": [
       "0.0    11361\n",
       "1.0     1348\n",
       "Name: personal_rehabilitation_complete_yn, dtype: int64"
      ]
     },
     "execution_count": 9,
     "metadata": {},
     "output_type": "execute_result"
    }
   ],
   "source": [
    "user.query('personal_rehabilitation_yn == 1')['personal_rehabilitation_complete_yn'].value_counts()"
   ]
  },
  {
   "cell_type": "markdown",
   "id": "8dfc2647",
   "metadata": {},
   "source": [
    "분포를 확인해보았을 때, personal_rehabilitation_complete_yn에 기록이 있으면 personal_rehabilitation_yn가 1인 것으로 생각하여 채워야될듯함"
   ]
  },
  {
   "cell_type": "code",
   "execution_count": 10,
   "id": "d17cff82",
   "metadata": {},
   "outputs": [],
   "source": [
    "# 기록이 있으면 개인회생자, 없으면 아닌 사람으로 기록\n",
    "user['personal_rehabilitation_yn'] = user['personal_rehabilitation_complete_yn'].apply(lambda x:1 if x in [0,1] else 0)\n",
    "# 나머지 기록이 na인 값은 전부 개인회생자가 아닌 것으로 확인함 -> 2( 개인회생자아님 )로 채워줌\n",
    "user['personal_rehabilitation_complete_yn'] = user['personal_rehabilitation_complete_yn'].fillna(2)"
   ]
  },
  {
   "cell_type": "markdown",
   "id": "33bd70e4",
   "metadata": {},
   "source": [
    "    - company_enter_month"
   ]
  },
  {
   "cell_type": "code",
   "execution_count": 11,
   "id": "b0c2b0e5",
   "metadata": {},
   "outputs": [
    {
     "data": {
      "text/plain": [
       "OTHERINCOME        171665\n",
       "EARNEDINCOME            7\n",
       "PRIVATEBUSINESS         3\n",
       "Name: income_type, dtype: int64"
      ]
     },
     "execution_count": 11,
     "metadata": {},
     "output_type": "execute_result"
    }
   ],
   "source": [
    "# company_enter_month에 대한 na값은 입사 년월을 입력하지 못하는 사람들이 대부분임\n",
    "## 입사년월이 없는 사람 (ex)개인 사업, 소득이 회사가 아닌 경우 등 )\n",
    "## 다른 옵션으로 채워야할듯함\n",
    "user[user['company_enter_month'].isna()]['income_type'].value_counts()"
   ]
  },
  {
   "cell_type": "code",
   "execution_count": 12,
   "id": "c7a20996",
   "metadata": {},
   "outputs": [],
   "source": [
    "# OTHERINCOME을 제외하면 na값이 적기 때문에 입사년도 없음으로 채워줌\n",
    "user['company_enter_month'] = user['company_enter_month'].fillna('입사년도 없음')"
   ]
  },
  {
   "cell_type": "markdown",
   "id": "6e73f354",
   "metadata": {},
   "source": [
    "    - credit_score"
   ]
  },
  {
   "cell_type": "code",
   "execution_count": 13,
   "id": "fab6f4c5",
   "metadata": {},
   "outputs": [
    {
     "data": {
      "text/plain": [
       "user_id             0\n",
       "credit_score    68018\n",
       "dtype: int64"
      ]
     },
     "execution_count": 13,
     "metadata": {},
     "output_type": "execute_result"
    }
   ],
   "source": [
    "# 68018명의 사람들의 신용정보 확인 불가능\n",
    "user[['user_id', 'credit_score']].drop_duplicates(subset='user_id').isna().sum()"
   ]
  },
  {
   "cell_type": "code",
   "execution_count": 14,
   "id": "25ac7426",
   "metadata": {},
   "outputs": [],
   "source": [
    "# 신용 점수가 있는 고객들은 해당 고객이 가진 신용 점수의 평균으로 채워줌\n",
    "user['credit_score'] = user['credit_score'].fillna(user.groupby('user_id')['credit_score'].transform('mean'))"
   ]
  },
  {
   "cell_type": "code",
   "execution_count": 15,
   "id": "21ea67c1",
   "metadata": {},
   "outputs": [
    {
     "data": {
      "text/plain": [
       "array([0], dtype=int64)"
      ]
     },
     "execution_count": 15,
     "metadata": {},
     "output_type": "execute_result"
    }
   ],
   "source": [
    "# 채운 후에도 na값인 경우는 신용 점수를 확인한 적이 한번도 없는 고객임\n",
    "user[user['credit_score'].isna()].groupby('user_id')['credit_score'].count().unique()"
   ]
  },
  {
   "cell_type": "code",
   "execution_count": 16,
   "id": "d7cdbaca",
   "metadata": {},
   "outputs": [
    {
     "data": {
      "text/plain": [
       "<seaborn.matrix.ClusterGrid at 0x2b0ba814dc0>"
      ]
     },
     "execution_count": 16,
     "metadata": {},
     "output_type": "execute_result"
    },
    {
     "data": {
      "image/png": "[encoded data removed]",
      "text/plain": [
       "<Figure size 720x720 with 4 Axes>"
      ]
     },
     "metadata": {
      "needs_background": "light"
     },
     "output_type": "display_data"
    }
   ],
   "source": [
    "# 컬럼들과 credit score간의 상관관계를 시각화해 보았으나 의미 X 그냥 평균으로 채움\n",
    "\n",
    "sns.clustermap(user.corr(), \n",
    "               annot = True,      # 실제 값 화면에 나타내기\n",
    "               cmap = 'RdYlBu_r',  # Red, Yellow, Blue 색상으로 표시\n",
    "               vmin = -1, vmax = 1, #컬러차트 -1 ~ 1 범위로 표시\n",
    "              )"
   ]
  },
  {
   "cell_type": "code",
   "execution_count": 17,
   "id": "755e2869",
   "metadata": {},
   "outputs": [],
   "source": [
    "# 평균으로 채워줌\n",
    "user['credit_score'] = user['credit_score'].fillna(user['credit_score'].mean())"
   ]
  },
  {
   "cell_type": "markdown",
   "id": "5773248a",
   "metadata": {},
   "source": [
    "    - existing_loan_cnt"
   ]
  },
  {
   "cell_type": "code",
   "execution_count": 18,
   "id": "aba28f68",
   "metadata": {},
   "outputs": [
    {
     "data": {
      "text/html": [
       "<div>\n",
       "<style scoped>\n",
       "    .dataframe tbody tr th:only-of-type {\n",
       "        vertical-align: middle;\n",
       "    }\n",
       "\n",
       "    .dataframe tbody tr th {\n",
       "        vertical-align: top;\n",
       "    }\n",
       "\n",
       "    .dataframe thead th {\n",
       "        text-align: right;\n",
       "    }\n",
       "</style>\n",
       "<table border=\"1\" class=\"dataframe\">\n",
       "  <thead>\n",
       "    <tr style=\"text-align: right;\">\n",
       "      <th></th>\n",
       "      <th>application_id</th>\n",
       "      <th>user_id</th>\n",
       "      <th>birth_year</th>\n",
       "      <th>gender</th>\n",
       "      <th>insert_time</th>\n",
       "      <th>credit_score</th>\n",
       "      <th>yearly_income</th>\n",
       "      <th>income_type</th>\n",
       "      <th>company_enter_month</th>\n",
       "      <th>employment_type</th>\n",
       "      <th>houseown_type</th>\n",
       "      <th>desired_amount</th>\n",
       "      <th>purpose</th>\n",
       "      <th>personal_rehabilitation_yn</th>\n",
       "      <th>personal_rehabilitation_complete_yn</th>\n",
       "      <th>existing_loan_cnt</th>\n",
       "      <th>existing_loan_amt</th>\n",
       "    </tr>\n",
       "  </thead>\n",
       "  <tbody>\n",
       "  </tbody>\n",
       "</table>\n",
       "</div>"
      ],
      "text/plain": [
       "Empty DataFrame\n",
       "Columns: [application_id, user_id, birth_year, gender, insert_time, credit_score, yearly_income, income_type, company_enter_month, employment_type, houseown_type, desired_amount, purpose, personal_rehabilitation_yn, personal_rehabilitation_complete_yn, existing_loan_cnt, existing_loan_amt]\n",
       "Index: []"
      ]
     },
     "execution_count": 18,
     "metadata": {},
     "output_type": "execute_result"
    }
   ],
   "source": [
    "# existing_loan_cnt의 값이 0인 행이 없는 것으로 보아 na인 경우는 기대출수가 0이지 않을까 하는 추축\n",
    "user[user['existing_loan_cnt'] == 0]"
   ]
  },
  {
   "cell_type": "code",
   "execution_count": 19,
   "id": "f526fb3f",
   "metadata": {},
   "outputs": [
    {
     "data": {
      "text/plain": [
       "existing_loan_cnt    198556\n",
       "existing_loan_amt    198556\n",
       "dtype: int64"
      ]
     },
     "execution_count": 19,
     "metadata": {},
     "output_type": "execute_result"
    }
   ],
   "source": [
    "# existing_loan_cnt가 na인 값의 amt는 모두 na인 모습을 보임\n",
    "user[user['existing_loan_cnt'].isna()][['existing_loan_cnt','existing_loan_amt']].isna().sum()"
   ]
  },
  {
   "cell_type": "code",
   "execution_count": 20,
   "id": "2d6ddec4",
   "metadata": {},
   "outputs": [],
   "source": [
    "# existing_loan_cnt와 existing_loan_amt의 수가 na인 값은 0으로 채워줌\n",
    "user['existing_loan_cnt'] = user['existing_loan_cnt'].fillna(0)\n",
    "user['existing_loan_amt'] = user['existing_loan_amt'].fillna(0)"
   ]
  },
  {
   "cell_type": "markdown",
   "id": "912c33a9",
   "metadata": {},
   "source": [
    "    - yearly_income, income_type"
   ]
  },
  {
   "cell_type": "code",
   "execution_count": 21,
   "id": "2c68959b",
   "metadata": {},
   "outputs": [
    {
     "data": {
      "text/plain": [
       "OTHERINCOME    4\n",
       "FREELANCER     1\n",
       "Name: income_type, dtype: int64"
      ]
     },
     "execution_count": 21,
     "metadata": {},
     "output_type": "execute_result"
    }
   ],
   "source": [
    "# 연소득이 na인 값의 소득 경로를 확인해 본 결과 na인 값이 85개, 다른 수익 4, 프리랜서가 1인 모습을 보임\n",
    "## -> 즉, na인 것은 연소득이 없다는 뜻임\n",
    "user[user['yearly_income'].isna()]['income_type'].value_counts()"
   ]
  },
  {
   "cell_type": "code",
   "execution_count": 22,
   "id": "8e54fd45",
   "metadata": {},
   "outputs": [],
   "source": [
    "# 0으로 채워줌\n",
    "user['yearly_income'] = user['yearly_income'].fillna(0)\n",
    "user['income_type'] = user['income_type'].fillna('직장없음')"
   ]
  },
  {
   "cell_type": "markdown",
   "id": "0b0a13fb",
   "metadata": {},
   "source": [
    "    - employment_type"
   ]
  },
  {
   "cell_type": "code",
   "execution_count": 23,
   "id": "67c96f38",
   "metadata": {},
   "outputs": [
    {
     "data": {
      "text/plain": [
       "array(['입사년도 없음'], dtype=object)"
      ]
     },
     "execution_count": 23,
     "metadata": {},
     "output_type": "execute_result"
    }
   ],
   "source": [
    "# employment_type의 경우 company_enter_month의 값이 입사년도없음임\n",
    "user[user['employment_type'].isna()]['company_enter_month'].unique()"
   ]
  },
  {
   "cell_type": "code",
   "execution_count": 24,
   "id": "15fc0102",
   "metadata": {},
   "outputs": [],
   "source": [
    "# 입사년도가 없다는 것은 기타이기 때문에 기타로 채워줌\n",
    "user['employment_type'] = user['employment_type'].fillna('기타')"
   ]
  },
  {
   "cell_type": "markdown",
   "id": "8b4ae1c0",
   "metadata": {},
   "source": [
    "    - houseown_type"
   ]
  },
  {
   "cell_type": "code",
   "execution_count": 25,
   "id": "7f536db9",
   "metadata": {},
   "outputs": [
    {
     "data": {
      "text/plain": [
       "array(['자가', '기타가족소유', '전월세', '배우자', nan], dtype=object)"
      ]
     },
     "execution_count": 25,
     "metadata": {},
     "output_type": "execute_result"
    }
   ],
   "source": [
    "# houseown_type이 na인 값은 그냥 귀찮아서 안찍은듯함\n",
    "user['houseown_type'].unique()"
   ]
  },
  {
   "cell_type": "code",
   "execution_count": 26,
   "id": "285f713a",
   "metadata": {},
   "outputs": [],
   "source": [
    "## -> 정보없음으로 채워줌\n",
    "user['houseown_type'] = user['houseown_type'].fillna('정보없음')"
   ]
  },
  {
   "cell_type": "markdown",
   "id": "3bd5f150",
   "metadata": {},
   "source": [
    "    - desired_amount"
   ]
  },
  {
   "cell_type": "code",
   "execution_count": 27,
   "id": "da1392e2",
   "metadata": {},
   "outputs": [],
   "source": [
    "# 이 경우도 선택을 그냥 하지 않은 경우이기 때문에 최빈값으로 채워줌\n",
    "## 단순한 궁금증으로 인하여 선택을 한 경우라고 판단 -> 가장 많이 원하는 금액으로 채움\n",
    "user['desired_amount'] = user['desired_amount'].fillna(user['desired_amount'].mode()[0])"
   ]
  },
  {
   "cell_type": "markdown",
   "id": "cad25605",
   "metadata": {},
   "source": [
    "    - purpose"
   ]
  },
  {
   "cell_type": "code",
   "execution_count": 28,
   "id": "0868e72b",
   "metadata": {},
   "outputs": [],
   "source": [
    "# 목적 또한 위와 같음\n",
    "## 최빈값으로 채움\n",
    "user['purpose'] = user['purpose'].fillna(user['purpose'].mode()[0])"
   ]
  },
  {
   "cell_type": "code",
   "execution_count": 29,
   "id": "0c3db1f1",
   "metadata": {},
   "outputs": [
    {
     "data": {
      "text/plain": [
       "application_id                         0\n",
       "user_id                                0\n",
       "birth_year                             0\n",
       "gender                                 0\n",
       "insert_time                            0\n",
       "credit_score                           0\n",
       "yearly_income                          0\n",
       "income_type                            0\n",
       "company_enter_month                    0\n",
       "employment_type                        0\n",
       "houseown_type                          0\n",
       "desired_amount                         0\n",
       "purpose                                0\n",
       "personal_rehabilitation_yn             0\n",
       "personal_rehabilitation_complete_yn    0\n",
       "existing_loan_cnt                      0\n",
       "existing_loan_amt                      0\n",
       "dtype: int64"
      ]
     },
     "execution_count": 29,
     "metadata": {},
     "output_type": "execute_result"
    }
   ],
   "source": [
    "user.isna().sum()"
   ]
  },
  {
   "cell_type": "markdown",
   "id": "1c409d7f",
   "metadata": {
    "id": "lBMPfE7dzVT-"
   },
   "source": [
    "### 2. 대출 상품 결과 테이블"
   ]
  },
  {
   "cell_type": "markdown",
   "id": "8d6cba87",
   "metadata": {},
   "source": [
    "- 중복값을 갖는 행 처리"
   ]
  },
  {
   "cell_type": "code",
   "execution_count": 30,
   "id": "cbc0e205",
   "metadata": {},
   "outputs": [
    {
     "data": {
      "text/plain": [
       "26"
      ]
     },
     "execution_count": 30,
     "metadata": {},
     "output_type": "execute_result"
    }
   ],
   "source": [
    "# 데이터가 중복인 경우가 25개 존재하여 삭제해줌\n",
    "len(loan[loan.duplicated()])"
   ]
  },
  {
   "cell_type": "code",
   "execution_count": 31,
   "id": "4009a079",
   "metadata": {},
   "outputs": [],
   "source": [
    "# 중복 제거하여 데이터 선언\n",
    "loan = loan.drop_duplicates()"
   ]
  },
  {
   "cell_type": "markdown",
   "id": "106b7f17",
   "metadata": {},
   "source": [
    "- 결측값 처리"
   ]
  },
  {
   "cell_type": "code",
   "execution_count": 32,
   "id": "71cf6176",
   "metadata": {},
   "outputs": [
    {
     "data": {
      "text/plain": [
       "application_id                 0\n",
       "loanapply_insert_time          0\n",
       "bank_id                        0\n",
       "product_id                     0\n",
       "loan_limit                  7495\n",
       "loan_rate                   7495\n",
       "is_applied               3257223\n",
       "dtype: int64"
      ]
     },
     "execution_count": 32,
     "metadata": {},
     "output_type": "execute_result"
    }
   ],
   "source": [
    "loan.isna().sum()"
   ]
  },
  {
   "cell_type": "code",
   "execution_count": 33,
   "id": "71ae4708",
   "metadata": {},
   "outputs": [
    {
     "data": {
      "text/plain": [
       "array([nan])"
      ]
     },
     "execution_count": 33,
     "metadata": {},
     "output_type": "execute_result"
    }
   ],
   "source": [
    "# loan_limit과 loan_rate는 동일한 행에서 na값을 가짐을 확인\n",
    "loan[loan['loan_limit'].isna()]['loan_rate'].unique()"
   ]
  },
  {
   "cell_type": "code",
   "execution_count": 34,
   "id": "71493608",
   "metadata": {},
   "outputs": [
    {
     "data": {
      "text/plain": [
       "1.0    5738\n",
       "Name: is_applied, dtype: int64"
      ]
     },
     "execution_count": 34,
     "metadata": {},
     "output_type": "execute_result"
    }
   ],
   "source": [
    "# 타겟값에 대한 확인을 위해 월별로 확인\n",
    "loan['month'] = loan['loanapply_insert_time'].apply(lambda x:int(x[5:7]))\n",
    "\n",
    "# train data의 경우 loan_limit과 loan_rate가 na인 경우 타겟값이 모두 1임을 알 수 있음\n",
    "loan[(loan['loan_limit'].isna()) & (loan['month'] != 6)]['is_applied'].value_counts()"
   ]
  },
  {
   "cell_type": "code",
   "execution_count": 35,
   "id": "0d12d538",
   "metadata": {},
   "outputs": [
    {
     "data": {
      "text/plain": [
       "0.0    9709673\n",
       "1.0     560441\n",
       "Name: is_applied, dtype: int64"
      ]
     },
     "execution_count": 35,
     "metadata": {},
     "output_type": "execute_result"
    }
   ],
   "source": [
    "# 전체 타겟값 대비 1% 정도가 위와 같은 모습을 보임\n",
    "## -> 비슷한 형태를 띄는 행으로 결측값 대체\n",
    "loan['is_applied'].value_counts()"
   ]
  },
  {
   "cell_type": "markdown",
   "id": "e8d19c40",
   "metadata": {},
   "source": [
    "    - loan_rate"
   ]
  },
  {
   "cell_type": "code",
   "execution_count": 36,
   "id": "b410e588",
   "metadata": {},
   "outputs": [],
   "source": [
    "# 일부 행만 null인 경우 결측치를 product별 평균\n",
    "product_list = loan[loan['loan_limit'].isna()]['product_id'].unique()\n",
    "\n",
    "for i in product_list:\n",
    "    len_rate = loan[loan['product_id'] == i]['loan_rate'].unique()\n",
    "    \n",
    "    if len(len_rate) > 1:\n",
    "        loan.loc[(loan['product_id'] == i) & (loan['loan_rate'].isna()), 'loan_rate'] = round(np.nanmean(len_rate), 1)\n",
    "\n",
    "        \n",
    "# 모두 null인 경우 결측치를 application별 평균\n",
    "loan['loan_rate'] = loan['loan_rate'].fillna(loan.groupby('application_id')['loan_rate'].transform('mean'))\n",
    "\n",
    "# application이 하나인 데이터 최빈값 대체\n",
    "loan['loan_rate'] = loan['loan_rate'].fillna(loan['loan_rate'].mode()[0])"
   ]
  },
  {
   "cell_type": "markdown",
   "id": "d751571d",
   "metadata": {},
   "source": [
    "    - loan_limit"
   ]
  },
  {
   "cell_type": "code",
   "execution_count": 37,
   "id": "5f23b950",
   "metadata": {},
   "outputs": [],
   "source": [
    "# loan_limit 결측치를 application별로 평균\n",
    "loan['loan_limit'] = loan['loan_limit'].fillna(loan.groupby('application_id')['loan_limit'].transform('mean'))\n",
    "\n",
    "# application이 하나인 결측치 최빈값으로\n",
    "loan['loan_limit'] = loan['loan_limit'].fillna(loan['loan_limit'].mode()[0])"
   ]
  },
  {
   "cell_type": "code",
   "execution_count": 38,
   "id": "f710437a",
   "metadata": {},
   "outputs": [
    {
     "data": {
      "text/plain": [
       "application_id                 0\n",
       "loanapply_insert_time          0\n",
       "bank_id                        0\n",
       "product_id                     0\n",
       "loan_limit                     0\n",
       "loan_rate                      0\n",
       "is_applied               3257223\n",
       "month                          0\n",
       "dtype: int64"
      ]
     },
     "execution_count": 38,
     "metadata": {},
     "output_type": "execute_result"
    }
   ],
   "source": [
    "loan.isna().sum()"
   ]
  },
  {
   "cell_type": "markdown",
   "id": "696ebdea",
   "metadata": {},
   "source": [
    "## 변수 생성"
   ]
  },
  {
   "cell_type": "markdown",
   "id": "fcd628f9",
   "metadata": {},
   "source": [
    "- user"
   ]
  },
  {
   "cell_type": "code",
   "execution_count": 39,
   "id": "7f53f7a6",
   "metadata": {},
   "outputs": [],
   "source": [
    "### 대출 이력 ###\n",
    "# 대출 이력이 있는 고객은1 없는 고객은 0으로 채워줌\n",
    "true_list = loan[loan['is_applied'] == 1]['application_id'].unique()\n",
    "user['loan_history'] = user['application_id'].apply(lambda x:1 if x in true_list else 0)"
   ]
  },
  {
   "cell_type": "code",
   "execution_count": 40,
   "id": "f806c0ee",
   "metadata": {},
   "outputs": [],
   "source": [
    "### insert time 날짜 변경 ### \n",
    "# insert time : 한도조회 당시 시간\n",
    "user['insert_time'] = pd.to_datetime(user['insert_time'])"
   ]
  },
  {
   "cell_type": "code",
   "execution_count": 41,
   "id": "6dec5dc7",
   "metadata": {},
   "outputs": [],
   "source": [
    "### 나이 ###\n",
    "# 현시점의 나이를 계산해서 변수로 생성\n",
    "user['age'] = user['birth_year'].apply(lambda x:2022 - x if x!= '없음' else x)"
   ]
  },
  {
   "cell_type": "code",
   "execution_count": 42,
   "id": "32ad6460",
   "metadata": {},
   "outputs": [],
   "source": [
    "### 연령대 ###\n",
    "user['age_group'] = user['age'].apply(lambda x:f'{str(x)[0]}0대' if x != '없음' else x)"
   ]
  },
  {
   "cell_type": "code",
   "execution_count": 43,
   "id": "3c3b53fe",
   "metadata": {},
   "outputs": [],
   "source": [
    "### 신용등급 ###\n",
    "# finda 신용등급은 코리아크레딧뷰로(KCB)사용\n",
    "def credit_rating(x):\n",
    "    if x >= 942:return 1\n",
    "    elif x >= 891:return 2\n",
    "    elif x >= 832:return 3\n",
    "    elif x >= 768:return 4\n",
    "    elif x >= 698:return 5\n",
    "    elif x >= 630:return 6\n",
    "    elif x >= 530:return 7\n",
    "    elif x >= 454:return 8\n",
    "    elif x >= 335:return 9\n",
    "    else:return 10\n",
    "    \n",
    "user['credit_rating'] = user['credit_score'].apply(credit_rating)"
   ]
  },
  {
   "cell_type": "code",
   "execution_count": 44,
   "id": "59a907be",
   "metadata": {},
   "outputs": [],
   "source": [
    "### 소득등급 ###\n",
    "# 상세 소득수준(ex.연령대별 평균과 비교) or 세분화된 소득분위(ex.10등급으로 세분, 장학재단에서 사용하는 소득분위) 추가\n",
    "percent = user['yearly_income'].describe()\n",
    "\n",
    "def income_rating(x):\n",
    "    if x < percent[4]:return 4\n",
    "    elif x < percent[5]:return 3\n",
    "    elif x < percent[6]:return 2\n",
    "    else:return 1\n",
    "\n",
    "user['income_rating'] = user['yearly_income'].apply(income_rating)"
   ]
  },
  {
   "cell_type": "code",
   "execution_count": 45,
   "id": "bf15f6b7",
   "metadata": {},
   "outputs": [],
   "source": [
    "### 근속년수 ###\n",
    "user['service_year'] = user['company_enter_month'].apply(lambda x:2022- int(str(x)[:4]) + 1 if x != '입사년도 없음' else x)"
   ]
  },
  {
   "cell_type": "code",
   "execution_count": 46,
   "id": "49ba27bd",
   "metadata": {},
   "outputs": [],
   "source": [
    "### 기대출 평균 금액 ###\n",
    "user['avg_existing_loan_amt'] = user['existing_loan_amt'] / user['existing_loan_cnt']\n",
    "user['avg_existing_loan_amt'] = user['avg_existing_loan_amt'].fillna(user['avg_existing_loan_amt'].mean())"
   ]
  },
  {
   "cell_type": "code",
   "execution_count": 47,
   "id": "5070c413",
   "metadata": {},
   "outputs": [],
   "source": [
    "### 대출 조회 건수 ###\n",
    "count = user.groupby('user_id')['application_id'].count()\n",
    "user['application_count'] = user['user_id'].apply(lambda x : count[x])"
   ]
  },
  {
   "cell_type": "code",
   "execution_count": 48,
   "id": "db1a6fa3",
   "metadata": {},
   "outputs": [],
   "source": [
    "### 신용평가 시간 ###\n",
    "def insert_classification(x):\n",
    "    if 2 <= x <= 5:return \"새벽\"\n",
    "    elif x <= 9:return \"아침\"\n",
    "    elif x <= 13:return \"점심\"\n",
    "    elif x <= 18:return \"낮\"\n",
    "    elif x <= 22:return \"저녁\"\n",
    "    else:return \"밤\"\n",
    "\n",
    "user['insert_classification'] = user['insert_time'].dt.hour.apply(insert_classification)"
   ]
  },
  {
   "cell_type": "code",
   "execution_count": 49,
   "id": "0a9108d2",
   "metadata": {},
   "outputs": [],
   "source": [
    "### income_type 별 소득 수준 ###\n",
    "income_type = user.groupby('income_type')['yearly_income'].agg('median')\n",
    "\n",
    "user['income_income_level'] = user.apply(lambda x: \"직장없음\" if x['income_type'] == \"직장없음\" else \n",
    "                                         (\"평균 미만\" if x['yearly_income'] < income_type[x['income_type']] else \"평균 이상\"), axis = 1)"
   ]
  },
  {
   "cell_type": "code",
   "execution_count": 50,
   "id": "b328e128",
   "metadata": {},
   "outputs": [],
   "source": [
    "### 연소득 대비 대출 희망금액 비율 ###\n",
    "user['income_desired_ratio'] = user['desired_amount'] / user['yearly_income']\n",
    "# 나누는 값이 0인 경우 처리\n",
    "user['income_desired_ratio'] = user['income_desired_ratio'].fillna(user['income_desired_ratio'].mean())"
   ]
  },
  {
   "cell_type": "code",
   "execution_count": 51,
   "id": "cf8c5052",
   "metadata": {},
   "outputs": [],
   "source": [
    "### 연소득 대비 기대출 금액 비율 ###\n",
    "user['income_existing_ratio'] = user['existing_loan_amt'] / user['yearly_income']\n",
    "# 나누는 값이 0인 경우 처리\n",
    "user['income_existing_ratio'] = user['income_existing_ratio'].fillna(user['income_existing_ratio'].mean())"
   ]
  },
  {
   "cell_type": "markdown",
   "id": "cf0bdeb2",
   "metadata": {},
   "source": [
    "- loan"
   ]
  },
  {
   "cell_type": "code",
   "execution_count": 52,
   "id": "1858a264",
   "metadata": {},
   "outputs": [],
   "source": [
    "### loanapply_insert_time 날짜 변경 ###\n",
    "loan['loanapply_insert_time'] = pd.to_datetime(loan['loanapply_insert_time'])"
   ]
  },
  {
   "cell_type": "markdown",
   "id": "cb0f6391",
   "metadata": {},
   "source": [
    "## 데이터 병합 및 저장"
   ]
  },
  {
   "cell_type": "code",
   "execution_count": 53,
   "id": "156930f7",
   "metadata": {},
   "outputs": [],
   "source": [
    "# 데이터 병합\n",
    "data = pd.merge(loan, user, on = \"application_id\").reset_index(drop = True)\n",
    "# 예측을 위한 pk는 인덱스이기 때문에 불러올때 인덱스를 컬럼으로 가져옴\n",
    "data = data.reset_index()"
   ]
  },
  {
   "cell_type": "code",
   "execution_count": 54,
   "id": "bf9e672b",
   "metadata": {},
   "outputs": [],
   "source": [
    "# 다양한 type의 데이터가 존재하는 변수를 모두 str로 통일해줌\n",
    "data['company_enter_month'] = data['company_enter_month'].astype(str)\n",
    "data['service_year'] = data['service_year'].astype(str)\n",
    "\n",
    "# datetime 인코딩 문제로 object로 변경\n",
    "data['loanapply_insert_time'] = data['loanapply_insert_time'].astype(str)\n",
    "data['insert_time'] = data['insert_time'].astype(str)"
   ]
  },
  {
   "cell_type": "markdown",
   "id": "09eed928",
   "metadata": {},
   "source": [
    "## ML Model"
   ]
  },
  {
   "cell_type": "code",
   "execution_count": 55,
   "id": "bd0197e2",
   "metadata": {},
   "outputs": [],
   "source": [
    "# 모델링 패키지\n",
    "import sklearn\n",
    "import matplotlib\n",
    "from sklearn.preprocessing import LabelEncoder\n",
    "from sklearn.pipeline import make_pipeline\n",
    "from sklearn.tree import DecisionTreeRegressor\n",
    "from sklearn.ensemble import ExtraTreesRegressor\n",
    "from sklearn.ensemble import RandomForestRegressor\n",
    "from sklearn.model_selection import train_test_split\n",
    "from sklearn.model_selection import validation_curve\n",
    "from sklearn.metrics import mean_squared_log_error\n",
    "\n",
    "# encoder\n",
    "from sklearn.preprocessing import LabelEncoder\n",
    "from sklearn.preprocessing import OneHotEncoder\n",
    "# scaler\n",
    "from sklearn.preprocessing import StandardScaler\n",
    "# eval\n",
    "from sklearn.model_selection import cross_val_score\n",
    "from sklearn.metrics import make_scorer\n",
    "from sklearn.metrics import f1_score, accuracy_score\n",
    "# model\n",
    "from sklearn.ensemble import RandomForestClassifier\n",
    "from catboost import CatBoostClassifier\n",
    "from lightgbm import LGBMClassifier"
   ]
  },
  {
   "cell_type": "markdown",
   "id": "cab534e0",
   "metadata": {},
   "source": [
    "- 데이터 분리"
   ]
  },
  {
   "cell_type": "code",
   "execution_count": 56,
   "id": "1cc2d105",
   "metadata": {},
   "outputs": [],
   "source": [
    "x_test = data[data['month'] == 6].drop('is_applied', axis=1).reset_index(drop=True)\n",
    "x = data[data['month'] != 6].drop('is_applied', axis=1).reset_index(drop=True)\n",
    "y = data[data['month'] != 6]['is_applied'].reset_index(drop=True)"
   ]
  },
  {
   "cell_type": "code",
   "execution_count": 57,
   "id": "2e617ebc",
   "metadata": {},
   "outputs": [],
   "source": [
    "from sklearn.model_selection import train_test_split"
   ]
  },
  {
   "cell_type": "code",
   "execution_count": 58,
   "id": "a9c04438",
   "metadata": {},
   "outputs": [],
   "source": [
    "x_train, x_valid, y_train, y_valid = train_test_split(x, y, test_size=0.2, shuffle=True, stratify=y, random_state=3)"
   ]
  },
  {
   "cell_type": "markdown",
   "id": "afd9aba6",
   "metadata": {},
   "source": [
    "- Preprocessing"
   ]
  },
  {
   "cell_type": "code",
   "execution_count": 59,
   "id": "9c3332a7",
   "metadata": {},
   "outputs": [],
   "source": [
    "# 범주형 변수와 수치형 변수를 분리\n",
    "## train\n",
    "cat_feature_tr = x_train.iloc[:,1:].select_dtypes(include=['object']).columns.to_list()\n",
    "num_feature_tr = x_train.iloc[:,1:].select_dtypes(exclude='object').columns.to_list() \n",
    "## test\n",
    "cat_feature_val = x_valid.iloc[:,1:].select_dtypes(include=['object']).columns.to_list()\n",
    "num_feature_val = x_valid.iloc[:,1:].select_dtypes(exclude='object').columns.to_list()"
   ]
  },
  {
   "cell_type": "markdown",
   "id": "a96503bb",
   "metadata": {},
   "source": [
    "    - Encoding"
   ]
  },
  {
   "cell_type": "code",
   "execution_count": 60,
   "id": "8625b121",
   "metadata": {},
   "outputs": [],
   "source": [
    "# Labelencoder\n",
    "encoder = LabelEncoder()\n",
    "encoded_cat_tr = []\n",
    "encoded_cat_val = []\n",
    "for f in cat_feature_tr:\n",
    "    encoder = encoder.fit(pd.concat([x_train, x_valid]).reset_index(drop=True)[f])\n",
    "    encoded_cat_tr.append(pd.DataFrame(encoder.transform(x_train[f]),columns = [f])) # train\n",
    "    encoded_cat_val.append(pd.DataFrame(encoder.transform(x_valid[f]),columns = [f])) # test\n",
    "\n",
    "# 합쳐줌\n",
    "cat_tr = pd.concat(encoded_cat_tr, axis = 1) # train\n",
    "cat_val = pd.concat(encoded_cat_val, axis = 1) # test"
   ]
  },
  {
   "cell_type": "code",
   "execution_count": 61,
   "id": "5f228d06",
   "metadata": {},
   "outputs": [],
   "source": [
    "# 인코딩 이후 수치형 변수와 범주형 변수를 합쳐줌\n",
    "x_train_imp = pd.concat([x_train['index'].reset_index(drop=True), cat_tr], axis=1)\n",
    "x_val_imp = pd.concat([x_valid['index'].reset_index(drop=True), cat_val], axis=1)"
   ]
  },
  {
   "cell_type": "code",
   "execution_count": 62,
   "id": "decb647d",
   "metadata": {},
   "outputs": [],
   "source": [
    "x_train = pd.concat([x_train_imp, x_train[num_feature_tr].reset_index(drop=True)], axis=1)\n",
    "x_valid = pd.concat([x_val_imp, x_valid[num_feature_val].reset_index(drop=True)], axis=1)"
   ]
  },
  {
   "cell_type": "markdown",
   "id": "77bb8413",
   "metadata": {},
   "source": [
    "- Modeling"
   ]
  },
  {
   "cell_type": "markdown",
   "id": "5bbb5bb6",
   "metadata": {},
   "source": [
    "    - LGBM"
   ]
  },
  {
   "cell_type": "code",
   "execution_count": 63,
   "id": "e5082526",
   "metadata": {},
   "outputs": [],
   "source": [
    "lgbm = LGBMClassifier(random_state=42)\n",
    "# valid 예측\n",
    "lgbm.fit(x_train.iloc[:,1:], y_train)\n",
    "pred_lgbm = lgbm.predict_proba(x_valid.iloc[:,1:])\n",
    "pred = lgbm.predict(x_valid.iloc[:,1:])"
   ]
  },
  {
   "cell_type": "code",
   "execution_count": 64,
   "id": "3f4d2e46",
   "metadata": {},
   "outputs": [
    {
     "data": {
      "text/plain": [
       "0.2999576485375084"
      ]
     },
     "execution_count": 64,
     "metadata": {},
     "output_type": "execute_result"
    }
   ],
   "source": [
    "# threshold 변경 전\n",
    "f1_score(y_valid, pred)"
   ]
  },
  {
   "cell_type": "markdown",
   "id": "57be7953",
   "metadata": {},
   "source": [
    "## END"
   ]
  }
 ],
 "metadata": {
  "kernelspec": {
   "display_name": "Python 3 (ipykernel)",
   "language": "python",
   "name": "python3"
  },
  "language_info": {
   "codemirror_mode": {
    "name": "ipython",
    "version": 3
   },
   "file_extension": ".py",
   "mimetype": "text/x-python",
   "name": "python",
   "nbconvert_exporter": "python",
   "pygments_lexer": "ipython3",
   "version": "3.8.8"
  }
 },
 "nbformat": 4,
 "nbformat_minor": 5
}
