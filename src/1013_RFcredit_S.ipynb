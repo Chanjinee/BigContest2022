{
 "cells": [
  {
   "cell_type": "markdown",
   "id": "6d56c6f8",
   "metadata": {
    "id": "wzonD5TZ3sW1"
   },
   "source": [
    "# Import Module"
   ]
  },
  {
   "cell_type": "code",
   "execution_count": 1,
   "id": "c4fed476",
   "metadata": {
    "id": "sugFfOZs3lEn"
   },
   "outputs": [
    {
     "name": "stdout",
     "output_type": "stream",
     "text": [
      "Pandas : 1.4.3\n",
      "seaborn : 0.11.2\n",
      "Sklearn : 1.1.2\n",
      "Python 3.8.8\n"
     ]
    }
   ],
   "source": [
    "import pandas as pd\n",
    "import numpy as np\n",
    "\n",
    "# 시각화\n",
    "import seaborn as sns\n",
    "\n",
    "# 경고 메시지 무시\n",
    "import warnings\n",
    "warnings.filterwarnings(action='ignore') \n",
    "\n",
    "import matplotlib.pyplot as plt\n",
    "\n",
    "plt.rc('font', family='NanumBarunGothic') \n",
    "plt.style.use(['ggplot'])\n",
    "\n",
    "# 사용자 운영체제 확인\n",
    "import platform\n",
    "platform.system()\n",
    "\n",
    "# 운영체제별 한글 폰트 설정\n",
    "if platform.system() == 'Darwin': # Mac 환경 폰트 설정\n",
    "    plt.rc('font', family='AppleGothic')\n",
    "elif platform.system() == 'Windows': # Windows 환경 폰트 설정\n",
    "    plt.rc('font', family='Malgun Gothic')\n",
    "\n",
    "plt.rc('axes', unicode_minus=False) # 마이너스 폰트 설정\n",
    "\n",
    "# scaling\n",
    "import sklearn\n",
    "from sklearn.preprocessing import StandardScaler\n",
    "from sklearn.preprocessing import MinMaxScaler\n",
    "from sklearn.preprocessing import RobustScaler\n",
    "# clustering\n",
    "from sklearn.cluster import KMeans\n",
    "from yellowbrick.cluster import KElbowVisualizer, SilhouetteVisualizer\n",
    "from sklearn.metrics import silhouette_samples, silhouette_score\n",
    "from scipy.cluster.hierarchy import dendrogram, linkage\n",
    "from sklearn.cluster import AgglomerativeClustering\n",
    "from mpl_toolkits.mplot3d import Axes3D\n",
    "\n",
    "\n",
    "# 글씨 선명하게 출력하는 설정\n",
    "%config InlineBackend.figure_format = 'retina'\n",
    "\n",
    "# 버전 확인\n",
    "print('Pandas : %s'%(pd.__version__))\n",
    "print('seaborn : %s'%(sns.__version__))\n",
    "print('Sklearn : %s'%(sklearn.__version__))\n",
    "!python --version"
   ]
  },
  {
   "cell_type": "markdown",
   "id": "ed3a6c4b",
   "metadata": {},
   "source": [
    "# Load Data"
   ]
  },
  {
   "cell_type": "code",
   "execution_count": 2,
   "id": "63c6bf08",
   "metadata": {
    "id": "DdRsfblV33fU"
   },
   "outputs": [],
   "source": [
    "# 데이터 불러오기\n",
    "user = pd.read_csv('../data/user_spec.csv')\n",
    "loan = pd.read_csv('../data/loan_result.csv')\n",
    "log = pd.read_csv('../data/log_data.csv')"
   ]
  },
  {
   "cell_type": "markdown",
   "id": "7dbf5387",
   "metadata": {
    "id": "lBMPfE7dzVT-"
   },
   "source": [
    "# Preprocessing"
   ]
  },
  {
   "cell_type": "markdown",
   "id": "34caa310",
   "metadata": {},
   "source": [
    "- 결측치 처리"
   ]
  },
  {
   "cell_type": "markdown",
   "id": "fb355fa8",
   "metadata": {},
   "source": [
    "    - user_spec"
   ]
  },
  {
   "cell_type": "code",
   "execution_count": 3,
   "id": "0800f3c0",
   "metadata": {},
   "outputs": [],
   "source": [
    "###### birth_year #####\n",
    "birth_year_mean = user['birth_year'].mean()\n",
    "user['birth_year'] = user['birth_year'].fillna('없음')\n",
    "\n",
    "# 전처리할 데이터 재생성\n",
    "bir = user.groupby('user_id')['birth_year'].apply(set).reset_index()\n",
    "bir['len'] = bir['birth_year'].apply(lambda x:len(x))\n",
    "\n",
    "# 0을 지워주는 함수 생성\n",
    "def remove0(x):\n",
    "    if len(x) == 2: \n",
    "        x_ = x.remove('없음')\n",
    "        return x_\n",
    "    else: return x\n",
    "\n",
    "# 적용\n",
    "bir['birth_year'].apply(remove0)\n",
    "bir['year'] = bir['birth_year'].apply(lambda x:list(x)[0])\n",
    "\n",
    "# 없음을 평균으로 채워줌\n",
    "bir['year'] = bir['year'].apply(lambda x:birth_year_mean if x == '없음' else x)\n",
    "\n",
    "# 딕셔너리로 변환하여 저장\n",
    "birth_year = {x:y for x,y in zip(bir['user_id'], bir['year'])}\n",
    "\n",
    "# 적용하여 변환\n",
    "user['birth_year'] = user['user_id'].apply(lambda x:birth_year[x])"
   ]
  },
  {
   "cell_type": "code",
   "execution_count": 4,
   "id": "14a5d433",
   "metadata": {},
   "outputs": [],
   "source": [
    "###### gender #####\n",
    "user['gender'] = user['gender'].fillna('없음')\n",
    "\n",
    "# 전처리할 데이터 재생성\n",
    "g = user.groupby('user_id')['gender'].apply(set).reset_index()\n",
    "g['len'] = g['gender'].apply(lambda x:len(x))\n",
    "\n",
    "# 0을 지워주는 함수 생성\n",
    "def remove2(x):\n",
    "    if len(x) == 2: \n",
    "        x_ = x.remove('없음')\n",
    "        return x_\n",
    "    else: return x\n",
    "\n",
    "# 적용\n",
    "g['gender'].apply(remove2)\n",
    "g['g'] = g['gender'].apply(lambda x:list(x)[0])\n",
    "g['g'] = g['g'].apply(lambda x:1 if x == '없음' else x)\n",
    "\n",
    "# 딕셔너리로 변환하여 저장\n",
    "gender = {x:y for x,y in zip(g['user_id'], g['g'])}\n",
    "\n",
    "# 적용하여 변환\n",
    "user['gender'] = user['user_id'].apply(lambda x:gender[x])"
   ]
  },
  {
   "cell_type": "code",
   "execution_count": 5,
   "id": "d17cff82",
   "metadata": {},
   "outputs": [],
   "source": [
    "#### ersonal_rehabilitation_yn ####\n",
    "# 기록이 있으면 개인회생자, 없으면 아닌 사람으로 기록\n",
    "user['personal_rehabilitation_yn'] = user['personal_rehabilitation_complete_yn'].apply(lambda x:1 if x in [0,1] else 0)\n",
    "# 나머지 기록이 na인 값은 전부 개인회생자가 아닌 것으로 확인함 -> 2( 개인회생자아님 )로 채워줌\n",
    "user['personal_rehabilitation_complete_yn'] = user['personal_rehabilitation_complete_yn'].fillna(2)"
   ]
  },
  {
   "cell_type": "code",
   "execution_count": 6,
   "id": "c7a20996",
   "metadata": {},
   "outputs": [],
   "source": [
    "#### company_enter_month ####\n",
    "# OTHERINCOME을 제외하면 na값이 적기 때문에 입사년도 없음으로 채워줌\n",
    "user['company_enter_month'] = user['company_enter_month'].fillna('입사년도 없음')"
   ]
  },
  {
   "cell_type": "code",
   "execution_count": 7,
   "id": "25ac7426",
   "metadata": {},
   "outputs": [],
   "source": [
    "#### credit_score ####\n",
    "# 신용 점수가 있는 고객들은 해당 고객이 가진 신용 점수의 평균으로 채워줌\n",
    "user['credit_score'] = user['credit_score'].fillna(user.groupby('user_id')['credit_score'].transform('mean'))\n",
    "\n",
    "# 평균으로 채워줌\n",
    "user['credit_score'] = user['credit_score'].fillna(user['credit_score'].mean())"
   ]
  },
  {
   "cell_type": "code",
   "execution_count": 8,
   "id": "2d6ddec4",
   "metadata": {},
   "outputs": [],
   "source": [
    "#### existing_loan ####\n",
    "# existing_loan_cnt와 existing_loan_amt의 수가 na인 값은 0으로 채워줌\n",
    "user['existing_loan_cnt'] = user['existing_loan_cnt'].fillna(0)\n",
    "user['existing_loan_amt'] = user['existing_loan_amt'].fillna(0)"
   ]
  },
  {
   "cell_type": "code",
   "execution_count": 9,
   "id": "8e54fd45",
   "metadata": {},
   "outputs": [],
   "source": [
    "#### income ####\n",
    "# 0으로 채워줌\n",
    "user['yearly_income'] = user['yearly_income'].fillna(0)\n",
    "user['income_type'] = user['income_type'].fillna('직장없음')"
   ]
  },
  {
   "cell_type": "code",
   "execution_count": 10,
   "id": "15fc0102",
   "metadata": {},
   "outputs": [],
   "source": [
    "#### employment_type ####\n",
    "# 입사년도가 없다는 것은 기타이기 때문에 기타로 채워줌\n",
    "user['employment_type'] = user['employment_type'].fillna('기타')"
   ]
  },
  {
   "cell_type": "code",
   "execution_count": 11,
   "id": "285f713a",
   "metadata": {},
   "outputs": [],
   "source": [
    "#### houseown_type ####\n",
    "## -> 정보없음으로 채워줌\n",
    "user['houseown_type'] = user['houseown_type'].fillna('정보없음')"
   ]
  },
  {
   "cell_type": "code",
   "execution_count": 12,
   "id": "da1392e2",
   "metadata": {},
   "outputs": [],
   "source": [
    "#### desired_amount ####\n",
    "# 이 경우도 선택을 그냥 하지 않은 경우이기 때문에 최빈값으로 채워줌\n",
    "## 단순한 궁금증으로 인하여 선택을 한 경우라고 판단 -> 가장 많이 원하는 금액으로 채움\n",
    "user['desired_amount'] = user['desired_amount'].fillna(user['desired_amount'].mode()[0])"
   ]
  },
  {
   "cell_type": "code",
   "execution_count": 13,
   "id": "0868e72b",
   "metadata": {},
   "outputs": [],
   "source": [
    "#### purpose ####\n",
    "# 목적 또한 위와 같음\n",
    "## 최빈값으로 채움\n",
    "user['purpose'] = user['purpose'].fillna(user['purpose'].mode()[0])"
   ]
  },
  {
   "cell_type": "markdown",
   "id": "8d6cba87",
   "metadata": {},
   "source": [
    "    - loan_result"
   ]
  },
  {
   "cell_type": "code",
   "execution_count": 14,
   "id": "4009a079",
   "metadata": {},
   "outputs": [],
   "source": [
    "# 중복 제거하여 데이터 선언\n",
    "loan = loan.drop_duplicates()"
   ]
  },
  {
   "cell_type": "code",
   "execution_count": 15,
   "id": "b410e588",
   "metadata": {},
   "outputs": [],
   "source": [
    "#### loan_rate ####\n",
    "# 일부 행만 null인 경우 결측치를 product별 평균\n",
    "product_list = loan[loan['loan_limit'].isna()]['product_id'].unique()\n",
    "\n",
    "for i in product_list:\n",
    "    len_rate = loan[loan['product_id'] == i]['loan_rate'].unique()\n",
    "    \n",
    "    if len(len_rate) > 1:\n",
    "        loan.loc[(loan['product_id'] == i) & (loan['loan_rate'].isna()), 'loan_rate'] = round(np.nanmean(len_rate), 1)\n",
    "\n",
    "        \n",
    "# 모두 null인 경우 결측치를 application별 평균\n",
    "loan['loan_rate'] = loan['loan_rate'].fillna(loan.groupby('application_id')['loan_rate'].transform('mean'))\n",
    "\n",
    "# application이 하나인 데이터 최빈값 대체\n",
    "loan['loan_rate'] = loan['loan_rate'].fillna(loan['loan_rate'].mode()[0])"
   ]
  },
  {
   "cell_type": "code",
   "execution_count": 16,
   "id": "5f23b950",
   "metadata": {},
   "outputs": [],
   "source": [
    "#### loan_limit ####\n",
    "# loan_limit 결측치를 application별로 평균\n",
    "loan['loan_limit'] = loan['loan_limit'].fillna(loan.groupby('application_id')['loan_limit'].transform('mean'))\n",
    "\n",
    "# application이 하나인 결측치 최빈값으로\n",
    "loan['loan_limit'] = loan['loan_limit'].fillna(loan['loan_limit'].mode()[0])"
   ]
  },
  {
   "cell_type": "markdown",
   "id": "892a46c7",
   "metadata": {},
   "source": [
    "    - log"
   ]
  },
  {
   "cell_type": "code",
   "execution_count": 17,
   "id": "e860cf29",
   "metadata": {},
   "outputs": [],
   "source": [
    "# os의 결측치는 최빈값으로 채워줌\n",
    "log['mp_os'] = log['mp_os'].fillna(log['mp_os'].mode()[0])\n",
    "# 기본 값이 str이었기 때문에 알수 없는 정보는 없음으로 채움\n",
    "log['mp_app_version'] = log['mp_app_version'].fillna('없음')"
   ]
  },
  {
   "cell_type": "markdown",
   "id": "fbe02146",
   "metadata": {},
   "source": [
    "# Clusering"
   ]
  },
  {
   "cell_type": "markdown",
   "id": "e5157b1a",
   "metadata": {},
   "source": [
    "- RFM with Finda"
   ]
  },
  {
   "cell_type": "code",
   "execution_count": 18,
   "id": "15990730",
   "metadata": {},
   "outputs": [],
   "source": [
    "# user와 log 두 데이터 모두에 있는 user만 분석에 사용 및 저장\n",
    "user_id = user[user['user_id'].isin(log['user_id'])]['user_id'].unique()\n",
    "\n",
    "# log와 user데이터에 있는 공통된 user들만 데이터로 사용\n",
    "user = user[user['user_id'].isin(user_id)]\n",
    "log = log[log['user_id'].isin(user_id)]"
   ]
  },
  {
   "cell_type": "code",
   "execution_count": 19,
   "id": "34de07cb",
   "metadata": {},
   "outputs": [],
   "source": [
    "# 타입 변경\n",
    "log['date_cd'] = pd.to_datetime(log['date_cd'])"
   ]
  },
  {
   "cell_type": "markdown",
   "id": "c29b5fd8",
   "metadata": {},
   "source": [
    "    - RFM을 finda에 맞게 변형하여 생성"
   ]
  },
  {
   "cell_type": "code",
   "execution_count": 21,
   "id": "9bbfd41d",
   "metadata": {},
   "outputs": [],
   "source": [
    "# recency 계산\n",
    "recency = log.groupby('user_id')['date_cd'].max().reset_index()\n",
    "\n",
    "# 2022년3월1일을 기준으로 최근에 방문한 고객의 점수가 높도록 해줌\n",
    "recency['Recency'] = (recency['date_cd'] - pd.to_datetime('20220301')).dt.days\n",
    "\n",
    "# frequency 계산\n",
    "## 단순히 Frequency가 아닌 finda에 최적화된 변수를 찾기 위해 대출 조회하기 버튼을 누른 횟수로 Frequency를 지정\n",
    "frequency = log[log['event'] == 'OpenApp'].groupby('user_id')['event'].count().reset_index()\n",
    "frequency.columns = ['user_id', 'Frequency']\n",
    "\n",
    "# recency와 frequency를 병합후 보정\n",
    "rfm = pd.merge(recency, frequency, on='user_id', how='left')[['user_id', 'Recency', 'Frequency']]\n",
    "rfm['Frequency'] = rfm['Frequency'].fillna(0)\n",
    "\n",
    "# Monetary대신 신용 등급을 넣어줌\n",
    "rfm = pd.merge(rfm,user.groupby('user_id')['credit_score'].mean().reset_index(), on='user_id', how='left')"
   ]
  },
  {
   "cell_type": "code",
   "execution_count": null,
   "id": "55e0e04a",
   "metadata": {},
   "outputs": [],
   "source": [
    "# 시각화를 통해 분포 확인\n",
    "plt.figure(figsize=(17,5))\n",
    "plt.subplot(1, 3, 1)\n",
    "plt.hist(rfm['Recency'])\n",
    "plt.title('Recency')\n",
    "\n",
    "plt.subplot(1, 3, 2)\n",
    "plt.hist(rfm['Frequency'])\n",
    "plt.title('Frequency')\n",
    "\n",
    "plt.subplot(1, 3, 3)\n",
    "plt.hist(rfm['credit_score'])\n",
    "plt.title('credit_score')\n",
    "plt.show()"
   ]
  },
  {
   "cell_type": "code",
   "execution_count": null,
   "id": "4fc0ae91",
   "metadata": {},
   "outputs": [],
   "source": [
    "# 스케일링한 후 데이터프레임으로 저장\n",
    "## 이상치가 존재하는 분포로 이루어져있기 때문에 RobustScaler를 사용함\n",
    "scaler = StandardScaler()\n",
    "rfm_scaled = pd.DataFrame(scaler.fit_transform(rfm.iloc[:,1:]))\n",
    "# 컬럼명을 변경해줌\n",
    "rfm_scaled.columns = ['Recency', 'Frequency', 'credit_score']\n",
    "# user_id에 대한 정보를 삽입해줌\n",
    "rfm_scaled.insert(0, 'user_id', rfm['user_id']);rfm_scaled"
   ]
  },
  {
   "cell_type": "markdown",
   "id": "93d0ebc8",
   "metadata": {},
   "source": [
    "- kmeans"
   ]
  },
  {
   "cell_type": "code",
   "execution_count": null,
   "id": "3ebc86aa",
   "metadata": {},
   "outputs": [],
   "source": [
    "kmeans = KMeans(random_state=np.random.RandomState(seed=42))\n",
    "\n",
    "elb_visualizer = KElbowVisualizer(kmeans, k=(2,11))\n",
    "elb_visualizer.fit(rfm_scaled.iloc[:,1:])\n",
    "elb_visualizer.show()"
   ]
  },
  {
   "cell_type": "markdown",
   "id": "947af4b2",
   "metadata": {},
   "source": [
    "- 실루엣 계수"
   ]
  },
  {
   "cell_type": "code",
   "execution_count": null,
   "id": "00353807",
   "metadata": {},
   "outputs": [],
   "source": [
    "# 오래걸림\n",
    "model_5clust = KMeans(n_clusters = 5, random_state=np.random.RandomState(seed=42))\n",
    "\n",
    "sil_visualizer = SilhouetteVisualizer(model_5clust)\n",
    "sil_visualizer.fit(rfm_scaled.iloc[:,1:])\n",
    "sil_visualizer.show()"
   ]
  },
  {
   "cell_type": "markdown",
   "id": "021dceda",
   "metadata": {},
   "source": [
    "- 시각화"
   ]
  },
  {
   "cell_type": "code",
   "execution_count": null,
   "id": "f890ef77",
   "metadata": {},
   "outputs": [],
   "source": [
    "# 최종 모델로 군집화 후 결과 추출\n",
    "model_5clust = KMeans(n_clusters = 5, random_state=np.random.RandomState(seed=42))\n",
    "cluster = model_5clust.fit_predict(rfm_scaled.iloc[:,1:])"
   ]
  },
  {
   "cell_type": "code",
   "execution_count": null,
   "id": "f3e9847b",
   "metadata": {},
   "outputs": [],
   "source": [
    "# 3차원 시각화로 군집 확인\n",
    "fig = plt.figure(figsize=(10, 10))\n",
    "ax = fig.add_subplot(111, projection='3d') \n",
    "\n",
    "x = rfm_scaled['Frequency']\n",
    "y = rfm_scaled['Recency']\n",
    "z = rfm_scaled['credit_score']\n",
    "ax.scatter(x, y, z, c = cluster, s= 20, alpha=0.5, cmap='rainbow')\n",
    "plt.show()"
   ]
  },
  {
   "cell_type": "markdown",
   "id": "ca6dcfea",
   "metadata": {},
   "source": [
    "    - cluster에 따른 사용자 수 확인"
   ]
  },
  {
   "cell_type": "code",
   "execution_count": null,
   "id": "4addc633",
   "metadata": {},
   "outputs": [],
   "source": [
    "pd.DataFrame(cluster).value_counts()"
   ]
  },
  {
   "cell_type": "markdown",
   "id": "008f6cbe",
   "metadata": {},
   "source": [
    "# Cluster Analysis"
   ]
  },
  {
   "cell_type": "code",
   "execution_count": 91,
   "id": "5213033d",
   "metadata": {},
   "outputs": [],
   "source": [
    "# 고객에게 label을 할당\n",
    "rfm_scaled['labels'] = cluster\n",
    "\n",
    "# user의 label을 저장해놓음\n",
    "user_labels = {u_id:label for u_id,label in zip(rfm_scaled['user_id'], rfm_scaled['labels'])}"
   ]
  },
  {
   "cell_type": "markdown",
   "id": "4e7745fe",
   "metadata": {},
   "source": [
    "- Data Load"
   ]
  },
  {
   "cell_type": "code",
   "execution_count": 95,
   "id": "d7aa18eb",
   "metadata": {},
   "outputs": [],
   "source": [
    "# 이전에 파생변수를 생성했던 데이터를 불러옴\n",
    "data = pd.read_csv('../data/make_feature.csv')\n",
    "\n",
    "# 이전에 분석을 진행했던 고객들만 남겨줌\n",
    "data = data[data['user_id'].isin(user_id)]\n",
    "\n",
    "# user_id별로 label을 할당함\n",
    "data['labels'] = data['user_id'].apply(lambda x:user_labels[x])"
   ]
  },
  {
   "cell_type": "markdown",
   "id": "67041adf",
   "metadata": {},
   "source": [
    "#### 유형별 특징 분석"
   ]
  },
  {
   "cell_type": "code",
   "execution_count": 99,
   "id": "6cba1405",
   "metadata": {},
   "outputs": [
    {
     "data": {
      "text/html": [
       "<div>\n",
       "<style scoped>\n",
       "    .dataframe tbody tr th:only-of-type {\n",
       "        vertical-align: middle;\n",
       "    }\n",
       "\n",
       "    .dataframe tbody tr th {\n",
       "        vertical-align: top;\n",
       "    }\n",
       "\n",
       "    .dataframe thead th {\n",
       "        text-align: right;\n",
       "    }\n",
       "</style>\n",
       "<table border=\"1\" class=\"dataframe\">\n",
       "  <thead>\n",
       "    <tr style=\"text-align: right;\">\n",
       "      <th></th>\n",
       "      <th>index</th>\n",
       "      <th>application_id</th>\n",
       "      <th>loanapply_insert_time</th>\n",
       "      <th>bank_id</th>\n",
       "      <th>product_id</th>\n",
       "      <th>loan_limit</th>\n",
       "      <th>loan_rate</th>\n",
       "      <th>is_applied</th>\n",
       "      <th>month</th>\n",
       "      <th>loan_limit_level</th>\n",
       "      <th>...</th>\n",
       "      <th>income_existing_ratio</th>\n",
       "      <th>turnover_count</th>\n",
       "      <th>desired_change</th>\n",
       "      <th>income_ratio</th>\n",
       "      <th>n_bank</th>\n",
       "      <th>n_product</th>\n",
       "      <th>bank_product_ratio</th>\n",
       "      <th>loan_coefficient</th>\n",
       "      <th>bank_user_credit</th>\n",
       "      <th>labels</th>\n",
       "    </tr>\n",
       "  </thead>\n",
       "  <tbody>\n",
       "    <tr>\n",
       "      <th>0</th>\n",
       "      <td>0</td>\n",
       "      <td>1748340</td>\n",
       "      <td>2022-06-07 13:05:41</td>\n",
       "      <td>7</td>\n",
       "      <td>191</td>\n",
       "      <td>42000000.0</td>\n",
       "      <td>13.6</td>\n",
       "      <td>NaN</td>\n",
       "      <td>6</td>\n",
       "      <td>평균 이상</td>\n",
       "      <td>...</td>\n",
       "      <td>0.625000</td>\n",
       "      <td>1</td>\n",
       "      <td>30000000.0</td>\n",
       "      <td>68.571429</td>\n",
       "      <td>44</td>\n",
       "      <td>57</td>\n",
       "      <td>1.295455</td>\n",
       "      <td>231200000.0</td>\n",
       "      <td>697.971650</td>\n",
       "      <td>4</td>\n",
       "    </tr>\n",
       "    <tr>\n",
       "      <th>1</th>\n",
       "      <td>1</td>\n",
       "      <td>1748340</td>\n",
       "      <td>2022-06-07 13:05:41</td>\n",
       "      <td>25</td>\n",
       "      <td>169</td>\n",
       "      <td>24000000.0</td>\n",
       "      <td>17.9</td>\n",
       "      <td>NaN</td>\n",
       "      <td>6</td>\n",
       "      <td>평균 이상</td>\n",
       "      <td>...</td>\n",
       "      <td>0.625000</td>\n",
       "      <td>1</td>\n",
       "      <td>30000000.0</td>\n",
       "      <td>68.571429</td>\n",
       "      <td>44</td>\n",
       "      <td>57</td>\n",
       "      <td>1.295455</td>\n",
       "      <td>17900000.0</td>\n",
       "      <td>763.032322</td>\n",
       "      <td>4</td>\n",
       "    </tr>\n",
       "    <tr>\n",
       "      <th>2</th>\n",
       "      <td>2</td>\n",
       "      <td>1748340</td>\n",
       "      <td>2022-06-07 13:05:41</td>\n",
       "      <td>2</td>\n",
       "      <td>7</td>\n",
       "      <td>24000000.0</td>\n",
       "      <td>18.5</td>\n",
       "      <td>NaN</td>\n",
       "      <td>6</td>\n",
       "      <td>평균 이상</td>\n",
       "      <td>...</td>\n",
       "      <td>0.625000</td>\n",
       "      <td>1</td>\n",
       "      <td>30000000.0</td>\n",
       "      <td>68.571429</td>\n",
       "      <td>44</td>\n",
       "      <td>57</td>\n",
       "      <td>1.295455</td>\n",
       "      <td>18500000.0</td>\n",
       "      <td>729.317138</td>\n",
       "      <td>4</td>\n",
       "    </tr>\n",
       "    <tr>\n",
       "      <th>3</th>\n",
       "      <td>3</td>\n",
       "      <td>1748340</td>\n",
       "      <td>2022-06-07 13:05:41</td>\n",
       "      <td>4</td>\n",
       "      <td>268</td>\n",
       "      <td>29000000.0</td>\n",
       "      <td>10.8</td>\n",
       "      <td>NaN</td>\n",
       "      <td>6</td>\n",
       "      <td>평균 이상</td>\n",
       "      <td>...</td>\n",
       "      <td>0.625000</td>\n",
       "      <td>1</td>\n",
       "      <td>30000000.0</td>\n",
       "      <td>68.571429</td>\n",
       "      <td>44</td>\n",
       "      <td>57</td>\n",
       "      <td>1.295455</td>\n",
       "      <td>43200000.0</td>\n",
       "      <td>767.335525</td>\n",
       "      <td>4</td>\n",
       "    </tr>\n",
       "    <tr>\n",
       "      <th>4</th>\n",
       "      <td>4</td>\n",
       "      <td>1748340</td>\n",
       "      <td>2022-06-07 13:05:41</td>\n",
       "      <td>11</td>\n",
       "      <td>118</td>\n",
       "      <td>5000000.0</td>\n",
       "      <td>16.4</td>\n",
       "      <td>NaN</td>\n",
       "      <td>6</td>\n",
       "      <td>평균 미만</td>\n",
       "      <td>...</td>\n",
       "      <td>0.625000</td>\n",
       "      <td>1</td>\n",
       "      <td>30000000.0</td>\n",
       "      <td>68.571429</td>\n",
       "      <td>44</td>\n",
       "      <td>57</td>\n",
       "      <td>1.295455</td>\n",
       "      <td>328000000.0</td>\n",
       "      <td>751.767408</td>\n",
       "      <td>4</td>\n",
       "    </tr>\n",
       "    <tr>\n",
       "      <th>...</th>\n",
       "      <td>...</td>\n",
       "      <td>...</td>\n",
       "      <td>...</td>\n",
       "      <td>...</td>\n",
       "      <td>...</td>\n",
       "      <td>...</td>\n",
       "      <td>...</td>\n",
       "      <td>...</td>\n",
       "      <td>...</td>\n",
       "      <td>...</td>\n",
       "      <td>...</td>\n",
       "      <td>...</td>\n",
       "      <td>...</td>\n",
       "      <td>...</td>\n",
       "      <td>...</td>\n",
       "      <td>...</td>\n",
       "      <td>...</td>\n",
       "      <td>...</td>\n",
       "      <td>...</td>\n",
       "      <td>...</td>\n",
       "      <td>...</td>\n",
       "    </tr>\n",
       "    <tr>\n",
       "      <th>13527219</th>\n",
       "      <td>13527219</td>\n",
       "      <td>1428218</td>\n",
       "      <td>2022-06-03 12:01:58</td>\n",
       "      <td>62</td>\n",
       "      <td>200</td>\n",
       "      <td>3000000.0</td>\n",
       "      <td>14.8</td>\n",
       "      <td>NaN</td>\n",
       "      <td>6</td>\n",
       "      <td>평균 미만</td>\n",
       "      <td>...</td>\n",
       "      <td>1.244444</td>\n",
       "      <td>2</td>\n",
       "      <td>10000000.0</td>\n",
       "      <td>128.571429</td>\n",
       "      <td>33</td>\n",
       "      <td>51</td>\n",
       "      <td>1.545455</td>\n",
       "      <td>695600000.0</td>\n",
       "      <td>729.620128</td>\n",
       "      <td>1</td>\n",
       "    </tr>\n",
       "    <tr>\n",
       "      <th>13527220</th>\n",
       "      <td>13527220</td>\n",
       "      <td>1428218</td>\n",
       "      <td>2022-06-03 12:01:49</td>\n",
       "      <td>2</td>\n",
       "      <td>7</td>\n",
       "      <td>40000000.0</td>\n",
       "      <td>11.8</td>\n",
       "      <td>NaN</td>\n",
       "      <td>6</td>\n",
       "      <td>평균 이상</td>\n",
       "      <td>...</td>\n",
       "      <td>1.244444</td>\n",
       "      <td>2</td>\n",
       "      <td>10000000.0</td>\n",
       "      <td>128.571429</td>\n",
       "      <td>33</td>\n",
       "      <td>51</td>\n",
       "      <td>1.545455</td>\n",
       "      <td>118000000.0</td>\n",
       "      <td>729.317138</td>\n",
       "      <td>1</td>\n",
       "    </tr>\n",
       "    <tr>\n",
       "      <th>13527221</th>\n",
       "      <td>13527221</td>\n",
       "      <td>1428218</td>\n",
       "      <td>2022-06-03 12:01:48</td>\n",
       "      <td>32</td>\n",
       "      <td>257</td>\n",
       "      <td>15000000.0</td>\n",
       "      <td>7.2</td>\n",
       "      <td>NaN</td>\n",
       "      <td>6</td>\n",
       "      <td>평균 미만</td>\n",
       "      <td>...</td>\n",
       "      <td>1.244444</td>\n",
       "      <td>2</td>\n",
       "      <td>10000000.0</td>\n",
       "      <td>128.571429</td>\n",
       "      <td>33</td>\n",
       "      <td>51</td>\n",
       "      <td>1.545455</td>\n",
       "      <td>252000000.0</td>\n",
       "      <td>720.280424</td>\n",
       "      <td>1</td>\n",
       "    </tr>\n",
       "    <tr>\n",
       "      <th>13527222</th>\n",
       "      <td>13527222</td>\n",
       "      <td>1428218</td>\n",
       "      <td>2022-06-03 12:01:48</td>\n",
       "      <td>33</td>\n",
       "      <td>110</td>\n",
       "      <td>44000000.0</td>\n",
       "      <td>13.5</td>\n",
       "      <td>NaN</td>\n",
       "      <td>6</td>\n",
       "      <td>평균 이상</td>\n",
       "      <td>...</td>\n",
       "      <td>1.244444</td>\n",
       "      <td>2</td>\n",
       "      <td>10000000.0</td>\n",
       "      <td>128.571429</td>\n",
       "      <td>33</td>\n",
       "      <td>51</td>\n",
       "      <td>1.545455</td>\n",
       "      <td>81000000.0</td>\n",
       "      <td>707.502740</td>\n",
       "      <td>1</td>\n",
       "    </tr>\n",
       "    <tr>\n",
       "      <th>13527223</th>\n",
       "      <td>13527223</td>\n",
       "      <td>1428218</td>\n",
       "      <td>2022-06-03 12:01:48</td>\n",
       "      <td>5</td>\n",
       "      <td>194</td>\n",
       "      <td>44000000.0</td>\n",
       "      <td>9.7</td>\n",
       "      <td>NaN</td>\n",
       "      <td>6</td>\n",
       "      <td>평균 이상</td>\n",
       "      <td>...</td>\n",
       "      <td>1.244444</td>\n",
       "      <td>2</td>\n",
       "      <td>10000000.0</td>\n",
       "      <td>128.571429</td>\n",
       "      <td>33</td>\n",
       "      <td>51</td>\n",
       "      <td>1.545455</td>\n",
       "      <td>58200000.0</td>\n",
       "      <td>741.619899</td>\n",
       "      <td>1</td>\n",
       "    </tr>\n",
       "  </tbody>\n",
       "</table>\n",
       "<p>13039173 rows × 50 columns</p>\n",
       "</div>"
      ],
      "text/plain": [
       "             index  application_id loanapply_insert_time  bank_id  product_id  \\\n",
       "0                0         1748340   2022-06-07 13:05:41        7         191   \n",
       "1                1         1748340   2022-06-07 13:05:41       25         169   \n",
       "2                2         1748340   2022-06-07 13:05:41        2           7   \n",
       "3                3         1748340   2022-06-07 13:05:41        4         268   \n",
       "4                4         1748340   2022-06-07 13:05:41       11         118   \n",
       "...            ...             ...                   ...      ...         ...   \n",
       "13527219  13527219         1428218   2022-06-03 12:01:58       62         200   \n",
       "13527220  13527220         1428218   2022-06-03 12:01:49        2           7   \n",
       "13527221  13527221         1428218   2022-06-03 12:01:48       32         257   \n",
       "13527222  13527222         1428218   2022-06-03 12:01:48       33         110   \n",
       "13527223  13527223         1428218   2022-06-03 12:01:48        5         194   \n",
       "\n",
       "          loan_limit  loan_rate  is_applied  month loan_limit_level  ...  \\\n",
       "0         42000000.0       13.6         NaN      6            평균 이상  ...   \n",
       "1         24000000.0       17.9         NaN      6            평균 이상  ...   \n",
       "2         24000000.0       18.5         NaN      6            평균 이상  ...   \n",
       "3         29000000.0       10.8         NaN      6            평균 이상  ...   \n",
       "4          5000000.0       16.4         NaN      6            평균 미만  ...   \n",
       "...              ...        ...         ...    ...              ...  ...   \n",
       "13527219   3000000.0       14.8         NaN      6            평균 미만  ...   \n",
       "13527220  40000000.0       11.8         NaN      6            평균 이상  ...   \n",
       "13527221  15000000.0        7.2         NaN      6            평균 미만  ...   \n",
       "13527222  44000000.0       13.5         NaN      6            평균 이상  ...   \n",
       "13527223  44000000.0        9.7         NaN      6            평균 이상  ...   \n",
       "\n",
       "         income_existing_ratio  turnover_count  desired_change  income_ratio  \\\n",
       "0                     0.625000               1      30000000.0     68.571429   \n",
       "1                     0.625000               1      30000000.0     68.571429   \n",
       "2                     0.625000               1      30000000.0     68.571429   \n",
       "3                     0.625000               1      30000000.0     68.571429   \n",
       "4                     0.625000               1      30000000.0     68.571429   \n",
       "...                        ...             ...             ...           ...   \n",
       "13527219              1.244444               2      10000000.0    128.571429   \n",
       "13527220              1.244444               2      10000000.0    128.571429   \n",
       "13527221              1.244444               2      10000000.0    128.571429   \n",
       "13527222              1.244444               2      10000000.0    128.571429   \n",
       "13527223              1.244444               2      10000000.0    128.571429   \n",
       "\n",
       "          n_bank  n_product bank_product_ratio  loan_coefficient  \\\n",
       "0             44         57           1.295455       231200000.0   \n",
       "1             44         57           1.295455        17900000.0   \n",
       "2             44         57           1.295455        18500000.0   \n",
       "3             44         57           1.295455        43200000.0   \n",
       "4             44         57           1.295455       328000000.0   \n",
       "...          ...        ...                ...               ...   \n",
       "13527219      33         51           1.545455       695600000.0   \n",
       "13527220      33         51           1.545455       118000000.0   \n",
       "13527221      33         51           1.545455       252000000.0   \n",
       "13527222      33         51           1.545455        81000000.0   \n",
       "13527223      33         51           1.545455        58200000.0   \n",
       "\n",
       "          bank_user_credit labels  \n",
       "0               697.971650      4  \n",
       "1               763.032322      4  \n",
       "2               729.317138      4  \n",
       "3               767.335525      4  \n",
       "4               751.767408      4  \n",
       "...                    ...    ...  \n",
       "13527219        729.620128      1  \n",
       "13527220        729.317138      1  \n",
       "13527221        720.280424      1  \n",
       "13527222        707.502740      1  \n",
       "13527223        741.619899      1  \n",
       "\n",
       "[13039173 rows x 50 columns]"
      ]
     },
     "execution_count": 99,
     "metadata": {},
     "output_type": "execute_result"
    }
   ],
   "source": [
    "data"
   ]
  },
  {
   "cell_type": "code",
   "execution_count": null,
   "id": "bbbd4f24",
   "metadata": {},
   "outputs": [],
   "source": []
  },
  {
   "cell_type": "code",
   "execution_count": null,
   "id": "af1d0f7d",
   "metadata": {},
   "outputs": [],
   "source": []
  },
  {
   "cell_type": "code",
   "execution_count": null,
   "id": "b3f283fc",
   "metadata": {},
   "outputs": [],
   "source": []
  },
  {
   "cell_type": "code",
   "execution_count": null,
   "id": "2d4ac4f0",
   "metadata": {},
   "outputs": [],
   "source": []
  },
  {
   "cell_type": "code",
   "execution_count": null,
   "id": "ec0fd5a7",
   "metadata": {},
   "outputs": [],
   "source": []
  },
  {
   "cell_type": "code",
   "execution_count": null,
   "id": "792e8e96",
   "metadata": {},
   "outputs": [],
   "source": []
  },
  {
   "cell_type": "code",
   "execution_count": null,
   "id": "d62be318",
   "metadata": {},
   "outputs": [],
   "source": []
  },
  {
   "cell_type": "code",
   "execution_count": null,
   "id": "b95673e4",
   "metadata": {},
   "outputs": [],
   "source": []
  },
  {
   "cell_type": "code",
   "execution_count": null,
   "id": "7f12fb54",
   "metadata": {},
   "outputs": [],
   "source": []
  },
  {
   "cell_type": "markdown",
   "id": "57be7953",
   "metadata": {},
   "source": [
    "## END"
   ]
  }
 ],
 "metadata": {
  "kernelspec": {
   "display_name": "Python 3 (ipykernel)",
   "language": "python",
   "name": "python3"
  },
  "language_info": {
   "codemirror_mode": {
    "name": "ipython",
    "version": 3
   },
   "file_extension": ".py",
   "mimetype": "text/x-python",
   "name": "python",
   "nbconvert_exporter": "python",
   "pygments_lexer": "ipython3",
   "version": "3.8.8"
  }
 },
 "nbformat": 4,
 "nbformat_minor": 5
}
