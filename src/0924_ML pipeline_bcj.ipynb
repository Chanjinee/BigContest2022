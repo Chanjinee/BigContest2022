{
 "cells": [
  {
   "cell_type": "markdown",
   "id": "7ed4bfe2",
   "metadata": {},
   "source": [
    "## Module Import"
   ]
  },
  {
   "cell_type": "code",
   "execution_count": 1,
   "id": "ceff58a4",
   "metadata": {},
   "outputs": [
    {
     "name": "stdout",
     "output_type": "stream",
     "text": [
      "Pandas : 1.4.3\n",
      "seaborn : 0.11.2\n",
      "Scikit-Learn : 1.1.2\n",
      "Python 3.8.8\n"
     ]
    }
   ],
   "source": [
    "import pandas as pd\n",
    "import numpy as np\n",
    "\n",
    "# 시각화\n",
    "import seaborn as sns\n",
    "\n",
    "# 경고 메시지 무시\n",
    "import warnings\n",
    "warnings.filterwarnings(action='ignore') \n",
    "\n",
    "# 모델링 패키지\n",
    "import sklearn\n",
    "import matplotlib\n",
    "from sklearn.preprocessing import LabelEncoder\n",
    "from sklearn.pipeline import make_pipeline\n",
    "from sklearn.tree import DecisionTreeRegressor\n",
    "from sklearn.ensemble import ExtraTreesRegressor\n",
    "from sklearn.ensemble import RandomForestRegressor\n",
    "from sklearn.model_selection import train_test_split\n",
    "from sklearn.model_selection import validation_curve\n",
    "from sklearn.metrics import mean_squared_log_error\n",
    "\n",
    "\n",
    "# 버전 확인\n",
    "print('Pandas : %s'%(pd.__version__))\n",
    "print('seaborn : %s'%(sns.__version__))\n",
    "print('Scikit-Learn : %s'%(sklearn.__version__))\n",
    "!python --version"
   ]
  },
  {
   "cell_type": "markdown",
   "id": "3a9381b5",
   "metadata": {},
   "source": [
    "## Load Data"
   ]
  },
  {
   "cell_type": "code",
   "execution_count": 2,
   "id": "779cc381",
   "metadata": {},
   "outputs": [],
   "source": [
    "# 데이터 불러오기\n",
    "## 예측을 위한 pk는 인덱스이기 때문에 불러올때 인덱스를 컬럼으로 가져옴\n",
    "data = pd.read_csv('../data/data.csv').reset_index()"
   ]
  },
  {
   "cell_type": "code",
   "execution_count": 3,
   "id": "0bb5fb52",
   "metadata": {},
   "outputs": [
    {
     "data": {
      "text/html": [
       "<div>\n",
       "<style scoped>\n",
       "    .dataframe tbody tr th:only-of-type {\n",
       "        vertical-align: middle;\n",
       "    }\n",
       "\n",
       "    .dataframe tbody tr th {\n",
       "        vertical-align: top;\n",
       "    }\n",
       "\n",
       "    .dataframe thead th {\n",
       "        text-align: right;\n",
       "    }\n",
       "</style>\n",
       "<table border=\"1\" class=\"dataframe\">\n",
       "  <thead>\n",
       "    <tr style=\"text-align: right;\">\n",
       "      <th></th>\n",
       "      <th>index</th>\n",
       "      <th>application_id</th>\n",
       "      <th>loanapply_insert_time</th>\n",
       "      <th>bank_id</th>\n",
       "      <th>product_id</th>\n",
       "      <th>loan_limit</th>\n",
       "      <th>loan_rate</th>\n",
       "      <th>is_applied</th>\n",
       "      <th>month</th>\n",
       "      <th>user_id</th>\n",
       "      <th>...</th>\n",
       "      <th>income_type</th>\n",
       "      <th>company_enter_month</th>\n",
       "      <th>employment_type</th>\n",
       "      <th>houseown_type</th>\n",
       "      <th>desired_amount</th>\n",
       "      <th>purpose</th>\n",
       "      <th>personal_rehabilitation_yn</th>\n",
       "      <th>personal_rehabilitation_complete_yn</th>\n",
       "      <th>existing_loan_cnt</th>\n",
       "      <th>existing_loan_amt</th>\n",
       "    </tr>\n",
       "  </thead>\n",
       "  <tbody>\n",
       "    <tr>\n",
       "      <th>0</th>\n",
       "      <td>0</td>\n",
       "      <td>1748340</td>\n",
       "      <td>2022-06-07 13:05:41</td>\n",
       "      <td>7</td>\n",
       "      <td>191</td>\n",
       "      <td>42000000.0</td>\n",
       "      <td>13.6</td>\n",
       "      <td>NaN</td>\n",
       "      <td>6</td>\n",
       "      <td>430982</td>\n",
       "      <td>...</td>\n",
       "      <td>EARNEDINCOME</td>\n",
       "      <td>20220201.0</td>\n",
       "      <td>정규직</td>\n",
       "      <td>자가</td>\n",
       "      <td>25000000.0</td>\n",
       "      <td>대환대출</td>\n",
       "      <td>1</td>\n",
       "      <td>0.0</td>\n",
       "      <td>2.0</td>\n",
       "      <td>15000000.0</td>\n",
       "    </tr>\n",
       "    <tr>\n",
       "      <th>1</th>\n",
       "      <td>1</td>\n",
       "      <td>1748340</td>\n",
       "      <td>2022-06-07 13:05:41</td>\n",
       "      <td>25</td>\n",
       "      <td>169</td>\n",
       "      <td>24000000.0</td>\n",
       "      <td>17.9</td>\n",
       "      <td>NaN</td>\n",
       "      <td>6</td>\n",
       "      <td>430982</td>\n",
       "      <td>...</td>\n",
       "      <td>EARNEDINCOME</td>\n",
       "      <td>20220201.0</td>\n",
       "      <td>정규직</td>\n",
       "      <td>자가</td>\n",
       "      <td>25000000.0</td>\n",
       "      <td>대환대출</td>\n",
       "      <td>1</td>\n",
       "      <td>0.0</td>\n",
       "      <td>2.0</td>\n",
       "      <td>15000000.0</td>\n",
       "    </tr>\n",
       "    <tr>\n",
       "      <th>2</th>\n",
       "      <td>2</td>\n",
       "      <td>1748340</td>\n",
       "      <td>2022-06-07 13:05:41</td>\n",
       "      <td>2</td>\n",
       "      <td>7</td>\n",
       "      <td>24000000.0</td>\n",
       "      <td>18.5</td>\n",
       "      <td>NaN</td>\n",
       "      <td>6</td>\n",
       "      <td>430982</td>\n",
       "      <td>...</td>\n",
       "      <td>EARNEDINCOME</td>\n",
       "      <td>20220201.0</td>\n",
       "      <td>정규직</td>\n",
       "      <td>자가</td>\n",
       "      <td>25000000.0</td>\n",
       "      <td>대환대출</td>\n",
       "      <td>1</td>\n",
       "      <td>0.0</td>\n",
       "      <td>2.0</td>\n",
       "      <td>15000000.0</td>\n",
       "    </tr>\n",
       "  </tbody>\n",
       "</table>\n",
       "<p>3 rows × 25 columns</p>\n",
       "</div>"
      ],
      "text/plain": [
       "   index  application_id loanapply_insert_time  bank_id  product_id  \\\n",
       "0      0         1748340   2022-06-07 13:05:41        7         191   \n",
       "1      1         1748340   2022-06-07 13:05:41       25         169   \n",
       "2      2         1748340   2022-06-07 13:05:41        2           7   \n",
       "\n",
       "   loan_limit  loan_rate  is_applied  month  user_id  ...   income_type  \\\n",
       "0  42000000.0       13.6         NaN      6   430982  ...  EARNEDINCOME   \n",
       "1  24000000.0       17.9         NaN      6   430982  ...  EARNEDINCOME   \n",
       "2  24000000.0       18.5         NaN      6   430982  ...  EARNEDINCOME   \n",
       "\n",
       "  company_enter_month employment_type  houseown_type  desired_amount purpose  \\\n",
       "0          20220201.0             정규직             자가      25000000.0    대환대출   \n",
       "1          20220201.0             정규직             자가      25000000.0    대환대출   \n",
       "2          20220201.0             정규직             자가      25000000.0    대환대출   \n",
       "\n",
       "  personal_rehabilitation_yn personal_rehabilitation_complete_yn  \\\n",
       "0                          1                                 0.0   \n",
       "1                          1                                 0.0   \n",
       "2                          1                                 0.0   \n",
       "\n",
       "  existing_loan_cnt  existing_loan_amt  \n",
       "0               2.0         15000000.0  \n",
       "1               2.0         15000000.0  \n",
       "2               2.0         15000000.0  \n",
       "\n",
       "[3 rows x 25 columns]"
      ]
     },
     "execution_count": 3,
     "metadata": {},
     "output_type": "execute_result"
    }
   ],
   "source": [
    "data.head(3)"
   ]
  },
  {
   "cell_type": "markdown",
   "id": "09eed928",
   "metadata": {},
   "source": [
    "## ML Model"
   ]
  },
  {
   "cell_type": "markdown",
   "id": "cab534e0",
   "metadata": {},
   "source": [
    "- 데이터 분리"
   ]
  },
  {
   "cell_type": "code",
   "execution_count": 4,
   "id": "1cc2d105",
   "metadata": {},
   "outputs": [],
   "source": [
    "x_test = data[data['month'] == 6].drop('is_applied', axis=1).reset_index(drop=True)\n",
    "x_train = data[data['month'] != 6].drop('is_applied', axis=1).reset_index(drop=True)\n",
    "y_train = data[data['month'] != 6]['is_applied'].reset_index(drop=True)"
   ]
  },
  {
   "cell_type": "markdown",
   "id": "afd9aba6",
   "metadata": {},
   "source": [
    "- Preprocessing"
   ]
  },
  {
   "cell_type": "code",
   "execution_count": 5,
   "id": "169cbd02",
   "metadata": {},
   "outputs": [],
   "source": [
    "# encoder\n",
    "from sklearn.preprocessing import LabelEncoder\n",
    "from sklearn.preprocessing import OneHotEncoder\n",
    "# scaler\n",
    "from sklearn.preprocessing import StandardScaler\n",
    "# eval\n",
    "from sklearn.model_selection import cross_val_score\n",
    "from sklearn.metrics import make_scorer\n",
    "from sklearn.metrics import f1_score, accuracy_score\n",
    "# model\n",
    "from sklearn.ensemble import RandomForestClassifier\n",
    "from catboost import CatBoostClassifier\n",
    "from lightgbm import LGBMClassifier"
   ]
  },
  {
   "cell_type": "code",
   "execution_count": 6,
   "id": "9c3332a7",
   "metadata": {},
   "outputs": [],
   "source": [
    "# 범주형 변수와 수치형 변수를 분리\n",
    "## train\n",
    "cat_feature_tr = x_train.iloc[:,1:].select_dtypes(include=['object']).columns.to_list()\n",
    "num_feature_tr = x_train.iloc[:,1:].select_dtypes(exclude='object').columns.to_list() \n",
    "## test\n",
    "cat_feature_te = x_test.iloc[:,1:].select_dtypes(include=['object']).columns.to_list()\n",
    "num_feature_te = x_test.iloc[:,1:].select_dtypes(exclude='object').columns.to_list()"
   ]
  },
  {
   "cell_type": "markdown",
   "id": "43fe3851",
   "metadata": {},
   "source": [
    "    - Scaling -> 주석 처리해놓고 어떤 것이 더 잘나오는지 확인하여 사용여부 결정"
   ]
  },
  {
   "cell_type": "code",
   "execution_count": 7,
   "id": "2f590088",
   "metadata": {},
   "outputs": [],
   "source": [
    "# # 스케일링\n",
    "# scaler = StandardScaler()\n",
    "# x_train[num_feature_tr] = scaler.fit_transform(x_train[num_feature_tr])\n",
    "# x_test[num_feature_te] = scaler.transform(x_test[num_feature_te])"
   ]
  },
  {
   "cell_type": "markdown",
   "id": "a96503bb",
   "metadata": {},
   "source": [
    "    - Encoding"
   ]
  },
  {
   "cell_type": "code",
   "execution_count": 8,
   "id": "0a9ee863",
   "metadata": {},
   "outputs": [],
   "source": [
    "# #onehotencoder\n",
    "# ohe = OneHotEncoder(sparse=False)\n",
    "\n",
    "# # fit_transform은 train에만 사용하고 test에는 학습된 인코더에 fit만 해야한다\n",
    "# ohe_ = ohe.fit(pd.concat([x_train, x_test]).reset_index(drop=True)[cat_feature_tr])\n",
    "# one_cat_tr = ohe_.transform(x_train[cat_feature_tr])\n",
    "# one_cat_te = ohe_.transform(x_test[cat_feature_te])\n",
    "\n",
    "# cat_tr = pd.DataFrame(one_cat_tr, columns = ohe.get_feature_names(cat_feature_tr)) # train\n",
    "# cat_te = pd.DataFrame(one_cat_te, columns = ohe.get_feature_names(cat_feature_te)) # test"
   ]
  },
  {
   "cell_type": "code",
   "execution_count": 9,
   "id": "8625b121",
   "metadata": {},
   "outputs": [],
   "source": [
    "# Labelencoder\n",
    "encoder = LabelEncoder()\n",
    "encoded_cat_tr = []\n",
    "encoded_cat_te = []\n",
    "for f in cat_feature_tr:\n",
    "    encoder = encoder.fit(pd.concat([x_train, x_test]).reset_index(drop=True)[f])\n",
    "    encoded_cat_tr.append(pd.DataFrame(encoder.transform(x_train[f]),columns = [f])) # train\n",
    "    encoded_cat_te.append(pd.DataFrame(encoder.transform(x_test[f]),columns = [f]))\t# test\n",
    "\n",
    "# 합쳐줌\n",
    "cat_tr = pd.concat(encoded_cat_tr, axis = 1) # train\n",
    "cat_te = pd.concat(encoded_cat_te, axis = 1) # test"
   ]
  },
  {
   "cell_type": "code",
   "execution_count": 10,
   "id": "decb647d",
   "metadata": {},
   "outputs": [],
   "source": [
    "# 인코딩 이후 수치형 변수와 범주형 변수를 합쳐줌\n",
    "x_train_imp = pd.concat([x_train['index'], cat_tr], axis=1)\n",
    "x_test_imp = pd.concat([x_test['index'], cat_te], axis=1)\n",
    "\n",
    "x_train = pd.concat([x_train_imp, x_train[num_feature_tr]], axis=1)\n",
    "x_test = pd.concat([x_test_imp, x_test[num_feature_te]], axis=1)"
   ]
  },
  {
   "cell_type": "markdown",
   "id": "77bb8413",
   "metadata": {},
   "source": [
    "- Modeling"
   ]
  },
  {
   "cell_type": "markdown",
   "id": "c7b045c6",
   "metadata": {},
   "source": [
    "    - catboost -> 개오래걸림"
   ]
  },
  {
   "cell_type": "code",
   "execution_count": 11,
   "id": "b1350a06",
   "metadata": {
    "scrolled": false
   },
   "outputs": [
    {
     "data": {
      "text/plain": [
       "0.17677563981612238"
      ]
     },
     "execution_count": 11,
     "metadata": {},
     "output_type": "execute_result"
    }
   ],
   "source": [
    "# cv를 사용하여 모델의 성능 평가, train score확인\n",
    "cat = CatBoostClassifier(random_state=42, verbose=0)\n",
    "\n",
    "score = np.mean(cross_val_score(cat, x_train.iloc[:,1:], y_train, cv=5, scoring = 'f1'));score"
   ]
  },
  {
   "cell_type": "code",
   "execution_count": 12,
   "id": "3cd6449d",
   "metadata": {},
   "outputs": [],
   "source": [
    "# # test 예측\n",
    "# cat.fit(x_train.iloc[:,1:], y_train)\n",
    "# pred_cat = cat.predict(x_test.iloc[:,1:])"
   ]
  },
  {
   "cell_type": "markdown",
   "id": "3899a207",
   "metadata": {},
   "source": [
    "    - randomforest -> ㄹㅇ개오래걸림 / 포기"
   ]
  },
  {
   "cell_type": "code",
   "execution_count": 14,
   "id": "8a87ff88",
   "metadata": {},
   "outputs": [],
   "source": [
    "# rf = RandomForestClassifier(random_state=42)\n",
    "# score = np.mean(cross_val_score(rf, x_train.iloc[:,1:], y_train, cv=5, scoring = 'f1'));score"
   ]
  },
  {
   "cell_type": "code",
   "execution_count": null,
   "id": "dc85037a",
   "metadata": {},
   "outputs": [],
   "source": [
    "# # test 예측\n",
    "# rf.fit(x_train.iloc[:,1:], y_train)\n",
    "# pred_rf = rf.predict(x_test.iloc[:,1:])"
   ]
  },
  {
   "cell_type": "markdown",
   "id": "5bbb5bb6",
   "metadata": {},
   "source": [
    "    - LGBM"
   ]
  },
  {
   "cell_type": "code",
   "execution_count": 15,
   "id": "e5082526",
   "metadata": {},
   "outputs": [
    {
     "data": {
      "text/plain": [
       "0.07073166027277913"
      ]
     },
     "execution_count": 15,
     "metadata": {},
     "output_type": "execute_result"
    }
   ],
   "source": [
    "lgbm = LGBMClassifier(random_state=42)\n",
    "score = np.mean(cross_val_score(lgbm, x_train.iloc[:,1:], y_train, cv=5, scoring = 'f1'));score"
   ]
  },
  {
   "cell_type": "code",
   "execution_count": null,
   "id": "89f81f01",
   "metadata": {},
   "outputs": [],
   "source": [
    "# # test 예측\n",
    "# lgbm.fit(x_train.iloc[:,1:], y_train)\n",
    "# pred_lgbm = lgbm.predict(x_test.iloc[:,1:])"
   ]
  },
  {
   "cell_type": "code",
   "execution_count": null,
   "id": "06b10ebb",
   "metadata": {},
   "outputs": [],
   "source": [
    "# import win32api\n",
    "# win32api.Beep(3000,3000)"
   ]
  },
  {
   "cell_type": "markdown",
   "id": "4c125f1f",
   "metadata": {},
   "source": [
    "## END"
   ]
  }
 ],
 "metadata": {
  "kernelspec": {
   "display_name": "Python 3 (ipykernel)",
   "language": "python",
   "name": "python3"
  },
  "language_info": {
   "codemirror_mode": {
    "name": "ipython",
    "version": 3
   },
   "file_extension": ".py",
   "mimetype": "text/x-python",
   "name": "python",
   "nbconvert_exporter": "python",
   "pygments_lexer": "ipython3",
   "version": "3.8.8"
  }
 },
 "nbformat": 4,
 "nbformat_minor": 5
}
