{
 "cells": [
  {
   "cell_type": "markdown",
   "metadata": {
    "id": "wzonD5TZ3sW1"
   },
   "source": [
    "### 데이터 살펴보기"
   ]
  },
  {
   "cell_type": "markdown",
   "metadata": {
    "id": "FbER-Jtc3vI1"
   },
   "source": [
    "메서드 불러오기"
   ]
  },
  {
   "cell_type": "code",
   "execution_count": 1,
   "metadata": {
    "id": "sugFfOZs3lEn"
   },
   "outputs": [
    {
     "name": "stdout",
     "output_type": "stream",
     "text": [
      "Pandas : 1.2.1\n",
      "seaborn : 0.11.1\n",
      "Python 3.8.13\n"
     ]
    }
   ],
   "source": [
    "import pandas as pd\n",
    "import numpy as np\n",
    "\n",
    "# 시각화\n",
    "import seaborn as sns\n",
    "\n",
    "# 경고 메시지 무시\n",
    "import warnings\n",
    "warnings.filterwarnings(action='ignore') \n",
    "\n",
    "# 버전 확인\n",
    "print('Pandas : %s'%(pd.__version__))\n",
    "print('seaborn : %s'%(sns.__version__))\n",
    "!python --version"
   ]
  },
  {
   "cell_type": "code",
   "execution_count": 2,
   "metadata": {
    "id": "DdRsfblV33fU"
   },
   "outputs": [],
   "source": [
    "# 데이터 불러오기\n",
    "user = pd.read_csv('../data/user_spec.csv')\n",
    "loan = pd.read_csv('../data/loan_result.csv')\n",
    "log = pd.read_csv('../data/log_data.csv')"
   ]
  },
  {
   "cell_type": "markdown",
   "metadata": {
    "id": "lBMPfE7dzVT-"
   },
   "source": [
    "### 1. 유저 스펙 테이블"
   ]
  },
  {
   "cell_type": "markdown",
   "metadata": {},
   "source": [
    "- na값에 대한 확인"
   ]
  },
  {
   "cell_type": "code",
   "execution_count": 3,
   "metadata": {},
   "outputs": [
    {
     "data": {
      "text/plain": [
       "application_id                               0\n",
       "user_id                                      0\n",
       "birth_year                               12961\n",
       "gender                                   12961\n",
       "insert_time                                  0\n",
       "credit_score                            105115\n",
       "yearly_income                               90\n",
       "income_type                                 85\n",
       "company_enter_month                     171760\n",
       "employment_type                             85\n",
       "houseown_type                               85\n",
       "desired_amount                              85\n",
       "purpose                                     85\n",
       "personal_rehabilitation_yn              587461\n",
       "personal_rehabilitation_complete_yn    1203354\n",
       "existing_loan_cnt                       198556\n",
       "existing_loan_amt                       313774\n",
       "dtype: int64"
      ]
     },
     "execution_count": 3,
     "metadata": {},
     "output_type": "execute_result"
    }
   ],
   "source": [
    "user.isna().sum()"
   ]
  },
  {
   "cell_type": "markdown",
   "metadata": {},
   "source": [
    "    - birth_year와 gender 결측값 채워줌"
   ]
  },
  {
   "cell_type": "code",
   "execution_count": 4,
   "metadata": {},
   "outputs": [],
   "source": [
    "###### birth_year #####\n",
    "user['birth_year'] = user['birth_year'].fillna('없음')\n",
    "\n",
    "# 전처리할 데이터 재생성\n",
    "bir = user.groupby('user_id')['birth_year'].apply(set).reset_index()\n",
    "bir['len'] = bir['birth_year'].apply(lambda x:len(x))\n",
    "\n",
    "# 0을 지워주는 함수 생성\n",
    "def remove0(x):\n",
    "    if len(x) == 2: \n",
    "        x_ = x.remove('없음')\n",
    "        return x_\n",
    "    else: return x\n",
    "\n",
    "# 적용\n",
    "bir['birth_year'].apply(remove0)\n",
    "bir['year'] = bir['birth_year'].apply(lambda x:list(x)[0])\n",
    "\n",
    "# 딕셔너리로 변환하여 저장\n",
    "birth_year = {x:y for x,y in zip(bir['user_id'], bir['year'])}\n",
    "\n",
    "# 적용하여 변환\n",
    "user['birth_year'] = user['user_id'].apply(lambda x:birth_year[x])"
   ]
  },
  {
   "cell_type": "code",
   "execution_count": 5,
   "metadata": {},
   "outputs": [],
   "source": [
    "###### gender #####\n",
    "user['gender'] = user['gender'].fillna('없음')\n",
    "\n",
    "# 전처리할 데이터 재생성\n",
    "g = user.groupby('user_id')['gender'].apply(set).reset_index()\n",
    "g['len'] = g['gender'].apply(lambda x:len(x))\n",
    "\n",
    "# 0을 지워주는 함수 생성\n",
    "def remove2(x):\n",
    "    if len(x) == 2: \n",
    "        x_ = x.remove('없음')\n",
    "        return x_\n",
    "    else: return x\n",
    "\n",
    "# 적용\n",
    "g['gender'].apply(remove2)\n",
    "g['g'] = g['gender'].apply(lambda x:list(x)[0])\n",
    "\n",
    "# 딕셔너리로 변환하여 저장\n",
    "gender = {x:y for x,y in zip(g['user_id'], g['g'])}\n",
    "\n",
    "# 적용하여 변환\n",
    "user['gender'] = user['user_id'].apply(lambda x:gender[x])"
   ]
  },
  {
   "cell_type": "markdown",
   "metadata": {},
   "source": [
    "    - personal_rehabilitation_complete_yn\n",
    "        -> 문의 필요"
   ]
  },
  {
   "cell_type": "code",
   "execution_count": 6,
   "metadata": {},
   "outputs": [
    {
     "data": {
      "text/plain": [
       "array([ 0., nan])"
      ]
     },
     "execution_count": 6,
     "metadata": {},
     "output_type": "execute_result"
    }
   ],
   "source": [
    "# na값을 확인 하였을 때, personal_rehabilitation_complete_yn의 값이 높은데, 이는 개인 회생자가 아닌 사람도 포함 돼있기 때문으로 보임\n",
    "## na중 personal_rehabilitation_yn의 값이 0인 값은 개인회생자 아님 등으로 채워야할 듯함\n",
    "user[user['personal_rehabilitation_complete_yn'].isna()]['personal_rehabilitation_yn'].unique()"
   ]
  },
  {
   "cell_type": "code",
   "execution_count": 7,
   "metadata": {},
   "outputs": [
    {
     "data": {
      "text/plain": [
       "0.0    178149\n",
       "1.0         4\n",
       "Name: personal_rehabilitation_complete_yn, dtype: int64"
      ]
     },
     "execution_count": 7,
     "metadata": {},
     "output_type": "execute_result"
    }
   ],
   "source": [
    "user.query('personal_rehabilitation_yn == 0')['personal_rehabilitation_complete_yn'].value_counts()"
   ]
  },
  {
   "cell_type": "code",
   "execution_count": 8,
   "metadata": {},
   "outputs": [
    {
     "data": {
      "text/plain": [
       "0.0    11361\n",
       "1.0     1348\n",
       "Name: personal_rehabilitation_complete_yn, dtype: int64"
      ]
     },
     "execution_count": 8,
     "metadata": {},
     "output_type": "execute_result"
    }
   ],
   "source": [
    "user.query('personal_rehabilitation_yn == 1')['personal_rehabilitation_complete_yn'].value_counts()"
   ]
  },
  {
   "cell_type": "markdown",
   "metadata": {},
   "source": [
    "분포를 확인해보았을 때, personal_rehabilitation_complete_yn에 기록이 있으면 personal_rehabilitation_yn가 1인 것으로 생각하여 채워야될듯함"
   ]
  },
  {
   "cell_type": "code",
   "execution_count": 9,
   "metadata": {},
   "outputs": [],
   "source": [
    "# 기록이 있으면 개인회생자, 없으면 아닌 사람으로 기록\n",
    "user['personal_rehabilitation_yn'] = user['personal_rehabilitation_complete_yn'].apply(lambda x:1 if x in [0,1] else 0)\n",
    "# 나머지 기록이 na인 값은 전부 개인회생자가 아닌 것으로 확인함 -> 2( 개인회생자아님 )로 채워줌\n",
    "user['personal_rehabilitation_complete_yn'] = user['personal_rehabilitation_complete_yn'].fillna(2)"
   ]
  },
  {
   "cell_type": "markdown",
   "metadata": {},
   "source": [
    "    - company_enter_month"
   ]
  },
  {
   "cell_type": "code",
   "execution_count": 10,
   "metadata": {},
   "outputs": [
    {
     "data": {
      "text/plain": [
       "OTHERINCOME        171665\n",
       "EARNEDINCOME            7\n",
       "PRIVATEBUSINESS         3\n",
       "Name: income_type, dtype: int64"
      ]
     },
     "execution_count": 10,
     "metadata": {},
     "output_type": "execute_result"
    }
   ],
   "source": [
    "# company_enter_month에 대한 na값은 입사 년월을 입력하지 못하는 사람들이 대부분임\n",
    "## 입사년월이 없는 사람 (ex)개인 사업, 소득이 회사가 아닌 경우 등 )\n",
    "## 다른 옵션으로 채워야할듯함\n",
    "user[user['company_enter_month'].isna()]['income_type'].value_counts()"
   ]
  },
  {
   "cell_type": "code",
   "execution_count": 11,
   "metadata": {},
   "outputs": [],
   "source": [
    "# OTHERINCOME을 제외하면 na값이 적기 때문에 입사년도 없음으로 채워줌\n",
    "user['company_enter_month'] = user['company_enter_month'].fillna('입사년도 없음')"
   ]
  },
  {
   "cell_type": "markdown",
   "metadata": {},
   "source": [
    "    - credit_score"
   ]
  },
  {
   "cell_type": "code",
   "execution_count": 12,
   "metadata": {},
   "outputs": [
    {
     "data": {
      "text/plain": [
       "user_id             0\n",
       "credit_score    68018\n",
       "dtype: int64"
      ]
     },
     "execution_count": 12,
     "metadata": {},
     "output_type": "execute_result"
    }
   ],
   "source": [
    "# 68018명의 사람들의 신용정보 확인 불가능\n",
    "user[['user_id', 'credit_score']].drop_duplicates(subset='user_id').isna().sum()"
   ]
  },
  {
   "cell_type": "code",
   "execution_count": 13,
   "metadata": {},
   "outputs": [],
   "source": [
    "# 신용 점수가 있는 고객들은 해당 고객이 가진 신용 점수의 평균으로 채워줌\n",
    "user['credit_score'] = user['credit_score'].fillna(user.groupby('user_id')['credit_score'].transform('mean'))"
   ]
  },
  {
   "cell_type": "code",
   "execution_count": 14,
   "metadata": {},
   "outputs": [
    {
     "data": {
      "text/plain": [
       "array([0], dtype=int64)"
      ]
     },
     "execution_count": 14,
     "metadata": {},
     "output_type": "execute_result"
    }
   ],
   "source": [
    "# 채운 후에도 na값인 경우는 신용 점수를 확인한 적이 한번도 없는 고객임\n",
    "user[user['credit_score'].isna()].groupby('user_id')['credit_score'].count().unique()"
   ]
  },
  {
   "cell_type": "code",
   "execution_count": 15,
   "metadata": {},
   "outputs": [
    {
     "data": {
      "text/plain": [
       "<seaborn.matrix.ClusterGrid at 0x1875a2575b0>"
      ]
     },
     "execution_count": 15,
     "metadata": {},
     "output_type": "execute_result"
    },
    {
     "data": {
      "image/png": "[encoded data removed]",
      "text/plain": [
       "<Figure size 720x720 with 4 Axes>"
      ]
     },
     "metadata": {
      "needs_background": "light"
     },
     "output_type": "display_data"
    }
   ],
   "source": [
    "# 컬럼들과 credit score간의 상관관계를 시각화해 보았으나 의미 X 그냥 평균으로 채움\n",
    "\n",
    "sns.clustermap(user.corr(), \n",
    "               annot = True,      # 실제 값 화면에 나타내기\n",
    "               cmap = 'RdYlBu_r',  # Red, Yellow, Blue 색상으로 표시\n",
    "               vmin = -1, vmax = 1, #컬러차트 -1 ~ 1 범위로 표시\n",
    "              )"
   ]
  },
  {
   "cell_type": "code",
   "execution_count": 16,
   "metadata": {},
   "outputs": [],
   "source": [
    "# 평균으로 채워줌\n",
    "user['credit_score'] = user['credit_score'].fillna(user['credit_score'].mean())"
   ]
  },
  {
   "cell_type": "markdown",
   "metadata": {},
   "source": [
    "    - existing_loan_cnt"
   ]
  },
  {
   "cell_type": "code",
   "execution_count": 17,
   "metadata": {},
   "outputs": [
    {
     "data": {
      "text/html": [
       "<div>\n",
       "<style scoped>\n",
       "    .dataframe tbody tr th:only-of-type {\n",
       "        vertical-align: middle;\n",
       "    }\n",
       "\n",
       "    .dataframe tbody tr th {\n",
       "        vertical-align: top;\n",
       "    }\n",
       "\n",
       "    .dataframe thead th {\n",
       "        text-align: right;\n",
       "    }\n",
       "</style>\n",
       "<table border=\"1\" class=\"dataframe\">\n",
       "  <thead>\n",
       "    <tr style=\"text-align: right;\">\n",
       "      <th></th>\n",
       "      <th>application_id</th>\n",
       "      <th>user_id</th>\n",
       "      <th>birth_year</th>\n",
       "      <th>gender</th>\n",
       "      <th>insert_time</th>\n",
       "      <th>credit_score</th>\n",
       "      <th>yearly_income</th>\n",
       "      <th>income_type</th>\n",
       "      <th>company_enter_month</th>\n",
       "      <th>employment_type</th>\n",
       "      <th>houseown_type</th>\n",
       "      <th>desired_amount</th>\n",
       "      <th>purpose</th>\n",
       "      <th>personal_rehabilitation_yn</th>\n",
       "      <th>personal_rehabilitation_complete_yn</th>\n",
       "      <th>existing_loan_cnt</th>\n",
       "      <th>existing_loan_amt</th>\n",
       "    </tr>\n",
       "  </thead>\n",
       "  <tbody>\n",
       "  </tbody>\n",
       "</table>\n",
       "</div>"
      ],
      "text/plain": [
       "Empty DataFrame\n",
       "Columns: [application_id, user_id, birth_year, gender, insert_time, credit_score, yearly_income, income_type, company_enter_month, employment_type, houseown_type, desired_amount, purpose, personal_rehabilitation_yn, personal_rehabilitation_complete_yn, existing_loan_cnt, existing_loan_amt]\n",
       "Index: []"
      ]
     },
     "execution_count": 17,
     "metadata": {},
     "output_type": "execute_result"
    }
   ],
   "source": [
    "# existing_loan_cnt의 값이 0인 행이 없는 것으로 보아 na인 경우는 기대출수가 0이지 않을까 하는 추축\n",
    "user[user['existing_loan_cnt'] == 0]"
   ]
  },
  {
   "cell_type": "code",
   "execution_count": 18,
   "metadata": {},
   "outputs": [
    {
     "data": {
      "text/plain": [
       "existing_loan_cnt    198556\n",
       "existing_loan_amt    198556\n",
       "dtype: int64"
      ]
     },
     "execution_count": 18,
     "metadata": {},
     "output_type": "execute_result"
    }
   ],
   "source": [
    "# existing_loan_cnt가 na인 값의 amt는 모두 na인 모습을 보임\n",
    "user[user['existing_loan_cnt'].isna()][['existing_loan_cnt','existing_loan_amt']].isna().sum()"
   ]
  },
  {
   "cell_type": "code",
   "execution_count": 19,
   "metadata": {},
   "outputs": [],
   "source": [
    "# existing_loan_cnt와 existing_loan_amt의 수가 na인 값은 0으로 채워줌\n",
    "user['existing_loan_cnt'] = user['existing_loan_cnt'].fillna(0)\n",
    "user['existing_loan_amt'] = user['existing_loan_amt'].fillna(0)"
   ]
  },
  {
   "cell_type": "markdown",
   "metadata": {},
   "source": [
    "    - yearly_income, income_type"
   ]
  },
  {
   "cell_type": "code",
   "execution_count": 20,
   "metadata": {},
   "outputs": [
    {
     "data": {
      "text/plain": [
       "OTHERINCOME    4\n",
       "FREELANCER     1\n",
       "Name: income_type, dtype: int64"
      ]
     },
     "execution_count": 20,
     "metadata": {},
     "output_type": "execute_result"
    }
   ],
   "source": [
    "# 연소득이 na인 값의 소득 경로를 확인해 본 결과 na인 값이 85개, 다른 수익 4, 프리랜서가 1인 모습을 보임\n",
    "## -> 즉, na인 것은 연소득이 없다는 뜻임\n",
    "user[user['yearly_income'].isna()]['income_type'].value_counts()"
   ]
  },
  {
   "cell_type": "code",
   "execution_count": 21,
   "metadata": {},
   "outputs": [],
   "source": [
    "# 0으로 채워줌\n",
    "user['yearly_income'] = user['yearly_income'].fillna(0)\n",
    "user['income_type'] = user['income_type'].fillna('직장없음')"
   ]
  },
  {
   "cell_type": "markdown",
   "metadata": {},
   "source": [
    "    - employment_type"
   ]
  },
  {
   "cell_type": "code",
   "execution_count": 22,
   "metadata": {},
   "outputs": [
    {
     "data": {
      "text/plain": [
       "array(['입사년도 없음'], dtype=object)"
      ]
     },
     "execution_count": 22,
     "metadata": {},
     "output_type": "execute_result"
    }
   ],
   "source": [
    "# employment_type의 경우 company_enter_month의 값이 입사년도없음임\n",
    "user[user['employment_type'].isna()]['company_enter_month'].unique()"
   ]
  },
  {
   "cell_type": "code",
   "execution_count": 23,
   "metadata": {},
   "outputs": [],
   "source": [
    "# 입사년도가 없다는 것은 기타이기 때문에 기타로 채워줌\n",
    "user['employment_type'] = user['employment_type'].fillna('기타')"
   ]
  },
  {
   "cell_type": "markdown",
   "metadata": {},
   "source": [
    "    - houseown_type"
   ]
  },
  {
   "cell_type": "code",
   "execution_count": 24,
   "metadata": {},
   "outputs": [
    {
     "data": {
      "text/plain": [
       "array(['자가', '기타가족소유', '전월세', '배우자', nan], dtype=object)"
      ]
     },
     "execution_count": 24,
     "metadata": {},
     "output_type": "execute_result"
    }
   ],
   "source": [
    "# houseown_type이 na인 값은 그냥 귀찮아서 안찍은듯함\n",
    "user['houseown_type'].unique()"
   ]
  },
  {
   "cell_type": "code",
   "execution_count": 25,
   "metadata": {},
   "outputs": [],
   "source": [
    "## -> 정보없음으로 채워줌\n",
    "user['houseown_type'] = user['houseown_type'].fillna('정보없음')"
   ]
  },
  {
   "cell_type": "markdown",
   "metadata": {},
   "source": [
    "    - desired_amount"
   ]
  },
  {
   "cell_type": "code",
   "execution_count": 26,
   "metadata": {},
   "outputs": [],
   "source": [
    "# 이 경우도 선택을 그냥 하지 않은 경우이기 때문에 최빈값으로 채워줌\n",
    "## 단순한 궁금증으로 인하여 선택을 한 경우라고 판단 -> 가장 많이 원하는 금액으로 채움\n",
    "user['desired_amount'] = user['desired_amount'].fillna(user['desired_amount'].mode()[0])"
   ]
  },
  {
   "cell_type": "markdown",
   "metadata": {},
   "source": [
    "    - purpose"
   ]
  },
  {
   "cell_type": "code",
   "execution_count": 27,
   "metadata": {},
   "outputs": [],
   "source": [
    "# 목적 또한 위와 같음\n",
    "## 최빈값으로 채움\n",
    "user['purpose'] = user['purpose'].fillna(user['purpose'].mode()[0])"
   ]
  },
  {
   "cell_type": "code",
   "execution_count": 28,
   "metadata": {},
   "outputs": [
    {
     "data": {
      "text/plain": [
       "application_id                         0\n",
       "user_id                                0\n",
       "birth_year                             0\n",
       "gender                                 0\n",
       "insert_time                            0\n",
       "credit_score                           0\n",
       "yearly_income                          0\n",
       "income_type                            0\n",
       "company_enter_month                    0\n",
       "employment_type                        0\n",
       "houseown_type                          0\n",
       "desired_amount                         0\n",
       "purpose                                0\n",
       "personal_rehabilitation_yn             0\n",
       "personal_rehabilitation_complete_yn    0\n",
       "existing_loan_cnt                      0\n",
       "existing_loan_amt                      0\n",
       "dtype: int64"
      ]
     },
     "execution_count": 28,
     "metadata": {},
     "output_type": "execute_result"
    }
   ],
   "source": [
    "user.isna().sum()"
   ]
  },
  {
   "cell_type": "markdown",
   "metadata": {
    "id": "lBMPfE7dzVT-"
   },
   "source": [
    "### 2. 대출 상품 결과 테이블"
   ]
  },
  {
   "cell_type": "markdown",
   "metadata": {},
   "source": [
    "- 중복값을 갖는 행 처리"
   ]
  },
  {
   "cell_type": "code",
   "execution_count": 29,
   "metadata": {},
   "outputs": [
    {
     "data": {
      "text/plain": [
       "26"
      ]
     },
     "execution_count": 29,
     "metadata": {},
     "output_type": "execute_result"
    }
   ],
   "source": [
    "# 데이터가 중복인 경우가 25개 존재하여 삭제해줌\n",
    "len(loan[loan.duplicated()])"
   ]
  },
  {
   "cell_type": "code",
   "execution_count": 30,
   "metadata": {},
   "outputs": [],
   "source": [
    "# 중복 제거하여 데이터 선언\n",
    "loan = loan.drop_duplicates()"
   ]
  },
  {
   "cell_type": "markdown",
   "metadata": {},
   "source": [
    "- 결측값 처리"
   ]
  },
  {
   "cell_type": "code",
   "execution_count": 31,
   "metadata": {},
   "outputs": [
    {
     "data": {
      "text/plain": [
       "application_id                 0\n",
       "loanapply_insert_time          0\n",
       "bank_id                        0\n",
       "product_id                     0\n",
       "loan_limit                  7495\n",
       "loan_rate                   7495\n",
       "is_applied               3257223\n",
       "dtype: int64"
      ]
     },
     "execution_count": 31,
     "metadata": {},
     "output_type": "execute_result"
    }
   ],
   "source": [
    "loan.isna().sum()"
   ]
  },
  {
   "cell_type": "code",
   "execution_count": 32,
   "metadata": {},
   "outputs": [
    {
     "data": {
      "text/plain": [
       "array([nan])"
      ]
     },
     "execution_count": 32,
     "metadata": {},
     "output_type": "execute_result"
    }
   ],
   "source": [
    "# loan_limit과 loan_rate는 동일한 행에서 na값을 가짐을 확인\n",
    "loan[loan['loan_limit'].isna()]['loan_rate'].unique()"
   ]
  },
  {
   "cell_type": "code",
   "execution_count": 33,
   "metadata": {},
   "outputs": [
    {
     "data": {
      "text/plain": [
       "1.0    5738\n",
       "Name: is_applied, dtype: int64"
      ]
     },
     "execution_count": 33,
     "metadata": {},
     "output_type": "execute_result"
    }
   ],
   "source": [
    "# 타겟값에 대한 확인을 위해 월별로 확인\n",
    "loan['month'] = loan['loanapply_insert_time'].apply(lambda x:x[5:7])\n",
    "\n",
    "# train data의 경우 loan_limit과 loan_rate가 na인 경우 타겟값이 모두 1임을 알 수 있음\n",
    "loan[(loan['loan_limit'].isna()) & (loan['month'] != '06')]['is_applied'].value_counts()"
   ]
  },
  {
   "cell_type": "code",
   "execution_count": 34,
   "metadata": {},
   "outputs": [
    {
     "data": {
      "text/plain": [
       "0.0    9709673\n",
       "1.0     560441\n",
       "Name: is_applied, dtype: int64"
      ]
     },
     "execution_count": 34,
     "metadata": {},
     "output_type": "execute_result"
    }
   ],
   "source": [
    "# 전체 타겟값 대비 1% 정도가 위와 같은 모습을 보임\n",
    "## -> 비슷한 형태를 띄는 행으로 결측값 대체\n",
    "loan['is_applied'].value_counts()"
   ]
  },
  {
   "cell_type": "markdown",
   "metadata": {},
   "source": [
    "    - loan_rate"
   ]
  },
  {
   "cell_type": "code",
   "execution_count": 35,
   "metadata": {},
   "outputs": [],
   "source": [
    "# 일부 행만 null인 경우 결측치를 product별 평균\n",
    "product_list = loan[loan['loan_limit'].isna()]['product_id'].unique()\n",
    "\n",
    "for i in product_list:\n",
    "    len_rate = loan[loan['product_id'] == i]['loan_rate'].unique()\n",
    "    \n",
    "    if len(len_rate) > 1:\n",
    "        loan.loc[(loan['product_id'] == i) & (loan['loan_rate'].isna()), 'loan_rate'] = round(np.nanmean(len_rate), 1)\n",
    "\n",
    "        \n",
    "# 모두 null인 경우 결측치를 application별 평균\n",
    "loan['loan_rate'] = loan['loan_rate'].fillna(loan.groupby('application_id')['loan_rate'].transform('mean'))\n",
    "\n",
    "# application이 하나인 데이터 최빈값 대체\n",
    "loan['loan_rate'] = loan['loan_rate'].fillna(loan['loan_rate'].mode()[0])"
   ]
  },
  {
   "cell_type": "markdown",
   "metadata": {},
   "source": [
    "    - loan_limit"
   ]
  },
  {
   "cell_type": "code",
   "execution_count": 36,
   "metadata": {},
   "outputs": [],
   "source": [
    "# loan_limit 결측치를 application별로 평균\n",
    "loan['loan_limit'] = loan['loan_limit'].fillna(loan.groupby('application_id')['loan_limit'].transform('mean'))\n",
    "\n",
    "# application이 하나인 결측치 최빈값으로\n",
    "loan['loan_limit'] = loan['loan_limit'].fillna(loan['loan_limit'].mode()[0])"
   ]
  },
  {
   "cell_type": "code",
   "execution_count": 37,
   "metadata": {},
   "outputs": [
    {
     "data": {
      "text/plain": [
       "application_id                 0\n",
       "loanapply_insert_time          0\n",
       "bank_id                        0\n",
       "product_id                     0\n",
       "loan_limit                     0\n",
       "loan_rate                      0\n",
       "is_applied               3257223\n",
       "month                          0\n",
       "dtype: int64"
      ]
     },
     "execution_count": 37,
     "metadata": {},
     "output_type": "execute_result"
    }
   ],
   "source": [
    "loan.isna().sum()"
   ]
  },
  {
   "cell_type": "markdown",
   "metadata": {},
   "source": [
    "## 데이터 병합 및 저장"
   ]
  },
  {
   "cell_type": "code",
   "execution_count": 38,
   "metadata": {},
   "outputs": [],
   "source": [
    "# train에 신청서 id가 있으나 user에 없는 데이터 지우고 진행\n",
    "## default가 inner이기 때문에 자연스럽게 지워짐\n",
    "data = pd.merge(loan, user, on='application_id')"
   ]
  },
  {
   "cell_type": "code",
   "execution_count": 1,
   "metadata": {
    "collapsed": true
   },
   "outputs": [
    {
     "ename": "NameError",
     "evalue": "name 'user' is not defined",
     "output_type": "error",
     "traceback": [
      "\u001b[1;31m---------------------------------------------------------------------------\u001b[0m",
      "\u001b[1;31mNameError\u001b[0m                                 Traceback (most recent call last)",
      "Input \u001b[1;32mIn [1]\u001b[0m, in \u001b[0;36m<cell line: 1>\u001b[1;34m()\u001b[0m\n\u001b[1;32m----> 1\u001b[0m \u001b[43muser\u001b[49m\u001b[38;5;241m.\u001b[39mto_csv(\u001b[38;5;124m'\u001b[39m\u001b[38;5;124m../data/user_fillna.csv\u001b[39m\u001b[38;5;124m'\u001b[39m, index \u001b[38;5;241m=\u001b[39m \u001b[38;5;28;01mFalse\u001b[39;00m)\n",
      "\u001b[1;31mNameError\u001b[0m: name 'user' is not defined"
     ]
    }
   ],
   "source": [
    "user.to_csv('../data/user_fillna.csv', index = False)"
   ]
  },
  {
   "cell_type": "code",
   "execution_count": null,
   "metadata": {},
   "outputs": [],
   "source": [
    "loan.to_csv('../data/loan_fillna.csv', index = False)"
   ]
  },
  {
   "cell_type": "code",
   "execution_count": 40,
   "metadata": {},
   "outputs": [],
   "source": [
    "data.to_csv('../data/data.csv', index = False)"
   ]
  },
  {
   "cell_type": "markdown",
   "metadata": {},
   "source": [
    "## END"
   ]
  }
 ],
 "metadata": {
  "accelerator": "GPU",
  "colab": {
   "collapsed_sections": [],
   "provenance": []
  },
  "gpuClass": "standard",
  "kernelspec": {
   "display_name": "Python 3 (ipykernel)",
   "language": "python",
   "name": "python3"
  },
  "language_info": {
   "codemirror_mode": {
    "name": "ipython",
    "version": 3
   },
   "file_extension": ".py",
   "mimetype": "text/x-python",
   "name": "python",
   "nbconvert_exporter": "python",
   "pygments_lexer": "ipython3",
   "version": "3.8.13"
  }
 },
 "nbformat": 4,
 "nbformat_minor": 1
}
