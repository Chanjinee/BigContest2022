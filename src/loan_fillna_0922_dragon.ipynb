{
 "cells": [
  {
   "cell_type": "markdown",
   "id": "154cebcd",
   "metadata": {},
   "source": [
    "## Module import"
   ]
  },
  {
   "cell_type": "code",
   "execution_count": 1,
   "id": "6e23f668",
   "metadata": {},
   "outputs": [
    {
     "name": "stdout",
     "output_type": "stream",
     "text": [
      "Pandas : 1.2.1\n",
      "seaborn : 0.11.1\n",
      "matplotlib : 3.5.1\n",
      "Python 3.8.13\n"
     ]
    }
   ],
   "source": [
    "# 기본 패키지\n",
    "import pandas as pd\n",
    "import numpy as np\n",
    "\n",
    "# 시각화 패키지\n",
    "import matplotlib\n",
    "import matplotlib.pyplot as plt\n",
    "import seaborn as sns\n",
    "plt.rc('font', family='NanumBarunGothic') \n",
    "plt.style.use(['ggplot'])\n",
    "\n",
    "# 한글 시각화시 필요 모듈\n",
    "import platform # 사용자 운영체제 확인\n",
    "platform.system()\n",
    "## 운영체제별 한글 폰트 설정\n",
    "if platform.system() == 'Darwin': # Mac 환경 폰트 설정\n",
    "    plt.rc('font', family='AppleGothic')\n",
    "elif platform.system() == 'Windows': # Windows 환경 폰트 설정\n",
    "    plt.rc('font', family='Malgun Gothic')\n",
    "\n",
    "plt.rc('axes', unicode_minus=False) # 마이너스 폰트 설정\n",
    "## 글씨 선명하게 출력하는 설정\n",
    "%config InlineBackend.figure_format = 'retina'\n",
    "\n",
    "\n",
    "# 경고 메시지 무시\n",
    "import warnings\n",
    "warnings.filterwarnings(action='ignore') \n",
    "\n",
    "\n",
    "# 버전 확인\n",
    "print('Pandas : %s'%(pd.__version__))\n",
    "print('seaborn : %s'%(sns.__version__))\n",
    "print('matplotlib : %s'%(matplotlib.__version__))\n",
    "!python --version"
   ]
  },
  {
   "cell_type": "markdown",
   "id": "8d512cab",
   "metadata": {},
   "source": [
    "## Load Data"
   ]
  },
  {
   "cell_type": "code",
   "execution_count": 2,
   "id": "8e3369e8",
   "metadata": {},
   "outputs": [],
   "source": [
    "loan = pd.read_csv('../data/loan_result.csv')"
   ]
  },
  {
   "cell_type": "markdown",
   "id": "5723a4d2",
   "metadata": {},
   "source": [
    "## loan 결측치 채우기"
   ]
  },
  {
   "cell_type": "markdown",
   "id": "0abaeb1b",
   "metadata": {},
   "source": [
    "loan_rate"
   ]
  },
  {
   "cell_type": "code",
   "execution_count": 3,
   "id": "e2520559",
   "metadata": {},
   "outputs": [],
   "source": [
    "# 일부 행만 null인 경우 결측치를 product별 평균\n",
    "product_list = loan[loan['loan_limit'].isna()]['product_id'].unique()\n",
    "\n",
    "for i in product_list:\n",
    "    len_rate = loan[loan['product_id'] == i]['loan_rate'].unique()\n",
    "    \n",
    "    if len(len_rate) > 1:\n",
    "        loan.loc[(loan['product_id'] == i) & (loan['loan_rate'].isna()), 'loan_rate'] = round(np.nanmean(len_rate), 1)\n",
    "\n",
    "        \n",
    "# 모두 null인 경우 결측치를 application별 평균\n",
    "loan['loan_rate'] = loan['loan_rate'].fillna(loan.groupby('application_id')['loan_rate'].transform('mean'))\n",
    "\n",
    "# application이 하나인 데이터 최빈값 대체\n",
    "loan['loan_rate'] = loan['loan_rate'].fillna(loan['loan_rate'].mode()[0])"
   ]
  },
  {
   "cell_type": "markdown",
   "id": "901327a6",
   "metadata": {},
   "source": [
    "loan_limit"
   ]
  },
  {
   "cell_type": "code",
   "execution_count": 4,
   "id": "5f19364f",
   "metadata": {},
   "outputs": [],
   "source": [
    "# loan_limit 결측치를 application별로 평균\n",
    "loan['loan_limit'] = loan['loan_limit'].fillna(loan.groupby('application_id')['loan_limit'].transform('mean'))\n",
    "\n",
    "# application이 하나인 결측치 최빈값으로\n",
    "loan['loan_limit'] = loan['loan_limit'].fillna(loan['loan_limit'].mode()[0])"
   ]
  },
  {
   "cell_type": "code",
   "execution_count": 5,
   "id": "b18d0b87",
   "metadata": {},
   "outputs": [
    {
     "data": {
      "text/plain": [
       "application_id                 0\n",
       "loanapply_insert_time          0\n",
       "bank_id                        0\n",
       "product_id                     0\n",
       "loan_limit                     0\n",
       "loan_rate                     11\n",
       "is_applied               3257239\n",
       "dtype: int64"
      ]
     },
     "execution_count": 5,
     "metadata": {},
     "output_type": "execute_result"
    }
   ],
   "source": [
    "loan.isna().sum()"
   ]
  },
  {
   "cell_type": "code",
   "execution_count": null,
   "id": "058153c5",
   "metadata": {},
   "outputs": [],
   "source": [
    "loan.to_csv('../data/loan_fillna.csv')"
   ]
  },
  {
   "cell_type": "code",
   "execution_count": null,
   "id": "04c9d0db",
   "metadata": {},
   "outputs": [],
   "source": []
  }
 ],
 "metadata": {
  "kernelspec": {
   "display_name": "Python 3 (ipykernel)",
   "language": "python",
   "name": "python3"
  },
  "language_info": {
   "codemirror_mode": {
    "name": "ipython",
    "version": 3
   },
   "file_extension": ".py",
   "mimetype": "text/x-python",
   "name": "python",
   "nbconvert_exporter": "python",
   "pygments_lexer": "ipython3",
   "version": "3.8.13"
  }
 },
 "nbformat": 4,
 "nbformat_minor": 5
}
